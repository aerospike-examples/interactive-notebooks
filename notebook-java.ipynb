{
 "cells": [
  {
   "cell_type": "markdown",
   "id": "ee3d560d-7b4b-4583-b099-a9db0849473a",
   "metadata": {
    "tags": []
   },
   "source": [
    "# Setup\n",
    "The following cells need to be run in order to use the Java kernel and set dependencies"
   ]
  },
  {
   "cell_type": "code",
   "execution_count": null,
   "id": "0794f230",
   "metadata": {
    "tags": [],
    "vscode": {
     "languageId": "java"
    }
   },
   "outputs": [],
   "source": [
    "import io.github.spencerpark.ijava.IJava;\n",
    "import io.github.spencerpark.jupyter.kernel.magic.common.Shell;\n",
    "IJava.getKernelInstance().getMagics().registerMagics(Shell.class);\n",
    "%sh asd"
   ]
  },
  {
   "cell_type": "code",
   "execution_count": null,
   "id": "f1d68081",
   "metadata": {
    "vscode": {
     "languageId": "java"
    }
   },
   "outputs": [],
   "source": [
    "%%loadFromPOM\n",
    "<dependencies>\n",
    "  <dependency>\n",
    "    <groupId>org.slf4j</groupId>\n",
    "    <artifactId>slf4j-simple</artifactId>\n",
    "    <version>1.7.25</version>\n",
    "  </dependency>\n",
    "  <dependency>\n",
    "    <groupId>com.aerospike</groupId>\n",
    "    <artifactId>aerospike-client</artifactId>\n",
    "    <version>6.1.4</version>\n",
    "  </dependency>\n",
    "  <dependency>\n",
    "    <groupId>commons-io</groupId>\n",
    "    <artifactId>commons-io</artifactId>\n",
    "    <version>2.6</version>\n",
    "  </dependency>\n",
    "  <dependency>\n",
    "    <groupId>com.googlecode.json-simple</groupId>\n",
    "    <artifactId>json-simple</artifactId>\n",
    "    <version>1.1.1</version>\n",
    "</dependency>\n",
    "</dependencies>"
   ]
  },
  {
   "cell_type": "markdown",
   "id": "282f15c1-a0db-4040-a290-19adf0820479",
   "metadata": {
    "tags": []
   },
   "source": [
    "## Import dependencies, Connect to Aerospike"
   ]
  },
  {
   "cell_type": "code",
   "execution_count": null,
   "id": "c4ca2e5f",
   "metadata": {
    "vscode": {
     "languageId": "java"
    }
   },
   "outputs": [],
   "source": [
    "import com.aerospike.client.AerospikeClient;\n",
    "import com.aerospike.client.AerospikeException;\n",
    "import com.aerospike.client.BatchRecord;\n",
    "import com.aerospike.client.BatchResults;\n",
    "import com.aerospike.client.Bin;\n",
    "import com.aerospike.client.Host;\n",
    "import com.aerospike.client.Key;\n",
    "import com.aerospike.client.Operation;\n",
    "import com.aerospike.client.Record;\n",
    "import com.aerospike.client.ResultCode;\n",
    "import com.aerospike.client.Value;\n",
    "import com.aerospike.client.cdt.CTX;\n",
    "import com.aerospike.client.cdt.ListOperation;\n",
    "import com.aerospike.client.cdt.MapOperation;\n",
    "import com.aerospike.client.cdt.MapOrder;\n",
    "import com.aerospike.client.cdt.MapPolicy;\n",
    "import com.aerospike.client.cdt.MapReturnType;\n",
    "import com.aerospike.client.exp.Exp;\n",
    "import com.aerospike.client.exp.Expression;\n",
    "import com.aerospike.client.exp.MapExp;\n",
    "import com.aerospike.client.policy.Policy;\n",
    "import com.aerospike.client.policy.QueryPolicy;\n",
    "import com.aerospike.client.policy.WritePolicy;\n",
    "import com.aerospike.client.query.Filter;\n",
    "import com.aerospike.client.query.IndexCollectionType;\n",
    "import com.aerospike.client.query.IndexType;\n",
    "import com.aerospike.client.query.RecordSet;\n",
    "import com.aerospike.client.query.Statement;\n",
    "import com.aerospike.client.task.IndexTask;\n",
    "import com.aerospike.client.task.ExecuteTask;\n",
    "\n",
    "import java.util.List;\n",
    "import java.util.Map;\n",
    "import java.util.TreeMap;\n",
    "import java.nio.charset.StandardCharsets;\n",
    "import org.apache.commons.io.FileUtils;\n",
    "import org.json.simple.JSONArray;\n",
    "import org.json.simple.JSONObject;\n",
    "import org.json.simple.parser.JSONParser;\n",
    "\n",
    "Host[] hosts = new Host[] {\n",
    "    new Host(\"127.0.0.1\", 3000)\n",
    "};\n",
    "\n",
    "WritePolicy writePolicy = new WritePolicy();\n",
    "writePolicy.sendKey = true;\n",
    "\n",
    "AerospikeClient client = new AerospikeClient(null, hosts);\n",
    "System.out.println(\"Initialized Aerospike client and connected to the cluster.\");"
   ]
  },
  {
   "cell_type": "markdown",
   "id": "39d81f09-6310-443d-ac00-1de353e77606",
   "metadata": {
    "tags": []
   },
   "source": [
    "# JSON Document"
   ]
  },
  {
   "cell_type": "markdown",
   "id": "320e6b15-4b94-4ba3-a32e-a700c277299b",
   "metadata": {
    "tags": []
   },
   "source": [
    "## Document Format"
   ]
  },
  {
   "cell_type": "markdown",
   "id": "bee1150f-3a4b-4d7f-a5ea-1459a1b4304a",
   "metadata": {
    "tags": []
   },
   "source": [
    "The document is an array of objects like the example below:\n",
    "\n",
    "```json\n",
    "{\n",
    "    points:\"87\",\n",
    "    title:\"Nicosia 2013 Vulkà Bianco (Etna)\",\n",
    "    description:\"Aromas include tropical fruit, broom, brimstone and dried herb. The palate isn't overly expressive, offering unripened apple, citrus and dried sage alongside brisk acidity.\",\n",
    "    taster: {\n",
    "        name:\"Kerin O’Keefe\",\n",
    "        twitter_handle:\"@kerinokeefe\"\n",
    "    },\n",
    "    price:null,\n",
    "    designation:\"Vulkà Bianco\",\n",
    "    variety:\"White Blend\",\n",
    "    regions: {\n",
    "        primary: \"Etna\",\n",
    "        secondary: null\n",
    "    },\n",
    "    province:\"Sicily & Sardinia\",\n",
    "    country:\"Italy\",\n",
    "    winery:\"Nicosia\"\n",
    "}\n",
    "```"
   ]
  },
  {
   "cell_type": "markdown",
   "id": "36285bc8-e458-4a56-8ad3-614498723fd5",
   "metadata": {
    "tags": []
   },
   "source": [
    "## Parse the JSON file"
   ]
  },
  {
   "cell_type": "code",
   "execution_count": null,
   "id": "2c3d290d-29f7-4a7b-940a-9b3649711041",
   "metadata": {
    "vscode": {
     "languageId": "java"
    }
   },
   "outputs": [],
   "source": [
    "String wineString = FileUtils.readFileToString(new File(\"./wine-data.json\"), StandardCharsets.UTF_8);\n",
    "\n",
    "Object obj = new JSONParser().parse(wineString);\n",
    "\n",
    "JSONArray wines = (JSONArray) obj;\n",
    "\n",
    "System.out.println(\"Document parsed\");"
   ]
  },
  {
   "cell_type": "markdown",
   "id": "570f52ee-f61a-44e7-8b9c-c9d8822eeeb4",
   "metadata": {
    "tags": []
   },
   "source": [
    "# Write Data"
   ]
  },
  {
   "cell_type": "markdown",
   "id": "c2a65cfd-3b4f-43eb-b0dd-1ddd37aecece",
   "metadata": {},
   "source": [
    "The following code will create a record for each wine review in the data set."
   ]
  },
  {
   "cell_type": "code",
   "execution_count": null,
   "id": "998ab986-b55c-49b9-b1b7-a38a55e29f59",
   "metadata": {
    "vscode": {
     "languageId": "java"
    }
   },
   "outputs": [],
   "source": [
    "System.out.println(\"Writing records...\\n\");\n",
    "\n",
    "for (int i = 0; i < wines.size(); i++) {\n",
    "    Map map = (Map) wines.get(i);\n",
    "    Map wineMap = new TreeMap<>();\n",
    "    wineMap.putAll(map);\n",
    "\n",
    "    Key key = new Key(\"demo\", \"wine-java\", i);\n",
    "    Bin wine = new Bin(\"wine_bin\", wineMap, MapOrder.KEY_ORDERED);\n",
    "\n",
    "    client.put(writePolicy, key, wine);\n",
    "}\n",
    "\n",
    "Key key = new Key(\"demo\", \"wine-java\", 0);\n",
    "Record record = client.get(null, key);\n",
    "System.out.format(\"Wines: %2.100s\\n\\n\", record.bins.get(\"wine_bin\"));\n",
    "\n",
    "System.out.println(\"Writing records complete\");"
   ]
  },
  {
   "cell_type": "markdown",
   "id": "c1e791db-6d2d-4850-8814-d761b6eb3b24",
   "metadata": {
    "tags": []
   },
   "source": [
    "# Read Data"
   ]
  },
  {
   "cell_type": "markdown",
   "id": "48f98276-a6e3-44bd-a0da-142009a54dca",
   "metadata": {},
   "source": [
    "### Read with a expression filter"
   ]
  },
  {
   "cell_type": "code",
   "execution_count": null,
   "id": "8ad5cf9d-74d6-4c5c-bcf4-e50752dc6245",
   "metadata": {
    "vscode": {
     "languageId": "java"
    }
   },
   "outputs": [],
   "source": [
    "System.out.println(\"Reading with a filter expression...\\n\");\n",
    "Expression exp = Exp.build(\n",
    "    Exp.eq(\n",
    "            MapExp.getByKey(MapReturnType.VALUE, Exp.Type.STRING, Exp.val(\"country\"), Exp.mapBin(\"wine_bin\")),\n",
    "            Exp.val(\"Georgia\")\n",
    "    )\n",
    ");\n",
    "\n",
    "QueryPolicy queryPolicy = new QueryPolicy();\n",
    "queryPolicy.filterExp = exp;\n",
    "\n",
    "Statement stmt = new Statement();\n",
    "stmt.setNamespace(\"demo\");\n",
    "stmt.setSetName(\"wine-java\");\n",
    "\n",
    "RecordSet recordSet = client.query(queryPolicy, stmt);\n",
    "\n",
    "while(recordSet.next()){\n",
    "    Record record = recordSet.getRecord();\n",
    "    System.out.format(\"Wine Info: %s\\n\\n\", record.bins.get(\"wine_bin\")); \n",
    "}\n",
    "\n",
    "recordSet.close();\n",
    "System.out.println(\"End of records returned\");"
   ]
  },
  {
   "cell_type": "markdown",
   "id": "a26050f8-121e-4f57-91ea-16fd9f48214d",
   "metadata": {
    "tags": []
   },
   "source": [
    "### Create Secondary indexes"
   ]
  },
  {
   "cell_type": "markdown",
   "id": "3f4f18b5-2861-4b9e-8903-2a0336979c19",
   "metadata": {},
   "source": [
    "#### String index\n",
    "Create a string index on the `country` map key."
   ]
  },
  {
   "cell_type": "code",
   "execution_count": null,
   "id": "0052c566-2890-4a3d-802d-bd3e69b82770",
   "metadata": {
    "vscode": {
     "languageId": "java"
    }
   },
   "outputs": [],
   "source": [
    "System.out.println(\"Creating country index...\");\n",
    "try {\n",
    "    IndexTask task = client.createIndex(null,\n",
    "                               \"demo\",\n",
    "                               \"wine-java\",\n",
    "                               \"winery_idx\",\n",
    "                               \"wine_bin\",\n",
    "                               IndexType.STRING,\n",
    "                               IndexCollectionType.DEFAULT,\n",
    "                               CTX.mapKey(Value.get(\"country\")));\n",
    "    task.waitTillComplete(1000, 0);\n",
    "}\n",
    "catch (AerospikeException ae) {\n",
    "    if (ae.getResultCode() != ResultCode.INDEX_ALREADY_EXISTS) {\n",
    "        throw ae;\n",
    "    }\n",
    "} \n",
    "System.out.println(\"Country index created\");"
   ]
  },
  {
   "cell_type": "markdown",
   "id": "59c8d557-6937-4866-b2f6-7e02490fb135",
   "metadata": {},
   "source": [
    "#### Numeric index\n",
    "Create an numeric index on the `price` map key."
   ]
  },
  {
   "cell_type": "code",
   "execution_count": null,
   "id": "418582c4-f5d3-4943-aeba-c0fdcabafbc3",
   "metadata": {
    "vscode": {
     "languageId": "java"
    }
   },
   "outputs": [],
   "source": [
    "System.out.println(\"Creating price index...\");\n",
    "try {\n",
    "    IndexTask task = client.createIndex(null,\n",
    "                               \"demo\",\n",
    "                               \"wine-java\",\n",
    "                               \"price_idx\",\n",
    "                               \"wine_bin\",\n",
    "                               IndexType.NUMERIC,\n",
    "                               IndexCollectionType.DEFAULT,\n",
    "                               CTX.mapKey(Value.get(\"price\")));\n",
    "    task.waitTillComplete(1000, 0);\n",
    "}\n",
    "catch (AerospikeException ae) {\n",
    "    if (ae.getResultCode() != ResultCode.INDEX_ALREADY_EXISTS) {\n",
    "        throw ae;\n",
    "    }\n",
    "} \n",
    "System.out.println(\"Price index created\");"
   ]
  },
  {
   "cell_type": "markdown",
   "id": "aef29df2-5bab-42f9-b726-0f794aec51ad",
   "metadata": {},
   "source": [
    "#### Nested index\n",
    "Create a string index on the `name` key in the `taster` map. "
   ]
  },
  {
   "cell_type": "code",
   "execution_count": null,
   "id": "ccee75ba-72fd-4b31-9435-536c9f058009",
   "metadata": {
    "vscode": {
     "languageId": "java"
    }
   },
   "outputs": [],
   "source": [
    "System.out.println(\"Creating taster index...\");\n",
    "try {\n",
    "    IndexTask task = client.createIndex(null,\n",
    "                               \"demo\",\n",
    "                               \"wine-java\",\n",
    "                               \"taster_idx\",\n",
    "                               \"wine_bin\",\n",
    "                               IndexType.STRING,\n",
    "                               IndexCollectionType.DEFAULT,\n",
    "                               CTX.mapKey(Value.get(\"taster\")),\n",
    "                               CTX.mapKey(Value.get(\"name\")));\n",
    "    task.waitTillComplete(1000, 0);\n",
    "}\n",
    "catch (AerospikeException ae) {\n",
    "    if (ae.getResultCode() != ResultCode.INDEX_ALREADY_EXISTS) {\n",
    "        throw ae;\n",
    "    }\n",
    "} \n",
    "System.out.println(\"Taster index created\");"
   ]
  },
  {
   "cell_type": "markdown",
   "id": "cd737bea-9330-450a-a7e5-0c6377f676ca",
   "metadata": {
    "tags": []
   },
   "source": [
    "### Query data using a secondary index.\n",
    "Return all the wines from the country Georgia."
   ]
  },
  {
   "cell_type": "code",
   "execution_count": null,
   "id": "3a36d120-25b7-48e2-8a83-3ab0700b434e",
   "metadata": {
    "vscode": {
     "languageId": "java"
    }
   },
   "outputs": [],
   "source": [
    "System.out.println(\"Reading with a string sindex filter...\\n\");\n",
    "Statement stmt = new Statement();\n",
    "\n",
    "stmt.setNamespace(\"demo\");\n",
    "stmt.setSetName(\"wine-java\");\n",
    "\n",
    "Filter filter = Filter.equal(\"wine_bin\", \"Georgia\", CTX.mapKey(Value.get(\"country\")));\n",
    "stmt.setFilter(filter);\n",
    "\n",
    "RecordSet recordSet = client.query(null, stmt);\n",
    "\n",
    "while(recordSet.next()){\n",
    "    Record record = recordSet.getRecord();\n",
    "    System.out.format(\"Wine Info: %s\\n\\n\", record.bins.get(\"wine_bin\")); \n",
    "}\n",
    "\n",
    "recordSet.close();\n",
    "System.out.println(\"End of records returned\");"
   ]
  },
  {
   "cell_type": "markdown",
   "id": "6a780719-e6e2-4bf8-8465-66892ec1e65e",
   "metadata": {},
   "source": [
    "Get all the documents for wines with a price between 500 and 1000 USD."
   ]
  },
  {
   "cell_type": "code",
   "execution_count": null,
   "id": "ed08ccba-2ef2-4646-b00f-345acfde710f",
   "metadata": {
    "vscode": {
     "languageId": "java"
    }
   },
   "outputs": [],
   "source": [
    "System.out.println(\"Reading with a numeric sindex filter...\\n\");\n",
    "Statement stmt = new Statement();\n",
    "\n",
    "stmt.setNamespace(\"demo\");\n",
    "stmt.setSetName(\"wine-java\");\n",
    "\n",
    "Filter filter = Filter.range(\"wine_bin\", 500, 1000, CTX.mapKey(Value.get(\"price\")));\n",
    "stmt.setFilter(filter);\n",
    "\n",
    "RecordSet recordSet = client.query(null, stmt);\n",
    "\n",
    "while(recordSet.next()){\n",
    "    Record record = recordSet.getRecord();\n",
    "    System.out.format(\"Wine Info: %s\\n\\n\", record.bins.get(\"wine_bin\")); \n",
    "}\n",
    "\n",
    "recordSet.close();\n",
    "System.out.println(\"End of records returned\");"
   ]
  },
  {
   "cell_type": "markdown",
   "id": "b3e11d08-8ea8-410a-8aa1-f7b141d3cf13",
   "metadata": {},
   "source": [
    "### Query data with a secondary index and filter expression"
   ]
  },
  {
   "cell_type": "markdown",
   "id": "825dcc9a-e26b-4950-a411-2541be387c7d",
   "metadata": {
    "tags": []
   },
   "source": [
    "Get all documents for wines from France with more than 95 points and price less than $70"
   ]
  },
  {
   "cell_type": "code",
   "execution_count": null,
   "id": "a97ca3a2-fda5-428d-8e76-7e38558a6e27",
   "metadata": {
    "vscode": {
     "languageId": "java"
    }
   },
   "outputs": [],
   "source": [
    "System.out.println(\"Reading with a sindex and filter expression...\\n\");\n",
    "QueryPolicy queryPolicy = new QueryPolicy();\n",
    "queryPolicy.filterExp = Exp.build(\n",
    "    Exp.and(\n",
    "        Exp.gt(\n",
    "            MapExp.getByKey(MapReturnType.VALUE, Exp.Type.INT, Exp.val(\"points\"), Exp.mapBin(\"wine_bin\")),\n",
    "            Exp.val(95)\n",
    "        ),\n",
    "        Exp.lt(\n",
    "            MapExp.getByKey(MapReturnType.VALUE, Exp.Type.INT, Exp.val(\"price\"), Exp.mapBin(\"wine_bin\")),\n",
    "            Exp.val(70)\n",
    "        )\n",
    "    )\n",
    ");\n",
    "\n",
    "Statement stmt = new Statement();\n",
    "\n",
    "stmt.setNamespace(\"demo\");\n",
    "stmt.setSetName(\"wine-java\");\n",
    "\n",
    "Filter filter = Filter.equal(\"wine_bin\", \"France\", CTX.mapKey(Value.get(\"country\")));\n",
    "stmt.setFilter(filter);\n",
    "\n",
    "RecordSet recordSet = client.query(queryPolicy, stmt);\n",
    "\n",
    "while(recordSet.next()){\n",
    "    Record record = recordSet.getRecord();\n",
    "    System.out.format(\"Wine Info: %s\\n\\n\", record.bins.get(\"wine_bin\")); \n",
    "}\n",
    "\n",
    "recordSet.close();\n",
    "System.out.println(\"End of records returned\");"
   ]
  },
  {
   "cell_type": "markdown",
   "id": "e2dec37b-5faf-4cde-9e6f-71b31d43fbb7",
   "metadata": {
    "tags": []
   },
   "source": [
    "# Update Data"
   ]
  },
  {
   "cell_type": "markdown",
   "id": "75afd298-f610-4a98-b989-7fac6ba67a0b",
   "metadata": {},
   "source": [
    "## Create new wine object"
   ]
  },
  {
   "cell_type": "code",
   "execution_count": null,
   "id": "b104bd47-8ccd-4b4a-86f7-902a31366c8d",
   "metadata": {
    "vscode": {
     "languageId": "java"
    }
   },
   "outputs": [],
   "source": [
    "String newString = \"{ \" +\n",
    "\"    \\\"points\\\": 85,\" + \n",
    "\"    \\\"title\\\": \\\"Barrel Racer 2013 Sauvignon Blanc (Solano County)\\\",\" +\n",
    "\"    \\\"description\\\": \\\"Practically a liquid fruit salad, this smells and tastes like orange, apple, cantaloupe and banana. The texture is smooth and rounded, rather than crisp. A little buttery flavor comes through on the finish.\\\",\" + \n",
    "\"    \\\"taster\\\": {\" +\n",
    "\"        \\\"name\\\":\\\"Jim Gordon\\\",\" + \n",
    "\"        \\\"twitter_handle\\\": \\\"@gordone_cellars\\\"\" +\n",
    "\"        },\" + \n",
    "\"    \\\"price\\\": 18,\" + \n",
    "\"    \\\"designation\\\": null,\" + \n",
    "\"    \\\"variety\\\": \\\"Sauvignon Blanc\\\",\" + \n",
    "\"    \\\"regions\\\": {\" +\n",
    "\"        \\\"primary\\\": \\\"Solano County\\\",\" + \n",
    "\"        \\\"secondary\\\": \\\"North Coast\\\"\" +\n",
    "\"    },\" + \n",
    "\"    \\\"province\\\": \\\"California\\\",\" + \n",
    "\"    \\\"country\\\": \\\"US\\\",\" + \n",
    "\"    \\\"winery\\\": \\\"Barrel Racer\\\"}\";\n",
    "    \n",
    "Object obj = new JSONParser().parse(newString);\n",
    "\n",
    "Map newWine = (Map) obj;\n",
    "\n",
    "System.out.println(\"New wine parsed\");"
   ]
  },
  {
   "cell_type": "markdown",
   "id": "6184052e-4432-46a5-83d5-ebaec12ab16d",
   "metadata": {
    "tags": []
   },
   "source": [
    "### Update the collection with a new wine"
   ]
  },
  {
   "cell_type": "code",
   "execution_count": null,
   "id": "a0ea26ce-346c-482f-be45-2fb0ea713cd1",
   "metadata": {
    "vscode": {
     "languageId": "java"
    }
   },
   "outputs": [],
   "source": [
    "System.out.println(\"Adding new wine...\\n\");\n",
    "Map wineMap = new TreeMap<>();\n",
    "wineMap.putAll(newWine);\n",
    "\n",
    "Key key = new Key(\"demo\", \"wine-java\", 10001);\n",
    "Bin wine = new Bin(\"wine_bin\", wineMap, MapOrder.KEY_ORDERED);\n",
    "\n",
    "client.put(writePolicy, key, wine);\n",
    "\n",
    "Record record = client.get(null, key);\n",
    "\n",
    "System.out.format(\"%s\\n\\n\",record.bins);\n",
    "System.out.println(\"New wine added\\n\");"
   ]
  },
  {
   "cell_type": "markdown",
   "id": "abd265d3-0417-4d7c-ae28-92f55940ea69",
   "metadata": {},
   "source": [
    "### Update a wine within the collection"
   ]
  },
  {
   "cell_type": "markdown",
   "id": "a735de2b-2dc3-4201-a330-2b020e4382bd",
   "metadata": {},
   "source": [
    "Update the price of a wine."
   ]
  },
  {
   "cell_type": "code",
   "execution_count": null,
   "id": "46fbf5cf-9cc0-4be6-bc8d-543d4e40faef",
   "metadata": {
    "vscode": {
     "languageId": "java"
    }
   },
   "outputs": [],
   "source": [
    "System.out.println(\"Updating wine price...\\n\");\n",
    "Key key = new Key(\"demo\", \"wine-java\", 10001);\n",
    "\n",
    "client.operate(writePolicy, key, MapOperation.put(MapPolicy.Default, \"wine_bin\", Value.get(\"price\"), Value.get(24)));\n",
    "\n",
    "Record record = client.get(null, key);\n",
    "\n",
    "Map wineMap = (Map) record.bins.get(\"wine_bin\");\n",
    "\n",
    "System.out.println(\"winery: \" + wineMap.get(\"winery\") + \", title: \" + wineMap.get(\"title\") + \", price: \" + wineMap.get(\"price\"));\n",
    "\n",
    "System.out.println(\"\\nWine updated\\n\");"
   ]
  },
  {
   "cell_type": "markdown",
   "id": "a740d22e-d9b6-4368-bdfb-015b332cde92",
   "metadata": {},
   "source": [
    "### Update all instances of a nested value in the collection"
   ]
  },
  {
   "cell_type": "markdown",
   "id": "603506d4-cbc9-402d-a839-552915f6ddb7",
   "metadata": {},
   "source": [
    "Update the twitter handle for Lauren Buzzeo on every wine they have tasted."
   ]
  },
  {
   "cell_type": "code",
   "execution_count": null,
   "id": "0b9e9d3d-c209-40db-9c25-249c37a8af4f",
   "metadata": {
    "vscode": {
     "languageId": "java"
    }
   },
   "outputs": [],
   "source": [
    "System.out.println(\"Updating Twitter handle...\\n\");\n",
    "Statement stmt = new Statement();\n",
    "\n",
    "stmt.setNamespace(\"demo\");\n",
    "stmt.setSetName(\"wine-java\");\n",
    "\n",
    "Filter filter = Filter.equal(\"wine_bin\", \"Lauren Buzzeo\", CTX.mapKey(Value.get(\"taster\")), CTX.mapKey(Value.get(\"name\")));\n",
    "stmt.setFilter(filter);\n",
    "\n",
    "ExecuteTask task = client.execute(null, stmt, \n",
    "    MapOperation.put(MapPolicy.Default, \"wine_bin\", Value.get(\"twitter_handle\"), Value.get(\"laurenbuzzed\"), CTX.mapKey(Value.get(\"taster\")))\n",
    ");\n",
    "\n",
    "task.waitTillComplete();\n",
    "\n",
    "Statement stmt = new Statement();\n",
    "stmt.setNamespace(\"demo\");\n",
    "stmt.setSetName(\"wine-java\");\n",
    "stmt.setMaxRecords(5);\n",
    "\n",
    "Filter filter = Filter.equal(\"wine_bin\", \"Lauren Buzzeo\", CTX.mapKey(Value.get(\"taster\")), CTX.mapKey(Value.get(\"name\")));\n",
    "stmt.setFilter(filter);\n",
    "\n",
    "RecordSet recordSet = client.query(null, stmt);\n",
    "\n",
    "while(recordSet.next()){\n",
    "    Record record = recordSet.getRecord();\n",
    "    Map bin = (Map)record.bins.get(\"wine_bin\");\n",
    "    System.out.format(\"Updated Info: %s\\n\", bin.get(\"taster\")); \n",
    "}\n",
    "\n",
    "recordSet.close();\n",
    "\n",
    "System.out.println(\"\\nTwitter handle updated\");"
   ]
  },
  {
   "cell_type": "markdown",
   "id": "7ee7dffb-30d9-4f36-841c-f83bf6c45258",
   "metadata": {
    "tags": []
   },
   "source": [
    "# Delete Data"
   ]
  },
  {
   "cell_type": "markdown",
   "id": "de5770f3-6796-422c-be77-e24d7baa1045",
   "metadata": {},
   "source": [
    "Delete all wines with a points vaule less than 81."
   ]
  },
  {
   "cell_type": "code",
   "execution_count": null,
   "id": "3a10dccc-110a-469a-9bd7-a8f5c85287b6",
   "metadata": {
    "vscode": {
     "languageId": "java"
    }
   },
   "outputs": [],
   "source": [
    "System.out.println(\"Deleting records...\");\n",
    "Expression exp = Exp.build(\n",
    "    Exp.lt(\n",
    "        MapExp.getByKey(MapReturnType.VALUE, Exp.Type.INT, Exp.val(\"points\"), Exp.mapBin(\"wine_bin\")),\n",
    "        Exp.val(81)\n",
    "    )\n",
    ");\n",
    "\n",
    "WritePolicy writePolicy = new WritePolicy();\n",
    "writePolicy.filterExp = exp;\n",
    "\n",
    "Statement stmt = new Statement();\n",
    "stmt.setNamespace(\"demo\");\n",
    "stmt.setSetName(\"wine-java\");\n",
    "\n",
    "ExecuteTask task = client.execute(writePolicy, stmt, Operation.delete());\n",
    "\n",
    "task.waitTillComplete(1000, 0);\n",
    "\n",
    "System.out.println(\"Checking for records...\");\n",
    "\n",
    "QueryPolicy queryPolicy = new QueryPolicy();\n",
    "queryPolicy.filterExp = exp;\n",
    "\n",
    "Statement stmt = new Statement();\n",
    "stmt.setNamespace(\"demo\");\n",
    "stmt.setSetName(\"wine-java\");\n",
    "\n",
    "RecordSet recordSet = client.query(queryPolicy, stmt);\n",
    "\n",
    "if(!recordSet.next()){\n",
    "    System.out.println(\"Records deleted\");\n",
    "}"
   ]
  },
  {
   "cell_type": "markdown",
   "id": "49c47baa-5b38-4102-8b5d-b82c5d08bb89",
   "metadata": {},
   "source": [
    "## Cleanup"
   ]
  },
  {
   "cell_type": "code",
   "execution_count": null,
   "id": "ab70f4c9-6b99-49df-b6dd-27d068f60d9a",
   "metadata": {
    "vscode": {
     "languageId": "java"
    }
   },
   "outputs": [],
   "source": [
    "// Remove the data\n",
    "client.truncate(null, \"demo\", \"wine-java\", null);\n",
    "System.out.println(\"Data removed\");\n",
    "\n",
    "// Remove the secondary indexes\n",
    "IndexTask taskCountry = client.dropIndex(null,\n",
    "    \"demo\",\n",
    "    \"wine-java\", \n",
    "    \"country_idx\"\n",
    ");\n",
    "taskCountry.waitTillComplete();\n",
    "System.out.println(\"Country index removed\");\n",
    "\n",
    "IndexTask taskPrice = client.dropIndex(null,\n",
    "    \"demo\",                     \n",
    "    \"wine-java\",\n",
    "    \"price_idx\"\n",
    ");\n",
    "taskPrice.waitTillComplete();\n",
    "System.out.println(\"Price index removed\");\n",
    "\n",
    "IndexTask taskTaster = client.dropIndex(null,\n",
    "    \"demo\",\n",
    "    \"wine-java\",\n",
    "    \"taster_idx\"\n",
    ");\n",
    "taskTaster.waitTillComplete();\n",
    "System.out.println(\"Taster index removed\");\n",
    "\n",
    "client.close();"
   ]
  }
 ],
 "metadata": {
  "kernelspec": {
   "display_name": "Java",
   "language": "java",
   "name": "java"
  },
  "language_info": {
   "codemirror_mode": "java",
   "file_extension": ".jshell",
   "mimetype": "text/x-java-source",
   "name": "Java",
   "pygments_lexer": "java",
   "version": "17.0.5+8-Ubuntu-2ubuntu120.04"
  },
  "toc": {
   "base_numbering": 1,
   "nav_menu": {},
   "number_sections": true,
   "sideBar": true,
   "skip_h1_title": false,
   "title_cell": "Table of Contents",
   "title_sidebar": "Contents",
   "toc_cell": false,
   "toc_position": {},
   "toc_section_display": true,
   "toc_window_display": false
  },
  "toc-autonumbering": false,
  "toc-showcode": false,
  "toc-showmarkdowntxt": false,
  "toc-showtags": false
 },
 "nbformat": 4,
 "nbformat_minor": 5
}
