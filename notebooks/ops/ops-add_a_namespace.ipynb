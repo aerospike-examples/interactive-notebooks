{
 "cells": [
  {
   "cell_type": "markdown",
   "id": "limiting-brunei",
   "metadata": {},
   "source": [
    "# Aerospike Operations: Adding a Namespace while maintaining real time performance using AWS CloudFormation\n",
    "\n",
    "*Last updated: September 27, 2021*\n",
    "\n",
    "This tutorial on Aerospike Operations demonstrates how to add a [Namespace](https://docs.aerospike.com/docs/operations/configure/namespace/index.html) to an Aerospike Cluster while maintaining real time application performance. Using [AWS Quickstart](https://aws.amazon.com/marketplace/pp/prodview-ouzvxjdgfsa64) and [CloudFormation](https://aws.amazon.com/cloudformation/) facilitates infrastructure creation. The notebook will also help a new Aerospike administrator learn cluster administration basics.\n",
    "\n",
    "This [Jupyter Notebook](https://jupyter-notebook.readthedocs.io/en/stable/notebook.html) requires the Aerospike Database running locally. To create a Docker container that satisfies the requirements and holds a copy of these notebooks, visit the [Aerospike Notebooks Repo](https://github.com/aerospike-examples/interactive-notebooks)."
   ]
  },
  {
   "cell_type": "markdown",
   "id": "light-upset",
   "metadata": {},
   "source": [
    "# Prerequisites\n",
    "\n",
    "Prerequisites to get the most out of this tutorial are familiarity with:\n",
    "* Basic system administration\n",
    "* AWS:\n",
    "   * [EC2](https://docs.aws.amazon.com/AWSEC2/latest/UserGuide/concepts.html)\n",
    "   * [IAM](https://docs.aws.amazon.com/IAM/latest/UserGuide/getting-started.html)\n",
    "   * Quickstart\n",
    "   * CloudFormation \n",
    "\n",
    "Basic understanding of the Aerospike Database is helpful.  "
   ]
  },
  {
   "cell_type": "markdown",
   "id": "ordered-poster",
   "metadata": {},
   "source": [
    "# Scenario for Namespace Addition\n",
    "An application adds a new major feature, which requires the addition of a new in-memory namespace named ```newns```. During this process an original 3-node (m5.large) cluster is replaced with a new (m5.xlarge) cluster. This example assumes the use of Aerospike’s mesh network. In a real world situation, this would be an ideal time to resize existing namespaces, as needed."
   ]
  },
  {
   "cell_type": "markdown",
   "id": "female-naples",
   "metadata": {},
   "source": [
    "# Namespace change process overview\n",
    "The following is an overview of the steps to execute a namespace addition without downtime. Additional context and details follow the lists of steps. \n",
    "\n",
    "**Note:** A Namespace change can be made without down time on any cluster with replication factor of 2 or more, and on any cluster running Aerospike Database 3.13.0.1+. Since the default replication factor for a 1-node Aerospike database is 2, this process can be used with most single-node Aerospike databases. This means that one-node Aerospike databases can grow from pilot instance to production scale cluster with 100% data availability and no downtime.\n",
    "\n",
    "1. Create new nodes\n",
    "2. Create common Aerospike.conf additions\n",
    "3. Increase migrate-fill-delay for cluster\n",
    "4. For each new node to be added to the Aerospike Cluster (1-by-1):\n",
    "   1. Update Aerospike.conf\n",
    "   2. Restart\n",
    "   3. Change the AWS Security Group to match that of the original cluster nodes\n",
    "   4. For the first new node, use the tip command to add it to the cluster\n",
    "   5. Confirm it joins the cluster\n",
    "5. Request to Quiesce each original node in the Aerospike Cluster\n",
    "6. Set the migrate-fill-delay to 0\n",
    "7. Recluster the cluster  \n",
    "8. Wait for migrations to complete\n",
    "9. Take down quiesced nodes\n",
    "10. Clear old nodes from the alumni list\n",
    "\n",
    "Many configuration and information commands are run using the Aerospike tools and [asadm](https://docs.aerospike.com/docs/tools/asadm) and [asinfo](https://docs.aerospike.com/docs/tools/asinfo/index.html), as executed via CLI on a cluster node. Asinfo commands will be run through asadm, except when necessary to run locally on a node. Where instructive, the commands will be demonstrated in the tutorial environment’s built-in Aerospike Server node. The best practice is to use asadm for these commands, and even to run asinfo commands within asadm whenever possible. \n",
    "\n",
    "To perform the following tasks on a cluster node, ssh to it. If using AWS Quickstart using the CloudFormation template, ssh by way of the bastion host to the cluster node. Run asadm using the `-h` option to connect remotely to a cluster.  "
   ]
  },
  {
   "cell_type": "markdown",
   "id": "approved-southwest",
   "metadata": {},
   "source": [
    "# Ensure the database is running"
   ]
  },
  {
   "cell_type": "code",
   "execution_count": null,
   "id": "affecting-aviation",
   "metadata": {},
   "outputs": [],
   "source": [
    "!asd >& /dev/null\n",
    "!pgrep -x asd >/dev/null && echo \"Aerospike Database is running.\" || echo \"**Aerospike Database is not\""
   ]
  },
  {
   "cell_type": "markdown",
   "id": "liked-christopher",
   "metadata": {},
   "source": [
    "# Details for adding a Namespace while maintaining realtime performance\n",
    "Rather than incur downtime when changing Namespace configurations, the best practice is to allow Aerospike’s resilient clustering to maintain data and cluster uptime during such a change. \n",
    "\n",
    "The following steps describe the purpose and show results from each step of replacing the nodes of an AWS Quickstart 3-node cluster."
   ]
  },
  {
   "cell_type": "markdown",
   "id": "wireless-portable",
   "metadata": {},
   "source": [
    "## Create new nodes \n",
    "When CloudFormation was used to stand up the original cluster, the best practice is to use CloudFormation to create 3 new nodes – one at a time – and add each to the original cluster's VPC. \n"
   ]
  },
  {
   "cell_type": "markdown",
   "id": "quantitative-variety",
   "metadata": {},
   "source": [
    "## Create common Aerospike.conf additions\n",
    "Using identical [aerospike.conf](https://docs.aerospike.com/docs/cloud/kubernetes/operator/Aerospike-configuration-mapping.html) configurations across clusters is a goal for the smoothest execution. To achieve this, create a list of new seed nodes and a common namespace configuration that includes old and new namespaces.\n",
    "\n",
    "The best source for this configuration is the file ```/etc/aerospike/aerospike.conf``` on one of the previously existing Aerospike cluster nodes. \n"
   ]
  },
  {
   "cell_type": "markdown",
   "id": "novel-hanging",
   "metadata": {},
   "source": [
    "### Create the list of new seed nodes\n",
    "Collect the IP addresses for internal communication among the newly created Aerospike nodes. These will make up the seed list for the cluster resulting from this process. Format it like the following example:\n",
    "```\n",
    "               mesh-seed-address-port 10.0.19.115 3002\n",
    "\n",
    "               mesh-seed-address-port 10.0.154.23 3002\n",
    "\n",
    "               mesh-seed-address-port 10.0.151.216 3002\n",
    "```\n",
    "Keep the resulting string containing all seed nodes available to copy/paste later in the process.\n"
   ]
  },
  {
   "cell_type": "markdown",
   "id": "governmental-eleven",
   "metadata": {},
   "source": [
    "### Create the new namespace configuration \n",
    "Collect the existing namespace configuration from existing nodes:\n",
    "```\n",
    "namespace test {\n",
    "        replication-factor 2\n",
    "        memory-size 4G\n",
    "\n",
    "        storage-engine memory\n",
    "}\n",
    "namespace bar {\n",
    "replication-factor 2\n",
    "        memory-size 4G\n",
    "\n",
    "        storage-engine memory\n",
    "\n",
    "        # To use file storage backing, comment out the line above and use the   \n",
    "\t# following lines instead.                                              \n",
    "#       storage-engine device {                                                 \n",
    "#               file /opt/aerospike/data/bar.dat                                \n",
    "#               filesize 16G   \n",
    "#       }                                                                       \n",
    "}\n",
    "```\n",
    "\n",
    "Add the new namespace as follows:\n",
    "```\n",
    "namespace newns {\n",
    "        replication-factor 2\n",
    "        memory-size 4G\n",
    "        storage-engine memory\n",
    "}\n",
    "```\n",
    "Keep the resulting string containing all Namespaces available to copy/paste later in the process.\n"
   ]
  },
  {
   "cell_type": "markdown",
   "id": "pediatric-organ",
   "metadata": {},
   "source": [
    "## Increase migrate-fill-delay for cluster\n",
    "Prevent the Aerospike cluster from migrating to the new nodes as they are added by setting a migrate-fill-delay for the first steps in this process. A migrate-fill-delay of 1 hour (3600 seconds) will suffice for this scenario. **Migration** refers to the balancing of data partitions in the cluster to ensure uniform partition ownership.  This configuration will minimize data migration and therefore maintain highest availability to application traffic. \n",
    "\n",
    "The command is: ```asadm -e \"asinfo -v 'set-config:context=service;migrate-fill-delay=3600'\"```\n",
    "\n",
    "```\n",
    "> asadm -e \"asinfo -v 'set-config:context=service;migrate-fill-delay=3600'\"\n",
    "~~~ asinfo -v 'set-config:context=service;migrate-fill-delay=3600' ~~~\n",
    "ip-10-0-47-149.us-east-2.compute.internal:3000 (10.0.47.149) returned:\n",
    "ok\n",
    "\n",
    "ip-10-0-48-227.us-east-2.compute.internal:3000 (10.0.48.227) returned:\n",
    "ok\n",
    "\n",
    "ip-10-0-30-148.us-east-2.compute.internal:3000 (10.0.30.148) returned:\n",
    "ok\n",
    "```\n",
    "\n",
    "Run this command on the 1-node cluster in this Jupyter environment:"
   ]
  },
  {
   "cell_type": "code",
   "execution_count": 1,
   "id": "postal-identification",
   "metadata": {},
   "outputs": [
    {
     "name": "stdout",
     "output_type": "stream",
     "text": [
      "Seed:        [('127.0.0.1', 3000, None)]\n",
      "Config_file: /home/jovyan/.aerospike/astools.conf, /etc/aerospike/astools.conf\n",
      "\n",
      "~~~ \u001b[1menable\u001b[0m ~~~\n",
      "\u001b[0m\n",
      "~~~ \u001b[1masinfo -v 'set-config:context=service;migrate-fill-delay=3600'\u001b[0m ~~~\n",
      "\u001b[0m\u001b[1m1d5354ebebac:3000 (172.17.0.2) returned\u001b[0m:\n",
      "ok\n",
      "\n"
     ]
    }
   ],
   "source": [
    "!asadm -e \"enable;asinfo -v 'set-config:context=service;migrate-fill-delay=3600'\""
   ]
  },
  {
   "cell_type": "markdown",
   "id": "collective-finder",
   "metadata": {},
   "source": [
    "**Note:** This tutorial was written using tools version 2.0.1, which is installed using AWS Quickstart using CloudFormation. This notebook tutorial uses version 2.2. Commands and outputs are recognizable and comparable. "
   ]
  },
  {
   "cell_type": "markdown",
   "id": "hispanic-sample",
   "metadata": {},
   "source": [
    "## Do the following steps on each new node 1-by-1\n",
    "New nodes could form their own cluster before joining the original cluster if created at once. This would complicate migration. As a result, do the following on each new node, one at a time.\n",
    "\n",
    "From a Cloud Formation perspective, it is common to use the same as the original cluster for all of the following AWS settings:\n",
    "* [EC2 Key Pair](https://docs.aws.amazon.com/AWSEC2/latest/UserGuide/ec2-key-pairs.html)\n",
    "* [VPC](https://docs.aws.amazon.com/vpc/latest/userguide/VPC_Subnets.html) ID\n",
    "* List of [subnet](https://docs.aws.amazon.com/vpc/latest/userguide/VPC_Subnets.html) IDs\n",
    "* Aerospike [Feature key file](https://docs.aerospike.com/docs/operations/configure/feature-key/) – Can also be replaced manually during the next step.\n",
    "* [Security Group](https://docs.aws.amazon.com/vpc/latest/userguide/VPC_SecurityGroups.html) ID for the cluster’s [Bastion](https://aws.amazon.com/blogs/security/controlling-network-access-to-ec2-instances-using-a-bastion-server/#:~:text=A%20bastion%20is%20a%20special,to%20your%20other%20EC2%20instances.&text=To%20define%20the%20source%20IPs,the%20instance's%20security%20group%20rules.).\n"
   ]
  },
  {
   "cell_type": "markdown",
   "id": "suspended-tribute",
   "metadata": {},
   "source": [
    "### Update Aerospike.conf\n",
    "Ssh to each new cluster node and replace both of the following:\n",
    "* The list of seed nodes with the list created in a previous step\n",
    "* Default Namespace configuration with the new Namespace configuration created in a previous step\n"
   ]
  },
  {
   "cell_type": "markdown",
   "id": "caring-public",
   "metadata": {},
   "source": [
    "### Restart the node\n",
    "Since the configuration of the Aerospike node has changed, restart the Aerospike service, using the following command: ```sudo service aerospike restart```\n",
    "\n",
    "```\n",
    "> sudo service aerospike restart\n",
    "Redirecting to /bin/systemctl restart aerospike.service\n",
    "```"
   ]
  },
  {
   "cell_type": "markdown",
   "id": "caroline-portsmouth",
   "metadata": {},
   "source": [
    "### Change the AWS Security Group to match that of the original cluster\n",
    "To allow new nodes to connect to the original cluster, change the AWS security group to match that of the original cluster. It can be helpful to change the IAM role, as well, though the underlying privileges of the newly created IAM role should be identical.\n"
   ]
  },
  {
   "cell_type": "markdown",
   "id": "accepting-iceland",
   "metadata": {},
   "source": [
    "### For the first new node, use the tip command to add it to the cluster.  \n",
    "Because the new nodes are not on the original cluster nodes’ seed list, use the tip command to authorize the cluster to include it. Remaining nodes will connect via the configuration alignment with this first new node.\n",
    "```asadm -e \"asinfo -v 'tip:host=HOST;port=MESH-PORT'\"```\n",
    "\n",
    "```\n",
    "$ asadm -e \"asinfo -v 'tip:host=10.0.19.115;port=3002'\"\n",
    "Seed:        [('127.0.0.1', 3000, None)]\n",
    "Config_file: /home/ec2-user/.aerospike/astools.conf, /etc/aerospike/astools.conf\n",
    "ip-10-0-47-149.us-east-2.compute.internal:3000 (10.0.47.149) returned:\n",
    "ok\n",
    "\n",
    "ip-10-0-48-227.us-east-2.compute.internal:3000 (10.0.48.227) returned:\n",
    "ok\n",
    "\n",
    "ip-10-0-30-148.us-east-2.compute.internal:3000 (10.0.30.148) returned:\n",
    "ok\n",
    "```"
   ]
  },
  {
   "cell_type": "markdown",
   "id": "governing-theorem",
   "metadata": {},
   "source": [
    "### Confirm that it joins the cluster.\n",
    "\n",
    "Starting asadm on a cluster node will indicate the size and IPs of the cluster. \n",
    "\n",
    "```\n",
    "> asadm\n",
    "Seed:        [('127.0.0.1', 3000, None)]\n",
    "Config_file: /home/ec2-user/.aerospike/astools.conf, /etc/aerospike/astools.conf\n",
    "Aerospike Interactive Shell, version 2.0.1\n",
    "\n",
    "Found 4 nodes\n",
    "Online:  10.0.19.115:3000, 10.0.30.148:3000, 10.0.48.227:3000, 10.0.47.149:3000\n",
    "```\n",
    "\n",
    "After confirming that a new node joins the cluster, proceed to the next new node.\n"
   ]
  },
  {
   "cell_type": "markdown",
   "id": "blocked-economy",
   "metadata": {},
   "source": [
    "## Quiesce each original node in the Aerospike Cluster\n",
    "At this point in the process, the cluster will have over twice the capacity of the original cluster. The remaining steps remove the original nodes.\n",
    "\n",
    "**Quiescing** a node makes it no longer the authoritative source of any data in a cluster. This configuration is requested, polled for status change, and takes effect upon reclustering. Once a node is quiesced, subsequent client connections to a quiesced node will: \n",
    "* Communicate new data ownership.\n",
    "* Proxy the request through the quiesced node to the new owner. (Any edge cases?) \n",
    "\n",
    "For more information on [Quiescing a node, go here](https://docs.aerospike.com/docs/operations/manage/cluster_mng/quiescing_node/). Quiescing is a robust cluster mechanism that is central to these steps. "
   ]
  },
  {
   "cell_type": "markdown",
   "id": "responsible-canada",
   "metadata": {},
   "source": [
    "### Ensure the cluster is stable\n",
    "Because Aerospike [clustering](https://docs.aerospike.com/docs/architecture/clustering.html) is adaptive, administration has numerous steps with occasional delays while the cluster adapts, but there is little expectation of failure. When describing an Aerospike cluster, **stable** refers to whether all expected nodes are available, part of the cluster, and not migrating data. Aerospike clusters are highly performant, even during periods of cluster adaptation. \n",
    " \n",
    "Replace ```<Size>``` with the expected current number of cluster nodes and run on one cluster node. \n",
    "```asadm -e \"asinfo -v 'cluster-stable:size=<Size>;ignore-migrations=no'\"```\n",
    "\n",
    "If there are no migrations in progress, each cluster node will return the [```cluster_key```](https://docs.aerospike.com/docs/reference/metrics/?show-removed=1#cluster_key).\n",
    "\n",
    "```\n",
    "> asadm -e \"asinfo -v 'cluster-stable:size=4;ignore-migrations=no'\"\n",
    "ip-10-0-47-149.us-east-2.compute.internal:3000 (10.0.47.149) returned:\n",
    "206FA51ADD40\n",
    "\n",
    "ip-10-0-48-227.us-east-2.compute.internal:3000 (10.0.48.227) returned:\n",
    "206FA51ADD40\n",
    "\n",
    "ip-10-0-30-148.us-east-2.compute.internal:3000 (10.0.30.148) returned:\n",
    "206FA51ADD40\n",
    "\n",
    "ip-10-0-19-115.us-east-2.compute.internal:3000 (10.0.19.115) returned:\n",
    "206FA51ADD40\n",
    "```\n",
    "\n",
    "Run this command locally, on the 1-node cluster in this Jupyter environment: "
   ]
  },
  {
   "cell_type": "code",
   "execution_count": 2,
   "id": "diagnostic-heather",
   "metadata": {},
   "outputs": [
    {
     "name": "stdout",
     "output_type": "stream",
     "text": [
      "Seed:        [('127.0.0.1', 3000, None)]\n",
      "Config_file: /home/jovyan/.aerospike/astools.conf, /etc/aerospike/astools.conf\n",
      "\n",
      "~~~ \u001b[1menable\u001b[0m ~~~\n",
      "\u001b[0m\n",
      "~~~ \u001b[1masinfo -v 'cluster-stable:size=1;ignore-migrations=no'\u001b[0m ~~~\n",
      "\u001b[0m\u001b[1m1d5354ebebac:3000 (172.17.0.2) returned\u001b[0m:\n",
      "186B770583C4\n",
      "\n"
     ]
    }
   ],
   "source": [
    "!asadm -e \"enable;asinfo -v 'cluster-stable:size=1;ignore-migrations=no'\""
   ]
  },
  {
   "cell_type": "markdown",
   "id": "presidential-measurement",
   "metadata": {},
   "source": [
    "### Request quiesce on each of the old cluster nodes \n",
    "AWS Quickstart installs tools version 2.0.1. Using any 2.X version of the tools, an admin can ssh to each of the original nodes in the cluster and run the following command:\n",
    "```> asinfo -v 'quiesce:'```\n",
    "\n",
    "```\n",
    "$ asinfo -v 'quiesce:'\n",
    "Ok\n",
    "```\n",
    "\n",
    "Run this command locally:"
   ]
  },
  {
   "cell_type": "code",
   "execution_count": 3,
   "id": "imperial-danish",
   "metadata": {},
   "outputs": [
    {
     "name": "stdout",
     "output_type": "stream",
     "text": [
      "ok\n"
     ]
    }
   ],
   "source": [
    "!asinfo -v 'quiesce:'"
   ]
  },
  {
   "cell_type": "markdown",
   "id": "fleet-temple",
   "metadata": {},
   "source": [
    "If using asadm 2.2+ and Aerospike 4.3.1+, one can quiesce a node from any node in the cluster. \n",
    "\n",
    "In asadm 2.2+, use the following command: \n",
    "```asadm -e \"enable;asinfo -v 'quiesce:' with AAA.BBB.CCC.DDD\"```\n",
    "Replace ```AAA.BBB.CCC.DDD``` with the IP address of the cluster node to quiesce\n",
    "\n",
    "Run this command locally:"
   ]
  },
  {
   "cell_type": "code",
   "execution_count": 4,
   "id": "empirical-taiwan",
   "metadata": {},
   "outputs": [
    {
     "name": "stdout",
     "output_type": "stream",
     "text": [
      "Seed:        [('127.0.0.1', 3000, None)]\n",
      "Config_file: /home/jovyan/.aerospike/astools.conf, /etc/aerospike/astools.conf\n",
      "\n",
      "~~~ \u001b[1menable\u001b[0m ~~~\n",
      "\u001b[0m\n",
      "~~~ \u001b[1masinfo -v 'quiesce:' with 172.17.0.2\u001b[0m ~~~\n",
      "\u001b[0m\u001b[1m1d5354ebebac:3000 (172.17.0.2) returned\u001b[0m:\n",
      "ok\n",
      "\n"
     ]
    }
   ],
   "source": [
    "!asadm -e \"enable;asinfo -v 'quiesce:' with 172.17.0.2\""
   ]
  },
  {
   "cell_type": "markdown",
   "id": "atmospheric-hospital",
   "metadata": {},
   "source": [
    "Using asadm 2.3+, one can quiesce a node using the following command:\n",
    "```asadm -e \"enable;manage quiesce with AAA.BBB.CCC.DDD\"```\n",
    "\n",
    "```\n",
    "~~~Quiesce Nodes~~~~\n",
    "       Node|Response\n",
    "ubuntu:3000|ok\n",
    "Number of rows: 1\n",
    "```"
   ]
  },
  {
   "cell_type": "markdown",
   "id": "dominant-pressure",
   "metadata": {},
   "source": [
    "### Confirm quiesce configuration\n",
    "Once all nodes have been requested to quiesce, make sure that all nodes in the cluster are aware of the status using the command: ```asadm -e 'show statistics like pending_quiesce'``` \n",
    "\n",
    "***Note:*** Each node will respond for each Namespace. \n",
    "\n",
    "When expanded, each node will have a vertical column listing its [```pending_quiesce```](https://docs.aerospike.com/docs/reference/metrics/index.html#pending_quiesce) status: true/false/--. \n",
    "\n",
    "An original node will look like this:\n",
    "```\n",
    "> asadm -e 'show statistics like pending_quiesce'\n",
    "\n",
    "~~~~~~newns Namespace Statistics (2021-09-15 00:04:01 UTC)~~~~~~~\n",
    "Node          |ip-10-0-30-148.us-east-2.compute.internal:3000\n",
    "pending_quiesce|true\n",
    "Number of rows: 2\n",
    "\n",
    "~~~~~~newns Namespace Statistics (2021-09-15 00:04:01 UTC)~~~~~~\n",
    "Node          |ip-10-0-30-148.us-east-2.compute.internal:3000\n",
    "pending_quiesce|--                                                           \n",
    "Number of rows: 2\n",
    "\n",
    "~~~~~~test Namespace Statistics (2021-09-15 00:04:01 UTC)~~~~~~\n",
    "Node          |ip-10-0-30-148.us-east-2.compute.internal:3000\n",
    "pending_quiesce|true\n",
    "Number of rows: 2\n",
    "```\n",
    "\n",
    "```--``` indicates that a node is not configured for a particular Namespace, and its status is neither true nor false.\n",
    "\n",
    "\n",
    "A new node will look like this:\n",
    "```\n",
    "~~~~~~bar Namespace Statistics (2021-09-15 00:04:01 UTC)~~~~~~~\n",
    "Node           |ip-10-0-151-216.us-east-2.compute.internal:3000\n",
    "pending_quiesce|false\n",
    "Number of rows: 2\n",
    "\n",
    "~~~~~~newns Namespace Statistics (2021-09-15 00:04:01 UTC)~~~~~~\n",
    "Node           |ip-10-0-151-216.us-east-2.compute.internal:3000\n",
    "pending_quiesce|false                                                           \n",
    "Number of rows: 2\n",
    "\n",
    "~~~~~~test Namespace Statistics (2021-09-15 00:04:01 UTC)~~~~~~\n",
    "Node           |ip-10-0-151-216.us-east-2.compute.internal:3000\n",
    "pending_quiesce|false  \n",
    "Number of rows: 2\n",
    "```"
   ]
  },
  {
   "cell_type": "markdown",
   "id": "aboriginal-induction",
   "metadata": {},
   "source": [
    "### Set the migrate-fill-delay to 0\n",
    "The cluster is now ready for efficient migration. Original nodes have been asked to quiesce but the quiesce has not taken effect, and new nodes are part of the cluster and have greater capacity than the original nodes. Remove the migrate-fill-delay by setting it to 0 using the command: \n",
    "```asadm -e \"asinfo -v 'set-config:context=service;migrate-fill-delay=0'\"```\n",
    "\n",
    "```\n",
    "> asadm -e \"asinfo -v 'set-config:context=service;migrate-fill-delay=0'\"\n",
    "~~~ asinfo -v 'set-config:context=service;migrate-fill-delay=0' ~~~\n",
    "ip-10-0-151-216.us-east-2.compute.internal:3000 (10.0.151.216) returned:\n",
    "ok\n",
    "\n",
    "ip-10-0-154-23.us-east-2.compute.internal:3000 (10.0.154.23) returned:\n",
    "ok\n",
    "\n",
    "ip-10-0-47-149.us-east-2.compute.internal:3000 (10.0.47.149) returned:\n",
    "ok\n",
    "\n",
    "ip-10-0-48-227.us-east-2.compute.internal:3000 (10.0.48.227) returned:\n",
    "ok\n",
    "\n",
    "ip-10-0-30-148.us-east-2.compute.internal:3000 (10.0.30.148) returned:\n",
    "ok\n",
    "\n",
    "ip-10-0-19-115.us-east-2.compute.internal:3000 (10.0.19.115) returned:\n",
    "ok\n",
    "```\n",
    "\n",
    "Run the command locally:"
   ]
  },
  {
   "cell_type": "code",
   "execution_count": 5,
   "id": "terminal-imperial",
   "metadata": {},
   "outputs": [
    {
     "name": "stdout",
     "output_type": "stream",
     "text": [
      "Seed:        [('127.0.0.1', 3000, None)]\n",
      "Config_file: /home/jovyan/.aerospike/astools.conf, /etc/aerospike/astools.conf\n",
      "\n",
      "~~~ \u001b[1menable\u001b[0m ~~~\n",
      "\u001b[0m\n",
      "~~~ \u001b[1masinfo -v 'set-config:context=service;migrate-fill-delay=0'\u001b[0m ~~~\n",
      "\u001b[0m\u001b[1m1d5354ebebac:3000 (172.17.0.2) returned\u001b[0m:\n",
      "ok\n",
      "\n"
     ]
    }
   ],
   "source": [
    "!asadm -e \"enable;asinfo -v 'set-config:context=service;migrate-fill-delay=0'\""
   ]
  },
  {
   "cell_type": "markdown",
   "id": "external-victim",
   "metadata": {},
   "source": [
    "## Recluster the cluster \n",
    "[Reclustering](https://docs.aerospike.com/docs/reference/info/#recluster) asks the cluster to change its state to accommodate the new quiesces and rebalance data across the new active nodes. Submit the recluster command: ```asadm -e \"asinfo -v 'recluster:'\"```\n",
    "\n",
    "```\n",
    "Admin> asinfo -v 'recluster:'\n",
    "ip-10-0-151-216.us-east-2.compute.internal:3000 (10.0.151.216) returned:\n",
    "ignored-by-non-principal\n",
    "\n",
    "ip-10-0-154-23.us-east-2.compute.internal:3000 (10.0.154.23) returned:\n",
    "ignored-by-non-principal\n",
    "\n",
    "ip-10-0-47-149.us-east-2.compute.internal:3000 (10.0.47.149) returned:\n",
    "ok\n",
    "\n",
    "ip-10-0-48-227.us-east-2.compute.internal:3000 (10.0.48.227) returned:\n",
    "ignored-by-non-principal\n",
    "\n",
    "ip-10-0-30-148.us-east-2.compute.internal:3000 (10.0.30.148) returned:\n",
    "ignored-by-non-principal\n",
    "\n",
    "ip-10-0-19-115.us-east-2.compute.internal:3000 (10.0.19.115) returned:\n",
    "ignored-by-non-principal\n",
    "```\n",
    "\n",
    "It is normal for one node will accept the recluster command.\n",
    "\n",
    "Run the command locally:"
   ]
  },
  {
   "cell_type": "markdown",
   "id": "former-expression",
   "metadata": {},
   "source": [
    "!asadm -e \"enable;asinfo -v 'recluster:'\""
   ]
  },
  {
   "cell_type": "markdown",
   "id": "brutal-nylon",
   "metadata": {},
   "source": [
    "## Wait for migration to complete\n",
    "\n",
    "Depending on how much data is stored in the original cluster, there may be ample time to babysit the process by viewing statistics. This allows you to confirm the cluster status and progress. Here are some commands to give visibility and guidance on expected output.\n",
    "\n",
    "**Note:** This one-node cluster will not have migration status to observe. "
   ]
  },
  {
   "cell_type": "markdown",
   "id": "compact-webcam",
   "metadata": {},
   "source": [
    "### Confirm the original nodes are quiesced\n",
    "```asadm -e 'show statistics like quiesce'```\n",
    "\n",
    "This will provide statistics [```pending_quiesce```](https://docs.aerospike.com/docs/reference/metrics/index.html#pending_quiesce), [```effective_is_quiesced```](https://docs.aerospike.com/docs/reference/metrics/index.html#effective_is_quiesced), and [```nodes_quiesced```](https://docs.aerospike.com/docs/reference/metrics/index.html#nodes_quiesced) for each Namespace. These show which nodes report as being asked to quiesce, which are quiesced, and the number of nodes in the cluster that are quiesced according to each node. \n",
    "\n",
    "```\n",
    "~~~~~~~bar Namespace Statistics (2021-09-15 00:08:31 UTC)~~~~~~~\n",
    "Node                 |ip-10-0-30-148.us-east-2.compute.internal:3000\n",
    "effective_is_quiesced|true\n",
    "nodes_quiesced       |3                                             \n",
    "pending_quiesce      |true \n",
    "Number of rows: 4\n",
    "```"
   ]
  },
  {
   "cell_type": "code",
   "execution_count": 6,
   "id": "public-shock",
   "metadata": {},
   "outputs": [
    {
     "name": "stdout",
     "output_type": "stream",
     "text": [
      "Seed:        [('127.0.0.1', 3000, None)]\n",
      "Config_file: /home/jovyan/.aerospike/astools.conf, /etc/aerospike/astools.conf\n",
      "\u001b[0m\u001b[1m~test Namespace Statistics (2021-09-27 22:25:46 UTC)~\u001b[0;m\n",
      "\u001b[1m\u001b[4mNode\u001b[0;m                 \u001b[0;m\u001b[2m|\u001b[0;m\u001b[32;92m1d5354ebebac:3000\u001b[0;m\n",
      "\u001b[1meffective_is_quiesced\u001b[0;m\u001b[2m|\u001b[0;mfalse            \n",
      "\u001b[1mnodes_quiesced       \u001b[0;m\u001b[2m|\u001b[0;m0                \n",
      "\u001b[1mpending_quiesce      \u001b[0;m\u001b[2m|\u001b[0;mtrue             \n",
      "\u001b[2mNumber of rows: 4\u001b[0;m\n",
      "\n"
     ]
    }
   ],
   "source": [
    "!asadm -e 'show statistics like quiesce'"
   ]
  },
  {
   "cell_type": "markdown",
   "id": "threaded-guess",
   "metadata": {},
   "source": [
    "Since this development environment contains only a 1-node cluster, there are no other nodes to accept traffic if this node were to quiesce. This will occur in a multinode cluster if there are no nodes to accept traffic for a namespace."
   ]
  },
  {
   "cell_type": "markdown",
   "id": "muslim-audio",
   "metadata": {},
   "source": [
    "##### What if one of the new nodes was accidentally quiesced?\n",
    "\n",
    "If one of the new nodes was accidently quiesced, the configuration can be easily undone.\n",
    "\n",
    "Undo the quiesce on the 1-node cluster. Ssh to any of the new nodes in the cluster that were accidentally quiesced and execute the following command: ```asinfo -v 'quiesce-undo:'```"
   ]
  },
  {
   "cell_type": "code",
   "execution_count": 7,
   "id": "united-medication",
   "metadata": {},
   "outputs": [
    {
     "name": "stdout",
     "output_type": "stream",
     "text": [
      "ok\n"
     ]
    }
   ],
   "source": [
    "!asinfo -v 'quiesce-undo:'"
   ]
  },
  {
   "cell_type": "markdown",
   "id": "historic-renaissance",
   "metadata": {},
   "source": [
    "Using asadm 2.2+:"
   ]
  },
  {
   "cell_type": "code",
   "execution_count": 8,
   "id": "accessory-perception",
   "metadata": {},
   "outputs": [
    {
     "name": "stdout",
     "output_type": "stream",
     "text": [
      "Seed:        [('127.0.0.1', 3000, None)]\n",
      "Config_file: /home/jovyan/.aerospike/astools.conf, /etc/aerospike/astools.conf\n",
      "\n",
      "~~~ \u001b[1menable\u001b[0m ~~~\n",
      "\u001b[0m\n",
      "~~~ \u001b[1masinfo -v 'quiesce-undo:' with 172.17.0.2\u001b[0m ~~~\n",
      "\u001b[0m\u001b[1m1d5354ebebac:3000 (172.17.0.2) returned\u001b[0m:\n",
      "ok\n",
      "\n"
     ]
    }
   ],
   "source": [
    "!asadm -e \"enable;asinfo -v 'quiesce-undo:' with 172.17.0.2\""
   ]
  },
  {
   "cell_type": "markdown",
   "id": "qualified-somerset",
   "metadata": {},
   "source": [
    "### Watch to see when requests stop and a cluster proxying statistics stop increasing\n",
    "After a few seconds, the quiesced node should no longer receive or proxy data requests. To confirm this, use the following commands and confirm when the statistics stop increasing: ```asadm -e 'show latencies'```\n",
    "\n",
    "Watch cluster traffic histograms until you are confident that no new requests are sent to quiesced nodes.\n",
    "\n",
    "```\n",
    "> asadm -e 'show latencies'\n",
    "~~~~~~~~~~~~~~~~~~~~~~~~~~~~~Latency  (2021-09-15 00:10:15 UTC)~~~~~~~~~~~~~~~~~~~~~~~~~~~~\n",
    "Namespace|Histogram|                                           Node|ops/sec|>1ms|>8ms|>64ms\n",
    "test     |write    |ip-10-0-48-227.us-east-2.compute.internal:3000 |    0.0| 0.0| 0.0|  0.0\n",
    "```\n",
    "\n",
    "This one-node cluster generally will not have any traffic to view."
   ]
  },
  {
   "cell_type": "markdown",
   "id": "chinese-animal",
   "metadata": {},
   "source": [
    "### Confirm the original nodes have completed proxying requests:\n",
    "```\n",
    "asadm -e 'show statistics like client_proxy'\n",
    "asadm -e 'show statistics like batch_sub_proxy'\n",
    "asadm -e 'show statistics like from_proxy_read'\n",
    "asadm -e 'show statistics like from_proxy_write'\n",
    "asadm -e 'show statistics like from_proxy_batch_sub'\n",
    "```\n",
    "\n",
    "**Note:** This traffic can also include statistics unrelated to adding the Namespace and capacity to the cluster in question. [Configuration of client policies and Namespace mode for strong consistency](https://discuss.aerospike.com/t/understanding-aerospike-server-proxies/3246) can increase these statistics while providing efficient processing of data requests.    \n",
    "\n",
    "This one-node cluster generally will not be proxying requests."
   ]
  },
  {
   "cell_type": "markdown",
   "id": "involved-image",
   "metadata": {},
   "source": [
    "## Confirm that the cluster is stable with the quiesced nodes\n",
    "This step is identical to the step titled, “Ensure the cluster is stable”.\n",
    "\n",
    "Replace ```<Size>``` with the expected current number of cluster nodes and run on one cluster node. \n",
    "```asadm -e \"asinfo -v 'cluster-stable:size=<Size>;ignore-migrations=no'\"```\n",
    "\n",
    "```\n",
    "> asadm -e \"asinfo -v 'cluster-stable:size=6;ignore-migrations=no'\"\n",
    "ip-10-0-47-149.us-east-2.compute.internal:3000 (10.0.47.149) returned:\n",
    "206FA51ADD40\n",
    "\n",
    "ip-10-0-154-23.us-east-2.compute.internal:3000 (10.0.154.23) returned:\n",
    "206FA51ADD40\n",
    "\n",
    "ip-10-0-151-216.us-east-2.compute.internal:3000 (10.0.151.216) returned:\n",
    "206FA51ADD40\n",
    "\n",
    "ip-10-0-48-227.us-east-2.compute.internal:3000 (10.0.48.227) returned:\n",
    "206FA51ADD40\n",
    "\n",
    "ip-10-0-30-148.us-east-2.compute.internal:3000 (10.0.30.148) returned:\n",
    "206FA51ADD40\n",
    "\n",
    "ip-10-0-19-115.us-east-2.compute.internal:3000 (10.0.19.115) returned:\n",
    "206FA51ADD40\n",
    "```\n",
    "\n",
    "Returning the cluster_key (```206FA51ADD40```) indicates that migration is complete.\n",
    "\n",
    "**Note:** If migrations are not yet complete, the nodes will report ```ERROR::unstable-cluster```. This is the normal state while data is migrating, and is not cause for alarm. Aerospike’s Paxos clustering automatically readjusts for stability and migrates data to ensure resilience independent of cluster configuration and formation. \n",
    "\n",
    "```\n",
    "> asadm -e \"asinfo -v 'cluster-stable:size=6;ignore-migrations=no'\"\n",
    "ip-10-0-151-216.us-east-2.compute.internal:3000 (10.0.151.216) returned:\n",
    "ERROR::unstable-cluster\n",
    "\n",
    "ip-10-0-48-227.us-east-2.compute.internal:3000 (10.0.48.227) returned:\n",
    "ERROR::unstable-cluster\n",
    "\n",
    "ip-10-0-47-149.us-east-2.compute.internal:3000 (10.0.47.149) returned:\n",
    "ERROR::unstable-cluster\n",
    "\n",
    "ip-10-0-154-23.us-east-2.compute.internal:3000 (10.0.154.23) returned:\n",
    "ERROR::unstable-cluster\n",
    "\n",
    "ip-10-0-19-115.us-east-2.compute.internal:3000 (10.0.19.115) returned:\n",
    "ERROR::unstable-cluster\n",
    "\n",
    "ip-10-0-30-148.us-east-2.compute.internal:3000 (10.0.30.148) returned:\n",
    "ERROR::unstable-cluster\n",
    "```"
   ]
  },
  {
   "cell_type": "markdown",
   "id": "middle-pizza",
   "metadata": {},
   "source": [
    "# Stop Aerospike on quiesced nodes and remove them from service\n",
    "Now that the nodes report that migration is complete, it is time to stop Aerospike service on the original cluster nodes and verify that they are removed.\n"
   ]
  },
  {
   "cell_type": "markdown",
   "id": "comparable-variable",
   "metadata": {},
   "source": [
    "## Stop Aerospike server\n",
    "To stop Aerospike server, ssh to each original node and use the following sudo command:\n",
    "```sudo systemctl stop aerospike```\n",
    "\n",
    "```\n",
    "$ sudo service aerospike stop\n",
    "Redirecting to /bin/systemctl stop aerospike.service\n",
    "```"
   ]
  },
  {
   "cell_type": "markdown",
   "id": "hidden-account",
   "metadata": {},
   "source": [
    "## Verify the cluster’s node count\n",
    "To verify that the cluster has 3 nodes, the final node count for this scenario, use the following asadm command:\n",
    "```asadm -e 'info network'```\n",
    "\n",
    "```\n",
    "> asadm -e 'info network'\n",
    "\n",
    "~~~~~~~~~~~~~~~~~~~~~~~~~~~~~~~~~~~~~~~~~~~~~~~~~~~~~~~~~~~Network Information (2021-09-21 23:45:22 UTC)~~~~~~~~~~~~~~~~~~~~~~~~~~~~~~~~~~~~~~~~~~~~~~~~~~~~~~~~~~~~\n",
    "                                           Node|         Node ID|               IP|    Build|Migrations|~~~~~~~~~~~~~~~~~~Cluster~~~~~~~~~~~~~~~~~~|Client|   Uptime\n",
    "                                               |                |                 |         |          |Size|         Key|Integrity|      Principal| Conns|         \n",
    "ip-10-0-151-216.us-east-2.compute.internal:3000|*BB9C4FAA0DCD206|10.0.151.216:3000|E-5.5.0.4|   0.000  |   3|B5E3CCE761EB|True     |BB9C4FAA0DCD206|     2|168:28:58\n",
    "ip-10-0-154-23.us-east-2.compute.internal:3000 | BB91C55C224FC06|10.0.154.23:3000 |E-5.5.0.4|   0.000  |   3|B5E3CCE761EB|True     |BB9C4FAA0DCD206|     2|168:38:02\n",
    "ip-10-0-19-115.us-east-2.compute.internal:3000 | BB9705CA431B202|10.0.19.115:3000 |E-5.5.0.4|   0.000  |   3|B5E3CCE761EB|True     |BB9C4FAA0DCD206|     2|168:42:55\n",
    "Number of rows: 3\n",
    "```\n",
    "\n",
    "Run this command locally:"
   ]
  },
  {
   "cell_type": "code",
   "execution_count": 9,
   "id": "static-dinner",
   "metadata": {},
   "outputs": [
    {
     "name": "stdout",
     "output_type": "stream",
     "text": [
      "Seed:        [('127.0.0.1', 3000, None)]\n",
      "Config_file: /home/jovyan/.aerospike/astools.conf, /etc/aerospike/astools.conf\n",
      "\u001b[0m\u001b[1m~~~~~~~~~~~~~~~~~~~~~~~~~~~~~~~~~~~~~~~~~~~Network Information (2021-09-27 22:25:49 UTC)~~~~~~~~~~~~~~~~~~~~~~~~~~~~~~~~~~~~~~~~~~~~\u001b[0;m\n",
      "\u001b[1m             \u001b[4mNode\u001b[0;m\u001b[0;m\u001b[2m|\u001b[0;m\u001b[1m         Node ID\u001b[0;m\u001b[2m|\u001b[0;m\u001b[1m             IP\u001b[0;m\u001b[2m|\u001b[0;m\u001b[1m     Build\u001b[0;m\u001b[2m|\u001b[0;m\u001b[1mMigrations\u001b[0;m\u001b[2m|\u001b[0;m\u001b[1m~~~~~~~~~~~~~~~~~~Cluster~~~~~~~~~~~~~~~~~~\u001b[0;m\u001b[2m|\u001b[0;m\u001b[1mClient\u001b[0;m\u001b[2m|\u001b[0;m\u001b[1m  Uptime\u001b[0;m\n",
      "\u001b[1m                 \u001b[0;m\u001b[2m|\u001b[0;m\u001b[1m                \u001b[0;m\u001b[2m|\u001b[0;m\u001b[1m               \u001b[0;m\u001b[2m|\u001b[0;m\u001b[1m          \u001b[0;m\u001b[2m|\u001b[0;m\u001b[1m          \u001b[0;m\u001b[2m|\u001b[0;m\u001b[1mSize\u001b[0;m\u001b[2m|\u001b[0;m\u001b[1m         Key\u001b[0;m\u001b[2m|\u001b[0;m\u001b[1mIntegrity\u001b[0;m\u001b[2m|\u001b[0;m\u001b[1m      Principal\u001b[0;m\u001b[2m|\u001b[0;m\u001b[1m Conns\u001b[0;m\u001b[2m|\u001b[0;m\u001b[1m        \u001b[0;m\n",
      "\u001b[32;92m1d5354ebebac:3000\u001b[0;m\u001b[2m|\u001b[0;m\u001b[32;92m*BB9020011AC4202\u001b[0;m\u001b[2m|\u001b[0;m172.17.0.2:3000\u001b[2m|\u001b[0;mE-5.6.0.13\u001b[2m|\u001b[0;m   0.000  \u001b[2m|\u001b[0;m   1\u001b[2m|\u001b[0;m186B770583C4\u001b[2m|\u001b[0;mTrue     \u001b[2m|\u001b[0;mBB9020011AC4202\u001b[2m|\u001b[0;m     2\u001b[2m|\u001b[0;m05:14:03\n",
      "\u001b[2mNumber of rows: 1\u001b[0;m\n",
      "\n"
     ]
    }
   ],
   "source": [
    "!asadm -e 'info network'"
   ]
  },
  {
   "cell_type": "markdown",
   "id": "residential-investing",
   "metadata": {},
   "source": [
    "# Clear old nodes from the alumni list\n",
    "Since the nodes were removed from service, remove them from the cluster’s alumni list to prevent cluster tools from contacting those node IPs in the future. To do so, use the command ```asadm -e \"asinfo -v 'services-alumni-reset'\"```\n",
    "\n",
    "```\n",
    ">asadm -e \"asinfo -v 'services-alumni-reset' \"\n",
    "ip-10-0-151-216.us-east-2.compute.internal:3000 (10.0.151.216) returned:\n",
    "ok\n",
    "\n",
    "ip-10-0-154-23.us-east-2.compute.internal:3000 (10.0.154.23) returned:\n",
    "ok\n",
    "\n",
    "ip-10-0-19-115.us-east-2.compute.internal:3000 (10.0.19.115) returned:\n",
    "ok\n",
    "```\n",
    "\n",
    "Run this command locally:"
   ]
  },
  {
   "cell_type": "code",
   "execution_count": 10,
   "id": "cellular-musical",
   "metadata": {},
   "outputs": [
    {
     "name": "stdout",
     "output_type": "stream",
     "text": [
      "Seed:        [('127.0.0.1', 3000, None)]\n",
      "Config_file: /home/jovyan/.aerospike/astools.conf, /etc/aerospike/astools.conf\n",
      "\n",
      "~~~ \u001b[1menable\u001b[0m ~~~\n",
      "\u001b[0m\n",
      "~~~ \u001b[1masinfo -v 'services-alumni-reset'\u001b[0m ~~~\n",
      "\u001b[0m\u001b[1m1d5354ebebac:3000 (172.17.0.2) returned\u001b[0m:\n",
      "ok\n",
      "\n"
     ]
    }
   ],
   "source": [
    "!asadm -e \"enable;asinfo -v 'services-alumni-reset'\""
   ]
  },
  {
   "cell_type": "markdown",
   "id": "floppy-project",
   "metadata": {},
   "source": [
    "# Takeaways\n",
    "The original 3-node cluster has been replaced with a larger instance 3-node cluster. The new Namespace ```newns``` will be available upon the first node joining the cluster with the Namespace configuration. \n",
    "\n",
    "Aerospike clustering adapts to the formation and configuration of a cluster to robustly serve data in realtime. Using AWS Quickstart with CloudFormation, reconfiguring a cluster is efficient and manageable."
   ]
  },
  {
   "cell_type": "markdown",
   "id": "electric-microwave",
   "metadata": {},
   "source": [
    "## What's Next?\n",
    "\n",
    "Have questions? Don't hesitate to post about cluster operations on [Aerospike's Discussion Forums](https://discuss.aerospike.com/c/operations/26).\n",
    "\n",
    "Want to check out other notebooks?\n",
    "1. [Basic Operations](../python/basic_operations.ipynb)\n",
    "2. [Java Hello, World](../java/hello_world.ipynb) or [Python Hello, World](../python/hello_world.ipynb)\n",
    "3. [Python Simple Put Get Example](../python/simple_put_get_example.ipynb)\n",
    "4. [Java Intro to Data Modeling](../java/java-intro_to_data_modeling.ipynb)\n",
    "5. [Java Intro to Transactions](../java/java-intro_to_transactions.ipynb)\n",
    "\n",
    "Are you running this from Binder? [Download the Aerospike Notebook Repo](https://github.com/aerospike-examples/interactive-notebooks) and work with Aerospike Database and Jupyter locally using a Docker container."
   ]
  },
  {
   "cell_type": "markdown",
   "id": "demonstrated-coupon",
   "metadata": {},
   "source": [
    "## Additional Resources\n",
    "\n",
    "* Want to get started building with Aerospike? [Try now](https://aerospike.com/lp/try-now/).\n",
    "* Ready to learn about developing with Aerospike? Go to the [Developer Hub](https://developer.aerospike.com).\n",
    "* How robust is the Aerospike Database? Browse the [Aerospike Database Architecture](https://www.aerospike.com/docs/architecture/index.html)."
   ]
  }
 ],
 "metadata": {
  "kernelspec": {
   "display_name": "Python 3",
   "language": "python",
   "name": "python3"
  },
  "language_info": {
   "codemirror_mode": {
    "name": "ipython",
    "version": 3
   },
   "file_extension": ".py",
   "mimetype": "text/x-python",
   "name": "python",
   "nbconvert_exporter": "python",
   "pygments_lexer": "ipython3",
   "version": "3.8.6"
  },
  "toc": {
   "base_numbering": 1,
   "nav_menu": {},
   "number_sections": true,
   "sideBar": true,
   "skip_h1_title": false,
   "title_cell": "Table of Contents",
   "title_sidebar": "Contents",
   "toc_cell": false,
   "toc_position": {},
   "toc_section_display": true,
   "toc_window_display": false
  }
 },
 "nbformat": 4,
 "nbformat_minor": 5
}
