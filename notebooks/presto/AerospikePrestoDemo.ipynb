{
 "cells": [
  {
   "cell_type": "markdown",
   "metadata": {},
   "source": [
    "## Aerospike Connect for Presto Tutorial for Python\n",
    "## Tested with Python 3.7, Java 11, Presto 343, Presto Connector (Beta), and PyHive 0.6.3"
   ]
  },
  {
   "cell_type": "code",
   "execution_count": 1,
   "metadata": {},
   "outputs": [],
   "source": [
    "from pyhive import presto\n",
    "presto_conn = presto.connect(\n",
    "    host='localhost',\n",
    "    port=8080,\n",
    "    catalog='aerospike',\n",
    "    schema='test'\n",
    ")\n",
    "presto_cursor=presto_conn.cursor()"
   ]
  },
  {
   "cell_type": "code",
   "execution_count": 2,
   "metadata": {},
   "outputs": [],
   "source": [
    "presto_cursor.execute('SELECT * FROM test.write_set LIMIT 3')"
   ]
  },
  {
   "cell_type": "code",
   "execution_count": 3,
   "metadata": {},
   "outputs": [
    {
     "name": "stdout",
     "output_type": "stream",
     "text": [
      "(234, 'Individual: 234', 33.568431516802406, 66363)\n",
      "(13, 'Individual: 013', 25.752921531369164, 48610)\n",
      "(79, 'Individual: 079', 25.16109674428971, 60357)\n"
     ]
    }
   ],
   "source": [
    "records = presto_cursor.fetchall()\n",
    "for row in records:\n",
    "    print(row)"
   ]
  },
  {
   "cell_type": "code",
   "execution_count": null,
   "metadata": {},
   "outputs": [],
   "source": [
    "presto_cursor.execute('select name from test.write_set where age>40 and age<45')"
   ]
  },
  {
   "cell_type": "code",
   "execution_count": null,
   "metadata": {},
   "outputs": [],
   "source": [
    "records1 = presto_cursor.fetchall()\n",
    "for row in records1:\n",
    "    print(row)"
   ]
  },
  {
   "cell_type": "markdown",
   "metadata": {},
   "source": [
    "### Refer to https://www.aerospike.com/docs/connect/access/presto/examples.html for more examples."
   ]
  },
  {
   "cell_type": "code",
   "execution_count": null,
   "metadata": {},
   "outputs": [],
   "source": []
  }
 ],
 "metadata": {
  "kernelspec": {
   "display_name": "Python 3",
   "language": "python",
   "name": "python3"
  },
  "language_info": {
   "codemirror_mode": {
    "name": "ipython",
    "version": 3
   },
   "file_extension": ".py",
   "mimetype": "text/x-python",
   "name": "python",
   "nbconvert_exporter": "python",
   "pygments_lexer": "ipython3",
   "version": "3.7.5"
  }
 },
 "nbformat": 4,
 "nbformat_minor": 4
}
