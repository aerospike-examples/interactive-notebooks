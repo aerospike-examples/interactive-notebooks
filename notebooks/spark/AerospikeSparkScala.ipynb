{
 "cells": [
  {
   "cell_type": "markdown",
   "metadata": {},
   "source": [
    "# Aerospike Spark Connector Tutorial for Scala\n",
    "\n",
    "## Tested with Spark connector 3.2.0, ASDB EE 5.7.0.7, Java 8, Apache Spark 3.0.2, Python 3.7 and Scala 2.12.11 and [Spylon]( https://pypi.org/project/spylon-kernel/)\n"
   ]
  },
  {
   "cell_type": "markdown",
   "metadata": {},
   "source": [
    "#### Please download the appropriate Aeropsike Connect for Spark from the [download page](https://enterprise.aerospike.com/enterprise/download/connectors/aerospike-spark/notes.html)  \n",
    "Set `launcher.jars` with path to the downloaded binary"
   ]
  },
  {
   "cell_type": "code",
   "execution_count": 1,
   "metadata": {},
   "outputs": [],
   "source": [
    "%%init_spark \n",
    "launcher.jars = [\"aerospike-spark-assembly-3.2.0.jar\"] \n",
    "launcher.master = \"local[*]\""
   ]
  },
  {
   "cell_type": "code",
   "execution_count": 2,
   "metadata": {},
   "outputs": [
    {
     "data": {
      "text/plain": [
       "Intitializing Scala interpreter ..."
      ]
     },
     "metadata": {},
     "output_type": "display_data"
    },
    {
     "data": {
      "text/plain": [
       "Spark Web UI available at http://192.168.1.2:4040\n",
       "SparkContext available as 'sc' (version = 3.0.2, master = local[*], app id = local-1634672659617)\n",
       "SparkSession available as 'spark'\n"
      ]
     },
     "metadata": {},
     "output_type": "display_data"
    },
    {
     "data": {
      "text/plain": [
       "AS_HOST: String = 127.0.0.1:3000\n"
      ]
     },
     "execution_count": 2,
     "metadata": {},
     "output_type": "execute_result"
    }
   ],
   "source": [
    "//Specify the Seed Host of the Aerospike Server\n",
    "val AS_HOST = \"127.0.0.1:3000\""
   ]
  },
  {
   "cell_type": "code",
   "execution_count": 3,
   "metadata": {},
   "outputs": [
    {
     "data": {
      "text/plain": [
       "import scala.collection.mutable.ArrayBuffer\n",
       "import org.apache.spark.sql.Row\n",
       "import org.apache.spark.sql.types._\n",
       "import org.apache.spark.sql.functions._\n",
       "import org.apache.spark.sql.SaveMode\n",
       "import com.aerospike.spark.sql.AerospikeConnection\n",
       "import org.apache.spark.sql.SparkSession\n"
      ]
     },
     "execution_count": 3,
     "metadata": {},
     "output_type": "execute_result"
    }
   ],
   "source": [
    "import scala.collection.mutable.ArrayBuffer\n",
    "import org.apache.spark.sql.Row\n",
    "import org.apache.spark.sql.types._\n",
    "import org.apache.spark.sql.functions._\n",
    "import org.apache.spark.sql.SaveMode\n",
    "import com.aerospike.spark.sql.AerospikeConnection\n",
    "import org.apache.spark.sql.SparkSession"
   ]
  },
  {
   "cell_type": "markdown",
   "metadata": {},
   "source": [
    "## Schema in the Spark Connector\n",
    "\n",
    "-  Aerospike is schemaless, however Spark adher to schema. After the schema is decided upon (either through inference or given), data within the bins must honor the types. \n",
    "\n",
    "- To infer the schema, the connector samples a set of records (configurable through `aerospike.schema.scan`) to decide the name of bins/columns and their types. This implies that the derived schema depends entirely upon sampled records.  \n",
    "\n",
    "- **Note that `__key` was not part of provided schema. So how can one query using `__key`? We can just add `__key` in provided schema with appropriate type. Similarly we can add `__gen` or `__ttl` etc.**  \n",
    "         \n",
    "      val schemaWithPK: StructType = new StructType(Array(\n",
    "                StructField(\"__key\",IntegerType, nullable = false),    \n",
    "                StructField(\"id\", IntegerType, nullable = false),\n",
    "                StructField(\"name\", StringType, nullable = false),\n",
    "                StructField(\"age\", IntegerType, nullable = false),\n",
    "                StructField(\"salary\",IntegerType, nullable = false)))\n",
    "                \n",
    "- **We recommend that you provide schema for queries that involve [collection data types](https://docs.aerospike.com/docs/guide/cdt.html) such as lists, maps, and mixed types. Using schema inference for CDT may cause unexpected issues.** "
   ]
  },
  {
   "cell_type": "markdown",
   "metadata": {},
   "source": [
    "## Create sample data and write it into Aerospike Database"
   ]
  },
  {
   "cell_type": "code",
   "execution_count": 4,
   "metadata": {},
   "outputs": [
    {
     "name": "stdout",
     "output_type": "stream",
     "text": [
      "+---+------+---+------+\n",
      "| id|  name|age|salary|\n",
      "+---+------+---+------+\n",
      "|  1| name1|  1| 85780|\n",
      "|  2| name2|  2| 71636|\n",
      "|  3| name3|  3| 73747|\n",
      "|  4| name4|  4| 82932|\n",
      "|  5| name5|  5| 81313|\n",
      "|  6| name6|  6| 64316|\n",
      "|  7| name7|  7| 77750|\n",
      "|  8| name8|  8| 81108|\n",
      "|  9| name9|  9| 85952|\n",
      "| 10|name10| 10| 64510|\n",
      "+---+------+---+------+\n",
      "only showing top 10 rows\n",
      "\n"
     ]
    },
    {
     "data": {
      "text/plain": [
       "conf: org.apache.spark.SparkConf = org.apache.spark.SparkConf@7d8d81c8\n",
       "spark2: org.apache.spark.sql.SparkSession = org.apache.spark.sql.SparkSession@66e370cb\n",
       "num_records: Int = 1000\n",
       "rand: util.Random.type = scala.util.Random$@3f8e0951\n",
       "schema: org.apache.spark.sql.types.StructType = StructType(StructField(id,IntegerType,false), StructField(name,StringType,false), StructField(age,IntegerType,false), StructField(salary,IntegerType,false))\n",
       "inputDF: org.apache.spark.sql.DataFrame = [id: int, name: string ... 2 more fields]\n"
      ]
     },
     "execution_count": 4,
     "metadata": {},
     "output_type": "execute_result"
    }
   ],
   "source": [
    "//Create test data\n",
    "val conf = sc.getConf.clone();\n",
    "\n",
    "conf.set(\"aerospike.seedhost\" , AS_HOST)\n",
    "conf.set(\"aerospike.namespace\", \"test\")\n",
    "spark.close()\n",
    "val spark2= SparkSession.builder().config(conf).master(\"local[2]\").getOrCreate()\n",
    "\n",
    "val num_records=1000\n",
    "val rand = scala.util.Random\n",
    "\n",
    "\n",
    "val schema: StructType = new StructType(\n",
    "    Array(\n",
    "    StructField(\"id\", IntegerType, nullable = false),\n",
    "    StructField(\"name\", StringType, nullable = false),\n",
    "    StructField(\"age\", IntegerType, nullable = false),\n",
    "    StructField(\"salary\",IntegerType, nullable = false)\n",
    "  ))\n",
    "\n",
    "val inputDF = {\n",
    "    val inputBuf=  new ArrayBuffer[Row]()\n",
    "    for ( i <- 1 to num_records){\n",
    "        val name = \"name\"  + i\n",
    "        val age = i%100\n",
    "        val salary = 50000 + rand.nextInt(50000)\n",
    "        val id = i \n",
    "        val r = Row(id, name, age,salary)\n",
    "        inputBuf.append(r)\n",
    "    }\n",
    "    val inputRDD = spark2.sparkContext.parallelize(inputBuf.toSeq)\n",
    "    spark2.createDataFrame(inputRDD,schema)\n",
    "}\n",
    "\n",
    "inputDF.show(10)\n",
    "\n",
    "//Write the Sample Data to Aerospike\n",
    "inputDF.write.mode(SaveMode.Overwrite) \n",
    ".format(\"aerospike\") //aerospike specific format\n",
    ".option(\"aerospike.writeset\", \"scala_input_data\") //write to this set\n",
    ".option(\"aerospike.updateByKey\", \"id\") //indicates which columns should be used for construction of primary key\n",
    ".option(\"aerospike.sendKey\", \"true\")\n",
    ".save()"
   ]
  },
  {
   "cell_type": "markdown",
   "metadata": {},
   "source": [
    "### Using Spark SQL syntax"
   ]
  },
  {
   "cell_type": "code",
   "execution_count": 5,
   "metadata": {},
   "outputs": [
    {
     "name": "stdout",
     "output_type": "stream",
     "text": [
      "+---+-------+---+------+\n",
      "| id|   name|age|salary|\n",
      "+---+-------+---+------+\n",
      "|132|name132| 32| 94993|\n",
      "|647|name647| 47| 65819|\n",
      "| 45| name45| 45| 69453|\n",
      "|558|name558| 58| 90792|\n",
      "|608|name608|  8| 70999|\n",
      "|687|name687| 87| 88312|\n",
      "|335|name335| 35| 62312|\n",
      "|372|name372| 72| 88944|\n",
      "| 94| name94| 94| 71473|\n",
      "|890|name890| 90| 73927|\n",
      "|334|name334| 34| 59027|\n",
      "|911|name911| 11| 64513|\n",
      "|352|name352| 52| 90479|\n",
      "|907|name907|  7| 54111|\n",
      "|148|name148| 48| 58722|\n",
      "|315|name315| 15| 51807|\n",
      "|163|name163| 63| 89747|\n",
      "|882|name882| 82| 66781|\n",
      "|426|name426| 26| 83889|\n",
      "|602|name602|  2| 52264|\n",
      "+---+-------+---+------+\n",
      "only showing top 20 rows\n",
      "\n"
     ]
    },
    {
     "data": {
      "text/plain": [
       "insertDFWithSchema: org.apache.spark.sql.DataFrame = [id: int, name: string ... 2 more fields]\n",
       "sqlView: String = inserttable\n"
      ]
     },
     "execution_count": 5,
     "metadata": {},
     "output_type": "execute_result"
    }
   ],
   "source": [
    "/*\n",
    "Aerospike DB needs a Primary key for record insertion. Hence, you must identify the primary key column \n",
    "using for example .option(“aerospike.updateByKey”, “id”), where “id” is the name of the column that you’d \n",
    "like to be the Primary key, while loading data from the DB.\n",
    "*/\n",
    "val insertDFWithSchema=spark2\n",
    ".sqlContext\n",
    ".read\n",
    ".format(\"aerospike\")\n",
    ".schema(schema)\n",
    ".option(\"aerospike.set\", \"scala_input_data\")\n",
    ".load()\n",
    "\n",
    "val sqlView=\"inserttable\"\n",
    "insertDFWithSchema.createOrReplaceTempView(sqlView)\n",
    "//\n",
    "//V2 datasource doesn't allow insert into a view. \n",
    "//\n",
    "\n",
    "spark2.sql(s\"select * from $sqlView\").show()"
   ]
  },
  {
   "cell_type": "markdown",
   "metadata": {},
   "source": [
    "## Load data into a DataFrame without specifying any schema i.e. using connector schema inference"
   ]
  },
  {
   "cell_type": "code",
   "execution_count": 6,
   "metadata": {},
   "outputs": [
    {
     "name": "stdout",
     "output_type": "stream",
     "text": [
      "root\n",
      " |-- __key: string (nullable = true)\n",
      " |-- __digest: binary (nullable = true)\n",
      " |-- __expiry: integer (nullable = false)\n",
      " |-- __generation: integer (nullable = false)\n",
      " |-- __ttl: integer (nullable = false)\n",
      " |-- age: long (nullable = true)\n",
      " |-- name: string (nullable = true)\n",
      " |-- salary: long (nullable = true)\n",
      " |-- id: long (nullable = true)\n",
      "\n"
     ]
    },
    {
     "data": {
      "text/plain": [
       "loadedDFWithoutSchema: org.apache.spark.sql.DataFrame = [__key: string, __digest: binary ... 7 more fields]\n"
      ]
     },
     "execution_count": 6,
     "metadata": {},
     "output_type": "execute_result"
    }
   ],
   "source": [
    "// Create a Spark DataFrame by using the Connector Schema inference mechanism\n",
    "\n",
    "val loadedDFWithoutSchema=spark2\n",
    ".sqlContext\n",
    ".read\n",
    ".format(\"aerospike\")\n",
    ".option(\"aerospike.set\", \"scala_input_data\") //read the data from this set\n",
    ".load\n",
    "loadedDFWithoutSchema.printSchema()\n",
    "//Notice that schema of loaded data has some additional fields. \n",
    "// When connector infers schema, it also adds internal metadata."
   ]
  },
  {
   "cell_type": "markdown",
   "metadata": {},
   "source": [
    "## Load data into a DataFrame with user specified schema "
   ]
  },
  {
   "cell_type": "code",
   "execution_count": 7,
   "metadata": {},
   "outputs": [
    {
     "name": "stdout",
     "output_type": "stream",
     "text": [
      "+---+-------+---+------+\n",
      "| id|   name|age|salary|\n",
      "+---+-------+---+------+\n",
      "|132|name132| 32| 94993|\n",
      "|647|name647| 47| 65819|\n",
      "|608|name608|  8| 70999|\n",
      "|687|name687| 87| 88312|\n",
      "|372|name372| 72| 88944|\n",
      "+---+-------+---+------+\n",
      "only showing top 5 rows\n",
      "\n"
     ]
    },
    {
     "data": {
      "text/plain": [
       "loadedDFWithSchema: org.apache.spark.sql.DataFrame = [id: int, name: string ... 2 more fields]\n"
      ]
     },
     "execution_count": 7,
     "metadata": {},
     "output_type": "execute_result"
    }
   ],
   "source": [
    "//Data can be loaded with known schema as well.\n",
    "val loadedDFWithSchema=spark2\n",
    ".sqlContext\n",
    ".read\n",
    ".format(\"aerospike\")\n",
    ".schema(schema)\n",
    ".option(\"aerospike.set\", \"scala_input_data\").load\n",
    "loadedDFWithSchema.show(5)"
   ]
  },
  {
   "cell_type": "markdown",
   "metadata": {},
   "source": [
    "## Writing Sample Collection Data Types (CDT) data into Aerospike"
   ]
  },
  {
   "cell_type": "code",
   "execution_count": 8,
   "metadata": {},
   "outputs": [
    {
     "name": "stdout",
     "output_type": "stream",
     "text": [
      "root\n",
      " |-- name: struct (nullable = true)\n",
      " |    |-- first_name: string (nullable = true)\n",
      " |    |-- aliases: array (nullable = true)\n",
      " |    |    |-- element: struct (containsNull = true)\n",
      " |    |    |    |-- first_name: string (nullable = true)\n",
      " |    |    |    |-- last_name: string (nullable = true)\n",
      " |-- SSN: string (nullable = true)\n",
      " |-- home_address: array (nullable = true)\n",
      " |    |-- element: struct (containsNull = true)\n",
      " |    |    |-- zip: long (nullable = true)\n",
      " |    |    |-- street: struct (nullable = true)\n",
      " |    |    |    |-- street_name: string (nullable = true)\n",
      " |    |    |    |-- apt_number: integer (nullable = true)\n",
      " |    |    |-- city: string (nullable = true)\n",
      " |-- work_history: array (nullable = true)\n",
      " |    |-- element: struct (containsNull = true)\n",
      " |    |    |-- company_name: string (nullable = true)\n",
      " |    |    |-- company_address: struct (nullable = true)\n",
      " |    |    |    |-- zip: long (nullable = true)\n",
      " |    |    |    |-- street: struct (nullable = true)\n",
      " |    |    |    |    |-- street_name: string (nullable = true)\n",
      " |    |    |    |    |-- apt_number: integer (nullable = true)\n",
      " |    |    |    |-- city: string (nullable = true)\n",
      " |    |    |-- worked_from: string (nullable = true)\n",
      "\n"
     ]
    },
    {
     "data": {
      "text/plain": [
       "complex_data_json: String = resources/nested_data.json\n",
       "alias: org.apache.spark.sql.types.StructType = StructType(StructField(first_name,StringType,false), StructField(last_name,StringType,false))\n",
       "name: org.apache.spark.sql.types.StructType = StructType(StructField(first_name,StringType,false), StructField(aliases,ArrayType(StructType(StructField(first_name,StringType,false), StructField(last_name,StringType,false)),true),false))\n",
       "street_adress: org.apache.spark.sql.types.StructType = StructType(StructField(street_name,StringType,false), StructField(apt_number,IntegerType,false))\n",
       "address: org.apache.spark.sql.types.StructType = StructType(StructField(zip,LongType,false), StructField(street,StructType(StructField(street_name,StringType,false), StructField(apt_number,IntegerType,false)),fal...\n"
      ]
     },
     "execution_count": 8,
     "metadata": {},
     "output_type": "execute_result"
    }
   ],
   "source": [
    "val complex_data_json=\"resources/nested_data.json\"\n",
    "val alias=  StructType(List(\n",
    "    StructField(\"first_name\",StringType, false),\n",
    "    StructField(\"last_name\",StringType, false)))\n",
    "\n",
    "  val name= StructType(List(\n",
    "    StructField(\"first_name\",StringType, false),\n",
    "    StructField(\"aliases\",ArrayType(alias), false )\n",
    "  ))\n",
    "\n",
    "  val street_adress= StructType(List(\n",
    "    StructField(\"street_name\", StringType, false),\n",
    "    StructField(\"apt_number\" , IntegerType, false)))\n",
    "\n",
    "  val address = StructType( List(\n",
    "    StructField (\"zip\" , LongType, false),\n",
    "    StructField(\"street\", street_adress, false),\n",
    "    StructField(\"city\", StringType, false)))\n",
    "\n",
    "  val workHistory = StructType(List(\n",
    "    StructField (\"company_name\" , StringType, false),\n",
    "    StructField( \"company_address\" , address, false),\n",
    "    StructField(\"worked_from\", StringType, false)))\n",
    "\n",
    "  val person=  StructType ( List(\n",
    "    StructField(\"name\" , name, false, Metadata.empty),\n",
    "    StructField(\"SSN\", StringType, false,Metadata.empty),\n",
    "    StructField(\"home_address\", ArrayType(address), false),\n",
    "    StructField(\"work_history\", ArrayType(workHistory), false)))\n",
    "\n",
    "val cmplx_data_with_schema=spark2.read.schema(person).json(complex_data_json)\n",
    "\n",
    "cmplx_data_with_schema.printSchema()\n",
    "cmplx_data_with_schema.write.mode(SaveMode.Overwrite) \n",
    ".format(\"aerospike\") //aerospike specific format\n",
    ".option(\"aerospike.seedhost\", AS_HOST) //db hostname, can be added multiple hosts, delimited with \":\"\n",
    ".option(\"aerospike.namespace\", \"test\") //use this namespace \n",
    ".option(\"aerospike.writeset\", \"scala_complex_input_data\") //write to this set\n",
    ".option(\"aerospike.updateByKey\", \"SSN\") //indicates which columns should be used for construction of primary key\n",
    ".save()"
   ]
  },
  {
   "cell_type": "markdown",
   "metadata": {},
   "source": [
    "## Load Complex Data Types (CDT) into a DataFrame with user specified schema"
   ]
  },
  {
   "cell_type": "code",
   "execution_count": 9,
   "metadata": {},
   "outputs": [
    {
     "name": "stdout",
     "output_type": "stream",
     "text": [
      "+--------------------+-----------+--------------------+--------------------+\n",
      "|                name|        SSN|        home_address|        work_history|\n",
      "+--------------------+-----------+--------------------+--------------------+\n",
      "|[Adrian, [[Angel,...|116-62-5644|[[93231, [Anderso...|[[Giles-Thomas, [...|\n",
      "|[Raymond, [[Lisa,...|731-02-0039|[[95337, [Michael...|[[Taylor-Swanson,...|\n",
      "+--------------------+-----------+--------------------+--------------------+\n",
      "only showing top 2 rows\n",
      "\n",
      "root\n",
      " |-- name: struct (nullable = false)\n",
      " |    |-- first_name: string (nullable = false)\n",
      " |    |-- aliases: array (nullable = false)\n",
      " |    |    |-- element: struct (containsNull = true)\n",
      " |    |    |    |-- first_name: string (nullable = false)\n",
      " |    |    |    |-- last_name: string (nullable = false)\n",
      " |-- SSN: string (nullable = false)\n",
      " |-- home_address: array (nullable = false)\n",
      " |    |-- element: struct (containsNull = true)\n",
      " |    |    |-- zip: long (nullable = false)\n",
      " |    |    |-- street: struct (nullable = false)\n",
      " |    |    |    |-- street_name: string (nullable = false)\n",
      " |    |    |    |-- apt_number: integer (nullable = false)\n",
      " |    |    |-- city: string (nullable = false)\n",
      " |-- work_history: array (nullable = false)\n",
      " |    |-- element: struct (containsNull = true)\n",
      " |    |    |-- company_name: string (nullable = false)\n",
      " |    |    |-- company_address: struct (nullable = false)\n",
      " |    |    |    |-- zip: long (nullable = false)\n",
      " |    |    |    |-- street: struct (nullable = false)\n",
      " |    |    |    |    |-- street_name: string (nullable = false)\n",
      " |    |    |    |    |-- apt_number: integer (nullable = false)\n",
      " |    |    |    |-- city: string (nullable = false)\n",
      " |    |    |-- worked_from: string (nullable = false)\n",
      "\n"
     ]
    },
    {
     "data": {
      "text/plain": [
       "loadedComplexDFWithSchema: org.apache.spark.sql.DataFrame = [name: struct<first_name: string, aliases: array<struct<first_name:string,last_name:string>>>, SSN: string ... 2 more fields]\n",
       "res5: loadedComplexDFWithSchema.type = [name: struct<first_name: string, aliases: array<struct<first_name:string,last_name:string>>>, SSN: string ... 2 more fields]\n"
      ]
     },
     "execution_count": 9,
     "metadata": {},
     "output_type": "execute_result"
    }
   ],
   "source": [
    "val loadedComplexDFWithSchema=spark2\n",
    ".sqlContext\n",
    ".read\n",
    ".format(\"aerospike\")\n",
    ".option(\"aerospike.set\", \"scala_complex_input_data\") //read the data from this set\n",
    ".schema(person)\n",
    ".load\n",
    "\n",
    "loadedComplexDFWithSchema.show(2)\n",
    "loadedComplexDFWithSchema.printSchema()\n",
    "loadedComplexDFWithSchema.cache()\n",
    "//Please note the difference in types of loaded data in both cases. With schema, we extactly infer complex types."
   ]
  },
  {
   "cell_type": "markdown",
   "metadata": {},
   "source": [
    "# Quering Aerospike Data using SparkSQL\n",
    "\n",
    "### Things to keep in mind\n",
    "   1. Queries that involve Primary Key or Digest in the predicate trigger aerospike_batch_get()( https://www.aerospike.com/docs/client/c/usage/kvs/batch.html) and run extremely fast. For e.g. a query containing `__key` or `__digest` with, with no `OR` between two bins.\n",
    "   2. All other queries may entail a full scan of the Aerospike DB if they can’t be converted to Aerospike batchget. "
   ]
  },
  {
   "cell_type": "markdown",
   "metadata": {},
   "source": [
    "## Queries that include Primary Key in the Predicate\n",
    "\n",
    "In case of batchget queries we can also apply filters upon metadata columns like `__gen` or `__ttl` etc. To do so, these columns should be exposed through schema (if schema provided). "
   ]
  },
  {
   "cell_type": "code",
   "execution_count": 10,
   "metadata": {},
   "outputs": [
    {
     "name": "stdout",
     "output_type": "stream",
     "text": [
      "+-----+--------------------+---------+------------+------+---+-------+------+---+\n",
      "|__key|            __digest| __expiry|__generation| __ttl|age|   name|salary| id|\n",
      "+-----+--------------------+---------+------------+------+---+-------+------+---+\n",
      "|  829|[C0 B6 C4 DE 68 D...|373232668|           7|863996| 29|name829| 52040|829|\n",
      "+-----+--------------------+---------+------------+------+---+-------+------+---+\n",
      "\n"
     ]
    },
    {
     "data": {
      "text/plain": [
       "batchGet1: org.apache.spark.sql.Dataset[org.apache.spark.sql.Row] = [__key: int, __digest: binary ... 7 more fields]\n"
      ]
     },
     "execution_count": 10,
     "metadata": {},
     "output_type": "execute_result"
    }
   ],
   "source": [
    "val batchGet1= spark2.sqlContext\n",
    ".read\n",
    ".format(\"aerospike\")\n",
    ".option(\"aerospike.set\", \"scala_input_data\")\n",
    ".option(\"aerospike.keyType\", \"int\") //used to hint primary key(PK) type when schema is not provided.\n",
    ".load.where(\"__key = 829\")\n",
    "batchGet1.show()\n",
    "//Please be aware Aerospike database supports only equality test with PKs in primary key query. \n",
    "//So, a where clause with \"__key >10\", would result in scan query!"
   ]
  },
  {
   "cell_type": "code",
   "execution_count": 11,
   "metadata": {},
   "outputs": [
    {
     "name": "stdout",
     "output_type": "stream",
     "text": [
      "+-----+--------------------+---------+------------+------+---+------+------+---+\n",
      "|__key|            __digest| __expiry|__generation| __ttl|age|  name|salary| id|\n",
      "+-----+--------------------+---------+------------+------+---+------+------+---+\n",
      "|    1|[89 31 AB FE 54 D...|373232667|           7|863995|  1| name1| 85780|  1|\n",
      "|    4|[93 F1 65 F0 E8 9...|373232667|           7|863995|  4| name4| 82932|  4|\n",
      "|    3|[D4 A1 0B A5 12 0...|373232667|           7|863995|  3| name3| 73747|  3|\n",
      "|    7|[30 94 D4 E7 9E 8...|373232667|           7|863995|  7| name7| 77750|  7|\n",
      "|    5|[3E F5 94 A9 3A A...|373232667|           7|863995|  5| name5| 81313|  5|\n",
      "|   14|[06 66 ED 38 08 F...|373232667|           7|863995| 14|name14| 62020| 14|\n",
      "|   13|[EA 78 AB 39 FC C...|373232667|           7|863994| 13|name13| 68518| 13|\n",
      "|    2|[41 DB A8 23 03 4...|373232667|           7|863994|  2| name2| 71636|  2|\n",
      "|    8|[60 AB E7 17 C8 5...|373232667|           7|863994|  8| name8| 81108|  8|\n",
      "|    9|[1B 6D CD D8 D2 5...|373232667|           7|863994|  9| name9| 85952|  9|\n",
      "|    6|[C2 4D 37 CC 2B 2...|373232667|           7|863994|  6| name6| 64316|  6|\n",
      "|   12|[F8 4E EC 27 8F 1...|373232667|           7|863994| 12|name12| 50610| 12|\n",
      "|   10|[8D 0F 84 CD B0 7...|373232667|           7|863994| 10|name10| 64510| 10|\n",
      "+-----+--------------------+---------+------------+------+---+------+------+---+\n",
      "\n"
     ]
    },
    {
     "data": {
      "text/plain": [
       "somePrimaryKeys: scala.collection.immutable.Range = Range 1 to 10\n",
       "someMoreKeys: scala.collection.immutable.Range = Range 12 to 14\n",
       "batchGet2: org.apache.spark.sql.Dataset[org.apache.spark.sql.Row] = [__key: int, __digest: binary ... 7 more fields]\n"
      ]
     },
     "execution_count": 11,
     "metadata": {},
     "output_type": "execute_result"
    }
   ],
   "source": [
    "//In this query we are doing *OR* between PK subqueries \n",
    "\n",
    "val somePrimaryKeys= 1.to(10).toSeq\n",
    "val someMoreKeys= 12.to(14).toSeq\n",
    "val batchGet2= spark2.sqlContext\n",
    ".read\n",
    ".format(\"aerospike\")\n",
    ".option(\"aerospike.set\", \"scala_input_data\")\n",
    ".option(\"aerospike.keyType\", \"int\") //used to hint primary key(PK) type when inferred without schema.\n",
    ".load.where((col(\"__key\") isin (somePrimaryKeys:_*)) || ( col(\"__key\") isin (someMoreKeys:_*) ))\n",
    "batchGet2.show(15)\n",
    "//We should got in total 13 records."
   ]
  },
  {
   "cell_type": "markdown",
   "metadata": {},
   "source": [
    "## Queries that do not include Primary Key in the Predicate"
   ]
  },
  {
   "cell_type": "code",
   "execution_count": 12,
   "metadata": {},
   "outputs": [
    {
     "name": "stdout",
     "output_type": "stream",
     "text": [
      "+-----+--------------------+---------+------------+------+---+-------+------+---+\n",
      "|__key|            __digest| __expiry|__generation| __ttl|age|   name|salary| id|\n",
      "+-----+--------------------+---------+------------+------+---+-------+------+---+\n",
      "|  558|[14 80 A2 9D D2 E...|373232667|           7|863994| 58|name558| 90792|558|\n",
      "|  687|[1A 30 21 88 39 A...|373232667|           7|863994| 87|name687| 88312|687|\n",
      "|  372|[1B 40 51 DD 64 F...|373232668|           7|863995| 72|name372| 88944|372|\n",
      "|  352|[23 A0 99 06 1F 7...|373232668|           7|863995| 52|name352| 90479|352|\n",
      "|   94|[26 E0 C4 85 CE 9...|373232667|           7|863994| 94| name94| 71473| 94|\n",
      "|  890|[26 30 F7 1A D3 A...|373232668|           7|863995| 90|name890| 73927|890|\n",
      "|  163|[3E D0 72 42 15 9...|373232667|           7|863994| 63|name163| 89747|163|\n",
      "|  882|[3E C0 28 CE F2 5...|373232668|           7|863995| 82|name882| 66781|882|\n",
      "|  673|[45 10 C1 D6 80 3...|373232667|           7|863994| 73|name673| 62097|673|\n",
      "|  991|[47 A0 D4 EC 12 1...|373232668|           7|863995| 91|name991| 72096|991|\n",
      "|  293|[48 40 20 B0 E6 D...|373232668|           7|863995| 93|name293| 56381|293|\n",
      "|  679|[57 80 24 4F 1D 3...|373232667|           7|863994| 79|name679| 78991|679|\n",
      "|  153|[5D E0 05 75 BF 3...|373232667|           7|863994| 53|name153| 79984|153|\n",
      "|  485|[6B 80 7E E1 A4 5...|373232668|           7|863995| 85|name485| 93192|485|\n",
      "|  997|[72 10 81 9D E2 E...|373232668|           7|863995| 97|name997| 88342|997|\n",
      "|  482|[85 B0 B1 3F 49 A...|373232668|           7|863995| 82|name482| 69004|482|\n",
      "|  166|[8A 00 3E 64 19 D...|373232667|           7|863994| 66|name166| 74354|166|\n",
      "|  590|[8C 20 A4 28 BE 7...|373232667|           7|863994| 90|name590| 96189|590|\n",
      "|  689|[9B 00 70 22 F0 8...|373232667|           7|863994| 89|name689| 81242|689|\n",
      "|  895|[9D A0 9D 91 AE 8...|373232668|           7|863995| 95|name895| 59968|895|\n",
      "+-----+--------------------+---------+------------+------+---+-------+------+---+\n",
      "only showing top 20 rows\n",
      "\n"
     ]
    },
    {
     "data": {
      "text/plain": [
       "somePrimaryKeys: scala.collection.immutable.Range = Range 1 to 10\n",
       "scanQuery1: org.apache.spark.sql.Dataset[org.apache.spark.sql.Row] = [__key: int, __digest: binary ... 7 more fields]\n"
      ]
     },
     "execution_count": 12,
     "metadata": {},
     "output_type": "execute_result"
    }
   ],
   "source": [
    "\n",
    "val somePrimaryKeys= 1.to(10).toSeq\n",
    "val scanQuery1= spark2.sqlContext\n",
    ".read\n",
    ".format(\"aerospike\")\n",
    ".option(\"aerospike.set\", \"scala_input_data\")\n",
    ".option(\"aerospike.keyType\", \"int\") //used to hint primary key(PK) type when inferred without schema.\n",
    ".load.where((col(\"__key\") isin (somePrimaryKeys:_*)) || ( col(\"age\") >50 ))\n",
    "\n",
    "scanQuery1.show()\n",
    "\n",
    "//Since there is OR between PKs and Bin. It will be treated as Scan query. \n",
    "//Primary keys are not stored in bins(by default), hence only filters corresponding to bins are honored.  "
   ]
  },
  {
   "cell_type": "markdown",
   "metadata": {},
   "source": [
    "## Sampling from Aerospike DB\n",
    "\n",
    "- Sample specified number of records from Aerospike to considerably reduce data movement between Aerospike and the Spark clusters. Depending on the aerospike.partition.factor setting, you may get more records than desired. Please use this property in conjunction with Spark `limit()` function to get the specified number of records. The sample read is not randomized, so sample more than you need and use the Spark `sample()` function to randomize if you see fit. You can use it in conjunction with `aerospike.recordspersecond` to control the load on the Aerospike server while sampling.\n",
    "\n",
    "- For more information, please see [documentation](https://docs.aerospike.com/docs/connect/processing/spark/configuration.html) page.\n"
   ]
  },
  {
   "cell_type": "code",
   "execution_count": 13,
   "metadata": {},
   "outputs": [
    {
     "data": {
      "text/plain": [
       "setname: String = scala_input_data\n",
       "sample_size: Int = 101\n",
       "df3: org.apache.spark.sql.DataFrame = [__key: string, __digest: binary ... 7 more fields]\n",
       "df4: org.apache.spark.sql.DataFrame = [__key: string, __digest: binary ... 7 more fields]\n",
       "count3: Long = 104\n",
       "count4: Long = 128\n",
       "dfWithLimit: org.apache.spark.sql.Dataset[org.apache.spark.sql.Row] = [__key: string, __digest: binary ... 7 more fields]\n",
       "limitCount: Long = 101\n"
      ]
     },
     "execution_count": 13,
     "metadata": {},
     "output_type": "execute_result"
    }
   ],
   "source": [
    "//number_of_spark_partitions (num_sp)=2^{aerospike.partition.factor}\n",
    "//total number of records = Math.ceil((float)aerospike.sample.size/num_sp) * (num_sp) \n",
    "//use lower partition factor for more accurate sampling\n",
    "val setname=\"scala_input_data\"\n",
    "val sample_size=101\n",
    "\n",
    "val df3=spark2.read.format(\"aerospike\")\n",
    ".option(\"aerospike.partition.factor\",\"2\")\n",
    ".option(\"aerospike.set\",setname)\n",
    ".option(\"aerospike.sample.size\",\"101\") //allows to sample approximately spacific number of record.  \n",
    ".load()\n",
    "\n",
    "val df4=spark2.read.format(\"aerospike\")\n",
    ".option(\"aerospike.partition.factor\",\"6\")\n",
    ".option(\"aerospike.set\",setname)\n",
    ".option(\"aerospike.sample.size\",\"101\") //allows to sample approximately spacific number of record.  \n",
    ".load()\n",
    "\n",
    "//Notice that more records were read than requested due to the underlying partitioning logic related to the partition factor as described earlier, hence we use Spark limit() function additionally to return the desired number of records.\n",
    "val count3=df3.count()\n",
    "val count4=df4.count()\n",
    "\n",
    "\n",
    "//Note how limit got only 101 record from df4 which have 128 records.\n",
    "val dfWithLimit=df4.limit(101)\n",
    "val limitCount=dfWithLimit.count()"
   ]
  },
  {
   "cell_type": "markdown",
   "metadata": {},
   "source": [
    "## Pushdown [Aerospike Expressions](https://docs.aerospike.com/docs/guide/expressions/) from within a Spark API.\n",
    "\n",
    "   - Make sure that you do not use no the WHERE clause or spark filters while querying\n",
    "   - See [Aerospike Expressions](https://docs.aerospike.com/docs/guide/expressions/) for more information on how to construct expressions.\n",
    "   - Contstructed expressions must be converted to Base64 before using them in the Spark API\n",
    "   - Arbitrary expression can be dynamically cosntructed with unshaded connector jar.\n"
   ]
  },
  {
   "cell_type": "code",
   "execution_count": 14,
   "metadata": {},
   "outputs": [
    {
     "data": {
      "text/plain": [
       "pushdownset: String = scala_input_data\n",
       "import com.aerospike.spark.utility.AerospikePushdownExpressions\n",
       "expMODIntBinToBase64: String = kwGTGpNRAqJpZAUA\n",
       "pushDownDF: org.apache.spark.sql.DataFrame = [id: int, name: string ... 2 more fields]\n",
       "res9: Long = 200\n"
      ]
     },
     "execution_count": 14,
     "metadata": {},
     "output_type": "execute_result"
    }
   ],
   "source": [
    "val pushdownset=\"scala_input_data\" // we are using this set created above\n",
    "\n",
    "import com.aerospike.spark.utility.AerospikePushdownExpressions\n",
    "\n",
    "//We can construct dynamix expression only when library is unshaded.\n",
    "// id % 5 == 0\n",
    "// Equvalent Exp: Exp.eq(Exp.mod(Exp.intBin(\"a\"), Exp.`val`(5)), Exp.`val`(0))\n",
    "// These can be only done with unshaded connector\n",
    "// val expIntBin=AerospikePushdownExpressions.intBin(\"id\") // id is the name of column\n",
    "// val expMODIntBinEqualToZero=AerospikePushdownExpressions.eq(\n",
    "//     AerospikePushdownExpressions.mod(expIntBin, AerospikePushdownExpressions.`val`(5)),\n",
    "//     AerospikePushdownExpressions.`val`(0))\n",
    "// val expMODIntBinToBase64= AerospikePushdownExpressions.build(expMODIntBinEqualToZero).getBase64\n",
    "// convert to base64 Expression object\n",
    "\n",
    "\n",
    "val expMODIntBinToBase64= \"kwGTGpNRAqJpZAUA\"\n",
    "\n",
    "val pushDownDF =spark2.sqlContext\n",
    "        .read\n",
    "        .format(\"aerospike\")\n",
    "        .schema(schema)\n",
    "        .option(\"aerospike.set\", pushdownset)\n",
    "        .option(\"aerospike.pushdown.expressions\", expMODIntBinToBase64)\n",
    "        .load()\n",
    "\n",
    "pushDownDF.count() //note this should return 200, becuase there are 200 records whose id bin is divisible be 5"
   ]
  },
  {
   "cell_type": "markdown",
   "metadata": {},
   "source": [
    "## aerolookup\n",
    " aerolookup allows you to look up records corresponding to a set of keys stored in a Spark DF, streaming or otherwise. It supports:\n",
    " \n",
    "  - [Aerospike CDT](https://docs.aerospike.com/docs/guide/cdt.htmlarbitrary)\n",
    "  - Quota and retry (these configurations are extracted from sparkconf) \n",
    "  - [Flexible schema](https://docs.aerospike.com/docs/connect/processing/spark/configuration.html#flexible-schemas). To enable, set `aerospike.schema.flexible` to true in the SparkConf object.\n",
    "  - Aerospike Expressions Pushdown (Note: This must be specified through SparkConf object.)\n"
   ]
  },
  {
   "cell_type": "code",
   "execution_count": 15,
   "metadata": {},
   "outputs": [
    {
     "name": "stdout",
     "output_type": "stream",
     "text": [
      "+--------------------+-----------+--------------------+\n",
      "|                name|        SSN|        home_address|\n",
      "+--------------------+-----------+--------------------+\n",
      "|[Gary, [[Cameron,...|825-55-3247|[[66428, [Kim Mil...|\n",
      "|[Megan, [[Robert,...|289-18-1554|[[81551, [Archer ...|\n",
      "|[Melanie, [[Justi...|756-46-4088|[[61327, [Jeanett...|\n",
      "|[Lisa, [[William,...|525-31-0299|[[98337, [Brittne...|\n",
      "|[Ryan, [[Jonathon...|456-45-2200|[[97077, [Davis D...|\n",
      "|[Lauren, [[Shaun,...|200-71-7765|[[6813, [Johnson ...|\n",
      "+--------------------+-----------+--------------------+\n",
      "\n"
     ]
    },
    {
     "data": {
      "text/plain": [
       "outputSchema: org.apache.spark.sql.types.StructType = StructType(StructField(name,StructType(StructField(first_name,StringType,false), StructField(aliases,ArrayType(StructType(StructField(first_name,StringType,false), StructField(last_name,StringType,false)),true),false)),false), StructField(SSN,StringType,false), StructField(home_address,ArrayType(StructType(StructField(zip,LongType,false), StructField(street,StructType(StructField(street_name,StringType,false), StructField(apt_number,IntegerType,false)),false), StructField(city,StringType,false)),true),false))\n",
       "import spark2.implicits._\n",
       "ssns: Seq[String] = List(825-55-3247, 289-18-1554, 756-46-4088, 525-31-0299, 456-45-2200, 200-71-7765)\n",
       "ssnDF: org.apache.spark.sql.DataFrame = [SSN: string]\n",
       "import com.aerospike.spark._\n",
       "outputDF: org.ap...\n"
      ]
     },
     "execution_count": 15,
     "metadata": {},
     "output_type": "execute_result"
    }
   ],
   "source": [
    "val outputSchema= StructType(\n",
    "    List(StructField(\"name\", name, false),\n",
    "         StructField(\"SSN\", StringType, false),\n",
    "         StructField(\"home_address\", ArrayType(address), false))\n",
    ")\n",
    "import spark2.implicits._\n",
    "//Create a set of PKs whose records you'd like to look up in the Aerospike database\n",
    "val ssns = Seq(\"825-55-3247\", \"289-18-1554\", \"756-46-4088\", \"525-31-0299\", \"456-45-2200\", \"200-71-7765\")\n",
    "val ssnDF = ssns.toDF(\"SSN\")\n",
    "\n",
    "import com.aerospike.spark._  // to import aerojoin functionality \n",
    "//scala_complex_input_data is the set in Aerospike database that you are using to look up the keys stored in ssnDF\n",
    "val outputDF=aerolookup(ssnDF,\"SSN\", \"scala_complex_input_data\",outputSchema, \"test\")\n",
    "outputDF.show(100)"
   ]
  }
 ],
 "metadata": {
  "kernelspec": {
   "display_name": "spylon-kernel",
   "language": "scala",
   "name": "spylon-kernel"
  },
  "language_info": {
   "codemirror_mode": "text/x-scala",
   "file_extension": ".scala",
   "help_links": [
    {
     "text": "MetaKernel Magics",
     "url": "https://metakernel.readthedocs.io/en/latest/source/README.html"
    }
   ],
   "mimetype": "text/x-scala",
   "name": "scala",
   "pygments_lexer": "scala",
   "version": "0.4.1"
  }
 },
 "nbformat": 4,
 "nbformat_minor": 2
}
