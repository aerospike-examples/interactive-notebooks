{
 "cells": [
  {
   "cell_type": "markdown",
   "source": [
    "# Simple Load and Store with Aerospike Data on Spark\n",
    "This notebook shows how to load data from and store processed data to Aerospike Database on Spark. The data transfer is enabled by the Aerospike Connector for Spark."
   ],
   "metadata": {}
  },
  {
   "cell_type": "markdown",
   "source": [
    "## Setup\n",
    "Execute the code cells in this section to set up Aerospike Server, Spark Server, and Spark Connector."
   ],
   "metadata": {}
  },
  {
   "cell_type": "markdown",
   "source": [
    "### Ensure Database Is Running\n",
    "This notebook requires that Aerospike Database is running."
   ],
   "metadata": {}
  },
  {
   "cell_type": "code",
   "execution_count": 1,
   "source": [
    "!asd >& /dev/null\n",
    "!pgrep -x asd >/dev/null && echo \"Aerospike database is running!\" || echo \"**Aerospike database is not running!**\""
   ],
   "outputs": [
    {
     "output_type": "stream",
     "name": "stdout",
     "text": [
      "Aerospike database is running!\r\n"
     ]
    }
   ],
   "metadata": {}
  },
  {
   "cell_type": "markdown",
   "source": [
    "### Initialize Spark\n",
    "We will be using Spark functionality in this notebook."
   ],
   "metadata": {}
  },
  {
   "cell_type": "markdown",
   "source": [
    "#### Initialize Paths and Env Variables"
   ],
   "metadata": {}
  },
  {
   "cell_type": "code",
   "execution_count": 2,
   "source": [
    "# directory where spark notebook requisites are installed\n",
    "SPARK_NB_DIR = '/opt/spark-nb'\n",
    "SPARK_DIR = 'spark-dir-link'\n",
    "SPARK_HOME = SPARK_NB_DIR + '/' + SPARK_DIR\n",
    "AEROSPIKE_JAR = 'aerospike-jar-link'\n",
    "AEROSPIKE_JAR_PATH = SPARK_NB_DIR + '/' + AEROSPIKE_JAR"
   ],
   "outputs": [],
   "metadata": {}
  },
  {
   "cell_type": "code",
   "execution_count": 3,
   "source": [
    "# IP Address or DNS name for one host in your Aerospike cluster\n",
    "AS_HOST =\"localhost\"\n",
    "# Name of one of your namespaces. Type 'show namespaces' at the aql prompt if you are not sure\n",
    "AS_NAMESPACE = \"test\" \n",
    "AS_PORT = 3000 # Usually 3000, but change here if not\n",
    "AS_CONNECTION_STRING = AS_HOST + \":\"+ str(AS_PORT)"
   ],
   "outputs": [],
   "metadata": {}
  },
  {
   "cell_type": "code",
   "execution_count": 4,
   "source": [
    "# Locate the Spark installation using the SPARK_HOME parameter.\n",
    "import findspark\n",
    "findspark.init(SPARK_HOME)"
   ],
   "outputs": [],
   "metadata": {}
  },
  {
   "cell_type": "code",
   "execution_count": 5,
   "source": [
    "# Specify the Aerospike Spark Connector jar in the command used to interact with Aerospike.\n",
    "import os \n",
    "os.environ[\"PYSPARK_SUBMIT_ARGS\"] = '--jars ' + AEROSPIKE_JAR_PATH + ' pyspark-shell'"
   ],
   "outputs": [],
   "metadata": {}
  },
  {
   "cell_type": "markdown",
   "source": [
    "#### Configure Spark Session\n",
    "Please visit [Configuring Aerospike Connect for Spark](https://docs.aerospike.com/docs/connect/processing/spark/configuration.html) for more information about the properties used on this page."
   ],
   "metadata": {}
  },
  {
   "cell_type": "code",
   "execution_count": 6,
   "source": [
    "# imports\n",
    "import pyspark\n",
    "from pyspark.context import SparkContext\n",
    "from pyspark.sql.context import SQLContext\n",
    "from pyspark.sql.session import SparkSession\n",
    "from pyspark.sql.types import StringType, StructField, StructType, ArrayType, IntegerType, MapType, LongType, DoubleType"
   ],
   "outputs": [],
   "metadata": {}
  },
  {
   "cell_type": "code",
   "execution_count": 7,
   "source": [
    "sc = SparkContext.getOrCreate()\n",
    "conf=sc._conf.setAll([(\"aerospike.namespace\",AS_NAMESPACE),(\"aerospike.seedhost\",AS_CONNECTION_STRING)])\n",
    "sc.stop()\n",
    "sc = pyspark.SparkContext(conf=conf)\n",
    "spark = SparkSession(sc)\n",
    "sqlContext = SQLContext(sc)"
   ],
   "outputs": [],
   "metadata": {}
  },
  {
   "cell_type": "markdown",
   "source": [
    "## Store Data into Aerospike\n",
    "We will first store simple generated data to Aerospike, and then show how to load data from Aerospike."
   ],
   "metadata": {}
  },
  {
   "cell_type": "markdown",
   "source": [
    "### Create Data\n",
    "We create simple age-salary data with a specified distribution and the following structure.\n",
    "- id: integer \n",
    "- name: string\n",
    "- age: integer\n",
    "- salary: integer"
   ],
   "metadata": {}
  },
  {
   "cell_type": "code",
   "execution_count": 8,
   "source": [
    "# We create age vs salary data, using three different Gaussian distributions\n",
    "import numpy as np\n",
    "import matplotlib.pyplot as plt\n",
    "import pandas as pd\n",
    "import math\n",
    "\n",
    "# Make sure we get the same results every time this workbook is run\n",
    "# Otherwise we are occasionally exposed to results not working out as expected\n",
    "np.random.seed(12345)\n",
    "\n",
    "# Create covariance matrix from std devs + correlation\n",
    "def covariance_matrix(std_dev_1,std_dev_2,correlation):\n",
    "    return [[std_dev_1 ** 2, correlation * std_dev_1 * std_dev_2], \n",
    "           [correlation * std_dev_1 * std_dev_2, std_dev_2 ** 2]]\n",
    "\n",
    "# Return a bivariate sample given means/std dev/correlation\n",
    "def age_salary_sample(distribution_params,sample_size):\n",
    "    mean = [distribution_params[\"age_mean\"], distribution_params[\"salary_mean\"]]\n",
    "    cov = covariance_matrix(distribution_params[\"age_std_dev\"],distribution_params[\"salary_std_dev\"],\n",
    "                            distribution_params[\"age_salary_correlation\"])\n",
    "    return np.random.multivariate_normal(mean, cov, sample_size).T\n",
    "\n",
    "# Define the characteristics of our age/salary distribution\n",
    "age_salary_distribution_1 = {\"age_mean\":25,\"salary_mean\":50000,\n",
    "                             \"age_std_dev\":1,\"salary_std_dev\":5000,\"age_salary_correlation\":0.3}\n",
    "\n",
    "age_salary_distribution_2 = {\"age_mean\":45,\"salary_mean\":80000,\n",
    "                             \"age_std_dev\":4,\"salary_std_dev\":8000,\"age_salary_correlation\":0.7}\n",
    "\n",
    "age_salary_distribution_3 = {\"age_mean\":35,\"salary_mean\":70000,\n",
    "                             \"age_std_dev\":2,\"salary_std_dev\":9000,\"age_salary_correlation\":0.1}\n",
    "\n",
    "distribution_data = [age_salary_distribution_1,age_salary_distribution_2,age_salary_distribution_3]\n",
    "\n",
    "# Sample age/salary data for each distributions\n",
    "sample_size_1 = 100;\n",
    "sample_size_2 = 120;\n",
    "sample_size_3 = 80;\n",
    "sample_sizes = [sample_size_1,sample_size_2,sample_size_3]\n",
    "group_1_ages,group_1_salaries = age_salary_sample(age_salary_distribution_1,sample_size=sample_size_1)\n",
    "group_2_ages,group_2_salaries = age_salary_sample(age_salary_distribution_2,sample_size=sample_size_2)\n",
    "group_3_ages,group_3_salaries = age_salary_sample(age_salary_distribution_3,sample_size=sample_size_3)\n",
    "\n",
    "ages=np.concatenate([group_1_ages,group_2_ages,group_3_ages])\n",
    "salaries=np.concatenate([group_1_salaries,group_2_salaries,group_3_salaries])\n",
    "\n",
    "print(\"Data created\")"
   ],
   "outputs": [
    {
     "output_type": "stream",
     "name": "stdout",
     "text": [
      "Data created\n"
     ]
    }
   ],
   "metadata": {}
  },
  {
   "cell_type": "markdown",
   "source": [
    "### Display Data"
   ],
   "metadata": {}
  },
  {
   "cell_type": "code",
   "execution_count": 9,
   "source": [
    "# Plot the sample data\n",
    "group_1_colour, group_2_colour, group_3_colour ='red','blue', 'pink'\n",
    "plt.xlabel('Age',fontsize=10)\n",
    "plt.ylabel(\"Salary\",fontsize=10) \n",
    "\n",
    "plt.scatter(group_1_ages,group_1_salaries,c=group_1_colour,label=\"Group 1\")\n",
    "plt.scatter(group_2_ages,group_2_salaries,c=group_2_colour,label=\"Group 2\")\n",
    "plt.scatter(group_3_ages,group_3_salaries,c=group_3_colour,label=\"Group 3\")\n",
    "\n",
    "plt.legend(loc='upper left')\n",
    "plt.show()"
   ],
   "outputs": [
    {
     "output_type": "display_data",
     "data": {
      "text/plain": [
       "<Figure size 432x288 with 1 Axes>"
      ],
      "image/png": "[encoded data removed]"
     },
     "metadata": {
      "needs_background": "light"
     }
    }
   ],
   "metadata": {}
  },
  {
   "cell_type": "markdown",
   "source": [
    "### Save Data\n",
    "We save the generated data in the set \"salary_data\" defined in `aerospike.set` parameter below and in the namespace \"test\" that was specified in the Spark context above as `aerospike.namespace`."
   ],
   "metadata": {}
  },
  {
   "cell_type": "code",
   "execution_count": 10,
   "source": [
    "# Turn the above records into a Data Frame\n",
    "# First of all, create an array of arrays\n",
    "inputBuf = []\n",
    "\n",
    "for  i in range(0, len(ages)) :\n",
    "     id = i + 1 # Avoid counting from zero\n",
    "     name = \"Individual: {:03d}\".format(id)\n",
    "     # Note we need to make sure values are typed correctly\n",
    "     # salary will have type numpy.float64 - if it is not cast as below, an error will be thrown\n",
    "     age = float(ages[i])\n",
    "     salary = int(salaries[i])\n",
    "     inputBuf.append((id, name,age,salary))\n",
    "\n",
    "# Convert to an RDD \n",
    "inputRDD = spark.sparkContext.parallelize(inputBuf)\n",
    "       \n",
    "# Convert to a data frame using a schema\n",
    "schema = StructType([\n",
    "    StructField(\"id\", IntegerType(), True),\n",
    "    StructField(\"name\", StringType(), True),\n",
    "    StructField(\"age\", DoubleType(), True),\n",
    "    StructField(\"salary\",IntegerType(), True)\n",
    "])\n",
    "\n",
    "inputDF=spark.createDataFrame(inputRDD,schema)\n",
    "\n",
    "#Write the data frame to Aerospike, the id field is used as the primary key\n",
    "inputDF \\\n",
    ".write \\\n",
    ".mode('overwrite') \\\n",
    ".format(\"aerospike\")  \\\n",
    ".option(\"aerospike.set\", \"salary_data\")\\\n",
    ".option(\"aerospike.updateByKey\", \"id\") \\\n",
    ".save()"
   ],
   "outputs": [],
   "metadata": {}
  },
  {
   "cell_type": "markdown",
   "source": [
    "### View Stored Data\n",
    "Use the Aerospike AQL utility to view the stored data."
   ],
   "metadata": {}
  },
  {
   "cell_type": "code",
   "execution_count": 11,
   "source": [
    "!aql -c \"select * from test.salary_data\""
   ],
   "outputs": [
    {
     "output_type": "stream",
     "name": "stdout",
     "text": [
      "select * from test.salary_data\n",
      "+-------------------+-----+-------------------+--------+\n",
      "| age               | id  | name              | salary |\n",
      "+-------------------+-----+-------------------+--------+\n",
      "| 25.08233874902072 | 10  | \"Individual: 010\" | 58345  |\n",
      "| 54.98712625322746 | 160 | \"Individual: 160\" | 97029  |\n",
      "| 45.18908097916793 | 120 | \"Individual: 120\" | 80007  |\n",
      "| 22.79485298523146 | 34  | \"Individual: 034\" | 49882  |\n",
      "| 31.29085325544791 | 243 | \"Individual: 243\" | 70754  |\n",
      "| 44.89546664470054 | 159 | \"Individual: 159\" | 82870  |\n",
      "| 24.94527795295446 | 13  | \"Individual: 013\" | 47114  |\n",
      "| 42.71790399344467 | 128 | \"Individual: 128\" | 83366  |\n",
      "| 25.27733154496998 | 56  | \"Individual: 056\" | 47356  |\n",
      "| 26.87692699227393 | 47  | \"Individual: 047\" | 49425  |\n",
      "| 22.91486461859545 | 66  | \"Individual: 066\" | 43879  |\n",
      "| 23.62771625204453 | 60  | \"Individual: 060\" | 53345  |\n",
      "| 33.77525922313378 | 271 | \"Individual: 271\" | 59730  |\n",
      "| 25.65434773386738 | 32  | \"Individual: 032\" | 50250  |\n",
      "| 42.46289000913426 | 209 | \"Individual: 209\" | 69066  |\n",
      "| 34.72684230210607 | 232 | \"Individual: 232\" | 74119  |\n",
      "| 24.10398532641521 | 52  | \"Individual: 052\" | 49836  |\n",
      "| 25.385411666593   | 70  | \"Individual: 070\" | 48493  |\n",
      "| 24.39423332104133 | 24  | \"Individual: 024\" | 51889  |\n",
      "| 24.52123876549696 | 28  | \"Individual: 028\" | 56635  |\n",
      "| 35.68815148712056 | 238 | \"Individual: 238\" | 65318  |\n",
      "| 34.96677276547636 | 244 | \"Individual: 244\" | 61334  |\n",
      "| 24.47428614857203 | 91  | \"Individual: 091\" | 47162  |\n",
      "| 36.24668002275217 | 257 | \"Individual: 257\" | 80994  |\n",
      "| 24.90196021709543 | 74  | \"Individual: 074\" | 48638  |\n",
      "| 39.07899498554285 | 207 | \"Individual: 207\" | 72197  |\n",
      "| 42.70354738516746 | 119 | \"Individual: 119\" | 71501  |\n",
      "| 45.11193363577878 | 217 | \"Individual: 217\" | 76815  |\n",
      "| 24.04479361358855 | 9   | \"Individual: 009\" | 39991  |\n",
      "| 26.5744693830482  | 93  | \"Individual: 093\" | 56049  |\n",
      "| 35.42212899746488 | 291 | \"Individual: 291\" | 67829  |\n",
      "| 48.65041867984886 | 173 | \"Individual: 173\" | 80760  |\n",
      "| 24.76376081231679 | 81  | \"Individual: 081\" | 47918  |\n",
      "| 24.99476474249944 | 40  | \"Individual: 040\" | 46368  |\n",
      "| 37.41393522454604 | 240 | \"Individual: 240\" | 52542  |\n",
      "| 24.8206346967664  | 53  | \"Individual: 053\" | 47587  |\n",
      "| 35.36149798456427 | 299 | \"Individual: 299\" | 73583  |\n",
      "| 26.28828703337766 | 85  | \"Individual: 085\" | 59603  |\n",
      "| 35.18898568512165 | 186 | \"Individual: 186\" | 60407  |\n",
      "| 24.55643080984997 | 29  | \"Individual: 029\" | 42254  |\n",
      "| 36.20944651871691 | 278 | \"Individual: 278\" | 61692  |\n",
      "| 44.36528540877659 | 138 | \"Individual: 138\" | 80612  |\n",
      "| 42.797912685033   | 130 | \"Individual: 130\" | 69916  |\n",
      "| 24.06564069303854 | 6   | \"Individual: 006\" | 55035  |\n",
      "| 23.34541624240619 | 99  | \"Individual: 099\" | 44895  |\n",
      "| 50.8215535658812  | 106 | \"Individual: 106\" | 91658  |\n",
      "| 34.41467659655716 | 236 | \"Individual: 236\" | 70734  |\n",
      "| 25.30086646117202 | 7   | \"Individual: 007\" | 51374  |\n",
      "| 34.65124481816264 | 270 | \"Individual: 270\" | 63552  |\n",
      "| 46.86205839212964 | 199 | \"Individual: 199\" | 74419  |\n",
      "| 24.59740890434833 | 30  | \"Individual: 030\" | 53791  |\n",
      "| 44.62237914959798 | 164 | \"Individual: 164\" | 90424  |\n",
      "| 26.26436315509618 | 54  | \"Individual: 054\" | 55476  |\n",
      "| 45.84967817942239 | 125 | \"Individual: 125\" | 85134  |\n",
      "| 25.000494245766   | 12  | \"Individual: 012\" | 66244  |\n",
      "| 44.64230533331592 | 115 | \"Individual: 115\" | 77199  |\n",
      "| 35.03714220167261 | 248 | \"Individual: 248\" | 76750  |\n",
      "| 25.12969642655245 | 80  | \"Individual: 080\" | 56099  |\n",
      "| 36.19305472236984 | 295 | \"Individual: 295\" | 60250  |\n",
      "| 35.07305643561117 | 269 | \"Individual: 269\" | 77824  |\n",
      "| 35.13007434858572 | 258 | \"Individual: 258\" | 57509  |\n",
      "| 26.41998520350787 | 82  | \"Individual: 082\" | 40776  |\n",
      "| 31.80357885327798 | 223 | \"Individual: 223\" | 60439  |\n",
      "| 27.04404109036838 | 43  | \"Individual: 043\" | 55053  |\n",
      "| 48.36055753204719 | 114 | \"Individual: 114\" | 88859  |\n",
      "| 24.82054826105547 | 38  | \"Individual: 038\" | 55007  |\n",
      "| 23.9936736589131  | 51  | \"Individual: 051\" | 42171  |\n",
      "| 39.64510250993715 | 192 | \"Individual: 192\" | 72664  |\n",
      "| 46.53337694047583 | 101 | \"Individual: 101\" | 89019  |\n",
      "| 45.57430980213641 | 194 | \"Individual: 194\" | 94548  |\n",
      "| 25.24920420954561 | 31  | \"Individual: 031\" | 54312  |\n",
      "| 25.59043077849547 | 14  | \"Individual: 014\" | 51513  |\n",
      "| 42.56064799325679 | 142 | \"Individual: 142\" | 80357  |\n",
      "| 50.30396237031055 | 132 | \"Individual: 132\" | 78746  |\n",
      "| 43.67491677796684 | 141 | \"Individual: 141\" | 79076  |\n",
      "| 43.06512046705784 | 140 | \"Individual: 140\" | 78500  |\n",
      "| 43.66775304181341 | 145 | \"Individual: 145\" | 73062  |\n",
      "| 49.15999176564866 | 201 | \"Individual: 201\" | 87532  |\n",
      "| 44.35304300125181 | 198 | \"Individual: 198\" | 77081  |\n",
      "| 49.63878026576844 | 170 | \"Individual: 170\" | 84917  |\n",
      "| 45.86378643346934 | 151 | \"Individual: 151\" | 93977  |\n",
      "| 36.35641301228243 | 246 | \"Individual: 246\" | 64237  |\n",
      "| 24.59843481162659 | 90  | \"Individual: 090\" | 52175  |\n",
      "| 35.90122037525296 | 252 | \"Individual: 252\" | 54238  |\n",
      "| 24.99849612471949 | 20  | \"Individual: 020\" | 44682  |\n",
      "| 23.99306685642435 | 16  | \"Individual: 016\" | 46432  |\n",
      "| 40.9227899001288  | 168 | \"Individual: 168\" | 74485  |\n",
      "| 33.43000260281838 | 256 | \"Individual: 256\" | 64426  |\n",
      "| 24.32137934236393 | 49  | \"Individual: 049\" | 50590  |\n",
      "| 46.58598376039249 | 219 | \"Individual: 219\" | 80532  |\n",
      "| 34.94841606011511 | 284 | \"Individual: 284\" | 59297  |\n",
      "| 26.43387466557501 | 67  | \"Individual: 067\" | 58173  |\n",
      "| 37.83366632235595 | 218 | \"Individual: 218\" | 77712  |\n",
      "| 50.4687163424899  | 162 | \"Individual: 162\" | 96742  |\n",
      "| 26.28219492010451 | 15  | \"Individual: 015\" | 50004  |\n",
      "| 34.38071207570569 | 226 | \"Individual: 226\" | 61805  |\n",
      "| 32.03178607840392 | 285 | \"Individual: 285\" | 65147  |\n",
      "| 35.88192426220356 | 296 | \"Individual: 296\" | 83686  |\n",
      "| 40.94561371543077 | 144 | \"Individual: 144\" | 59101  |\n",
      "+-------------------+-----+-------------------+--------+\n",
      "+-------------------+-----+-------------------+--------+\n",
      "| age               | id  | name              | salary |\n",
      "+-------------------+-----+-------------------+--------+\n",
      "| 35.33158066768564 | 273 | \"Individual: 273\" | 71157  |\n",
      "| 26.08538036032814 | 98  | \"Individual: 098\" | 53605  |\n",
      "| 50.5714412429367  | 156 | \"Individual: 156\" | 88377  |\n",
      "| 50.58123004549133 | 203 | \"Individual: 203\" | 91326  |\n",
      "| 25.62963757719123 | 100 | \"Individual: 100\" | 56483  |\n",
      "| 34.82926250847292 | 298 | \"Individual: 298\" | 73606  |\n",
      "| 45.08999506629362 | 111 | \"Individual: 111\" | 76434  |\n",
      "| 25.65864928914094 | 42  | \"Individual: 042\" | 54083  |\n",
      "| 36.46912399056626 | 282 | \"Individual: 282\" | 87464  |\n",
      "| 33.40940020738482 | 255 | \"Individual: 255\" | 85374  |\n",
      "| 23.30820819245901 | 77  | \"Individual: 077\" | 48478  |\n",
      "| 36.20663115220678 | 259 | \"Individual: 259\" | 75433  |\n",
      "| 43.87495649590418 | 188 | \"Individual: 188\" | 81210  |\n",
      "| 25.95497068258835 | 27  | \"Individual: 027\" | 49940  |\n",
      "| 25.32113509515113 | 50  | \"Individual: 050\" | 52924  |\n",
      "| 36.26390557216931 | 288 | \"Individual: 288\" | 72847  |\n",
      "| 35.9066590731213  | 224 | \"Individual: 224\" | 74906  |\n",
      "| 31.98857053353701 | 231 | \"Individual: 231\" | 75925  |\n",
      "| 28.88057978385297 | 261 | \"Individual: 261\" | 58736  |\n",
      "| 35.14194917811759 | 254 | \"Individual: 254\" | 65494  |\n",
      "| 26.33199940700781 | 55  | \"Individual: 055\" | 47052  |\n",
      "| 24.18689142200467 | 88  | \"Individual: 088\" | 43930  |\n",
      "| 34.61582850993675 | 294 | \"Individual: 294\" | 67240  |\n",
      "| 41.97248578452533 | 127 | \"Individual: 127\" | 78460  |\n",
      "| 35.37399618071812 | 262 | \"Individual: 262\" | 75711  |\n",
      "| 25.76750620371324 | 48  | \"Individual: 048\" | 50148  |\n",
      "| 36.5934205747499  | 249 | \"Individual: 249\" | 90706  |\n",
      "| 35.79943069800473 | 234 | \"Individual: 234\" | 67135  |\n",
      "| 42.54995976189524 | 165 | \"Individual: 165\" | 78846  |\n",
      "| 25.62534178026618 | 36  | \"Individual: 036\" | 43336  |\n",
      "| 36.350189394118   | 241 | \"Individual: 241\" | 83611  |\n",
      "| 39.39998454736205 | 279 | \"Individual: 279\" | 61970  |\n",
      "| 46.61088172055385 | 181 | \"Individual: 181\" | 83658  |\n",
      "| 49.27720175120505 | 213 | \"Individual: 213\" | 82175  |\n",
      "| 43.33014839145317 | 163 | \"Individual: 163\" | 72556  |\n",
      "| 33.8810753644531  | 293 | \"Individual: 293\" | 67542  |\n",
      "| 23.6363830959181  | 78  | \"Individual: 078\" | 52134  |\n",
      "| 23.21107381279437 | 61  | \"Individual: 061\" | 38736  |\n",
      "| 47.54481718739405 | 190 | \"Individual: 190\" | 69534  |\n",
      "| 24.85865699390717 | 65  | \"Individual: 065\" | 47914  |\n",
      "| 35.92189457867195 | 267 | \"Individual: 267\" | 64129  |\n",
      "| 44.52394611117357 | 148 | \"Individual: 148\" | 80480  |\n",
      "| 25.27611732265598 | 18  | \"Individual: 018\" | 45696  |\n",
      "| 50.83291154818824 | 187 | \"Individual: 187\" | 92796  |\n",
      "| 39.72256297603004 | 133 | \"Individual: 133\" | 72903  |\n",
      "| 34.48040526116174 | 289 | \"Individual: 289\" | 56548  |\n",
      "| 52.63646076333807 | 149 | \"Individual: 149\" | 90797  |\n",
      "| 23.93457888255205 | 39  | \"Individual: 039\" | 46888  |\n",
      "| 24.31403545898675 | 2   | \"Individual: 002\" | 47402  |\n",
      "| 49.90462415484514 | 177 | \"Individual: 177\" | 88836  |\n",
      "| 25.01929121864152 | 86  | \"Individual: 086\" | 61123  |\n",
      "| 51.04052349344122 | 214 | \"Individual: 214\" | 90306  |\n",
      "| 45.68587902024383 | 136 | \"Individual: 136\" | 83196  |\n",
      "| 26.14074137724695 | 83  | \"Individual: 083\" | 46115  |\n",
      "| 32.39363653301354 | 253 | \"Individual: 253\" | 72542  |\n",
      "| 33.0655111105172  | 265 | \"Individual: 265\" | 67828  |\n",
      "| 24.52904962958139 | 72  | \"Individual: 072\" | 52539  |\n",
      "| 26.25147475955581 | 8   | \"Individual: 008\" | 56764  |\n",
      "| 35.44696613908334 | 268 | \"Individual: 268\" | 73220  |\n",
      "| 47.80817585023234 | 110 | \"Individual: 110\" | 90108  |\n",
      "| 38.46251502919521 | 210 | \"Individual: 210\" | 67302  |\n",
      "| 56.14454565605458 | 220 | \"Individual: 220\" | 94943  |\n",
      "| 25.50623242826136 | 97  | \"Individual: 097\" | 54193  |\n",
      "| 23.64207332999615 | 35  | \"Individual: 035\" | 46737  |\n",
      "| 25.29664106310324 | 4   | \"Individual: 004\" | 50464  |\n",
      "| 25.77585254835976 | 62  | \"Individual: 062\" | 51768  |\n",
      "| 49.67310667314544 | 113 | \"Individual: 113\" | 85003  |\n",
      "| 34.18772325493474 | 251 | \"Individual: 251\" | 63143  |\n",
      "| 24.30898150222034 | 58  | \"Individual: 058\" | 44887  |\n",
      "| 37.55862230964154 | 229 | \"Individual: 229\" | 60490  |\n",
      "| 41.01749347248462 | 166 | \"Individual: 166\" | 80828  |\n",
      "| 45.83958306327029 | 157 | \"Individual: 157\" | 79086  |\n",
      "| 36.24289194006415 | 235 | \"Individual: 235\" | 75146  |\n",
      "| 35.61575446391777 | 225 | \"Individual: 225\" | 52483  |\n",
      "| 26.39629960543233 | 92  | \"Individual: 092\" | 45367  |\n",
      "| 36.66253741915471 | 242 | \"Individual: 242\" | 67597  |\n",
      "| 23.92403782223526 | 89  | \"Individual: 089\" | 45403  |\n",
      "| 47.15950850314334 | 107 | \"Individual: 107\" | 76049  |\n",
      "| 46.60405174417829 | 153 | \"Individual: 153\" | 83040  |\n",
      "| 44.5656609587089  | 158 | \"Individual: 158\" | 82307  |\n",
      "| 35.2134790582558  | 237 | \"Individual: 237\" | 63457  |\n",
      "| 45.84237457281951 | 200 | \"Individual: 200\" | 78791  |\n",
      "| 25.81033637987936 | 75  | \"Individual: 075\" | 53401  |\n",
      "| 34.65214128521281 | 239 | \"Individual: 239\" | 61747  |\n",
      "| 38.84745269824979 | 139 | \"Individual: 139\" | 69645  |\n",
      "| 33.97918907293992 | 272 | \"Individual: 272\" | 66496  |\n",
      "| 25.45785726602289 | 76  | \"Individual: 076\" | 46214  |\n",
      "| 43.1868235157955  | 147 | \"Individual: 147\" | 70158  |\n",
      "| 24.08476170165959 | 96  | \"Individual: 096\" | 46328  |\n",
      "| 31.90256940957829 | 263 | \"Individual: 263\" | 81678  |\n",
      "| 44.41128454132044 | 195 | \"Individual: 195\" | 73805  |\n",
      "| 43.47469416168524 | 169 | \"Individual: 169\" | 85090  |\n",
      "| 34.04728104778491 | 300 | \"Individual: 300\" | 67622  |\n",
      "| 46.70560735944277 | 161 | \"Individual: 161\" | 79156  |\n",
      "| 46.15744144083992 | 117 | \"Individual: 117\" | 71581  |\n",
      "| 24.10182248524402 | 21  | \"Individual: 021\" | 38202  |\n",
      "| 49.1773716696247  | 167 | \"Individual: 167\" | 70600  |\n",
      "| 46.72555213577564 | 197 | \"Individual: 197\" | 77958  |\n",
      "| 38.08819977056483 | 281 | \"Individual: 281\" | 75612  |\n",
      "+-------------------+-----+-------------------+--------+\n",
      "+-------------------+-----+-------------------+--------+\n",
      "| age               | id  | name              | salary |\n",
      "+-------------------+-----+-------------------+--------+\n",
      "| 42.61365701705083 | 129 | \"Individual: 129\" | 77929  |\n",
      "| 36.47287618289909 | 118 | \"Individual: 118\" | 75390  |\n",
      "| 42.95306230074591 | 152 | \"Individual: 152\" | 76974  |\n",
      "| 26.41972973144746 | 5   | \"Individual: 005\" | 53845  |\n",
      "| 33.88880875612859 | 290 | \"Individual: 290\" | 72171  |\n",
      "| 24.45368999722374 | 64  | \"Individual: 064\" | 50538  |\n",
      "| 25.29309225873203 | 11  | \"Individual: 011\" | 47301  |\n",
      "| 24.38949434240006 | 87  | \"Individual: 087\" | 53636  |\n",
      "| 27.1259975101106  | 46  | \"Individual: 046\" | 50941  |\n",
      "| 32.83361942986529 | 230 | \"Individual: 230\" | 54148  |\n",
      "| 37.55702968716015 | 184 | \"Individual: 184\" | 67113  |\n",
      "| 37.8137082474738  | 250 | \"Individual: 250\" | 83404  |\n",
      "| 24.88105115844521 | 23  | \"Individual: 023\" | 43464  |\n",
      "| 23.61137828720559 | 22  | \"Individual: 022\" | 42290  |\n",
      "| 45.63248014149332 | 134 | \"Individual: 134\" | 77862  |\n",
      "| 42.23627729566275 | 154 | \"Individual: 154\" | 90586  |\n",
      "| 25.39547052370498 | 1   | \"Individual: 001\" | 48976  |\n",
      "| 25.25627511005183 | 26  | \"Individual: 026\" | 50349  |\n",
      "| 36.28570967548751 | 215 | \"Individual: 215\" | 67766  |\n",
      "| 36.73868279291174 | 247 | \"Individual: 247\" | 64397  |\n",
      "| 25.83091434262693 | 45  | \"Individual: 045\" | 49342  |\n",
      "| 34.15486648263456 | 276 | \"Individual: 276\" | 79019  |\n",
      "| 35.26964423384393 | 260 | \"Individual: 260\" | 72119  |\n",
      "| 33.88136686744861 | 227 | \"Individual: 227\" | 73672  |\n",
      "| 44.20600394284013 | 143 | \"Individual: 143\" | 87126  |\n",
      "| 38.29713989206178 | 137 | \"Individual: 137\" | 59536  |\n",
      "| 38.46678785970544 | 277 | \"Individual: 277\" | 62013  |\n",
      "| 33.83509646655938 | 266 | \"Individual: 266\" | 76086  |\n",
      "| 24.68241178653287 | 73  | \"Individual: 073\" | 50934  |\n",
      "| 35.34473280302399 | 274 | \"Individual: 274\" | 74003  |\n",
      "| 24.60518551971716 | 95  | \"Individual: 095\" | 48021  |\n",
      "| 46.39113119158637 | 150 | \"Individual: 150\" | 76906  |\n",
      "| 48.0286095157561  | 185 | \"Individual: 185\" | 89932  |\n",
      "| 24.78489604828937 | 63  | \"Individual: 063\" | 48627  |\n",
      "| 23.78200189530308 | 57  | \"Individual: 057\" | 54649  |\n",
      "| 34.14119442749095 | 286 | \"Individual: 286\" | 71691  |\n",
      "| 24.34404875265196 | 33  | \"Individual: 033\" | 54264  |\n",
      "| 39.37109603380626 | 103 | \"Individual: 103\" | 70650  |\n",
      "| 41.21442389919512 | 176 | \"Individual: 176\" | 78635  |\n",
      "| 45.79820423103285 | 122 | \"Individual: 122\" | 87523  |\n",
      "| 25.51215670533433 | 44  | \"Individual: 044\" | 45012  |\n",
      "| 41.60086451199921 | 175 | \"Individual: 175\" | 79559  |\n",
      "| 25.88749070267593 | 79  | \"Individual: 079\" | 48162  |\n",
      "| 37.09568187885061 | 112 | \"Individual: 112\" | 72307  |\n",
      "| 41.55122933798243 | 205 | \"Individual: 205\" | 74759  |\n",
      "| 45.96865034153888 | 202 | \"Individual: 202\" | 82850  |\n",
      "| 42.5158131767696  | 105 | \"Individual: 105\" | 73984  |\n",
      "| 36.27366840833148 | 222 | \"Individual: 222\" | 71161  |\n",
      "| 56.51623471593592 | 196 | \"Individual: 196\" | 80848  |\n",
      "| 37.15863767021896 | 104 | \"Individual: 104\" | 58844  |\n",
      "| 26.13768535640089 | 84  | \"Individual: 084\" | 49447  |\n",
      "| 37.51982175000117 | 116 | \"Individual: 116\" | 72841  |\n",
      "| 46.55767726882384 | 180 | \"Individual: 180\" | 74441  |\n",
      "| 41.81135705787229 | 211 | \"Individual: 211\" | 75883  |\n",
      "| 47.99445859151342 | 183 | \"Individual: 183\" | 77893  |\n",
      "| 41.08443489903744 | 121 | \"Individual: 121\" | 69059  |\n",
      "| 46.0366497775221  | 191 | \"Individual: 191\" | 84516  |\n",
      "| 43.97255703917137 | 189 | \"Individual: 189\" | 76196  |\n",
      "| 46.83459080530326 | 204 | \"Individual: 204\" | 83651  |\n",
      "| 38.40860526256105 | 283 | \"Individual: 283\" | 74555  |\n",
      "| 24.88165316362767 | 59  | \"Individual: 059\" | 51102  |\n",
      "| 45.16418356065846 | 135 | \"Individual: 135\" | 76797  |\n",
      "| 25.87531227356693 | 37  | \"Individual: 037\" | 53618  |\n",
      "| 41.06986441279633 | 155 | \"Individual: 155\" | 72680  |\n",
      "| 37.10710655471658 | 292 | \"Individual: 292\" | 71122  |\n",
      "| 24.10221251354065 | 94  | \"Individual: 094\" | 45128  |\n",
      "| 45.24321628641496 | 174 | \"Individual: 174\" | 85096  |\n",
      "| 45.58032665992633 | 212 | \"Individual: 212\" | 79747  |\n",
      "| 22.5138778236622  | 17  | \"Individual: 017\" | 38148  |\n",
      "| 41.27090317888393 | 179 | \"Individual: 179\" | 76524  |\n",
      "| 45.52700851448768 | 124 | \"Individual: 124\" | 83433  |\n",
      "| 36.05016810737868 | 228 | \"Individual: 228\" | 66749  |\n",
      "| 48.70499394129772 | 108 | \"Individual: 108\" | 78914  |\n",
      "| 46.81734082816165 | 216 | \"Individual: 216\" | 82378  |\n",
      "| 26.91895863598789 | 3   | \"Individual: 003\" | 59828  |\n",
      "| 44.81905792578452 | 123 | \"Individual: 123\" | 88321  |\n",
      "| 39.31901069861998 | 264 | \"Individual: 264\" | 79805  |\n",
      "| 44.55866761589274 | 171 | \"Individual: 171\" | 85346  |\n",
      "| 44.59708878629509 | 182 | \"Individual: 182\" | 88112  |\n",
      "| 34.70631177289261 | 287 | \"Individual: 287\" | 65348  |\n",
      "| 24.73452742986315 | 19  | \"Individual: 019\" | 43670  |\n",
      "| 32.97228800174097 | 297 | \"Individual: 297\" | 63852  |\n",
      "| 44.30064433030314 | 131 | \"Individual: 131\" | 71438  |\n",
      "| 44.35213108442584 | 109 | \"Individual: 109\" | 73225  |\n",
      "| 23.91100085165325 | 41  | \"Individual: 041\" | 50256  |\n",
      "| 39.3403878518148  | 208 | \"Individual: 208\" | 71164  |\n",
      "| 46.77721292571739 | 172 | \"Individual: 172\" | 72735  |\n",
      "| 24.9717546123257  | 69  | \"Individual: 069\" | 56533  |\n",
      "| 25.6669656008671  | 68  | \"Individual: 068\" | 52289  |\n",
      "| 36.46788539299514 | 221 | \"Individual: 221\" | 67791  |\n",
      "| 34.07230785121148 | 245 | \"Individual: 245\" | 71158  |\n",
      "| 45.82761289603616 | 126 | \"Individual: 126\" | 91152  |\n",
      "| 44.21687157148506 | 102 | \"Individual: 102\" | 82474  |\n",
      "| 51.40563656530654 | 193 | \"Individual: 193\" | 97698  |\n",
      "| 26.01254219983841 | 71  | \"Individual: 071\" | 45880  |\n",
      "| 26.38695770425844 | 25  | \"Individual: 025\" | 51656  |\n",
      "| 33.17865867212326 | 275 | \"Individual: 275\" | 72272  |\n",
      "| 35.07469885610691 | 233 | \"Individual: 233\" | 63830  |\n",
      "| 35.85881568977177 | 280 | \"Individual: 280\" | 62640  |\n",
      "+-------------------+-----+-------------------+--------+\n",
      "+-------------------+-----+-------------------+--------+\n",
      "| age               | id  | name              | salary |\n",
      "+-------------------+-----+-------------------+--------+\n",
      "| 44.76894184915611 | 146 | \"Individual: 146\" | 76503  |\n",
      "| 51.28350713525773 | 178 | \"Individual: 178\" | 90077  |\n",
      "| 56.6362187203851  | 206 | \"Individual: 206\" | 105414 |\n",
      "+-------------------+-----+-------------------+--------+\n",
      "300 rows in set (0.190 secs)\n",
      "\n",
      "OK\n",
      "\n",
      "\n"
     ]
    }
   ],
   "metadata": {}
  },
  {
   "cell_type": "markdown",
   "source": [
    "## Load Data from Aerospike\n",
    "We will show multiple ways of loading data into a data frame."
   ],
   "metadata": {}
  },
  {
   "cell_type": "markdown",
   "source": [
    "### Load data without schema \n",
    "The Aerospike Spark Connector can infer the schema by reading a number of records. This method returns data as well as metadata fields such as \\_\\_key, \\_\\_digest, \\_\\_expiry, \\_\\_generation, and \\_\\_ttl."
   ],
   "metadata": {}
  },
  {
   "cell_type": "code",
   "execution_count": 12,
   "source": [
    "# Create a Spark DataFrame by using the Connector Schema inference mechanism\n",
    "# The fields preceded with __ are metadata fields - key/digest/expiry/generation/ttl\n",
    "# By default you just get everything, with no column ordering, which is why it looks untidy\n",
    "# Note we don't get anything in the 'key' field as we have not chosen to save as a bin.\n",
    "# Use .option(\"aerospike.sendKey\", True) to do this\n",
    "\n",
    "loadedDFWithoutSchema = (\n",
    "    spark.read.format(\"aerospike\") \\\n",
    "    .option(\"aerospike.set\", \"salary_data\") \\\n",
    "    .load()\n",
    ")\n",
    "\n",
    "loadedDFWithoutSchema.show(10)"
   ],
   "outputs": [
    {
     "output_type": "stream",
     "name": "stdout",
     "text": [
      "+-----+--------------------+---------+------------+-------+------------------+---------------+------+---+\n",
      "|__key|            __digest| __expiry|__generation|  __ttl|               age|           name|salary| id|\n",
      "+-----+--------------------+---------+------------+-------+------------------+---------------+------+---+\n",
      "| null|[03 50 2E 7F 70 9...|401502284|           4|2591999|34.652141285212814|Individual: 239| 61747|239|\n",
      "| null|[0F 10 1A 93 B1 E...|401502284|           4|2591999| 45.57430980213641|Individual: 194| 94548|194|\n",
      "| null|[04 C0 5E 9A 68 5...|401502284|           4|2591999| 46.53337694047583|Individual: 101| 89019|101|\n",
      "| null|[1A E0 A8 A0 F2 3...|401502284|           4|2591999| 25.24920420954561|Individual: 031| 54312| 31|\n",
      "| null|[23 20 78 35 5D 7...|401502284|           4|2591999| 38.84745269824979|Individual: 139| 69645|139|\n",
      "| null|[35 00 8C 78 43 F...|401502284|           4|2591999| 25.59043077849547|Individual: 014| 51513| 14|\n",
      "| null|[37 00 6D 21 08 9...|401502284|           4|2591999| 42.56064799325679|Individual: 142| 80357|142|\n",
      "| null|[59 00 4B C7 6D 9...|401502284|           4|2591999| 33.97918907293992|Individual: 272| 66496|272|\n",
      "| null|[6C 50 7F 9B FD C...|401502284|           4|2591999|  43.1868235157955|Individual: 147| 70158|147|\n",
      "| null|[61 50 89 B1 EC 0...|401502284|           4|2591999|25.457857266022888|Individual: 076| 46214| 76|\n",
      "+-----+--------------------+---------+------------+-------+------------------+---------------+------+---+\n",
      "only showing top 10 rows\n",
      "\n"
     ]
    }
   ],
   "metadata": {}
  },
  {
   "cell_type": "markdown",
   "source": [
    "### Load data using schema \n",
    "The schema can be explicitly specified, and only these fields will be returned. Note the `schema` used here was constructed earlier with id, name, age, and salary fields."
   ],
   "metadata": {}
  },
  {
   "cell_type": "code",
   "execution_count": 13,
   "source": [
    "# If we explicitly set the schema, using the previously created schema object\n",
    "# we effectively type the rows in the Data Frame\n",
    "\n",
    "loadedDFWithSchema=spark \\\n",
    ".read \\\n",
    ".format(\"aerospike\") \\\n",
    ".schema(schema) \\\n",
    ".option(\"aerospike.set\", \"salary_data\").load()\n",
    "\n",
    "loadedDFWithSchema.show(5)"
   ],
   "outputs": [
    {
     "output_type": "stream",
     "name": "stdout",
     "text": [
      "+---+---------------+------------------+------+\n",
      "| id|           name|               age|salary|\n",
      "+---+---------------+------------------+------+\n",
      "|101|Individual: 101| 46.53337694047583| 89019|\n",
      "|239|Individual: 239|34.652141285212814| 61747|\n",
      "|194|Individual: 194| 45.57430980213641| 94548|\n",
      "| 31|Individual: 031| 25.24920420954561| 54312|\n",
      "|139|Individual: 139| 38.84745269824979| 69645|\n",
      "+---+---------------+------------------+------+\n",
      "only showing top 5 rows\n",
      "\n"
     ]
    }
   ],
   "metadata": {}
  },
  {
   "cell_type": "markdown",
   "source": [
    "### Pushing Down Query Predicate\n",
    "In order to get the best performance, it is important to minimize the amount of data retrieved to Spark. This is achieved by \"pushing down\" the query predicate or by processing filters in the database.\n",
    "\n",
    "The Spark Connector allows the \"pushdown expressions\" option for specifying filters to be processed on Aerospike. Note that it cannot be used in `load` together with the `where` clause.\n",
    "\n",
    "Below, we have used the Base64 encoding of a simple expression `id % 5 = 0` to get records where the id field is divisble by 5. Please see the notebook [Pushdown Expressions for Spark Connector](https://github.com/aerospike-examples/interactive-notebooks/blob/main/notebooks/spark/resources/pushdown-expressions.ipynb) for details on constructing an expresion and obtaining its Base64 repreentation."
   ],
   "metadata": {}
  },
  {
   "cell_type": "markdown",
   "source": [
    "**Compute Base64 Representation of Predicate**"
   ],
   "metadata": {}
  },
  {
   "cell_type": "code",
   "execution_count": 14,
   "source": [
    "import aerospike\n",
    "from aerospike_helpers import expressions as exp\n",
    "\n",
    "# Configure the client connection\n",
    "config = {\n",
    "    'hosts': [ ('127.0.0.1', 3000) ]\n",
    "}\n",
    "# Connect to the server\n",
    "try:\n",
    "    client = aerospike.client(config).connect()\n",
    "except ex.ClientError as e:\n",
    "    print(\"Error: {0} [{1}]\".format(e.msg, e.code))\n",
    "    sys.exit(1)\n",
    "\n",
    "# Build the expression for id % 5 = 0\n",
    "expr = exp.Eq(\n",
    "            exp.IntBin(\"id\") % 5, \n",
    "            0).compile()\n",
    "# Get Base64 representation of the expression for use in a pushdown-expression request.\n",
    "pushdown_expr = client.get_expression_base64(expr)\n",
    "client.close()\n",
    "print('The base64 representation of the expression \"id % 5 = 0\" is', pushdown_expr)"
   ],
   "outputs": [
    {
     "output_type": "stream",
     "name": "stdout",
     "text": [
      "Base64 representation of the expression \"id % 5 = 0\" is kwGTGpNRAqJpZAUA\n"
     ]
    }
   ],
   "metadata": {}
  },
  {
   "cell_type": "markdown",
   "source": [
    "**Load Using Pushdown Expressions**"
   ],
   "metadata": {}
  },
  {
   "cell_type": "code",
   "execution_count": 15,
   "source": [
    "dfWithPushdownExpr = spark \\\n",
    "    .read \\\n",
    "    .format(\"aerospike\") \\\n",
    "    .schema(schema) \\\n",
    "    .option(\"aerospike.set\", \"salary_data\") \\\n",
    "    . option(\"aerospike.pushdown.expressions\", pushdown_expr) \\\n",
    "    .load()\n",
    "\n",
    "dfWithPushdownExpr.show(10)"
   ],
   "outputs": [
    {
     "output_type": "stream",
     "name": "stdout",
     "text": [
      "+---+---------------+------------------+------+\n",
      "| id|           name|               age|salary|\n",
      "+---+---------------+------------------+------+\n",
      "| 10|Individual: 010|25.082338749020725| 58345|\n",
      "|140|Individual: 140| 43.06512046705784| 78500|\n",
      "|160|Individual: 160| 54.98712625322746| 97029|\n",
      "|120|Individual: 120|45.189080979167926| 80007|\n",
      "|205|Individual: 205| 41.55122933798243| 74759|\n",
      "|195|Individual: 195| 44.41128454132044| 73805|\n",
      "|145|Individual: 145|43.667753041813405| 73062|\n",
      "|300|Individual: 300|34.047281047784914| 67622|\n",
      "|105|Individual: 105|  42.5158131767696| 73984|\n",
      "|170|Individual: 170| 49.63878026576844| 84917|\n",
      "+---+---------------+------------------+------+\n",
      "only showing top 10 rows\n",
      "\n"
     ]
    }
   ],
   "metadata": {}
  },
  {
   "cell_type": "markdown",
   "source": [
    "### Using Secondary Index\n",
    "First we create a secondary index on the salary field, and then retrieve data using the secondary index."
   ],
   "metadata": {}
  },
  {
   "cell_type": "code",
   "execution_count": 16,
   "source": [
    "# create a secondary index on salary\n",
    "import aerospike \n",
    "from aerospike import exception as ex\n",
    "\n",
    "client = aerospike.client({\"hosts\": [AS_HOST]}).connect()\n",
    "# create a secondary index on salary\n",
    "index_name = \"idx_salary_int\"\n",
    "try:\n",
    "    client.index_integer_create('test', 'salary_data', \"salary\", index_name)\n",
    "except ex.IndexFoundError as e:\n",
    "    pass"
   ],
   "outputs": [],
   "metadata": {}
  },
  {
   "cell_type": "code",
   "execution_count": 17,
   "source": [
    "# automatically selects appropriate secindary index\n",
    "dfWithSecIdx = spark \\\n",
    "    .read \\\n",
    "    .format(\"aerospike\") \\\n",
    "    .schema(schema) \\\n",
    "    .option(\"aerospike.set\", \"salary_data\") \\\n",
    "    .option(\"aerospike.sindex.enable\", \"true\") \\\n",
    "    .load() \\\n",
    "    .where(\"salary >= 100000\")\n",
    "\n",
    "dfWithSecIdx.show()"
   ],
   "outputs": [
    {
     "output_type": "stream",
     "name": "stdout",
     "text": [
      "+---+---------------+----------------+------+\n",
      "| id|           name|             age|salary|\n",
      "+---+---------------+----------------+------+\n",
      "|206|Individual: 206|56.6362187203851|105414|\n",
      "+---+---------------+----------------+------+\n",
      "\n"
     ]
    }
   ],
   "metadata": {}
  },
  {
   "cell_type": "markdown",
   "source": [
    "## Next Steps\n",
    "To learn more about the Spark Connector, check out the [multiple tutorials](https://developer.aerospike.com/tutorials/spark). [Aerospike Connect for Spark Tutorial for Python](https://developer.aerospike.com/tutorials/spark/spark-py) is a good reference for the connector capabilities."
   ],
   "metadata": {}
  }
 ],
 "metadata": {
  "kernelspec": {
   "display_name": "Python 3",
   "language": "python",
   "name": "python3"
  },
  "language_info": {
   "codemirror_mode": {
    "name": "ipython",
    "version": 3
   },
   "file_extension": ".py",
   "mimetype": "text/x-python",
   "name": "python",
   "nbconvert_exporter": "python",
   "pygments_lexer": "ipython3",
   "version": "3.8.6"
  },
  "toc": {
   "base_numbering": 1,
   "nav_menu": {},
   "number_sections": true,
   "sideBar": true,
   "skip_h1_title": false,
   "title_cell": "Table of Contents",
   "title_sidebar": "Contents",
   "toc_cell": false,
   "toc_position": {},
   "toc_section_display": true,
   "toc_window_display": false
  }
 },
 "nbformat": 4,
 "nbformat_minor": 4
}