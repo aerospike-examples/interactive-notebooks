{
 "cells": [
  {
   "cell_type": "markdown",
   "id": "developing-reservoir",
   "metadata": {},
   "source": [
    "# Aerospike Java Client – Advanced Collection Data Types\n",
    "*Last updated: June 22, 2021*\n",
    "\n",
    "The goal of this tutorial is to highlight the power of working with [collection data types (CDTs)](\"https://docs.aerospike.com/docs/guide/cdt.html\") in Aerospike. It covers the following topics:\n",
    "1. Setting [contexts (CTXs)](\"https://docs.aerospike.com/docs/guide/cdt-context.html\") to apply operations to nested Maps and Lists.\n",
    "2. Showing the return type options provided by CDT get/read operations.\n",
    "3. Highlighting how policies shape application transactions.\n",
    "\n",
    "This [Jupyter Notebook](https://jupyter-notebook.readthedocs.io/en/stable/notebook.html) requires the Aerospike Database running locally with Java kernel and Aerospike Java Client. To create a Docker container that satisfies the requirements and holds a copy of these notebooks, visit the [Aerospike Notebooks Repo](https://github.com/aerospike-examples/interactive-notebooks)."
   ]
  },
  {
   "cell_type": "markdown",
   "id": "turned-musician",
   "metadata": {},
   "source": [
    "## Prerequisites\n",
    "\n",
    "This Notebook builds on the material in the following notebooks:\n",
    "1. [Working with Lists](\"./java-working_with_lists.ipynb\") \n",
    "2. [Working with Maps](\"./java-working_with_lists.ipynb\")\n",
    "3. [Introduction to Transactions](\"./java-intro_to_transactions.ipynb\")\n",
    "\n",
    "It uses examples based on those from [Modeling Using Lists](./java-modeling_using_lists.ipynb) and Working with Maps. If any of the following is confusing, please refer to a relevant notebook. "
   ]
  },
  {
   "cell_type": "markdown",
   "id": "nominated-arcade",
   "metadata": {
    "heading_collapsed": true
   },
   "source": [
    "# Notebook Setup"
   ]
  },
  {
   "cell_type": "markdown",
   "id": "spoken-output",
   "metadata": {
    "hidden": true
   },
   "source": [
    "### Import Jupyter Java Integration \n",
    "\n",
    "Make it easier to work with Java in Jupyter."
   ]
  },
  {
   "cell_type": "code",
   "execution_count": 1,
   "id": "blank-catalog",
   "metadata": {
    "hidden": true
   },
   "outputs": [],
   "source": [
    "import io.github.spencerpark.ijava.IJava;\n",
    "import io.github.spencerpark.jupyter.kernel.magic.common.Shell;\n",
    "\n",
    "IJava.getKernelInstance().getMagics().registerMagics(Shell.class);"
   ]
  },
  {
   "cell_type": "markdown",
   "id": "coupled-series",
   "metadata": {
    "hidden": true
   },
   "source": [
    "### Start Aerospike\n",
    "\n",
    "Ensure Aerospike Database is running locally."
   ]
  },
  {
   "cell_type": "code",
   "execution_count": 2,
   "id": "premier-error",
   "metadata": {
    "hidden": true
   },
   "outputs": [],
   "source": [
    "%sh asd"
   ]
  },
  {
   "cell_type": "markdown",
   "id": "arranged-settlement",
   "metadata": {
    "hidden": true
   },
   "source": [
    "### Download the Aerospike Java Client\n",
    "\n",
    "Ask Maven to download and install the project object model (POM) of the Aerospike Java Client."
   ]
  },
  {
   "cell_type": "code",
   "execution_count": 3,
   "id": "chicken-johnson",
   "metadata": {
    "hidden": true
   },
   "outputs": [],
   "source": [
    "%%loadFromPOM\n",
    "<dependencies>\n",
    "  <dependency>\n",
    "    <groupId>com.aerospike</groupId>\n",
    "    <artifactId>aerospike-client</artifactId>\n",
    "    <version>5.0.0</version>\n",
    "  </dependency>\n",
    "</dependencies>"
   ]
  },
  {
   "cell_type": "markdown",
   "id": "supposed-computer",
   "metadata": {
    "hidden": true
   },
   "source": [
    "### Start the Aerospike Java Client and Connect\n",
    "\n",
    "Create an instance of the Aerospike Java Client, and connect to the demo cluster.\n",
    "\n",
    "The default cluster location for the Docker container is *localhost* port *3000*. If your cluster is not running on your local machine, modify *localhost* and *3000* to the values for your Aerospike cluster."
   ]
  },
  {
   "cell_type": "code",
   "execution_count": 4,
   "id": "framed-smoke",
   "metadata": {
    "hidden": true
   },
   "outputs": [
    {
     "name": "stdout",
     "output_type": "stream",
     "text": [
      "Initialized the client and connected to the cluster.\n"
     ]
    }
   ],
   "source": [
    "import com.aerospike.client.AerospikeClient;\n",
    "\n",
    "AerospikeClient client = new AerospikeClient(\"localhost\", 3000);\n",
    "System.out.println(\"Initialized the client and connected to the cluster.\");"
   ]
  },
  {
   "cell_type": "markdown",
   "id": "structured-mention",
   "metadata": {},
   "source": [
    "# Create CDT Data, Put into Aerospike, and Print It"
   ]
  },
  {
   "cell_type": "code",
   "execution_count": 5,
   "id": "signal-bulletin",
   "metadata": {},
   "outputs": [
    {
     "name": "stdout",
     "output_type": "stream",
     "text": [
      "listwhalebin: [[1420, beluga whale, Beaufort Sea, Bering Sea], [13988, gray whale, Baja California, Chukchi Sea], [1278, north pacific right whale, Japan, Sea of Okhotsk], [5100, humpback whale, Columbia, Antarctic Peninsula], [3100, southern hemisphere blue whale, Corcovado Gulf, The Galapagos]]\n",
      "\n",
      "mapobsbin: {13456={lat=-25, long=-50}, 14567={lat=35, long=30}, 12345={lat=-85, long=-130}}\n"
     ]
    }
   ],
   "source": [
    "import com.aerospike.client.Key;\n",
    "import com.aerospike.client.Bin;\n",
    "import com.aerospike.client.policy.ClientPolicy;\n",
    "import com.aerospike.client.Record;\n",
    "import com.aerospike.client.Operation;\n",
    "import com.aerospike.client.Value;\n",
    "import com.aerospike.client.cdt.ListOperation;\n",
    "import com.aerospike.client.cdt.ListPolicy;\n",
    "import com.aerospike.client.cdt.ListOrder;\n",
    "import com.aerospike.client.cdt.ListWriteFlags;\n",
    "import com.aerospike.client.cdt.MapOperation;\n",
    "import com.aerospike.client.cdt.MapPolicy;\n",
    "import com.aerospike.client.cdt.MapOrder;\n",
    "import com.aerospike.client.cdt.MapWriteFlags;\n",
    "\n",
    "\n",
    "import java.util.ArrayList;\n",
    "import java.util.Arrays;\n",
    "import java.util.HashMap;\n",
    "import java.util.List;\n",
    "import java.util.Map;\n",
    "\n",
    "\n",
    "// Create whale migration list of tuples. \n",
    "\n",
    "ArrayList<Value> whaleMigration0 = new ArrayList<Value>();\n",
    "whaleMigration0.add(Value.get(1420));\n",
    "whaleMigration0.add(Value.get(\"beluga whale\"));\n",
    "whaleMigration0.add(Value.get(\"Beaufort Sea\"));\n",
    "whaleMigration0.add(Value.get(\"Bering Sea\"));\n",
    "\n",
    "ArrayList<Value> whaleMigration1 = new ArrayList<Value>();\n",
    "whaleMigration1.add(Value.get(13988));\n",
    "whaleMigration1.add(Value.get(\"gray whale\"));\n",
    "whaleMigration1.add(Value.get(\"Baja California\"));\n",
    "whaleMigration1.add(Value.get(\"Chukchi Sea\"));\n",
    "\n",
    "ArrayList<Value> whaleMigration2 = new ArrayList<Value>();\n",
    "whaleMigration2.add(Value.get(1278));\n",
    "whaleMigration2.add(Value.get(\"north pacific right whale\"));\n",
    "whaleMigration2.add(Value.get(\"Japan\"));\n",
    "whaleMigration2.add(Value.get(\"Sea of Okhotsk\"));\n",
    "\n",
    "ArrayList<Value> whaleMigration3 = new ArrayList<Value>();\n",
    "whaleMigration3.add(Value.get(5100));\n",
    "whaleMigration3.add(Value.get(\"humpback whale\"));\n",
    "whaleMigration3.add(Value.get(\"Columbia\"));\n",
    "whaleMigration3.add(Value.get(\"Antarctic Peninsula\"));\n",
    "\n",
    "ArrayList<Value> whaleMigration4 = new ArrayList<Value>();\n",
    "whaleMigration4.add(Value.get(3100));\n",
    "whaleMigration4.add(Value.get(\"southern hemisphere blue whale\"));\n",
    "whaleMigration4.add(Value.get(\"Corcovado Gulf\"));\n",
    "whaleMigration4.add(Value.get(\"The Galapagos\"));\n",
    "\n",
    "\n",
    "\n",
    "ArrayList<Value> whaleMigration = new ArrayList<Value>();\n",
    "whaleMigration.add(Value.get(whaleMigration0));\n",
    "whaleMigration.add(Value.get(whaleMigration1));\n",
    "whaleMigration.add(Value.get(whaleMigration2));\n",
    "whaleMigration.add(Value.get(whaleMigration3));\n",
    "whaleMigration.add(Value.get(whaleMigration4));\n",
    "\n",
    "\n",
    "// Create Map of Whale Observations\n",
    "\n",
    "HashMap <Value, Value> mapObs = new HashMap <Value, Value>();\n",
    "HashMap <String, Integer> mapCoords0 = new HashMap <String, Integer>();\n",
    "mapCoords0.put(\"lat\", -85);\n",
    "mapCoords0.put(\"long\", -130);\n",
    "HashMap <String, Integer> mapCoords1 = new HashMap <String, Integer>();\n",
    "mapCoords1.put(\"lat\", -25);\n",
    "mapCoords1.put(\"long\", -50);\n",
    "HashMap <String, Integer> mapCoords2 = new HashMap <String, Integer>();\n",
    "mapCoords2.put(\"lat\", 35);\n",
    "mapCoords2.put(\"long\", 30);\n",
    "\n",
    "\n",
    "mapObs.put(Value.get(13456), Value.get(mapCoords1));\n",
    "mapObs.put(Value.get(14567), Value.get(mapCoords2));\n",
    "mapObs.put(Value.get(12345), Value.get(mapCoords0));\n",
    "\n",
    "\n",
    "// Put data in Aerospike, get the data, and print it\n",
    "\n",
    "String nestedCDTSetName = \"nestedset1\";\n",
    "String nestedCDTNamespaceName = \"test\";\n",
    "\n",
    "Integer whaleMigrationWriteFlags = ListWriteFlags.ADD_UNIQUE \n",
    "                                    | ListWriteFlags.NO_FAIL \n",
    "                                    | ListWriteFlags.PARTIAL;\n",
    "ListPolicy whaleMigrationPolicy = new ListPolicy(ListOrder.UNORDERED, whaleMigrationWriteFlags);\n",
    "MapPolicy mapObsPolicy = new MapPolicy(MapOrder.KEY_ORDERED, MapWriteFlags.DEFAULT);\n",
    "\n",
    "Integer whaleKeyName = 2;\n",
    "String listWhaleBinName = \"listwhalebin\";\n",
    "String mapObsBinName = \"mapobsbin\";\n",
    "\n",
    "Bin bin1 = new Bin(listWhaleBinName, whaleMigration);\n",
    "\n",
    "Key whaleKey = new Key(nestedCDTNamespaceName, nestedCDTSetName, whaleKeyName);\n",
    "\n",
    "Record putDataIn = client.operate(client.writePolicyDefault, whaleKey,\n",
    "    Operation.put(bin1),\n",
    "    MapOperation.putItems(mapObsPolicy, mapObsBinName, mapObs)\n",
    "    );\n",
    "\n",
    "System.out.println(listWhaleBinName + \": \" + whaleMigration + \"\\n\\n\" + \n",
    "    mapObsBinName + \": \" + mapObs );"
   ]
  },
  {
   "cell_type": "markdown",
   "id": "critical-highland",
   "metadata": {},
   "source": [
    "# Using Contexts (CTXs) to work with Nested CDTs\n",
    "What are Nested CDTs and CTXs?\n"
   ]
  },
  {
   "cell_type": "markdown",
   "id": "convenient-viewer",
   "metadata": {},
   "source": [
    "## What is a Nested CDT?\n",
    "The primary use case of Key-Value Stores, like Aerospike Database, is to store document-oriented data, like a JSON map. As document-oriented data grows organically, it is common for one CDT (list or map) to contain another CDT. Does the application need a list in a map in a list in a map? Aerospike fully supports nesting CDTs, so that’s no problem.  "
   ]
  },
  {
   "cell_type": "markdown",
   "id": "closing-frederick",
   "metadata": {},
   "source": [
    "## What is a Context?\n",
    "\n",
    "A Context (CTX) is a reference to a nested CDT, a List or Map that is stored in a List or Map somewhere in an Aerospike Bin. All [List](https://docs.aerospike.com/apidocs/java/com/aerospike/client/cdt/ListOperation.html) and [Map Operations](https://docs.aerospike.com/apidocs/java/com/aerospike/client/cdt/MapOperation.html) accept an optional CTX argument. Any CTX argument must refer to data of the type supported by the operation. \n",
    "\n",
    "The most common ways to access a CTX are to look up a Map CTX directly by its key within the Bin and to drill down within a List or Map by index, rank or value. A CTX can also be created within a List or Map. For more details, see the [CTX APIs](https://docs.aerospike.com/apidocs/java/com/aerospike/client/cdt/CDT.html).  "
   ]
  },
  {
   "cell_type": "markdown",
   "id": "present-moldova",
   "metadata": {},
   "source": [
    "## Look up a Map CTX in a Bin by Mapkey\n",
    "\n",
    "Use the `mapKey` method to look up a CTX in a Map directly by mapkey. This works for a Map anywhere in a Bin.\n",
    "\n",
    "The following is an example of finding a Map CTX in a Bin by Mapkey:"
   ]
  },
  {
   "cell_type": "code",
   "execution_count": 6,
   "id": "intermediate-boating",
   "metadata": {},
   "outputs": [
    {
     "name": "stdout",
     "output_type": "stream",
     "text": [
      "mapobsbin: {13456={lat=-25, long=-50}, 14567={lat=35, long=30}, 12345={lat=-85, long=-130}}\n",
      "The lat of sighting at timestamp 14567: 35\n"
     ]
    }
   ],
   "source": [
    "import com.aerospike.client.cdt.CTX;\n",
    "import com.aerospike.client.cdt.MapReturnType;\n",
    "\n",
    "Integer lookupMapKey = 14567;\n",
    "String latKeyName = \"lat\";\n",
    "\n",
    "Record whaleSightings = client.operate(client.writePolicyDefault, whaleKey, \n",
    "    MapOperation.getByKey(mapObsBinName, Value.get(latKeyName), MapReturnType.VALUE, CTX.mapKey(Value.get(lookupMapKey)))\n",
    "    );\n",
    "\n",
    "System.out.println(mapObsBinName + \": \" + mapObs );\n",
    "System.out.println(\"The \" + latKeyName + \" of sighting at timestamp \" + lookupMapKey + \": \" + whaleSightings.getValue(mapObsBinName));"
   ]
  },
  {
   "cell_type": "markdown",
   "id": "metric-choir",
   "metadata": {},
   "source": [
    "## Drill down into a List or Map\n",
    "Here are the options to drill down into a CDT.\n",
    "\n",
    "Drilling down to a CTX in a List:\n",
    "* `listIndex`: Lookup list by index offset.\n",
    "* `listRank`: Lookup list by rank.\n",
    "* `listValue`: Lookup list by value.\n",
    "\n",
    "Drilling down to a CTX in a Map: \n",
    "* `mapIndex`: Lookup map by index offset.\n",
    "* `mapRank`: Lookup map by rank.\n",
    "* `mapValue`: Lookup map by value.\n",
    "\n",
    "\n",
    "The following is an example of drilling down within a List and Map CTX:"
   ]
  },
  {
   "cell_type": "code",
   "execution_count": 7,
   "id": "extensive-chocolate",
   "metadata": {},
   "outputs": [
    {
     "name": "stdout",
     "output_type": "stream",
     "text": [
      "The whale migration list is: [[1420, beluga whale, Beaufort Sea, Bering Sea], [13988, gray whale, Baja California, Chukchi Sea], [1278, north pacific right whale, Japan, Sea of Okhotsk], [5100, humpback whale, Columbia, Antarctic Peninsula], [3100, southern hemisphere blue whale, Corcovado Gulf, The Galapagos]]\n",
      "\n",
      "The whale name from the CTX selected by index 2: north pacific right whale\n",
      "The whale name from the CTX selected by rank 1: beluga whale\n",
      "The whale name from the CTX selected by value [13988, gray whale, Baja California, Chukchi Sea]: gray whale\n",
      "\n",
      "\n",
      "The observation map is: {12345={lat=-85, long=-130}, 13456={lat=-25, long=-50}, 14567={lat=35, long=30}}\n",
      "\n",
      "The longitude of the observation from the CTX selected by index 2: 30\n",
      "The longitude of the observation from the CTX selected by rank 1: -50\n",
      "The longitude of the observation from the CTX selected by value {lat=-85, long=-130}: -130\n"
     ]
    }
   ],
   "source": [
    "import com.aerospike.client.cdt.ListReturnType;\n",
    "\n",
    "// CDT Drilldown Values\n",
    "\n",
    "Integer drilldownIndex = 2;\n",
    "Integer drilldownRank = 1;\n",
    "Value listDrilldownValue = Value.get(whaleMigration1);\n",
    "Value mapDrilldownValue = Value.get(mapCoords0);\n",
    "\n",
    "// Variables to access parts of the selected CDT.\n",
    "\n",
    "Integer getIndex = 1;\n",
    "\n",
    "Record theRecord = client.get(null, whaleKey);\n",
    "Record drilldown = client.operate(client.writePolicyDefault, whaleKey, \n",
    "    ListOperation.getByIndex(listWhaleBinName, getIndex, MapReturnType.VALUE, CTX.listIndex(drilldownIndex)),\n",
    "    ListOperation.getByIndex(listWhaleBinName, getIndex, MapReturnType.VALUE, CTX.listRank(drilldownRank)),\n",
    "    ListOperation.getByIndex(listWhaleBinName, getIndex, MapReturnType.VALUE, CTX.listValue(listDrilldownValue)),\n",
    "    MapOperation.getByIndex(mapObsBinName, getIndex, MapReturnType.VALUE, CTX.mapIndex(drilldownIndex)),\n",
    "    MapOperation.getByIndex(mapObsBinName, getIndex, MapReturnType.VALUE, CTX.mapRank(drilldownRank)),\n",
    "    MapOperation.getByIndex(mapObsBinName, getIndex, MapReturnType.VALUE, CTX.mapValue(mapDrilldownValue))\n",
    "    );\n",
    "\n",
    "List<?> returnWhaleList = drilldown.getList(listWhaleBinName);\n",
    "List<?> returnObsList = drilldown.getList(mapObsBinName); \n",
    "\n",
    "System.out.println(\"The whale migration list is: \" + theRecord.getValue(listWhaleBinName) + \"\\n\");\n",
    "System.out.println(\"The whale name from the CTX selected by index \" + drilldownIndex + \": \" + returnWhaleList.get(0));\n",
    "System.out.println(\"The whale name from the CTX selected by rank \" + drilldownRank + \": \" + returnWhaleList.get(1));\n",
    "System.out.println(\"The whale name from the CTX selected by value \" + listDrilldownValue + \": \" + returnWhaleList.get(2) + \"\\n\\n\");\n",
    "\n",
    "\n",
    "System.out.println(\"The observation map is: \" + theRecord.getValue(mapObsBinName) + \"\\n\");\n",
    "System.out.println(\"The longitude of the observation from the CTX selected by index \" + drilldownIndex + \": \" + returnObsList.get(0));\n",
    "System.out.println(\"The longitude of the observation from the CTX selected by rank \" + drilldownRank + \": \" + returnObsList.get(1));\n",
    "System.out.println(\"The longitude of the observation from the CTX selected by value \" + mapDrilldownValue + \": \" + returnObsList.get(2));\n"
   ]
  },
  {
   "cell_type": "markdown",
   "id": "affiliated-participation",
   "metadata": {},
   "source": [
    "## Create a CTX Example\n",
    "If the context for the operation does not yet exist, it can be created using the following methods.\n",
    "\n",
    "Creating a CTX in a List or Map:\n",
    "* `listIndexCreate`: Create list by base list's index offset.\n",
    "* `mapKeyCreate`: Create map by base map's key.\n",
    "\n",
    "The following are examples of creating a list and map CTX and then writing data to the new CTX. "
   ]
  },
  {
   "cell_type": "code",
   "execution_count": 8,
   "id": "protective-thread",
   "metadata": {},
   "outputs": [
    {
     "name": "stdout",
     "output_type": "stream",
     "text": [
      "Before, the whale migration list was: [[1420, beluga whale, Beaufort Sea, Bering Sea], [13988, gray whale, Baja California, Chukchi Sea], [1278, north pacific right whale, Japan, Sea of Okhotsk], [5100, humpback whale, Columbia, Antarctic Peninsula], [3100, southern hemisphere blue whale, Corcovado Gulf, The Galapagos]]\n",
      "\n",
      "After the addition, it is:[[1420, beluga whale, Beaufort Sea, Bering Sea], [13988, gray whale, Baja California, Chukchi Sea], [1278, north pacific right whale, Japan, Sea of Okhotsk], [5100, humpback whale, Columbia, Antarctic Peninsula], [3100, southern hemisphere blue whale, Corcovado Gulf, The Galapagos], [1449, sei whale, Greenland, Gulf of Maine]]\n",
      "\n",
      "\n",
      "Before, the observation map was: {12345={lat=-85, long=-130}, 13456={lat=-25, long=-50}, 14567={lat=35, long=30}}\n",
      "\n",
      "After the addition, it is: {12345={lat=-85, long=-130}, 13456={lat=-25, long=-50}, 14567={lat=35, long=30}, 15678={lat=95, long=110}}\n"
     ]
    }
   ],
   "source": [
    "ArrayList<Value> newWhaleMigration = new ArrayList<Value>();\n",
    "newWhaleMigration.add(Value.get(1449));\n",
    "newWhaleMigration.add(Value.get(\"sei whale\"));\n",
    "newWhaleMigration.add(Value.get(\"Greenland\"));\n",
    "newWhaleMigration.add(Value.get(\"Gulf of Maine\"));\n",
    "\n",
    "Integer whaleIndex = 5;\n",
    "\n",
    "HashMap <Value, Value> mapCoords3 = new HashMap <Value, Value>();\n",
    "mapCoords3.put(Value.get(\"lat\"), Value.get(95));\n",
    "mapCoords3.put(Value.get(\"long\"), Value.get(110));\n",
    "\n",
    "\n",
    "Integer newObsKey = 15678;\n",
    "\n",
    "\n",
    "Record createCTX = client.operate(client.writePolicyDefault, whaleKey, \n",
    "    ListOperation.insertItems(listWhaleBinName, 0, newWhaleMigration, CTX.listIndexCreate(whaleIndex, ListOrder.UNORDERED, true)),\n",
    "    MapOperation.putItems(mapObsPolicy, mapObsBinName, mapCoords3, CTX.mapKeyCreate(Value.get(newObsKey), MapOrder.KEY_ORDERED))\n",
    "    );\n",
    "\n",
    "Record postCreate = client.get(null, whaleKey);\n",
    "\n",
    "System.out.println(\"Before, the whale migration list was: \" + theRecord.getValue(listWhaleBinName) + \"\\n\");\n",
    "System.out.println(\"After the addition, it is:\" + postCreate.getValue(listWhaleBinName) + \"\\n\\n\");\n",
    "\n",
    "System.out.println(\"Before, the observation map was: \" + theRecord.getValue(mapObsBinName) + \"\\n\");\n",
    "System.out.println(\"After the addition, it is: \" + postCreate.getValue(mapObsBinName));"
   ]
  },
  {
   "cell_type": "markdown",
   "id": "terminal-terror",
   "metadata": {},
   "source": [
    "# Choosing the Return Type Options for CDTs\n",
    "Operations on CDTs can return different types of data, depending on the return type value specified. A return type can be combined with the INVERTED flag to return all data from the CDT that was not selected by the operation. The following are the [Return Types for Lists](https://docs.aerospike.com/apidocs/java/com/aerospike/client/cdt/ListReturnType.html) and [Maps](https://docs.aerospike.com/apidocs/java/com/aerospike/client/cdt/MapReturnType.html)."
   ]
  },
  {
   "cell_type": "markdown",
   "id": "limited-partner",
   "metadata": {},
   "source": [
    "## Standard Return Type Options for CDTs\n",
    "Aerospike Lists and Maps both provide the following return type options.\n",
    "\n",
    "* `COUNT`: Return count of items selected.\n",
    "* `INDEX`: Return index offset order.\n",
    "* `NONE`: Do not return a result.\n",
    "* `RANK`: Return value order. If the list/map is not ordered, Aerospike will JIT-sort the list/map.\n",
    "* `REVERSE_INDEX`: Return reverse index offset order.\n",
    "* `REVERSE_RANK`: Return value order from a version of the list sorted from maximum to minimum value. If the list is not ordered, Aerospike will JIT-sort the list. \n",
    "* `VALUE`: Return value for single item read and list of values from a range read.\n",
    "\n",
    "All indexes are 0-based, with the last element accessible by index -1. \n",
    "\n",
    "The following is an example demonstrating each possible return type from the same operation."
   ]
  },
  {
   "cell_type": "code",
   "execution_count": 9,
   "id": "plain-nickname",
   "metadata": {},
   "outputs": [
    {
     "name": "stdout",
     "output_type": "stream",
     "text": [
      "The current whale migration list is: [[1420, beluga whale, Beaufort Sea, Bering Sea], [13988, gray whale, Baja California, Chukchi Sea], [1278, north pacific right whale, Japan, Sea of Okhotsk], [5100, humpback whale, Columbia, Antarctic Peninsula], [3100, southern hemisphere blue whale, Corcovado Gulf, The Galapagos], [1449, sei whale, Greenland, Gulf of Maine]]\n",
      "\n",
      "For the whales who migrate between 1400 and 3500 miles...\n",
      "Return COUNT: 3\n",
      "Return INDEX: [0, 4, 5]\n",
      "Return NONE: has no return value.\n",
      "Return RANK: [1, 2, 3]\n",
      "Return REVERSE_INDEX: [5, 1, 0]\n",
      "Return REVERSE_RANK: [2, 3, 4]\n",
      "Return Values: [[1420, beluga whale, Beaufort Sea, Bering Sea], [3100, southern hemisphere blue whale, Corcovado Gulf, The Galapagos], [1449, sei whale, Greenland, Gulf of Maine]]\n"
     ]
    }
   ],
   "source": [
    "ArrayList<Value> lowTuple = new ArrayList<Value>();\n",
    "lowTuple.add(Value.get(1400));\n",
    "lowTuple.add(Value.NULL);\n",
    "\n",
    "ArrayList<Value> highTuple = new ArrayList<Value>();\n",
    "highTuple.add(Value.get(3500));\n",
    "highTuple.add(Value.NULL);\n",
    "\n",
    "Record between1400and3500 = client.operate(client.writePolicyDefault, whaleKey, \n",
    "    ListOperation.getByValueRange(listWhaleBinName, Value.get(lowTuple), Value.get(highTuple), \n",
    "        ListReturnType.COUNT),\n",
    "    ListOperation.getByValueRange(listWhaleBinName, Value.get(lowTuple), Value.get(highTuple), \n",
    "        ListReturnType.INDEX),    \n",
    "    ListOperation.getByValueRange(listWhaleBinName, Value.get(lowTuple), Value.get(highTuple), \n",
    "        ListReturnType.NONE),   \n",
    "    ListOperation.getByValueRange(listWhaleBinName, Value.get(lowTuple), Value.get(highTuple), \n",
    "        ListReturnType.RANK),    \n",
    "    ListOperation.getByValueRange(listWhaleBinName, Value.get(lowTuple), Value.get(highTuple), \n",
    "        ListReturnType.REVERSE_INDEX),    \n",
    "    ListOperation.getByValueRange(listWhaleBinName, Value.get(lowTuple), Value.get(highTuple), \n",
    "        ListReturnType.REVERSE_RANK),    \n",
    "    ListOperation.getByValueRange(listWhaleBinName, Value.get(lowTuple), Value.get(highTuple), \n",
    "        ListReturnType.VALUE)   \n",
    "    );\n",
    "\n",
    "List<?> returnWhaleRange = between1400and3500.getList(listWhaleBinName);\n",
    "\n",
    "System.out.println(\"The current whale migration list is: \" + postCreate.getValue(listWhaleBinName) + \"\\n\");\n",
    "System.out.println(\"For the whales who migrate between 1400 and 3500 miles...\");\n",
    "System.out.println(\"Return COUNT: \" + returnWhaleRange.get(0));\n",
    "System.out.println(\"Return INDEX: \" + returnWhaleRange.get(1));\n",
    "System.out.println(\"Return NONE: has no return value.\");\n",
    "System.out.println(\"Return RANK: \" + returnWhaleRange.get(2));\n",
    "System.out.println(\"Return REVERSE_INDEX: \" + returnWhaleRange.get(3));\n",
    "System.out.println(\"Return REVERSE_RANK: \" + returnWhaleRange.get(4));\n",
    "System.out.println(\"Return Values: \" + returnWhaleRange.get(5));"
   ]
  },
  {
   "cell_type": "markdown",
   "id": "incident-control",
   "metadata": {},
   "source": [
    "## Additional Return Type Options for Maps\n",
    "Because Maps have a replicable key/value structure, Aerospike provides options to return mapkeys or key/value pairs, in addition to value.\n",
    "\n",
    "* `KEY`: Return key for single key read and key list for range read.\n",
    "* `KEY_VALUE`: Return key/value pairs for items.\n",
    "\n",
    "The following is an example demonstrating returning a key or key/value pair."
   ]
  },
  {
   "cell_type": "code",
   "execution_count": 10,
   "id": "oriented-justice",
   "metadata": {},
   "outputs": [
    {
     "name": "stdout",
     "output_type": "stream",
     "text": [
      "The current whale observations map is: {12345={lat=-85, long=-130}, 13456={lat=-25, long=-50}, 14567={lat=35, long=30}, 15678={lat=95, long=110}}\n",
      "\n",
      "For the most recent observation...\n",
      "Return the key: 15678\n",
      "Return key/value pair: [15678={lat=95, long=110}]\n"
     ]
    }
   ],
   "source": [
    "Integer latestObsRank = -1;\n",
    "\n",
    "Record latestWhaleObs = client.operate(client.writePolicyDefault, whaleKey, \n",
    "    MapOperation.getByRank(mapObsBinName, latestObsRank, MapReturnType.KEY),\n",
    "    MapOperation.getByRank(mapObsBinName, latestObsRank, MapReturnType.KEY_VALUE)\n",
    "    );\n",
    "\n",
    "List<?> latestObs = latestWhaleObs.getList(mapObsBinName);\n",
    "\n",
    "System.out.println(\"The current whale observations map is: \" + postCreate.getValue(mapObsBinName) + \"\\n\");\n",
    "System.out.println(\"For the most recent observation...\");\n",
    "System.out.println(\"Return the key: \" + latestObs.get(0));\n",
    "System.out.println(\"Return key/value pair: \" + latestObs.get(1));"
   ]
  },
  {
   "cell_type": "markdown",
   "id": "retired-phase",
   "metadata": {},
   "source": [
    "## Invert the Operation Results for CDT Operations \n",
    "Aerospike also provides the `INVERTED` flag for CDT operations. When `INVERTED` is “logical or”-ed to the return type, the flag instructs a list or map operation to return the return type data for list or Map elements that were not selected by the operation. This flag instructs an operation to act as though a logical NOT operator was applied to the entire operation. \n",
    "\n",
    "The following is an example demonstrating inverted return values.\n"
   ]
  },
  {
   "cell_type": "code",
   "execution_count": 11,
   "id": "junior-lender",
   "metadata": {},
   "outputs": [
    {
     "name": "stdout",
     "output_type": "stream",
     "text": [
      "The current whale migration list is: [[1420, beluga whale, Beaufort Sea, Bering Sea], [13988, gray whale, Baja California, Chukchi Sea], [1278, north pacific right whale, Japan, Sea of Okhotsk], [5100, humpback whale, Columbia, Antarctic Peninsula], [3100, southern hemisphere blue whale, Corcovado Gulf, The Galapagos], [1449, sei whale, Greenland, Gulf of Maine]]\n",
      "\n",
      "For the whales who migrate between 1400 and 3500 miles...\n",
      "Return INVERTED COUNT: 3\n",
      "Return INVERTED INDEX: [1, 2, 3]\n",
      "Return INVERTED NONE: has no return value.\n",
      "Return INVERTED RANK: [0, 4, 5]\n",
      "Return INVERTED REVERSE_INDEX: [4, 3, 2]\n",
      "Return INVERTED REVERSE_RANK: [5, 0, 1]\n",
      "Return INVERTED Values: [[13988, gray whale, Baja California, Chukchi Sea], [1278, north pacific right whale, Japan, Sea of Okhotsk], [5100, humpback whale, Columbia, Antarctic Peninsula]]\n"
     ]
    }
   ],
   "source": [
    "ArrayList<Value> lowTuple = new ArrayList<Value>();\n",
    "lowTuple.add(Value.get(1400));\n",
    "lowTuple.add(Value.NULL);\n",
    "\n",
    "ArrayList<Value> highTuple = new ArrayList<Value>();\n",
    "highTuple.add(Value.get(3500));\n",
    "highTuple.add(Value.NULL);\n",
    "\n",
    "Record between1400and3500 = client.operate(client.writePolicyDefault, whaleKey, \n",
    "    ListOperation.getByValueRange(listWhaleBinName, Value.get(lowTuple), Value.get(highTuple), \n",
    "        ListReturnType.COUNT | ListReturnType.INVERTED),\n",
    "    ListOperation.getByValueRange(listWhaleBinName, Value.get(lowTuple), Value.get(highTuple), \n",
    "        ListReturnType.INDEX | ListReturnType.INVERTED),    \n",
    "    ListOperation.getByValueRange(listWhaleBinName, Value.get(lowTuple), Value.get(highTuple), \n",
    "        ListReturnType.NONE | ListReturnType.INVERTED),   \n",
    "    ListOperation.getByValueRange(listWhaleBinName, Value.get(lowTuple), Value.get(highTuple), \n",
    "        ListReturnType.RANK | ListReturnType.INVERTED),    \n",
    "    ListOperation.getByValueRange(listWhaleBinName, Value.get(lowTuple), Value.get(highTuple), \n",
    "        ListReturnType.REVERSE_INDEX | ListReturnType.INVERTED),    \n",
    "    ListOperation.getByValueRange(listWhaleBinName, Value.get(lowTuple), Value.get(highTuple), \n",
    "        ListReturnType.REVERSE_RANK | ListReturnType.INVERTED),    \n",
    "    ListOperation.getByValueRange(listWhaleBinName, Value.get(lowTuple), Value.get(highTuple), \n",
    "        ListReturnType.VALUE | ListReturnType.INVERTED)   \n",
    "    );\n",
    "\n",
    "List<?> returnWhaleRange = between1400and3500.getList(listWhaleBinName);\n",
    "\n",
    "System.out.println(\"The current whale migration list is: \" + postCreate.getValue(listWhaleBinName) + \"\\n\");\n",
    "System.out.println(\"For the whales who migrate between 1400 and 3500 miles...\");\n",
    "System.out.println(\"Return INVERTED COUNT: \" + returnWhaleRange.get(0));\n",
    "System.out.println(\"Return INVERTED INDEX: \" + returnWhaleRange.get(1));\n",
    "System.out.println(\"Return INVERTED NONE: has no return value.\");\n",
    "System.out.println(\"Return INVERTED RANK: \" + returnWhaleRange.get(2));\n",
    "System.out.println(\"Return INVERTED REVERSE_INDEX: \" + returnWhaleRange.get(3));\n",
    "System.out.println(\"Return INVERTED REVERSE_RANK: \" + returnWhaleRange.get(4));\n",
    "System.out.println(\"Return INVERTED Values: \" + returnWhaleRange.get(5));"
   ]
  },
  {
   "cell_type": "markdown",
   "id": "fossil-stranger",
   "metadata": {},
   "source": [
    "# Highlighting how policies shape application transactions\n",
    "Each data type operation has a write policy which can be set per CDT write/put operation to optionally:\n",
    "* Just-in-time sort the data being operated on. \n",
    "* Apply flags that instruct Aerospike’s transaction write behavior.\n",
    "\n",
    "Create and set a MapPolicy or ListPolicy with the proper sort and write flags to change how Aerospike processes a transaction. "
   ]
  },
  {
   "cell_type": "markdown",
   "id": "premier-slope",
   "metadata": {},
   "source": [
    "## MapOrder and ListOrder, Just-in-time Sorting for an Operation \n",
    "By default, Maps and Lists are stored unordered. There are explicit techniques to store a list or map in order. The Map data in this notebook is key sorted. Please refer to the code snippet creating the map data (above) for an example of this. There are examples of ordering lists in the notebook [Modeling Using Lists](./java-modeling_using_lists.ipynb). \n",
    "\n",
    "Applying a MapOrder or ListOrder has performance implications on operation performance. This can be a reason to apply a MapOrder or ListOrder when working with data. To understand the relative worst-case time complexity of Aerospike operations go [here for lists](https://docs.aerospike.com/docs/guide/cdt-list-performance.html) and [here for maps](https://docs.aerospike.com/docs/guide/cdt-map-performance.html). \n",
    "\n",
    "Whether to allow duplicates in a list is a function of ListOrder.\n",
    "\n",
    "**Note:** Aerospike finds that worst-case performance can be helpful in determining how to prioritize application use-cases against one another, but do not set realistic performance expectations for Aerospike Database. An example where they help is asking tough questions, like, “the worst case time complexity for operation A is X, is operation A important enough to do daily or just monthly in light of the other workloads that are more time sensitive?”\n"
   ]
  },
  {
   "cell_type": "markdown",
   "id": "major-astrology",
   "metadata": {},
   "source": [
    "## Write Flags\n",
    "The following are lists of [write flags for Lists](https://docs.aerospike.com/apidocs/java/com/aerospike/client/cdt/ListWriteFlags.html) and [Maps](https://docs.aerospike.com/apidocs/java/com/aerospike/client/cdt/MapWriteFlags.html). Beneath each are example transactions. \n",
    "\n",
    "A powerful use case for Aerospike is to group operations together into single-record atomic transactions using the `Operate` method. This technique is used above in this notebook. When applying transactions to data, there are common circumstances where:\n",
    "* All possible operations should be executed in a fault tolerant manner \n",
    "* Specific operation failure should cause all operations to fail\n",
    "\n",
    "Write flags can be used in any combination, as appropriate to the application and Aerospike operation being applied."
   ]
  },
  {
   "cell_type": "markdown",
   "id": "prospective-oxide",
   "metadata": {},
   "source": [
    "### Write Flags for all CDTs\n",
    "* `DEFAULT`\n",
    "   * For Lists, allow duplicate values and insertions at any index. \n",
    "   * For Maps, allow map create or updates.\n",
    "* `NO_FAIL`: Do not raise an error if a CDT item is denied due to write flag constraints.\n",
    "* `PARTIAL`: Allow other valid CDT items to be committed if a CDT item is denied due to write flag constraints.\n",
    "\n",
    "These flags provide fault tolerance to transactions. Apply some combination of the above three flags–`DEFAULT`, `NO_FAIL`, and `PARTIAL`–to operations by using “logical or” as demonstrated below. All other write flags set conditions for operations. \n",
    "\n",
    "**Note:** Without `NO_FAIL`, operations that fail due to the below policies will throw [either error code 24 or 26](https://docs.aerospike.com/docs/dev_reference/error_codes.html)."
   ]
  },
  {
   "cell_type": "markdown",
   "id": "improved-threat",
   "metadata": {},
   "source": [
    "#### Default Examples"
   ]
  },
  {
   "cell_type": "markdown",
   "id": "abstract-extent",
   "metadata": {},
   "source": [
    "All of the above code snippets use a Default write flag policy. These operations are unrestricted by write policies."
   ]
  },
  {
   "cell_type": "markdown",
   "id": "pointed-scientist",
   "metadata": {},
   "source": [
    "#### No Fail Examples"
   ]
  },
  {
   "cell_type": "markdown",
   "id": "linear-brief",
   "metadata": {},
   "source": [
    "All of the examples in the following sections show both an exception caused by a write flag, and then pair the demonstrated write flag with No Fail to show how the same operation can fail silently."
   ]
  },
  {
   "cell_type": "markdown",
   "id": "personalized-sentence",
   "metadata": {},
   "source": [
    "#### Partial Flag Example"
   ]
  },
  {
   "cell_type": "markdown",
   "id": "legal-argument",
   "metadata": {},
   "source": [
    "Partial is generally used only in a transaction containing operations using the No Fail write flag. Otherwise, the transaction would contain no failures to overlook. The following example are a list and map transaction combining both failing and successful map and list operations. "
   ]
  },
  {
   "cell_type": "code",
   "execution_count": 12,
   "id": "juvenile-psychology",
   "metadata": {},
   "outputs": [
    {
     "name": "stdout",
     "output_type": "stream",
     "text": [
      "Failed to add a 5th item.\n",
      "Succeeded at changing the first item.\n",
      "\n",
      "Original List: [[1420, beluga whale, Beaufort Sea, Bering Sea], [13988, gray whale, Baja California, Chukchi Sea], [1278, north pacific right whale, Japan, Sea of Okhotsk], [5100, humpback whale, Columbia, Antarctic Peninsula], [3100, southern hemisphere blue whale, Corcovado Gulf, The Galapagos]]\n",
      "\n",
      "Updated List: [[1449, sei whale, Greenland, Gulf of Maine], [13988, gray whale, Baja California, Chukchi Sea], [1278, north pacific right whale, Japan, Sea of Okhotsk], [5100, humpback whale, Columbia, Antarctic Peninsula], [3100, southern hemisphere blue whale, Corcovado Gulf, The Galapagos]]\n",
      "\n",
      "\n",
      "Failed to modify an exiting observation.\n",
      "Succeeded at adding a new observation.\n",
      "\n",
      "Original Map: {12345={lat=-85, long=-130}, 13456={lat=-25, long=-50}, 14567={lat=35, long=30}}\n",
      "\n",
      "Updated Map: {12345={lat=-85, long=-130}, 13456={lat=-25, long=-50}, 14567={lat=35, long=30}, 15678={lat=95, long=110}}\n",
      "\n",
      "For more about the failed operations, see the examples below.\n"
     ]
    }
   ],
   "source": [
    "// create policy to apply and data to trigger operation failure\n",
    "Integer inBoundsIndex = 0;\n",
    "Integer outOfBoundsIndex = 20;\n",
    "\n",
    "HashMap <Value, Value> mapCoords4 = new HashMap <Value, Value>();\n",
    "mapCoords4.put(Value.get(\"lat\"), Value.get(0));\n",
    "mapCoords4.put(Value.get(\"long\"), Value.get(0));\n",
    "\n",
    "Integer existingObsKey = 13456;\n",
    "\n",
    "Integer listPartialWriteFlags = ListWriteFlags.INSERT_BOUNDED \n",
    "                                | ListWriteFlags.NO_FAIL \n",
    "                                | ListWriteFlags.PARTIAL;\n",
    "ListPolicy listPartialWritePolicy = new ListPolicy(ListOrder.UNORDERED, listPartialWriteFlags);\n",
    "\n",
    "Integer mapPartialWriteFlags = MapWriteFlags.CREATE_ONLY \n",
    "                                | MapWriteFlags.NO_FAIL \n",
    "                                | MapWriteFlags.PARTIAL;\n",
    "MapPolicy mapPartialWritePolicy = new MapPolicy(MapOrder.KEY_ORDERED, mapPartialWriteFlags);\n",
    "\n",
    "\n",
    "// create fresh record\n",
    "Integer partialFlagKeyName = 6;\n",
    "Key partialFlagKey = new Key(nestedCDTNamespaceName, nestedCDTSetName, partialFlagKeyName);\n",
    "\n",
    "Bin bin1 = new Bin(listWhaleBinName, whaleMigration);\n",
    "Record putDataIn = client.operate(null, partialFlagKey,\n",
    "        Operation.put(bin1),\n",
    "        MapOperation.putItems(mapObsPolicy, mapObsBinName, mapObs)\n",
    "    );\n",
    "Record partialDataPutIn = client.get(client.writePolicyDefault, partialFlagKey);\n",
    "\n",
    "\n",
    "// one failed and one successful operation for both list and map\n",
    "Record partialSuccessOp = client.operate(null, partialFlagKey,\n",
    "        ListOperation.insert(listPartialWritePolicy, listWhaleBinName, outOfBoundsIndex, Value.get(newWhaleMigration)),\n",
    "        ListOperation.set(listPartialWritePolicy, listWhaleBinName, inBoundsIndex, Value.get(newWhaleMigration)),        \n",
    "        MapOperation.put(mapPartialWritePolicy, mapObsBinName, Value.get(existingObsKey), Value.get(mapCoords4)),\n",
    "        MapOperation.put(mapPartialWritePolicy, mapObsBinName, Value.get(newObsKey), Value.get(mapCoords3))\n",
    "    );\n",
    "Record partialSuccessData = client.get(client.writePolicyDefault, partialFlagKey);\n",
    "System.out.println (\"Failed to add a 5th item.\\nSucceeded at changing the first item.\\n\");\n",
    "System.out.println (\"Original List: \" + partialDataPutIn.getValue(listWhaleBinName) + \"\\n\");\n",
    "System.out.println (\"Updated List: \" + partialSuccessData.getValue(listWhaleBinName) + \"\\n\\n\"); \n",
    "System.out.println (\"Failed to modify an exiting observation.\\nSucceeded at adding a new observation.\\n\");\n",
    "System.out.println (\"Original Map: \" + partialDataPutIn.getValue(mapObsBinName) + \"\\n\");\n",
    "System.out.println (\"Updated Map: \" + partialSuccessData.getValue(mapObsBinName) + \"\\n\\nFor more about the failed operations, see the examples below.\");\n",
    "\n",
    "Boolean partialExampleRecordDeleted=client.delete(null, partialFlagKey);\n"
   ]
  },
  {
   "cell_type": "markdown",
   "id": "operational-ozone",
   "metadata": {},
   "source": [
    "### Write Flags for Lists Only:\n",
    "* `INSERT_BOUNDED`: Enforce list boundaries when inserting. Do not allow values to be inserted at index outside current list boundaries.\n",
    "* `ADD_UNIQUE`: Only add unique values. "
   ]
  },
  {
   "cell_type": "markdown",
   "id": "nearby-latvia",
   "metadata": {},
   "source": [
    "#### Insert Bounded Example"
   ]
  },
  {
   "cell_type": "code",
   "execution_count": 13,
   "id": "complicated-enforcement",
   "metadata": {
    "scrolled": true
   },
   "outputs": [
    {
     "name": "stdout",
     "output_type": "stream",
     "text": [
      "Data in the record: [[1420, beluga whale, Beaufort Sea, Bering Sea], [13988, gray whale, Baja California, Chukchi Sea], [1278, north pacific right whale, Japan, Sea of Okhotsk], [5100, humpback whale, Columbia, Antarctic Peninsula], [3100, southern hemisphere blue whale, Corcovado Gulf, The Galapagos]]\n",
      "\n",
      "Out of Bounds Attempt 1: Exception caught.\n",
      "Out of Bounds Attempt 2: No operation was executed. Error was suppressed by NO_FAIL.\n",
      "\n",
      "Without Insert Bounded, a series of nulls is insein the Bin: [[1420, beluga whale, Beaufort Sea, Bering Sea], [13988, gray whale, Baja California, Chukchi Sea], [1278, north pacific right whale, Japan, Sea of Okhotsk], [5100, humpback whale, Columbia, Antarctic Peninsula], [3100, southern hemisphere blue whale, Corcovado Gulf, The Galapagos], null, null, null, null, null, null, null, null, null, null, null, null, null, null, null, [1449, sei whale, Greenland, Gulf of Maine]]\n"
     ]
    }
   ],
   "source": [
    "// create policy to apply and data to break policy\n",
    "Integer outOfBoundsIndex = 20;\n",
    "\n",
    "ListPolicy listInsertBoundedPolicy = new ListPolicy(ListOrder.UNORDERED, ListWriteFlags.INSERT_BOUNDED);\n",
    "ListPolicy listBoundedNoFailPolicy = new ListPolicy(ListOrder.UNORDERED, ListWriteFlags.INSERT_BOUNDED \n",
    "                                                                            | ListWriteFlags.NO_FAIL);\n",
    "\n",
    "// create fresh record\n",
    "Integer whaleBoundedKeyName = 7;\n",
    "\n",
    "Bin bin1 = new Bin(listWhaleBinName, whaleMigration);\n",
    "\n",
    "Key whaleBoundedKey = new Key(nestedCDTNamespaceName, nestedCDTSetName, whaleBoundedKeyName);\n",
    "\n",
    "client.put(client.writePolicyDefault, whaleBoundedKey, bin1);\n",
    "Record ibDataPutIn = client.get(null, whaleBoundedKey);\n",
    "System.out.println(\"Data in the record: \" + ibDataPutIn.getValue(listWhaleBinName) + \"\\n\");\n",
    "\n",
    "\n",
    "// fail for INSERT_BOUNDED\n",
    "try {\n",
    "    Record ibFail = client.operate(client.writePolicyDefault, whaleBoundedKey,\n",
    "        ListOperation.insert(listInsertBoundedPolicy, listWhaleBinName, outOfBoundsIndex, Value.get(newWhaleMigration))\n",
    "    );\n",
    "    System.out.println(\"The code does not get here.\");\n",
    "} \n",
    "catch(Exception e) {\n",
    "    System.out.println(\"Out of Bounds Attempt 1: Exception caught.\");\n",
    "    Record ibNoFail = client.operate(client.writePolicyDefault, whaleBoundedKey,\n",
    "        ListOperation.insert(listBoundedNoFailPolicy, listWhaleBinName, outOfBoundsIndex, Value.get(newWhaleMigration))\n",
    "    );\n",
    "    Record ibNoFailData = client.get(client.writePolicyDefault, whaleBoundedKey);\n",
    "    if(ibNoFailData.getValue(listWhaleBinName).equals(ibDataPutIn.getValue(listWhaleBinName))) {\n",
    "        System.out.println(\"Out of Bounds Attempt 2: No operation was executed. Error was suppressed by NO_FAIL.\\n\");\n",
    "    }\n",
    "}\n",
    "\n",
    "Record noIB = client.operate(client.writePolicyDefault, whaleBoundedKey,\n",
    "        ListOperation.insert(listWhaleBinName, outOfBoundsIndex, Value.get(newWhaleMigration))\n",
    ");\n",
    "Record noIBData = client.get(null, whaleBoundedKey);\n",
    "System.out.println(\"Without Insert Bounded, a series of nulls is insein the Bin: \" + noIBData.getValue(listWhaleBinName));"
   ]
  },
  {
   "cell_type": "markdown",
   "id": "human-premiere",
   "metadata": {},
   "source": [
    "#### Add Unique Example"
   ]
  },
  {
   "cell_type": "code",
   "execution_count": 14,
   "id": "existing-executive",
   "metadata": {},
   "outputs": [
    {
     "name": "stdout",
     "output_type": "stream",
     "text": [
      "Data after the unique add of [1449, sei whale, Greenland, Gulf of Maine]: [[1420, beluga whale, Beaufort Sea, Bering Sea], [13988, gray whale, Baja California, Chukchi Sea], [1278, north pacific right whale, Japan, Sea of Okhotsk], [5100, humpback whale, Columbia, Antarctic Peninsula], [3100, southern hemisphere blue whale, Corcovado Gulf, The Galapagos], [1449, sei whale, Greenland, Gulf of Maine]]\n",
      "\n",
      "Non-Unique Add 1: Exception caught.\n",
      "Non-Unique Add 2: No operation was executed. Error was suppressed by NO_FAIL.\n",
      "\n",
      "Without Add Unique here, the tuple for a sei whale is there 2x: [[1420, beluga whale, Beaufort Sea, Bering Sea], [13988, gray whale, Baja California, Chukchi Sea], [1278, north pacific right whale, Japan, Sea of Okhotsk], [5100, humpback whale, Columbia, Antarctic Peninsula], [3100, southern hemisphere blue whale, Corcovado Gulf, The Galapagos], [1449, sei whale, Greenland, Gulf of Maine], [1449, sei whale, Greenland, Gulf of Maine]]\n"
     ]
    }
   ],
   "source": [
    "// create policy to apply\n",
    "ListPolicy listAddUniquePolicy = new ListPolicy(ListOrder.UNORDERED, ListWriteFlags.ADD_UNIQUE);\n",
    "ListPolicy listAddUniqueNoFailPolicy = new ListPolicy(ListOrder.UNORDERED, ListWriteFlags.ADD_UNIQUE \n",
    "                                                                            | ListWriteFlags.NO_FAIL);\n",
    "\n",
    "// create fresh record\n",
    "Integer whaleAddUniqueKeyName = 8;\n",
    "Bin bin1 = new Bin(listWhaleBinName, whaleMigration);\n",
    "Key whaleAddUniqueKey = new Key(nestedCDTNamespaceName, nestedCDTSetName, whaleAddUniqueKeyName);\n",
    "client.put(client.writePolicyDefault, whaleAddUniqueKey, bin1);\n",
    "Record auDataPutIn = client.get(null, whaleAddUniqueKey);\n",
    "\n",
    "\n",
    "// successful ADD_UNIQUE operation\n",
    "Record auSuccess = client.operate(client.writePolicyDefault, whaleAddUniqueKey,\n",
    "    ListOperation.append(listAddUniquePolicy, listWhaleBinName, Value.get(newWhaleMigration))\n",
    ");\n",
    "Record auSuccessData = client.get(null, whaleAddUniqueKey);\n",
    "\n",
    "System.out.println(\"Data after the unique add of \" + newWhaleMigration + \": \" + auSuccessData.getValue(listWhaleBinName) + \"\\n\");\n",
    "\n",
    "\n",
    "// fail for 2nd ADD_UNIQUE\n",
    "try {\n",
    "    Record auFail = client.operate(client.writePolicyDefault, whaleAddUniqueKey,\n",
    "        ListOperation.append(listAddUniquePolicy, listWhaleBinName, Value.get(newWhaleMigration))\n",
    "    );\n",
    "    System.out.println(\"The code does not get here.\");\n",
    "}\n",
    "catch(Exception e) {\n",
    "    System.out.println(\"Non-Unique Add 1: Exception caught.\");\n",
    "    Record auNoFail = client.operate(client.writePolicyDefault, whaleAddUniqueKey,\n",
    "        ListOperation.append(listAddUniqueNoFailPolicy, listWhaleBinName, Value.get(newWhaleMigration))\n",
    "    );\n",
    "    Record auNoFailData = client.get(null, whaleAddUniqueKey);\n",
    "    if(auNoFailData.getValue(listWhaleBinName).equals(auSuccessData.getValue(listWhaleBinName))) {\n",
    "        System.out.println(\"Non-Unique Add 2: No operation was executed. Error was suppressed by NO_FAIL.\\n\");\n",
    "    }\n",
    "}\n",
    "\n",
    "Record noAU = client.operate(client.writePolicyDefault, whaleAddUniqueKey,\n",
    "        ListOperation.append(listWhaleBinName, Value.get(newWhaleMigration))\n",
    ");\n",
    "Record noAUData = client.get(null, whaleAddUniqueKey);\n",
    "System.out.println(\"Without Add Unique here, the tuple for a sei whale is there 2x: \" + noAUData.getValue(listWhaleBinName));"
   ]
  },
  {
   "cell_type": "markdown",
   "id": "engaged-example",
   "metadata": {},
   "source": [
    "### Write Flags for Maps Only:\n",
    "* `CREATE_ONLY`: If the key already exists, the item will be denied.\n",
    "* `UPDATE_ONLY`: If the key already exists, the item will be overwritten. If the key does not exist, the item will be denied."
   ]
  },
  {
   "cell_type": "markdown",
   "id": "civil-wages",
   "metadata": {},
   "source": [
    "#### Create Only Example"
   ]
  },
  {
   "cell_type": "code",
   "execution_count": 15,
   "id": "studied-welding",
   "metadata": {},
   "outputs": [
    {
     "name": "stdout",
     "output_type": "stream",
     "text": [
      "Created record and new key 15678. The data is now: {12345={lat=-85, long=-130}, 13456={lat=-25, long=-50}, 14567={lat=35, long=30}, 15678={lat=95, long=110}}\n",
      "\n",
      "Update attempt 1: Exception caught.\n",
      "Update attempt 2: No operation was executed. Error was suppressed by NO_FAIL.\n",
      "\n",
      "Without Create Only, the observation at 15678 is overwritten: {12345={lat=-85, long=-130}, 13456={lat=-25, long=-50}, 14567={lat=35, long=30}, 15678={lat=0, long=0}}\n"
     ]
    }
   ],
   "source": [
    "// create modify data and policy to apply\n",
    "HashMap <Value, Value> mapCoords4 = new HashMap <Value, Value>();\n",
    "mapCoords4.put(Value.get(\"lat\"), Value.get(0));\n",
    "mapCoords4.put(Value.get(\"long\"), Value.get(0));\n",
    "\n",
    "MapPolicy mapCreateOnlyPolicy = new MapPolicy(MapOrder.KEY_ORDERED, MapWriteFlags.CREATE_ONLY);\n",
    "MapPolicy mapCreateOnlyNoFailPolicy = new MapPolicy(MapOrder.KEY_ORDERED, MapWriteFlags.CREATE_ONLY \n",
    "                                                                            | MapWriteFlags.NO_FAIL);\n",
    "\n",
    "// create fresh record\n",
    "Integer obsCreateOnlyKeyName = 9;\n",
    "Key obsCreateOnlyKey = new Key(nestedCDTNamespaceName, nestedCDTSetName, obsCreateOnlyKeyName);\n",
    "Record putDataIn = client.operate(client.writePolicyDefault, obsCreateOnlyKey,\n",
    "    MapOperation.putItems(mapObsPolicy, mapObsBinName, mapObs)\n",
    "    );\n",
    "Record coDataPutIn = client.get(null, obsCreateOnlyKey);\n",
    "\n",
    "\n",
    "// success for CREATE_ONLY\n",
    "Record coSuccess = client.operate(client.writePolicyDefault, obsCreateOnlyKey,\n",
    "    MapOperation.put(mapCreateOnlyPolicy, mapObsBinName, Value.get(newObsKey), Value.get(mapCoords3))\n",
    ");\n",
    "Record coSuccessData = client.get(null, obsCreateOnlyKey);\n",
    "System.out.println(\"Created record and new key \" + newObsKey + \". The data is now: \" + coSuccessData.getValue(mapObsBinName) + \"\\n\");\n",
    "\n",
    "\n",
    "// fail for CREATE_ONLY\n",
    "try {\n",
    "    Record coFail = client.operate(client.writePolicyDefault, obsCreateOnlyKey,\n",
    "        MapOperation.put(mapCreateOnlyPolicy, mapObsBinName, Value.get(newObsKey), Value.get(mapCoords4))\n",
    "    );\n",
    "    System.out.println(\"The code does not get here.\");\n",
    "}\n",
    "catch(Exception e) {\n",
    "    System.out.println(\"Update attempt 1: Exception caught.\");\n",
    "    Record coNoFail = client.operate(client.writePolicyDefault, obsCreateOnlyKey,\n",
    "        MapOperation.put(mapCreateOnlyNoFailPolicy, mapObsBinName, Value.get(newObsKey), Value.get(mapCoords4))\n",
    "    );\n",
    "    Record coNoFailData = client.get(null, obsCreateOnlyKey);\n",
    "    if(coNoFailData.getValue(mapObsBinName).equals(coSuccessData.getValue(mapObsBinName))) {\n",
    "        System.out.println(\"Update attempt 2: No operation was executed. Error was suppressed by NO_FAIL.\\n\");\n",
    "    }\n",
    "}\n",
    "\n",
    "Record noCO = client.operate(client.writePolicyDefault, obsCreateOnlyKey, \n",
    "    MapOperation.put(mapObsPolicy, mapObsBinName, Value.get(newObsKey), Value.get(mapCoords4))\n",
    ");\n",
    "Record noCOData = client.get(null, obsCreateOnlyKey);\n",
    "System.out.println(\"Without Create Only, the observation at 15678 is overwritten: \" + noCOData.getValue(mapObsBinName));\n",
    "\n",
    "Boolean createOnlyExampleRecordDeleted=client.delete(null, obsCreateOnlyKey);"
   ]
  },
  {
   "cell_type": "markdown",
   "id": "measured-forum",
   "metadata": {},
   "source": [
    "#### Update Only Example"
   ]
  },
  {
   "cell_type": "code",
   "execution_count": 16,
   "id": "adopted-right",
   "metadata": {},
   "outputs": [
    {
     "name": "stdout",
     "output_type": "stream",
     "text": [
      "Created record: {12345={lat=-85, long=-130}, 13456={lat=-25, long=-50}, 14567={lat=35, long=30}}\n",
      "\n",
      "Create Attempt 1: Exception caught.\n",
      "Create Attempt 2: No operation was executed. Error was suppressed by NO_FAIL.\n",
      "\n",
      "Using update only, the value of an existing key 13456 can be updated: {12345={lat=-85, long=-130}, 13456={lat=0, long=0}, 14567={lat=35, long=30}, 15678={lat=95, long=110}}\n",
      "\n"
     ]
    }
   ],
   "source": [
    "// create policy to apply\n",
    "MapPolicy mapUpdateOnlyPolicy = new MapPolicy(MapOrder.KEY_ORDERED, MapWriteFlags.UPDATE_ONLY);\n",
    "MapPolicy mapUpdateOnlyNoFailPolicy = new MapPolicy(MapOrder.KEY_ORDERED, MapWriteFlags.UPDATE_ONLY \n",
    "                                                                            | MapWriteFlags.NO_FAIL);\n",
    "\n",
    "// create Aerospike data elements for a fresh record\n",
    "Integer obsUpdateOnlyKeyName = 10;\n",
    "Key obsUpdateOnlyKey = new Key(nestedCDTNamespaceName, nestedCDTSetName, obsUpdateOnlyKeyName);\n",
    "\n",
    "Record uoPutDataIn = client.operate(client.writePolicyDefault, obsUpdateOnlyKey,\n",
    "    MapOperation.putItems(mapObsPolicy, mapObsBinName, mapObs)\n",
    "    );\n",
    "Record uoDataPutIn = client.get(null, obsUpdateOnlyKey);\n",
    "System.out.println(\"Created record: \" + uoDataPutIn.getValue(mapObsBinName) + \"\\n\");\n",
    "\n",
    "\n",
    "// fail for UPDATE_ONLY\n",
    "try {\n",
    "    Record uoFail = client.operate(client.writePolicyDefault, obsUpdateOnlyKey,\n",
    "        MapOperation.put(mapUpdateOnlyPolicy, mapObsBinName, Value.get(newObsKey), Value.get(mapCoords3))\n",
    "    );\n",
    "    System.out.println(\"The code does not get here.\");\n",
    "}\n",
    "catch(Exception e) {\n",
    "    System.out.println(\"Create Attempt 1: Exception caught.\");\n",
    "    Record uoNoFail = client.operate(client.writePolicyDefault, obsUpdateOnlyKey,\n",
    "        MapOperation.put(mapUpdateOnlyNoFailPolicy, mapObsBinName, Value.get(newObsKey), Value.get(mapCoords3))\n",
    "    );\n",
    "    Record uoNoFailData = client.get(null, obsUpdateOnlyKey);\n",
    "    if(uoNoFailData.getValue(mapObsBinName).equals(uoDataPutIn.getValue(mapObsBinName))){\n",
    "        System.out.println(\"Create Attempt 2: No operation was executed. Error was suppressed by NO_FAIL.\\n\");\n",
    "    }\n",
    "}\n",
    "\n",
    "Record noUO = client.operate(client.writePolicyDefault, obsUpdateOnlyKey, \n",
    "        MapOperation.put(mapObsPolicy, mapObsBinName, Value.get(newObsKey), Value.get(mapCoords3))\n",
    ");\n",
    "Record noUOData = client.get(null, obsUpdateOnlyKey);\n",
    "\n",
    "// success for UPDATE_ONLY\n",
    "Record uoSuccess = client.operate(client.writePolicyDefault, obsUpdateOnlyKey,\n",
    "    MapOperation.put(mapUpdateOnlyPolicy, mapObsBinName, Value.get(existingObsKey), Value.get(mapCoords4))\n",
    ");\n",
    "Record uoSuccessData = client.get(null, obsUpdateOnlyKey);\n",
    "System.out.println(\"Using update only, the value of an existing key \" + existingObsKey + \" can be updated: \" + uoSuccessData.getValue(mapObsBinName) + \"\\n\");\n",
    "\n",
    "Boolean uoExampleRecordDeleted=client.delete(null, obsUpdateOnlyKey);"
   ]
  },
  {
   "cell_type": "markdown",
   "id": "organizational-shelter",
   "metadata": {
    "heading_collapsed": true
   },
   "source": [
    "# Notebook Cleanup"
   ]
  },
  {
   "cell_type": "markdown",
   "id": "bigger-little",
   "metadata": {
    "hidden": true
   },
   "source": [
    "### Truncate the Set\n",
    "Truncate the set from the Aerospike Database."
   ]
  },
  {
   "cell_type": "code",
   "execution_count": 17,
   "id": "light-division",
   "metadata": {
    "hidden": true
   },
   "outputs": [
    {
     "name": "stdout",
     "output_type": "stream",
     "text": [
      "Set Truncated.\n"
     ]
    }
   ],
   "source": [
    "import com.aerospike.client.policy.InfoPolicy;\n",
    "InfoPolicy infoPolicy = new InfoPolicy();\n",
    "\n",
    "client.truncate(infoPolicy, nestedCDTNamespaceName, nestedCDTSetName, null);\n",
    "System.out.println(\"Set Truncated.\");"
   ]
  },
  {
   "cell_type": "markdown",
   "id": "irish-elimination",
   "metadata": {
    "hidden": true
   },
   "source": [
    "### Close the Client connections to Aerospike"
   ]
  },
  {
   "cell_type": "code",
   "execution_count": 18,
   "id": "offensive-professional",
   "metadata": {
    "hidden": true
   },
   "outputs": [
    {
     "name": "stdout",
     "output_type": "stream",
     "text": [
      "Server connection(s) closed.\n"
     ]
    }
   ],
   "source": [
    "client.close();\n",
    "System.out.println(\"Server connection(s) closed.\");"
   ]
  },
  {
   "cell_type": "markdown",
   "id": "exempt-aerospace",
   "metadata": {},
   "source": [
    "# Takeaways – CDTs Provide Flexible Document-Oriented Data Power\n",
    "\n",
    "Aerospike Collection Data Types...\n",
    "1. facilitate complex data structures by supporting nesting through the use of contexts (CTXs)\n",
    "2. provide intuitive and flexible return types options from operations\n",
    "3. support policies that empower efficient and flexible transaction processing"
   ]
  },
  {
   "cell_type": "markdown",
   "id": "middle-metropolitan",
   "metadata": {},
   "source": [
    "# What's Next?"
   ]
  },
  {
   "cell_type": "markdown",
   "id": "confirmed-cartoon",
   "metadata": {},
   "source": [
    "## Next Steps\n",
    "\n",
    "Have questions? Don't hesitate to reach out if you have additional questions about data modeling at https://discuss.aerospike.com/c/how-developers-are-using-aerospike/data-modeling/143.\n",
    "\n",
    "Want to check out other Java notebooks?\n",
    "1. [Intro to Transactions](./java-intro_to_transactions.ipynb)\n",
    "2. [Modeling Using Lists](./java-modeling_using_lists.ipynb)\n",
    "3. [Working with Maps](./java-working_with_maps.ipynb)\n",
    "4. [Aerospike Query and UDF](query_udf.ipynb)\n",
    "\n",
    "\n",
    "Are you running this from Binder? [Download the Aerospike Notebook Repo](https://github.com/aerospike-examples/interactive-notebooks) and work with Aerospike Database and Jupyter locally using a Docker container."
   ]
  },
  {
   "cell_type": "markdown",
   "id": "outdoor-settle",
   "metadata": {},
   "source": [
    "## Additional Resources\n",
    "\n",
    "* Want to get started with Java? [Download](https://www.aerospike.com/download/client/) or [install](https://github.com/aerospike/aerospike-client-java) the Aerospike Java Client.  \n",
    "(https://www.aerospike.com/apidocs/java/com/aerospike/client/cdt/MapOperation.html).\n",
    "* What are Namespaces, Sets, and Bins? Check out the [Aerospike Data Model](https://www.aerospike.com/docs/architecture/data-model.html). \n",
    "* How robust is the Aerospike Database? Browses the [Aerospike Database Architecture](https://www.aerospike.com/docs/architecture/index.html)."
   ]
  }
 ],
 "metadata": {
  "kernelspec": {
   "display_name": "Java",
   "language": "java",
   "name": "java"
  },
  "language_info": {
   "codemirror_mode": "java",
   "file_extension": ".jshell",
   "mimetype": "text/x-java-source",
   "name": "Java",
   "pygments_lexer": "java",
   "version": "11.0.8+10-LTS"
  },
  "toc": {
   "base_numbering": 1,
   "nav_menu": {},
   "number_sections": true,
   "sideBar": true,
   "skip_h1_title": false,
   "title_cell": "Table of Contents",
   "title_sidebar": "Contents",
   "toc_cell": false,
   "toc_position": {},
   "toc_section_display": true,
   "toc_window_display": true
  }
 },
 "nbformat": 4,
 "nbformat_minor": 5
}
