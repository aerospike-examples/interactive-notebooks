{
 "cells": [
  {
   "cell_type": "markdown",
   "id": "nutritional-party",
   "metadata": {},
   "source": [
    "# Modeling Using Lists\n",
    "*Last updated: June 22, 2021*\n",
    "\n",
    "Given that each record in Aerospike adds 64 bytes to the index, the intuition is to store maps and lists of data – documents of data – rather than individual values. \n",
    "\n",
    "In particular, a List represents a lightweight record structure that optimizes storage, and Aerospike's List Operations provide an intuitive set of tools to work with document-oriented data. This notebook shares how Aerospike facilitates working with list data, covering the following topics:\n",
    "* Ordering\n",
    "* Value Comparisons\n",
    "* Intervals\n",
    "* Relative Range Rank\n",
    "\n",
    "The above Aerospike capabilities provide significant utility through sorting and ordering lists. This notebook shares how to use lists as a powerful modeling tool and incorporating these strengths. \n",
    "\n",
    "This [Jupyter Notebook](https://jupyter-notebook.readthedocs.io/en/stable/notebook.html) requires the Aerospike Database running locally with Java kernel and Aerospike Java Client. To create a Docker container that satisfies the requirements and holds a copy of these notebooks, visit the [Aerospike Notebooks Repo](https://github.com/aerospike-examples/interactive-notebooks)."
   ]
  },
  {
   "cell_type": "markdown",
   "id": "heavy-significance",
   "metadata": {
    "heading_collapsed": true
   },
   "source": [
    "## Notebook Setup"
   ]
  },
  {
   "cell_type": "markdown",
   "id": "based-exclusive",
   "metadata": {
    "hidden": true
   },
   "source": [
    "### Import Jupyter Java Integration "
   ]
  },
  {
   "cell_type": "code",
   "execution_count": 1,
   "id": "composite-masters",
   "metadata": {
    "hidden": true
   },
   "outputs": [],
   "source": [
    "import io.github.spencerpark.ijava.IJava;\n",
    "import io.github.spencerpark.jupyter.kernel.magic.common.Shell;\n",
    "\n",
    "IJava.getKernelInstance().getMagics().registerMagics(Shell.class);"
   ]
  },
  {
   "cell_type": "markdown",
   "id": "drawn-middle",
   "metadata": {
    "hidden": true
   },
   "source": [
    "### Start Aerospike"
   ]
  },
  {
   "cell_type": "code",
   "execution_count": 2,
   "id": "dying-feature",
   "metadata": {
    "hidden": true
   },
   "outputs": [],
   "source": [
    "%sh asd"
   ]
  },
  {
   "cell_type": "markdown",
   "id": "conservative-messenger",
   "metadata": {
    "hidden": true
   },
   "source": [
    "### Download the Aerospike Java Client"
   ]
  },
  {
   "cell_type": "code",
   "execution_count": 3,
   "id": "future-marsh",
   "metadata": {
    "hidden": true
   },
   "outputs": [],
   "source": [
    "%%loadFromPOM\n",
    "<dependencies>\n",
    "  <dependency>\n",
    "    <groupId>com.aerospike</groupId>\n",
    "    <artifactId>aerospike-client</artifactId>\n",
    "    <version>5.0.0</version>\n",
    "  </dependency>\n",
    "</dependencies>"
   ]
  },
  {
   "cell_type": "markdown",
   "id": "heavy-definition",
   "metadata": {
    "hidden": true
   },
   "source": [
    "### Start the Aerospike Java Client and Connect\n",
    "\n",
    "The default cluster location for the Docker container is *localhost* port *3000*. If your cluster is not running on your local machine, modify *localhost* and *3000* to the values for your Aerospike cluster."
   ]
  },
  {
   "cell_type": "code",
   "execution_count": 4,
   "id": "eligible-trunk",
   "metadata": {
    "hidden": true
   },
   "outputs": [
    {
     "name": "stdout",
     "output_type": "stream",
     "text": [
      "Initialized the client and connected to the cluster.\n"
     ]
    }
   ],
   "source": [
    "import com.aerospike.client.AerospikeClient;\n",
    "\n",
    "AerospikeClient client = new AerospikeClient(\"localhost\", 3000);\n",
    "System.out.println(\"Initialized the client and connected to the cluster.\");"
   ]
  },
  {
   "cell_type": "markdown",
   "id": "abroad-provider",
   "metadata": {},
   "source": [
    "## Unordered Data – Lists Preserve Insertion Order\n",
    "\n",
    "Putting data into an Aerospike **unordered** list preserves the original order. This order can be accessed by **index** operations, and is maintained by adding new data using the **append** operation. Using the **insert** operation to add at an index, inserts before a preexisting list element, and increments the index for the preexisting element and subsequent elements.\n",
    "\n",
    "For more information on list operations, go [here](https://www.aerospike.com/apidocs/java/com/aerospike/client/cdt/ListOperation.html).\n",
    "\n",
    "For more information on map operations, go [here](https://www.aerospike.com/apidocs/java/com/aerospike/client/cdt/MapOperation.html)."
   ]
  },
  {
   "cell_type": "markdown",
   "id": "final-firewall",
   "metadata": {},
   "source": [
    "# Ordered Data – Lists Preserve Rank Order\n",
    "\n",
    "The best practice for ordering a bin is to order it upon creation in Aerospike. When there are few or no items in the list, the computational cost of ordering the bin is smallest. \n",
    "\n",
    "List order can be set at any time using the **setOrder** list operation. \n",
    "\n",
    "To put data into an ordered list, use **append**. Append automatically reorders list elements by rank. Because list order is automatically maintained, Aerospike users cannot use **insert** to place elements into a specific index in an ordered list."
   ]
  },
  {
   "cell_type": "markdown",
   "id": "extensive-twenty",
   "metadata": {},
   "source": [
    "## Performance Implications of Ordering a List\n",
    "\n",
    "When working with real time data at scale, performance is everything and each operation has a performance cost. For List operations, Aerospike provides performance analysis for [all operations](https://www.aerospike.com/docs/guide/cdt-list-performance.html). Because Aerospike was made for real-time data processing of extremely large datasets, analysis is provided in [Big O notation]( https://en.wikipedia.org/wiki/Big_O_notation). All performance estimates are worst-case and not average or best-case numbers. \n",
    "\n",
    "Storing ordered data has its cost and benefits at scale: \n",
    "\n",
    "* An application that has few writes and many reads that use list order can benefit significantly from using server cycles to order data.\n",
    "* An application that has few reads and many writes can benefit significantly from using an unordered list.  \n",
    "\n",
    "Use these estimates when considering how to optimize Aerospike for a particular use case, and not as a comparison to other data products. All of the following factors contribute to overall data product performance:\n",
    "1. Network time from the client to the server.\n",
    "2. Time to pick the command from the network card.\n",
    "3. Time to fetch the object from storage or locate and access it in memory.\n",
    "4. **Time complexity of performing the operation.**\n",
    "5. Time to send the result back to the client over the network"
   ]
  },
  {
   "cell_type": "markdown",
   "id": "failing-sheriff",
   "metadata": {},
   "source": [
    "## Example – Creating Ordered and Unordered Lists"
   ]
  },
  {
   "cell_type": "markdown",
   "id": "finished-minneapolis",
   "metadata": {},
   "source": [
    "### Create a Single Element List `[1]` "
   ]
  },
  {
   "cell_type": "code",
   "execution_count": 5,
   "id": "standing-coral",
   "metadata": {
    "scrolled": true
   },
   "outputs": [
    {
     "name": "stdout",
     "output_type": "stream",
     "text": [
      "Original Integer List: [1]\n"
     ]
    }
   ],
   "source": [
    "import java.util.ArrayList;\n",
    "import java.util.Arrays;\n",
    "import java.util.List;\n",
    "import java.util.Map;\n",
    "\n",
    "ArrayList<Integer> origListInt = new ArrayList<Integer>();\n",
    "origListInt.add(1);\n",
    "\n",
    "System.out.println(\"Original Integer List: \" + origListInt);"
   ]
  },
  {
   "cell_type": "markdown",
   "id": "metropolitan-hartford",
   "metadata": {},
   "source": [
    "### Put The List Into Two Bins"
   ]
  },
  {
   "cell_type": "code",
   "execution_count": 6,
   "id": "close-blade",
   "metadata": {},
   "outputs": [
    {
     "name": "stdout",
     "output_type": "stream",
     "text": [
      "Put list into record with bins: ordered and unordered\n"
     ]
    }
   ],
   "source": [
    "import com.aerospike.client.Key;\n",
    "import com.aerospike.client.Bin;\n",
    "import com.aerospike.client.policy.ClientPolicy;\n",
    "\n",
    "Integer theKey = 0;\n",
    "String listModelSet = \"listmodelset\";\n",
    "String listModelNamespace = \"test\";\n",
    "String orderedBinName = \"ordered\";\n",
    "String unorderedBinName = \"unordered\";\n",
    "ClientPolicy clientPolicy = new ClientPolicy();\n",
    "\n",
    "Key key = new Key(listModelNamespace, listModelSet, theKey);\n",
    "Bin bin1 = new Bin(orderedBinName, origListInt);\n",
    "Bin bin2 = new Bin(unorderedBinName, origListInt);\n",
    "\n",
    "client.put(clientPolicy.writePolicyDefault, key, bin1, bin2);\n",
    "System.out.println(\"Put list into record with bins: \" + orderedBinName + \" and \" \n",
    "                    + unorderedBinName);"
   ]
  },
  {
   "cell_type": "markdown",
   "id": "reflected-sunglasses",
   "metadata": {},
   "source": [
    "### Set the Sort Order for the Ordered Bin\n",
    "\n",
    "The [default order](https://www.aerospike.com/apidocs/java/com/aerospike/client/cdt/ListOrder.html) applied to a bin is unordered."
   ]
  },
  {
   "cell_type": "code",
   "execution_count": 7,
   "id": "progressive-eleven",
   "metadata": {},
   "outputs": [
    {
     "name": "stdout",
     "output_type": "stream",
     "text": [
      "Configured ordering policy for bin: ordered\n"
     ]
    }
   ],
   "source": [
    "import com.aerospike.client.Record;\n",
    "import com.aerospike.client.Operation;\n",
    "import com.aerospike.client.Value;\n",
    "import com.aerospike.client.cdt.ListOperation;\n",
    "import com.aerospike.client.cdt.ListOrder;\n",
    "\n",
    "Record record = client.get(null, key);\n",
    "record = client.operate(client.writePolicyDefault, key, \n",
    "                        ListOperation.setOrder(orderedBinName, ListOrder.ORDERED)\n",
    "                        );\n",
    "\n",
    "System.out.println(\"Configured ordering policy for bin: \" + orderedBinName);"
   ]
  },
  {
   "cell_type": "markdown",
   "id": "complicated-filter",
   "metadata": {},
   "source": [
    "### Append Elements to Both Bins\n",
    "\n",
    "Append additional elements `[4, 7, 3, 9, 26, 11]`"
   ]
  },
  {
   "cell_type": "code",
   "execution_count": 8,
   "id": "handled-coach",
   "metadata": {},
   "outputs": [
    {
     "name": "stdout",
     "output_type": "stream",
     "text": [
      "Appending the following list items to both lists: [4, 7, 3, 9, 26, 11]\n",
      "The Unordered List is [1, 4, 7, 3, 9, 26, 11]\n",
      "The Ordered List is [1, 3, 4, 7, 9, 11, 26]\n"
     ]
    }
   ],
   "source": [
    "ArrayList<Value> addListInt = new ArrayList<Value>();\n",
    "addListInt.add(Value.get(4));\n",
    "addListInt.add(Value.get(7));\n",
    "addListInt.add(Value.get(3));\n",
    "addListInt.add(Value.get(9));\n",
    "addListInt.add(Value.get(26));\n",
    "addListInt.add(Value.get(11));\n",
    "\n",
    "System.out.println(\"Appending the following list items to both lists: \" + addListInt);\n",
    "\n",
    "Record record = client.get(null, key);\n",
    "record = client.operate(client.writePolicyDefault, key, \n",
    "                        ListOperation.appendItems(orderedBinName, addListInt),\n",
    "                        ListOperation.appendItems(unorderedBinName, addListInt) \n",
    "                        );\n",
    "                        \n",
    "Record finalListComp = client.get(null, key);\n",
    "System.out.println(\"The Unordered List is \" + finalListComp.getValue(unorderedBinName));\n",
    "System.out.println(\"The Ordered List is \" + finalListComp.getValue(orderedBinName));"
   ]
  },
  {
   "cell_type": "markdown",
   "id": "common-stand",
   "metadata": {},
   "source": [
    "# Rank Operations Provide JIT Ordering for Unordered Lists\n",
    "\n",
    "Regardless of the architectural choice to store data in an ordered or unordered list, Aerospike provides data using the **Rank** operation in an intuitive order, as described below. \n",
    "\n",
    "For an ordered list, Aerospike updates the list rank order with each addition. When using an unordered list, Aerospike calculates the same list rank just-in-time."
   ]
  },
  {
   "cell_type": "markdown",
   "id": "soviet-pressing",
   "metadata": {},
   "source": [
    "## Rank Order for All Data Types\n",
    "\n",
    "Because an Aerospike list can contain different data types, including nesting lists or maps within a list. Aerospike groups elements into like-types with the following relative ranks: \n",
    "\n",
    "1.\tNIL\n",
    "2.\tBoolean (Reserved for the future.)\n",
    "3.\tInteger\n",
    "4.\tString\n",
    "5.\tList\n",
    "6.\tMap\n",
    "7.\tBytes\n",
    "8. \tDouble\n",
    "9.\tGeoJSON\n",
    "10.\tINF\n",
    "\n",
    "\n",
    "For more information on the order of data types, go [here](https://aerospike.com/docs/guide/cdt-ordering.html).\n",
    "\n",
    "NIL and INF are useful singletons for comparison purposes. NIL is a valid List and Map value, but is not a valid Bin value. To empty a Bin, assign NIL to it.\n",
    "\n",
    "WILDCARD is not an ordinal like NIL and INF. As its name suggests, it is a useful singleton for List comparison purposes that matches everything. \n",
    "\n",
    "Within like-type groups, each element is also ordered by rank. The following example demonstrates the rank operation."
   ]
  },
  {
   "cell_type": "markdown",
   "id": "exposed-easter",
   "metadata": {},
   "source": [
    "### Using Rank Operations on Lists"
   ]
  },
  {
   "cell_type": "markdown",
   "id": "promising-squad",
   "metadata": {},
   "source": [
    "#### Create A Mixed Data Type List\n",
    "\n",
    "Create a list containing characters, integers, and a nested list:\n",
    "\n",
    "`['c', 3, 26, [25, 'y', 1], 11, 9, 4, 'a', 1, 7]`"
   ]
  },
  {
   "cell_type": "code",
   "execution_count": 9,
   "id": "royal-blowing",
   "metadata": {},
   "outputs": [
    {
     "name": "stdout",
     "output_type": "stream",
     "text": [
      "Sub Mixed Type List: [25, y, 1]\n",
      "Mixed Type Data List: [c, 3, 26, [25, y, 1], 11, 9, 4, a, 1, 7]\n"
     ]
    }
   ],
   "source": [
    "ArrayList<Value> subMixedList = new ArrayList<Value>();\n",
    "subMixedList.add(Value.get(25));\n",
    "subMixedList.add(Value.get(\"y\"));\n",
    "subMixedList.add(Value.get(1));\n",
    "\n",
    "System.out.println(\"Sub Mixed Type List: \" + subMixedList);\n",
    "\n",
    "ArrayList<Value> mixedDataList = new ArrayList<Value>();\n",
    "mixedDataList.add(Value.get(\"c\"));\n",
    "mixedDataList.add(Value.get(3));\n",
    "mixedDataList.add(Value.get(26));\n",
    "mixedDataList.add(Value.get(subMixedList));\n",
    "mixedDataList.add(Value.get(11));\n",
    "mixedDataList.add(Value.get(9));\n",
    "mixedDataList.add(Value.get(4));\n",
    "mixedDataList.add(Value.get(\"a\"));\n",
    "mixedDataList.add(Value.get(1));\n",
    "mixedDataList.add(Value.get(7));\n",
    "\n",
    "System.out.println(\"Mixed Type Data List: \" + mixedDataList);"
   ]
  },
  {
   "cell_type": "markdown",
   "id": "valid-session",
   "metadata": {},
   "source": [
    "#### Put the List into Ordered and Unordered Bins"
   ]
  },
  {
   "cell_type": "code",
   "execution_count": 10,
   "id": "round-abortion",
   "metadata": {},
   "outputs": [
    {
     "name": "stdout",
     "output_type": "stream",
     "text": [
      "Created record with bins: ordered and unordered\n"
     ]
    }
   ],
   "source": [
    "Integer mixedKey = 1;\n",
    "\n",
    "Key key = new Key(listModelNamespace, listModelSet, mixedKey);\n",
    "Bin bin1 = new Bin(orderedBinName, mixedDataList);\n",
    "Bin bin2 = new Bin(unorderedBinName, mixedDataList);\n",
    "\n",
    "client.put(clientPolicy.writePolicyDefault, key, bin1, bin2);\n",
    "System.out.println(\"Created record with bins: \" + orderedBinName + \" and \" \n",
    "                    + unorderedBinName);"
   ]
  },
  {
   "cell_type": "markdown",
   "id": "powerful-ontario",
   "metadata": {},
   "source": [
    "#### Set the Sort Order for the Ordered Bin"
   ]
  },
  {
   "cell_type": "code",
   "execution_count": 11,
   "id": "chemical-mileage",
   "metadata": {},
   "outputs": [
    {
     "name": "stdout",
     "output_type": "stream",
     "text": [
      "Configured ordering policy for bin: ordered\n",
      "The Unordered List is [c, 3, 26, [25, y, 1], 11, 9, 4, a, 1, 7]\n",
      "The Ordered List is [1, 3, 4, 7, 9, 11, 26, a, c, [25, y, 1]]\n"
     ]
    }
   ],
   "source": [
    "Record record = client.get(null, key);\n",
    "record = client.operate(client.writePolicyDefault, key, \n",
    "    ListOperation.setOrder(orderedBinName, ListOrder.ORDERED)\n",
    "    );\n",
    "Record finalListComp = client.get(null, key);\n",
    "\n",
    "System.out.println(\"Configured ordering policy for bin: \" + orderedBinName);\n",
    "System.out.println(\"The Unordered List is \" + finalListComp.getValue(unorderedBinName));\n",
    "System.out.println(\"The Ordered List is \" + finalListComp.getValue(orderedBinName));"
   ]
  },
  {
   "cell_type": "markdown",
   "id": "laughing-sleeve",
   "metadata": {},
   "source": [
    "#### What is the range of elements between `NIL` and `10`?\n",
    "\n",
    "When comparing ranges in Aerospike, the lower end is *inclusive*, and the upper end is *exclusive*\n",
    "\n",
    "The singleton `NIL` is accessed in Java as `Value.NULL`. For more information on [Values](https://www.aerospike.com/apidocs/java/com/aerospike/client/Value.ListValue.html), go [here](https://www.aerospike.com/apidocs/java/com/aerospike/client/Value.ListValue.html)."
   ]
  },
  {
   "cell_type": "code",
   "execution_count": 12,
   "id": "silent-institute",
   "metadata": {},
   "outputs": [
    {
     "name": "stdout",
     "output_type": "stream",
     "text": [
      "The Unordered List range is [3, 9, 4, 1, 7]\n",
      "The Ordered List range is [1, 3, 4, 7, 9]\n"
     ]
    }
   ],
   "source": [
    "import com.aerospike.client.cdt.ListReturnType;\n",
    "\n",
    "Value lowEnd = Value.NULL;\n",
    "Value highEnd = Value.get(10);\n",
    "\n",
    "Record rangeNIL10 = client.get(null, key);\n",
    "rangeNIL10 = client.operate(client.writePolicyDefault, key, \n",
    "                ListOperation.getByValueRange(orderedBinName, lowEnd, highEnd, \n",
    "                                              ListReturnType.VALUE),\n",
    "                ListOperation.getByValueRange(unorderedBinName, lowEnd, highEnd, \n",
    "                                              ListReturnType.VALUE)\n",
    "                );\n",
    "\n",
    "System.out.println(\"The Unordered List range is \" + rangeNIL10.getValue(unorderedBinName));\n",
    "System.out.println(\"The Ordered List range is \" + rangeNIL10.getValue(orderedBinName));"
   ]
  },
  {
   "cell_type": "markdown",
   "id": "derived-mechanics",
   "metadata": {},
   "source": [
    "#### What is the range of elements between `'a'` and `[ ]`?"
   ]
  },
  {
   "cell_type": "code",
   "execution_count": 13,
   "id": "cooperative-indonesia",
   "metadata": {},
   "outputs": [
    {
     "name": "stdout",
     "output_type": "stream",
     "text": [
      "The Unordered List range is [c, a]\n",
      "The Ordered List range is [a, c]\n"
     ]
    }
   ],
   "source": [
    "ArrayList<Value> emptyList = new ArrayList<Value>();\n",
    "\n",
    "Value lowEnd = Value.get(\"a\");\n",
    "Value highEnd = Value.get(emptyList);\n",
    "\n",
    "Record rangeANullList = client.get(null, key);\n",
    "rangeANullList = client.operate(client.writePolicyDefault, key, \n",
    "                ListOperation.getByValueRange(orderedBinName, lowEnd, highEnd, \n",
    "                                              ListReturnType.VALUE),\n",
    "                ListOperation.getByValueRange(unorderedBinName, lowEnd, highEnd, \n",
    "                                              ListReturnType.VALUE)\n",
    "                );\n",
    "\n",
    "System.out.println(\"The Unordered List range is \" + rangeANullList.getValue(unorderedBinName));\n",
    "System.out.println(\"The Ordered List range is \" + rangeANullList.getValue(orderedBinName));"
   ]
  },
  {
   "cell_type": "markdown",
   "id": "greatest-locator",
   "metadata": {},
   "source": [
    "#### What is the range of elements between `[ ]` and `INF`?\n",
    "\n",
    "The singleton `INF`, a clean upper bound for rank comparisons, is accessed in Java as `Value.INFINITY`. For more information on [Values](https://www.aerospike.com/apidocs/java/com/aerospike/client/Value.ListValue.html), go [here](https://www.aerospike.com/apidocs/java/com/aerospike/client/Value.ListValue.html)."
   ]
  },
  {
   "cell_type": "code",
   "execution_count": 14,
   "id": "eight-stationery",
   "metadata": {},
   "outputs": [
    {
     "name": "stdout",
     "output_type": "stream",
     "text": [
      "The Unordered List range is [[25, y, 1]]\n",
      "The Ordered List range is [[25, y, 1]]\n"
     ]
    }
   ],
   "source": [
    "Value lowEnd = Value.get(emptyList);\n",
    "Value highEnd = Value.INFINITY;\n",
    "\n",
    "Record rangeNullInf = client.get(null, key);\n",
    "rangeNullInf = client.operate(client.writePolicyDefault, key, \n",
    "                ListOperation.getByValueRange(orderedBinName, lowEnd, highEnd, \n",
    "                                              ListReturnType.VALUE),\n",
    "                ListOperation.getByValueRange(unorderedBinName, lowEnd, highEnd, \n",
    "                                              ListReturnType.VALUE)\n",
    "                );\n",
    "\n",
    "System.out.println(\"The Unordered List range is \" + rangeNullInf.getValue(unorderedBinName));\n",
    "System.out.println(\"The Ordered List range is \" + rangeNullInf.getValue(orderedBinName));"
   ]
  },
  {
   "cell_type": "markdown",
   "id": "damaged-shipping",
   "metadata": {},
   "source": [
    "### Rank Works Reliably Independent of List Ordering\n",
    "\n",
    "As demonstrated above, rank works identically, no matter whether the list is ordered or not."
   ]
  },
  {
   "cell_type": "markdown",
   "id": "attractive-extra",
   "metadata": {},
   "source": [
    "### Using Rank on Lists of Tuples\n",
    "\n",
    "Ordering lists containing sub-lists and nested maps works intuitively and differently from simple lists.\n",
    "\n",
    "1. Sub-lists or maps in an ordered list are not implicitly ordered.\n",
    "2. Items are inserted in rank order. \n",
    "3. Greater List length results in higher rank \n",
    "\n",
    "Here are some examples."
   ]
  },
  {
   "cell_type": "markdown",
   "id": "considerable-consent",
   "metadata": {},
   "source": [
    "#### Create a Sorted and Unsorted Empty List"
   ]
  },
  {
   "cell_type": "code",
   "execution_count": 15,
   "id": "liquid-filing",
   "metadata": {},
   "outputs": [
    {
     "name": "stdout",
     "output_type": "stream",
     "text": [
      "Created record with bins: ordered and unordered\n",
      "Configured ordering policy to bin: ordered\n",
      "The Unordered List is []\n",
      "The Ordered List is []\n"
     ]
    }
   ],
   "source": [
    "Integer listOfListsKey = 2;\n",
    "\n",
    "Key key = new Key(listModelNamespace, listModelSet, listOfListsKey);\n",
    "Bin bin1 = new Bin(orderedBinName, emptyList);\n",
    "Bin bin2 = new Bin(unorderedBinName, emptyList);\n",
    "\n",
    "client.put(clientPolicy.writePolicyDefault, key, bin1, bin2);\n",
    "System.out.println(\"Created record with bins: \" + orderedBinName + \" and \" \n",
    "                    + unorderedBinName);\n",
    "                    \n",
    "Record record = client.get(null, key);\n",
    "record = client.operate(client.writePolicyDefault, key, \n",
    "    ListOperation.setOrder(orderedBinName, ListOrder.ORDERED)\n",
    "    );\n",
    "Record initialEmptyLists = client.get(null, key);\n",
    "\n",
    "System.out.println(\"Configured ordering policy to bin: \" + orderedBinName);\n",
    "System.out.println(\"The Unordered List is \" + initialEmptyLists.getValue(unorderedBinName));\n",
    "System.out.println(\"The Ordered List is \" + initialEmptyLists.getValue(orderedBinName));"
   ]
  },
  {
   "cell_type": "markdown",
   "id": "heard-homework",
   "metadata": {},
   "source": [
    "#### Add the tuple `[1, 1]`"
   ]
  },
  {
   "cell_type": "code",
   "execution_count": 16,
   "id": "sharing-upset",
   "metadata": {},
   "outputs": [
    {
     "name": "stdout",
     "output_type": "stream",
     "text": [
      "The Unordered List is [[1, 1]]\n",
      "The Ordered List is [[1, 1]]\n"
     ]
    }
   ],
   "source": [
    "ArrayList<Integer> thisTuple = new ArrayList<Integer>();\n",
    "thisTuple.add(1);\n",
    "thisTuple.add(1);\n",
    "\n",
    "Record record = client.get(null, key);\n",
    "record = client.operate(client.writePolicyDefault, key, \n",
    "    ListOperation.append(orderedBinName, Value.get(thisTuple)),\n",
    "    ListOperation.append(unorderedBinName, Value.get(thisTuple))    \n",
    "    );\n",
    "Record listWith11 = client.get(null, key);\n",
    "\n",
    "System.out.println(\"The Unordered List is \" + listWith11.getValue(unorderedBinName));\n",
    "System.out.println(\"The Ordered List is \" + listWith11.getValue(orderedBinName));"
   ]
  },
  {
   "cell_type": "markdown",
   "id": "herbal-carry",
   "metadata": {},
   "source": [
    "#### Add the tuple  `[1, 3]`"
   ]
  },
  {
   "cell_type": "code",
   "execution_count": 17,
   "id": "instructional-medication",
   "metadata": {},
   "outputs": [
    {
     "name": "stdout",
     "output_type": "stream",
     "text": [
      "The Unordered List is [[1, 1], [1, 3]]\n",
      "The Ordered List is [[1, 1], [1, 3]]\n"
     ]
    }
   ],
   "source": [
    "ArrayList<Integer> thisTuple = new ArrayList<Integer>();\n",
    "thisTuple.add(1);\n",
    "thisTuple.add(3);\n",
    "\n",
    "Record record = client.get(null, key);\n",
    "record = client.operate(client.writePolicyDefault, key, \n",
    "    ListOperation.append(orderedBinName, Value.get(thisTuple)),\n",
    "    ListOperation.append(unorderedBinName, Value.get(thisTuple))    \n",
    "    );\n",
    "Record listWith13 = client.get(null, key);\n",
    "\n",
    "System.out.println(\"The Unordered List is \" + listWith13.getValue(unorderedBinName));\n",
    "System.out.println(\"The Ordered List is \" + listWith13.getValue(orderedBinName));"
   ]
  },
  {
   "cell_type": "markdown",
   "id": "inappropriate-trademark",
   "metadata": {},
   "source": [
    "#### Add the tuple `[1, 2, 0, 1]`"
   ]
  },
  {
   "cell_type": "code",
   "execution_count": 18,
   "id": "electric-uncle",
   "metadata": {},
   "outputs": [
    {
     "name": "stdout",
     "output_type": "stream",
     "text": [
      "The Unordered List is [[1, 1], [1, 3], [1, 2, 0, 1]]\n",
      "The Ordered List is [[1, 1], [1, 2, 0, 1], [1, 3]]\n"
     ]
    }
   ],
   "source": [
    "ArrayList<Integer> thisTuple = new ArrayList<Integer>();\n",
    "thisTuple.add(1);\n",
    "thisTuple.add(2);\n",
    "thisTuple.add(0);\n",
    "thisTuple.add(1);\n",
    "\n",
    "Record record = client.get(null, key);\n",
    "record = client.operate(client.writePolicyDefault, key, \n",
    "    ListOperation.append(orderedBinName, Value.get(thisTuple)),\n",
    "    ListOperation.append(unorderedBinName, Value.get(thisTuple))    \n",
    "    );\n",
    "Record listWith1201 = client.get(null, key);\n",
    "\n",
    "System.out.println(\"The Unordered List is \" + listWith1201.getValue(unorderedBinName));\n",
    "System.out.println(\"The Ordered List is \" + listWith1201.getValue(orderedBinName));"
   ]
  },
  {
   "cell_type": "markdown",
   "id": "earned-civilian",
   "metadata": {},
   "source": [
    "#### Add the tuple  `[1, 2]`"
   ]
  },
  {
   "cell_type": "code",
   "execution_count": 19,
   "id": "complimentary-encounter",
   "metadata": {},
   "outputs": [
    {
     "name": "stdout",
     "output_type": "stream",
     "text": [
      "The Unordered List is [[1, 1], [1, 3], [1, 2, 0, 1], [1, 2]]\n",
      "The Ordered List is [[1, 1], [1, 2], [1, 2, 0, 1], [1, 3]]\n"
     ]
    }
   ],
   "source": [
    "ArrayList<Integer> thisTuple = new ArrayList<Integer>();\n",
    "thisTuple.add(1);\n",
    "thisTuple.add(2);\n",
    "\n",
    "Record record = client.get(null, key);\n",
    "record = client.operate(client.writePolicyDefault, key, \n",
    "    ListOperation.append(orderedBinName, Value.get(thisTuple)),\n",
    "    ListOperation.append(unorderedBinName, Value.get(thisTuple))    \n",
    "    );\n",
    "Record listWith12 = client.get(null, key);\n",
    "\n",
    "System.out.println(\"The Unordered List is \" + listWith12.getValue(unorderedBinName));\n",
    "System.out.println(\"The Ordered List is \" + listWith12.getValue(orderedBinName));"
   ]
  },
  {
   "cell_type": "markdown",
   "id": "optical-ranking",
   "metadata": {},
   "source": [
    "### Using Intervals \n",
    "\n",
    "Interval operations return all list elements in the range between a given lower and upper bound, whether or not the list is ordered. An unordered list will JIT sort. Intervals use the same consistent rank order across data types:\n",
    "* `[2, NIL]` is defined as *after* anything `[1, ...]`, regardless of element count.\n",
    "* `[1, INF]` is defined as *after* anything `[1, ...]` and *before* anything `[2, ...]`.\n",
    "\n",
    "Intervals serve as a query that allows for a list to be used as [a tuple](https://en.wikipedia.org/wiki/Tuple), a lightweight record structure without key names.\n",
    "\n",
    "Here are some examples:"
   ]
  },
  {
   "cell_type": "markdown",
   "id": "plain-glory",
   "metadata": {},
   "source": [
    "#### Create a List of Tuples\n",
    "`[[2, 7], [3, 1], [1, 1], [2, 5], [1, 2], [0, 3]]`"
   ]
  },
  {
   "cell_type": "code",
   "execution_count": 20,
   "id": "architectural-carter",
   "metadata": {},
   "outputs": [
    {
     "name": "stdout",
     "output_type": "stream",
     "text": [
      "Tuple List: [[2, 7], [3, 1], [1, 1], [2, 5], [1, 2], [0, 3]]\n"
     ]
    }
   ],
   "source": [
    "ArrayList<Integer> subTuple0 = new ArrayList<Integer>();\n",
    "subTuple0.add(2);\n",
    "subTuple0.add(7);\n",
    "\n",
    "ArrayList<Integer> subTuple1 = new ArrayList<Integer>();\n",
    "subTuple1.add(3);\n",
    "subTuple1.add(1);\n",
    "\n",
    "ArrayList<Integer> subTuple2 = new ArrayList<Integer>();\n",
    "subTuple2.add(1);\n",
    "subTuple2.add(1);\n",
    "\n",
    "ArrayList<Integer> subTuple3 = new ArrayList<Integer>();\n",
    "subTuple3.add(2);\n",
    "subTuple3.add(5);\n",
    "\n",
    "ArrayList<Integer> subTuple4 = new ArrayList<Integer>();\n",
    "subTuple4.add(1);\n",
    "subTuple4.add(2);\n",
    "\n",
    "ArrayList<Integer> subTuple5 = new ArrayList<Integer>();\n",
    "subTuple5.add(0);\n",
    "subTuple5.add(3);\n",
    "\n",
    "ArrayList<Value> tupleList = new ArrayList<Value>();\n",
    "tupleList.add(Value.get(subTuple0));\n",
    "tupleList.add(Value.get(subTuple1));\n",
    "tupleList.add(Value.get(subTuple2));\n",
    "tupleList.add(Value.get(subTuple3));\n",
    "tupleList.add(Value.get(subTuple4));\n",
    "tupleList.add(Value.get(subTuple5));\n",
    "\n",
    "System.out.println(\"Tuple List: \" + tupleList);"
   ]
  },
  {
   "cell_type": "markdown",
   "id": "assumed-minister",
   "metadata": {},
   "source": [
    "#### Put the List Into Two Aerospike Bins"
   ]
  },
  {
   "cell_type": "code",
   "execution_count": 21,
   "id": "charming-draft",
   "metadata": {},
   "outputs": [
    {
     "name": "stdout",
     "output_type": "stream",
     "text": [
      "Created record with bins: ordered and unordered\n"
     ]
    }
   ],
   "source": [
    "Integer tupleKey = 3;\n",
    "\n",
    "Key key = new Key(listModelNamespace, listModelSet, tupleKey);\n",
    "Bin bin1 = new Bin(orderedBinName, tupleList);\n",
    "Bin bin2 = new Bin(unorderedBinName, tupleList);\n",
    "\n",
    "client.put(clientPolicy.writePolicyDefault, key, bin1, bin2);\n",
    "System.out.println(\"Created record with bins: \" + orderedBinName + \" and \" \n",
    "                    + unorderedBinName);"
   ]
  },
  {
   "cell_type": "markdown",
   "id": "interstate-partnership",
   "metadata": {},
   "source": [
    "#### Set the Sort Order for the Ordered Bin"
   ]
  },
  {
   "cell_type": "code",
   "execution_count": 22,
   "id": "nonprofit-footwear",
   "metadata": {},
   "outputs": [
    {
     "name": "stdout",
     "output_type": "stream",
     "text": [
      "Configured ordering policy for bin: ordered\n"
     ]
    }
   ],
   "source": [
    "Record record = client.get(null, key);\n",
    "record = client.operate(client.writePolicyDefault, key, \n",
    "    ListOperation.setOrder(orderedBinName, ListOrder.ORDERED)\n",
    "    );\n",
    "Record initialEmptyLists = client.get(null, key);\n",
    "\n",
    "System.out.println(\"Configured ordering policy for bin: \" + orderedBinName);"
   ]
  },
  {
   "cell_type": "markdown",
   "id": "vanilla-distribution",
   "metadata": {},
   "source": [
    "#### Get all of the tuples whose first element is 1 or 2."
   ]
  },
  {
   "cell_type": "code",
   "execution_count": 23,
   "id": "egyptian-reset",
   "metadata": {},
   "outputs": [
    {
     "name": "stdout",
     "output_type": "stream",
     "text": [
      "The Unordered List between [1, *] and [3, *] is [[2, 7], [1, 1], [2, 5], [1, 2]]\n",
      "The Ordered List between [1, *] and [3, *] is [[1, 1], [1, 2], [2, 5], [2, 7]]\n"
     ]
    }
   ],
   "source": [
    "ArrayList<Value> lowTuple = new ArrayList<Value>();\n",
    "lowTuple.add(Value.get(1));\n",
    "lowTuple.add(Value.WILDCARD);\n",
    "\n",
    "ArrayList<Value> highTuple = new ArrayList<Value>();\n",
    "highTuple.add(Value.get(3));\n",
    "highTuple.add(Value.WILDCARD);\n",
    "\n",
    "Record all1and2tuples = client.get(null, key);\n",
    "all1and2tuples = client.operate(client.writePolicyDefault, key, \n",
    "    ListOperation.getByValueRange(orderedBinName, Value.get(lowTuple), Value.get(highTuple), \n",
    "        ListReturnType.VALUE),\n",
    "    ListOperation.getByValueRange(unorderedBinName, Value.get(lowTuple), Value.get(highTuple), \n",
    "        ListReturnType.VALUE)    \n",
    "    );\n",
    "\n",
    "System.out.println(\"The Unordered List between \" + lowTuple + \" and \" + highTuple + \" is \" \n",
    "    + all1and2tuples.getValue(unorderedBinName));\n",
    "System.out.println(\"The Ordered List between \" + lowTuple + \" and \" + highTuple + \" is \" \n",
    "    + all1and2tuples.getValue(orderedBinName));"
   ]
  },
  {
   "cell_type": "markdown",
   "id": "limited-journalism",
   "metadata": {},
   "source": [
    "#### Get the Interval Between `[1, NIL]` and `[2, NIL]`"
   ]
  },
  {
   "cell_type": "code",
   "execution_count": 23,
   "id": "premier-bread",
   "metadata": {},
   "outputs": [
    {
     "name": "stdout",
     "output_type": "stream",
     "text": [
      "The Unordered List between [1, null] and [2, null] is [[1, 1], [1, 2]]\n",
      "The Ordered List between [1, null] and [2, null] is [[1, 1], [1, 2]]\n"
     ]
    }
   ],
   "source": [
    "ArrayList<Value> lowTuple = new ArrayList<Value>();\n",
    "lowTuple.add(Value.get(1));\n",
    "lowTuple.add(Value.NULL);\n",
    "\n",
    "ArrayList<Value> highTuple = new ArrayList<Value>();\n",
    "highTuple.add(Value.get(2));\n",
    "highTuple.add(Value.NULL);\n",
    "\n",
    "Record between1and2 = client.get(null, key);\n",
    "between1and2 = client.operate(client.writePolicyDefault, key, \n",
    "    ListOperation.getByValueRange(orderedBinName, Value.get(lowTuple), Value.get(highTuple), \n",
    "        ListReturnType.VALUE),\n",
    "    ListOperation.getByValueRange(unorderedBinName, Value.get(lowTuple), Value.get(highTuple), \n",
    "        ListReturnType.VALUE)    \n",
    "    );\n",
    "\n",
    "System.out.println(\"The Unordered List between \" + lowTuple + \" and \" + highTuple + \" is \" \n",
    "    + between1and2.getValue(unorderedBinName));\n",
    "System.out.println(\"The Ordered List between \" + lowTuple + \" and \" + highTuple + \" is \" \n",
    "    + between1and2.getValue(orderedBinName));"
   ]
  },
  {
   "cell_type": "markdown",
   "id": "twelve-montana",
   "metadata": {},
   "source": [
    "#### Get the Interval Between `[1, NIL]` and `[1, INF]`."
   ]
  },
  {
   "cell_type": "code",
   "execution_count": 24,
   "id": "careful-scholarship",
   "metadata": {},
   "outputs": [
    {
     "name": "stdout",
     "output_type": "stream",
     "text": [
      "The Unordered List between [1, null] and [1, INF] is [[1, 1], [1, 2]]\n",
      "The Ordered List between [1, null] and [1, INF] is [[1, 1], [1, 2]]\n"
     ]
    }
   ],
   "source": [
    "ArrayList<Value> lowTuple = new ArrayList<Value>();\n",
    "lowTuple.add(Value.get(1));\n",
    "lowTuple.add(Value.NULL);\n",
    "\n",
    "ArrayList<Value> highTuple = new ArrayList<Value>();\n",
    "highTuple.add(Value.get(1));\n",
    "highTuple.add(Value.INFINITY);\n",
    "\n",
    "Record between1NILand1INF = client.get(null, key);\n",
    "between1NILand1INF = client.operate(client.writePolicyDefault, key, \n",
    "    ListOperation.getByValueRange(orderedBinName, Value.get(lowTuple), Value.get(highTuple), \n",
    "        ListReturnType.VALUE),\n",
    "    ListOperation.getByValueRange(unorderedBinName, Value.get(lowTuple), Value.get(highTuple), \n",
    "        ListReturnType.VALUE)    \n",
    "    );\n",
    "\n",
    "System.out.println(\"The Unordered List between \" + lowTuple + \" and \" + highTuple + \" is \" \n",
    "    + between1NILand1INF.getValue(unorderedBinName));\n",
    "System.out.println(\"The Ordered List between \" + lowTuple + \" and \" + highTuple + \" is \" \n",
    "    + between1NILand1INF.getValue(orderedBinName));"
   ]
  },
  {
   "cell_type": "markdown",
   "id": "necessary-literature",
   "metadata": {},
   "source": [
    "### The Results are Independent of List Order\n",
    "\n",
    "As demonstrated, the results are the same whether the data is ordered or unordered in the database."
   ]
  },
  {
   "cell_type": "markdown",
   "id": "cognitive-label",
   "metadata": {},
   "source": [
    "# Examples"
   ]
  },
  {
   "cell_type": "markdown",
   "id": "specialized-honolulu",
   "metadata": {},
   "source": [
    "## Example 1 – IoT Model\n",
    "\n",
    "Modeling with tuples is powerful. Consider a smart thermometer taking a reading one time per minute. This use case can be modeled as a list of tuples.\n",
    "\n",
    "For more information on this IoT example, go [here](https://dev.to/aerospike/aerospike-modeling-iot-sensors-453a)."
   ]
  },
  {
   "cell_type": "markdown",
   "id": "hawaiian-catch",
   "metadata": {},
   "source": [
    "### Create Sample Data\n",
    "\n",
    "Record Format – `[minutes-since-epoch, temperature]\n",
    "[14062, 39.04]\n",
    "[14063, 39.78]\n",
    "[14065, 40.07]\n",
    "[14064, 40.89]\n",
    "[14066, 41.18]\n",
    "[14067, 40.93]`"
   ]
  },
  {
   "cell_type": "code",
   "execution_count": 25,
   "id": "empty-conversation",
   "metadata": {},
   "outputs": [
    {
     "name": "stdout",
     "output_type": "stream",
     "text": [
      "IoT Tuple List: [[14062, 39.04], [14063, 39.78], [14065, 40.07], [14064, 40.89], [14066, 41.18], [14067, 40.93]]\n"
     ]
    }
   ],
   "source": [
    "ArrayList<Value> subTuple0 = new ArrayList<Value>();\n",
    "subTuple0.add(Value.get(14062));\n",
    "subTuple0.add(Value.get(39.04));\n",
    "\n",
    "ArrayList<Value> subTuple1 = new ArrayList<Value>();\n",
    "subTuple1.add(Value.get(14063));\n",
    "subTuple1.add(Value.get(39.78));\n",
    "\n",
    "ArrayList<Value> subTuple2 = new ArrayList<Value>();\n",
    "subTuple2.add(Value.get(14065));\n",
    "subTuple2.add(Value.get(40.07));\n",
    "\n",
    "ArrayList<Value> subTuple3 = new ArrayList<Value>();\n",
    "subTuple3.add(Value.get(14064));\n",
    "subTuple3.add(Value.get(40.89));\n",
    "\n",
    "ArrayList<Value> subTuple4 = new ArrayList<Value>();\n",
    "subTuple4.add(Value.get(14066));\n",
    "subTuple4.add(Value.get(41.18));\n",
    "\n",
    "ArrayList<Value> subTuple5 = new ArrayList<Value>();\n",
    "subTuple5.add(Value.get(14067));\n",
    "subTuple5.add(Value.get(40.93));\n",
    "\n",
    "ArrayList<Value> tupleListIoT = new ArrayList<Value>();\n",
    "tupleListIoT.add(Value.get(subTuple0));\n",
    "tupleListIoT.add(Value.get(subTuple1));\n",
    "tupleListIoT.add(Value.get(subTuple2));\n",
    "tupleListIoT.add(Value.get(subTuple3));\n",
    "tupleListIoT.add(Value.get(subTuple4));\n",
    "tupleListIoT.add(Value.get(subTuple5));\n",
    "\n",
    "System.out.println(\"IoT Tuple List: \" + tupleListIoT);"
   ]
  },
  {
   "cell_type": "markdown",
   "id": "disturbed-script",
   "metadata": {},
   "source": [
    "### Put the List in an Unordered Bin"
   ]
  },
  {
   "cell_type": "code",
   "execution_count": 26,
   "id": "quality-reply",
   "metadata": {},
   "outputs": [
    {
     "name": "stdout",
     "output_type": "stream",
     "text": [
      "Created record with bin: unordered\n"
     ]
    }
   ],
   "source": [
    "Integer keyIoT = 4;\n",
    "ClientPolicy clientPolicy = new ClientPolicy();\n",
    "\n",
    "Key key = new Key(listModelNamespace, listModelSet, keyIoT);\n",
    "Bin bin1 = new Bin(unorderedBinName, tupleListIoT);\n",
    "\n",
    "client.put(clientPolicy.writePolicyDefault, key, bin1);\n",
    "System.out.println(\"Created record with bin: \" + unorderedBinName);"
   ]
  },
  {
   "cell_type": "markdown",
   "id": "parental-luxury",
   "metadata": {},
   "source": [
    "### Get Temperature Readings Between Minute 14063 and 14064"
   ]
  },
  {
   "cell_type": "code",
   "execution_count": 27,
   "id": "worst-stroke",
   "metadata": {},
   "outputs": [
    {
     "name": "stdout",
     "output_type": "stream",
     "text": [
      "The readings between [14063, null] and [14064, INF] are [[14063, 39.78], [14064, 40.89]]\n"
     ]
    }
   ],
   "source": [
    "ArrayList<Value> lowTuple = new ArrayList<Value>();\n",
    "lowTuple.add(Value.get(14063));\n",
    "lowTuple.add(Value.NULL);\n",
    "\n",
    "ArrayList<Value> highTuple = new ArrayList<Value>();\n",
    "highTuple.add(Value.get(14064));\n",
    "highTuple.add(Value.INFINITY);\n",
    "\n",
    "Record between14063and14064 = client.get(null, key);\n",
    "between14063and14064 = client.operate(client.writePolicyDefault, key, \n",
    "    ListOperation.getByValueRange(unorderedBinName, Value.get(lowTuple), Value.get(highTuple), \n",
    "        ListReturnType.VALUE)    \n",
    "    );\n",
    "\n",
    "System.out.println(\"The readings between \" + lowTuple + \" and \" + highTuple + \" are \" \n",
    "    + between14063and14064.getValue(unorderedBinName));"
   ]
  },
  {
   "cell_type": "markdown",
   "id": "forty-airfare",
   "metadata": {},
   "source": [
    "## Example 2 – 100 Meter Sprint Leaderboard\n",
    "\n",
    "Here is an example with mixed type data and overlapping datasets. It also highlights Aerospike's ability to find the tuples closest to a given value and **relative range ranking**."
   ]
  },
  {
   "cell_type": "markdown",
   "id": "revolutionary-bridge",
   "metadata": {},
   "source": [
    "### Create Overlapping Mixed-Type Data Sample\n",
    "\n",
    "Record format – `[Time, Athlete, Location, Date]`\n",
    "\n",
    "#### Create Example Dataset 1\n",
    "\n",
    "wr100m1 – \n",
    "`[\n",
    "[10.06, \"Bob Hayes\", \"Tokyo, Japan\", \"October 15, 1964\"],\n",
    "[10.03, \"Jim Hines\", \"Sacramento, USA\", \"June 20, 1968\"],\n",
    "[10.02, \"Charles Greene\", \"Mexico City, Mexico\", \"October 13, 1968\"],\n",
    "[9.95, \"Jim Hines\", \"Mexico City, Mexico\", \"October 14, 1968\"],\n",
    "[9.93, \"Calvin Smith\", \"Colorado Springs, USA\", \"July 3, 1983\"],\n",
    "[9.93, \"Carl Lewis\", \"Rome, Italy\", \"August 30, 1987\"],\n",
    "[9.92, \"Carl Lewis\", \"Seoul, South Korea\", \"September 24, 1988\"]\n",
    "]`"
   ]
  },
  {
   "cell_type": "code",
   "execution_count": 28,
   "id": "featured-integer",
   "metadata": {
    "scrolled": true
   },
   "outputs": [
    {
     "name": "stdout",
     "output_type": "stream",
     "text": [
      "100m World Record Holder List 1: [[10.06, Bob Hayes, Tokyo, Japan, October 15, 1964], [10.03, Jim Hines, Sacramento, USA, June 20,1968], [10.02, Charles Greene, Mexico City, Mexico, October 13, 1968], [9.95, Jim Hines, Mexico City, Mexico, October 14, 1968], [9.93, Calvin Smith, Colorado Springs, USA, July 3, 1983], [9.93, Carl Lewis, Rome, Italy, August 30, 1987], [9.92, Carl Lewis, Seoul, South Korea, September 24, 1988]]\n"
     ]
    }
   ],
   "source": [
    "ArrayList<Value> wr100One0 = new ArrayList<Value>();\n",
    "wr100One0.add(Value.get(10.06));\n",
    "wr100One0.add(Value.get(\"Bob Hayes\"));\n",
    "wr100One0.add(Value.get(\"Tokyo, Japan\"));\n",
    "wr100One0.add(Value.get(\"October 15, 1964\"));\n",
    "\n",
    "ArrayList<Value> wr100One1 = new ArrayList<Value>();\n",
    "wr100One1.add(Value.get(10.03));\n",
    "wr100One1.add(Value.get(\"Jim Hines\"));\n",
    "wr100One1.add(Value.get(\"Sacramento, USA\"));\n",
    "wr100One1.add(Value.get(\"June 20,1968\"));\n",
    "\n",
    "ArrayList<Value> wr100One2 = new ArrayList<Value>();\n",
    "wr100One2.add(Value.get(10.02));\n",
    "wr100One2.add(Value.get(\"Charles Greene\"));\n",
    "wr100One2.add(Value.get(\"Mexico City, Mexico\"));\n",
    "wr100One2.add(Value.get(\"October 13, 1968\"));\n",
    "\n",
    "ArrayList<Value> wr100One3 = new ArrayList<Value>();\n",
    "wr100One3.add(Value.get(9.95));\n",
    "wr100One3.add(Value.get(\"Jim Hines\"));\n",
    "wr100One3.add(Value.get(\"Mexico City, Mexico\"));\n",
    "wr100One3.add(Value.get(\"October 14, 1968\"));\n",
    "\n",
    "ArrayList<Value> wr100One4 = new ArrayList<Value>();\n",
    "wr100One4.add(Value.get(9.93));\n",
    "wr100One4.add(Value.get(\"Calvin Smith\"));\n",
    "wr100One4.add(Value.get(\"Colorado Springs, USA\"));\n",
    "wr100One4.add(Value.get(\"July 3, 1983\"));\n",
    "\n",
    "ArrayList<Value> wr100One5 = new ArrayList<Value>();\n",
    "wr100One5.add(Value.get(9.93));\n",
    "wr100One5.add(Value.get(\"Carl Lewis\"));\n",
    "wr100One5.add(Value.get(\"Rome, Italy\"));\n",
    "wr100One5.add(Value.get(\"August 30, 1987\"));\n",
    "\n",
    "ArrayList<Value> wr100One6 = new ArrayList<Value>();\n",
    "wr100One6.add(Value.get(9.92));\n",
    "wr100One6.add(Value.get(\"Carl Lewis\"));\n",
    "wr100One6.add(Value.get(\"Seoul, South Korea\"));\n",
    "wr100One6.add(Value.get(\"September 24, 1988\"));\n",
    "\n",
    "\n",
    "ArrayList<Value> wr100m1List = new ArrayList<Value>();\n",
    "wr100m1List.add(Value.get(wr100One0));\n",
    "wr100m1List.add(Value.get(wr100One1));\n",
    "wr100m1List.add(Value.get(wr100One2));\n",
    "wr100m1List.add(Value.get(wr100One3));\n",
    "wr100m1List.add(Value.get(wr100One4));\n",
    "wr100m1List.add(Value.get(wr100One5));\n",
    "wr100m1List.add(Value.get(wr100One6));\n",
    "\n",
    "\n",
    "System.out.println(\"100m World Record Holder List 1: \" + wr100m1List);"
   ]
  },
  {
   "cell_type": "markdown",
   "id": "higher-furniture",
   "metadata": {},
   "source": [
    "#### Create Example Dataset 2\n",
    "\n",
    "wr_100m_2 – `[\n",
    "[9.93, \"Carl Lewis\", \"Rome, Italy\", \"August 30, 1987\"],\n",
    "[9.92, \"Carl Lewis\", \"Seoul, South Korea\", \"September 24, 1988\"],\n",
    "[9.90, \"Leroy Burrell\", \"New York, USA\", \"June 14, 1991\"],\n",
    "[9.86, \"Carl Lewis\", \"Tokyo, Japan\", \"August 25, 1991\"],\n",
    "[9.85, \"Leroy Burrell\", \"Lausanne, Switzerland\", \"July 6, 1994\"],\n",
    "[9.84, \"Donovan Bailey\", \"Atlanta, USA\", \"July 27, 1996\"],\n",
    "[9.79, \"Maurice Greene\", \"Athens, Greece\", \"June 16, 1999\"],\n",
    "[9.77, \"Asafa Powell\", \"Athens, Greece\", \"June 14, 2005\"],\n",
    "[9.77, \"Asafa Powell\", \"Gateshead, England\", \"June 11, 2006\"],\n",
    "[9.77, \"Asafa Powell\", \"Zurich, Switzerland\", \"August 18, 2006\"],\n",
    "[9.74, \"Asafa Powell\", \"Rieti, Italy\", \"September 9, 2007\"],\n",
    "[9.72, \"Usain Bolt\", \"New York, USA\", \"May 31, 2008\"],\n",
    "[9.69, \"Usain Bolt\", \"Beijing, China\", \"August 16, 2008\"],\n",
    "[9.58, \"Usain Bolt\", \"Berlin, Germany\", \"August 16, 2009\"]\n",
    "]`"
   ]
  },
  {
   "cell_type": "code",
   "execution_count": 29,
   "id": "extensive-devon",
   "metadata": {
    "scrolled": true
   },
   "outputs": [
    {
     "name": "stdout",
     "output_type": "stream",
     "text": [
      "100m World Record Holder List 2: [[9.93, Carl Lewis, Rome, Italy, August 30, 1987], [9.92, Carl Lewis, Seoul, South Korea, September 24, 1988], [9.9, Leroy Burrell, New York, USA, June 14, 1991], [9.86, Carl Lewis, Tokyo, Japan, August 25, 1991], [9.85, Leroy Burrell, Lausanne, Switzerland, July 6, 1994], [9.84, Donovan Bailey, Atlanta, USA, July 27, 1996], [9.79, Maurice Greene, Athens, Greece, June 16, 1999], [9.77, Asafa Powell, Athens, Greece, June 14, 2005], [9.77, Asafa Powell, Gateshead, England, June 11, 2006], [9.77, Asafa Powell, Zurich, Switzerland, August 18, 2006], [9.74, Asafa Powell, Rieti, Italy, September 9, 2007], [9.72, Usain Bolt, New York, USA, May 31, 2008], [9.69, Usain Bolt, Beijing, China, August 16, 2008], [9.58, Usain Bolt, Berlin, Germany, August 16, 2009]]\n"
     ]
    }
   ],
   "source": [
    "ArrayList<Value> wr100Two0 = new ArrayList<Value>();\n",
    "wr100Two0.add(Value.get(9.93));\n",
    "wr100Two0.add(Value.get(\"Carl Lewis\"));\n",
    "wr100Two0.add(Value.get(\"Rome, Italy\"));\n",
    "wr100Two0.add(Value.get(\"August 30, 1987\"));\n",
    "\n",
    "ArrayList<Value> wr100Two1 = new ArrayList<Value>();\n",
    "wr100Two1.add(Value.get(9.92));\n",
    "wr100Two1.add(Value.get(\"Carl Lewis\"));\n",
    "wr100Two1.add(Value.get(\"Seoul, South Korea\"));\n",
    "wr100Two1.add(Value.get(\"September 24, 1988\"));\n",
    "\n",
    "ArrayList<Value> wr100Two2 = new ArrayList<Value>();\n",
    "wr100Two2.add(Value.get(9.90));\n",
    "wr100Two2.add(Value.get(\"Leroy Burrell\"));\n",
    "wr100Two2.add(Value.get(\"New York, USA\"));\n",
    "wr100Two2.add(Value.get(\"June 14, 1991\"));\n",
    "\n",
    "ArrayList<Value> wr100Two3 = new ArrayList<Value>();\n",
    "wr100Two3.add(Value.get(9.86));\n",
    "wr100Two3.add(Value.get(\"Carl Lewis\"));\n",
    "wr100Two3.add(Value.get(\"Tokyo, Japan\"));\n",
    "wr100Two3.add(Value.get(\"August 25, 1991\"));\n",
    "\n",
    "ArrayList<Value> wr100Two4 = new ArrayList<Value>();\n",
    "wr100Two4.add(Value.get(9.85));\n",
    "wr100Two4.add(Value.get(\"Leroy Burrell\"));\n",
    "wr100Two4.add(Value.get(\"Lausanne, Switzerland\"));\n",
    "wr100Two4.add(Value.get(\"July 6, 1994\"));\n",
    "\n",
    "ArrayList<Value> wr100Two5 = new ArrayList<Value>();\n",
    "wr100Two5.add(Value.get(9.84));\n",
    "wr100Two5.add(Value.get(\"Donovan Bailey\"));\n",
    "wr100Two5.add(Value.get(\"Atlanta, USA\"));\n",
    "wr100Two5.add(Value.get(\"July 27, 1996\"));\n",
    "\n",
    "ArrayList<Value> wr100Two6 = new ArrayList<Value>();\n",
    "wr100Two6.add(Value.get(9.79));\n",
    "wr100Two6.add(Value.get(\"Maurice Greene\"));\n",
    "wr100Two6.add(Value.get(\"Athens, Greece\"));\n",
    "wr100Two6.add(Value.get(\"June 16, 1999\"));\n",
    "\n",
    "ArrayList<Value> wr100Two7 = new ArrayList<Value>();\n",
    "wr100Two7.add(Value.get(9.77));\n",
    "wr100Two7.add(Value.get(\"Asafa Powell\"));\n",
    "wr100Two7.add(Value.get(\"Athens, Greece\"));\n",
    "wr100Two7.add(Value.get(\"June 14, 2005\"));\n",
    "\n",
    "ArrayList<Value> wr100Two8 = new ArrayList<Value>();\n",
    "wr100Two8.add(Value.get(9.77));\n",
    "wr100Two8.add(Value.get(\"Asafa Powell\"));\n",
    "wr100Two8.add(Value.get(\"Gateshead, England\"));\n",
    "wr100Two8.add(Value.get(\"June 11, 2006\"));\n",
    "\n",
    "ArrayList<Value> wr100Two9 = new ArrayList<Value>();\n",
    "wr100Two9.add(Value.get(9.77));\n",
    "wr100Two9.add(Value.get(\"Asafa Powell\"));\n",
    "wr100Two9.add(Value.get(\"Zurich, Switzerland\"));\n",
    "wr100Two9.add(Value.get(\"August 18, 2006\"));\n",
    "\n",
    "ArrayList<Value> wr100Two10 = new ArrayList<Value>();\n",
    "wr100Two10.add(Value.get(9.74));\n",
    "wr100Two10.add(Value.get(\"Asafa Powell\"));\n",
    "wr100Two10.add(Value.get(\"Rieti, Italy\"));\n",
    "wr100Two10.add(Value.get(\"September 9, 2007\"));\n",
    "\n",
    "ArrayList<Value> wr100Two11 = new ArrayList<Value>();\n",
    "wr100Two11.add(Value.get(9.72));\n",
    "wr100Two11.add(Value.get(\"Usain Bolt\"));\n",
    "wr100Two11.add(Value.get(\"New York, USA\"));\n",
    "wr100Two11.add(Value.get(\"May 31, 2008\"));\n",
    "\n",
    "ArrayList<Value> wr100Two12 = new ArrayList<Value>();\n",
    "wr100Two12.add(Value.get(9.69));\n",
    "wr100Two12.add(Value.get(\"Usain Bolt\"));\n",
    "wr100Two12.add(Value.get(\"Beijing, China\"));\n",
    "wr100Two12.add(Value.get(\"August 16, 2008\"));\n",
    "\n",
    "ArrayList<Value> wr100Two13 = new ArrayList<Value>();\n",
    "wr100Two13.add(Value.get(9.58));\n",
    "wr100Two13.add(Value.get(\"Usain Bolt\"));\n",
    "wr100Two13.add(Value.get(\"Berlin, Germany\"));\n",
    "wr100Two13.add(Value.get(\"August 16, 2009\"));\n",
    "\n",
    "\n",
    "ArrayList<Value> wr100m2List = new ArrayList<Value>();\n",
    "wr100m2List.add(Value.get(wr100Two0));\n",
    "wr100m2List.add(Value.get(wr100Two1));\n",
    "wr100m2List.add(Value.get(wr100Two2));\n",
    "wr100m2List.add(Value.get(wr100Two3));\n",
    "wr100m2List.add(Value.get(wr100Two4));\n",
    "wr100m2List.add(Value.get(wr100Two5));\n",
    "wr100m2List.add(Value.get(wr100Two6));\n",
    "wr100m2List.add(Value.get(wr100Two7));\n",
    "wr100m2List.add(Value.get(wr100Two8));\n",
    "wr100m2List.add(Value.get(wr100Two9));\n",
    "wr100m2List.add(Value.get(wr100Two10));\n",
    "wr100m2List.add(Value.get(wr100Two11));\n",
    "wr100m2List.add(Value.get(wr100Two12));\n",
    "wr100m2List.add(Value.get(wr100Two13));\n",
    "\n",
    "System.out.println(\"100m World Record Holder List 2: \" + wr100m2List);"
   ]
  },
  {
   "cell_type": "markdown",
   "id": "advised-louisville",
   "metadata": {},
   "source": [
    "#### Put Dataset 1 Into An Aerospike Bin \n",
    "\n",
    "Dataset 2 will be used later."
   ]
  },
  {
   "cell_type": "code",
   "execution_count": 30,
   "id": "continued-darkness",
   "metadata": {},
   "outputs": [
    {
     "name": "stdout",
     "output_type": "stream",
     "text": [
      "Created record with bin: leaders\n"
     ]
    }
   ],
   "source": [
    "Integer keyWR = 5;\n",
    "String listLeadersBinName = \"leaders\";\n",
    "\n",
    "Key key = new Key(listModelNamespace, listModelSet, keyWR);\n",
    "Bin bin1 = new Bin(listLeadersBinName, wr100m1List);\n",
    "\n",
    "client.put(clientPolicy.writePolicyDefault, key, bin1);\n",
    "System.out.println(\"Created record with bin: \" + listLeadersBinName);"
   ]
  },
  {
   "cell_type": "markdown",
   "id": "massive-steps",
   "metadata": {},
   "source": [
    "#### Set the Sort Order for the Ordered Bin"
   ]
  },
  {
   "cell_type": "code",
   "execution_count": 31,
   "id": "olympic-recorder",
   "metadata": {},
   "outputs": [
    {
     "name": "stdout",
     "output_type": "stream",
     "text": [
      "Configured ordering policy for bin: leaders\n"
     ]
    }
   ],
   "source": [
    "Record record = client.get(null, key);\n",
    "record = client.operate(client.writePolicyDefault, key, \n",
    "    ListOperation.setOrder(listLeadersBinName, ListOrder.ORDERED)\n",
    "    );\n",
    "\n",
    "System.out.println(\"Configured ordering policy for bin: \" + listLeadersBinName);"
   ]
  },
  {
   "cell_type": "markdown",
   "id": "animated-extension",
   "metadata": {},
   "source": [
    "### Find the Closest Matches to 10.0 Seconds using Relative Range Rank\n",
    "\n",
    "Sometimes the goal is to find the closest matches to a given data point. Aerospike provides this using **Relative Range Rank**. This example finds the elements ranked before and after the value `[10.0, NIL]`."
   ]
  },
  {
   "cell_type": "code",
   "execution_count": 32,
   "id": "robust-union",
   "metadata": {
    "scrolled": true
   },
   "outputs": [
    {
     "name": "stdout",
     "output_type": "stream",
     "text": [
      "The Closest World Records to 10.0 seconds are [[9.95, Jim Hines, Mexico City, Mexico, October 14, 1968], [10.02, Charles Greene, Mexico City, Mexico, October 13, 1968]]\n"
     ]
    }
   ],
   "source": [
    "ArrayList<Value> searchTuple = new ArrayList<Value>();\n",
    "searchTuple.add(Value.get(10.0));\n",
    "searchTuple.add(Value.NULL);\n",
    "\n",
    "Integer searchRank = -1;\n",
    "Integer searchQty = 2;\n",
    "\n",
    "Record closestTo10 = client.get(null, key);\n",
    "closestTo10 = client.operate(client.writePolicyDefault, key, \n",
    "    ListOperation.getByValueRelativeRankRange(listLeadersBinName, Value.get(searchTuple), \n",
    "        searchRank, searchQty, ListReturnType.VALUE)\n",
    "    );\n",
    "\n",
    "System.out.println(\"The Closest World Records to 10.0 seconds are \" + \n",
    "    closestTo10.getValue(listLeadersBinName));"
   ]
  },
  {
   "cell_type": "markdown",
   "id": "peaceful-thesis",
   "metadata": {},
   "source": [
    "### Combine the Two Lists into One Ordered List with Unique Elements"
   ]
  },
  {
   "cell_type": "markdown",
   "id": "enabling-finland",
   "metadata": {},
   "source": [
    "#### Create A List Policy to Remove Duplicates\n",
    "\n",
    "A **list write policy** contains the **sort order** and **flags** to govern the addition. For information on the [flags](https://www.aerospike.com/apidocs/java/com/aerospike/client/cdt/ListWriteFlags.html), go [here](https://www.aerospike.com/apidocs/java/com/aerospike/client/cdt/ListWriteFlags.html). \n",
    "\n",
    "Because the two Datasets contain overlapping records, the operation needs to apply the following policies:\n",
    "* ADD_UNIQUE – Add all unique items to the list.\n",
    "* NO_FAIL – Duplicate item errors are expected and should not cause the operation to fail.\n",
    "* PARTIAL – Add items that are not duplicates.\n"
   ]
  },
  {
   "cell_type": "code",
   "execution_count": 33,
   "id": "three-tension",
   "metadata": {},
   "outputs": [
    {
     "name": "stdout",
     "output_type": "stream",
     "text": [
      "Created List Policy for Ordering and Adding Only Unique Items.\n"
     ]
    }
   ],
   "source": [
    "import com.aerospike.client.cdt.ListPolicy;\n",
    "import com.aerospike.client.cdt.ListWriteFlags;\n",
    "\n",
    "int listUniqueFlags = ListWriteFlags.ADD_UNIQUE \n",
    "                        | ListWriteFlags.NO_FAIL \n",
    "                        | ListWriteFlags.PARTIAL;\n",
    "\n",
    "ListPolicy policyOrderedNoDupes = new ListPolicy(ListOrder.ORDERED, listUniqueFlags); \n",
    "                                                 \n",
    "System.out.println(\"Created List Policy for Ordering and Adding Only Unique Items.\");"
   ]
  },
  {
   "cell_type": "markdown",
   "id": "pending-system",
   "metadata": {},
   "source": [
    "#### Append the Second Dataset Using the New Policy"
   ]
  },
  {
   "cell_type": "code",
   "execution_count": 34,
   "id": "sorted-somewhere",
   "metadata": {},
   "outputs": [
    {
     "name": "stdout",
     "output_type": "stream",
     "text": [
      "The complete, deduplicated Leaders List is: [[9.58, Usain Bolt, Berlin, Germany, August 16, 2009], [9.69, Usain Bolt, Beijing, China, August 16, 2008], [9.72, Usain Bolt, New York, USA, May 31, 2008], [9.74, Asafa Powell, Rieti, Italy, September 9, 2007], [9.77, Asafa Powell, Athens, Greece, June 14, 2005], [9.77, Asafa Powell, Gateshead, England, June 11, 2006], [9.77, Asafa Powell, Zurich, Switzerland, August 18, 2006], [9.79, Maurice Greene, Athens, Greece, June 16, 1999], [9.84, Donovan Bailey, Atlanta, USA, July 27, 1996], [9.85, Leroy Burrell, Lausanne, Switzerland, July 6, 1994], [9.86, Carl Lewis, Tokyo, Japan, August 25, 1991], [9.9, Leroy Burrell, New York, USA, June 14, 1991], [9.92, Carl Lewis, Seoul, South Korea, September 24, 1988], [9.93, Calvin Smith, Colorado Springs, USA, July 3, 1983], [9.93, Carl Lewis, Rome, Italy, August 30, 1987], [9.95, Jim Hines, Mexico City, Mexico, October 14, 1968], [10.02, Charles Greene, Mexico City, Mexico, October 13, 1968], [10.03, Jim Hines, Sacramento, USA, June 20,1968], [10.06, Bob Hayes, Tokyo, Japan, October 15, 1964]]\n"
     ]
    }
   ],
   "source": [
    "Record record = client.get(null, key);\n",
    "record = client.operate(client.writePolicyDefault, key, \n",
    "    ListOperation.appendItems(policyOrderedNoDupes, listLeadersBinName, wr100m2List)\n",
    "    );\n",
    "Record fullLeadersList = client.get(null, key);\n",
    "\n",
    "\n",
    "System.out.println(\"The complete, deduplicated Leaders List is: \" \n",
    "                    + fullLeadersList.getValue(listLeadersBinName));"
   ]
  },
  {
   "cell_type": "markdown",
   "id": "numerous-defensive",
   "metadata": {
    "heading_collapsed": true
   },
   "source": [
    "# Notebook Cleanup"
   ]
  },
  {
   "cell_type": "markdown",
   "id": "knowing-bobby",
   "metadata": {
    "hidden": true
   },
   "source": [
    "### Truncate the Set\n",
    "\n",
    "Truncate the set from the Aerospike Database."
   ]
  },
  {
   "cell_type": "code",
   "execution_count": 35,
   "id": "fitted-chemistry",
   "metadata": {
    "hidden": true
   },
   "outputs": [
    {
     "name": "stdout",
     "output_type": "stream",
     "text": [
      "Set Truncated.\n"
     ]
    }
   ],
   "source": [
    "import com.aerospike.client.policy.InfoPolicy;\n",
    "InfoPolicy infoPolicy = new InfoPolicy();\n",
    "\n",
    "client.truncate(infoPolicy, listModelNamespace, listModelSet, null);\n",
    "System.out.println(\"Set Truncated.\");"
   ]
  },
  {
   "cell_type": "markdown",
   "id": "brown-apparel",
   "metadata": {
    "hidden": true
   },
   "source": [
    "## Close the Connection to Aerospike"
   ]
  },
  {
   "cell_type": "code",
   "execution_count": 36,
   "id": "worth-stevens",
   "metadata": {
    "hidden": true
   },
   "outputs": [
    {
     "name": "stdout",
     "output_type": "stream",
     "text": [
      "Server connection closed.\n"
     ]
    }
   ],
   "source": [
    "client.close();\n",
    "System.out.println(\"Server connection closed.\");"
   ]
  },
  {
   "cell_type": "markdown",
   "id": "cutting-membership",
   "metadata": {},
   "source": [
    "# Code Summary\n",
    "\n",
    "Here is a collection of all of the non-Jupyter code from this tutorial."
   ]
  },
  {
   "cell_type": "markdown",
   "id": "logical-ghost",
   "metadata": {},
   "source": [
    "## Overview\n",
    "\n",
    "1. Import Java Libraries.\n",
    "2. Import Aerospike Client Libraries.\n",
    "3. Start the Aerospike Client.\n",
    "4. Compare Sorted and Unsorted Integer Lists.\n",
    "    1. Create Two Identical Lists.\n",
    "    2. Sort One of the Lists.\n",
    "    3. Add Elements to Both Lists.\n",
    "5. Apply Rank Operations on Sorted and Unsorted Mixed Data Type Lists.\n",
    "    1. Create Two Identical Lists.\n",
    "    2. Set the Sort Order for the Ordered List.\n",
    "    3. Find the Range Between `NIL` and `10`.\n",
    "    4. Find the Range Between `[ ]` and `INF`.\n",
    "6. Apply Rank Operations on Nested Lists of Varying Length.\n",
    "    1. Create Two Empty Lists.\n",
    "    2. Sort One of the Lists.\n",
    "    3. Put Lists of Varying Lengths in Both.\n",
    "7. Apply Interval Operations on Nested Lists.\n",
    "    1. Create a List of Tuples.\n",
    "    2. Put the List of Tuples in an Ordered and an Unordered Bin.\n",
    "    3. Find all Tuples whose first element is `1` or `2`.\n",
    "    4. Find the Interval between `[1, NIL]` and `[2, NIL]`.\n",
    "    5. Find the Interval between `[1, NIL]` and `[1, INF]`.\n",
    "8. Example 1 – IoT Model.\n",
    "    1. Create Sample Data.\n",
    "    2. Find the Temperature between Minute 14063 and 14064.\n",
    "9. Example 2 – 100 Meter Leaderboard Model.\n",
    "    1. Create Overlapping Datasets.\n",
    "    2. Put the First Dataset in a Sorted Aerospike Bin\n",
    "    3. Find the Closest World Record to 10.0 Seconds.\n",
    "    4. Insert the Overlapping Dataset.\n",
    "10. Close the Client Connections."
   ]
  },
  {
   "cell_type": "code",
   "execution_count": 38,
   "id": "scheduled-installation",
   "metadata": {},
   "outputs": [
    {
     "name": "stdout",
     "output_type": "stream",
     "text": [
      "Initialized the client and connected to the cluster.\n",
      "\n",
      "Put list into record with bins: ordered and unordered\n",
      "Original Integer List: [1]\n",
      "Appending the following list items to both lists: [4, 7, 3, 9, 26, 11]\n",
      "The Unordered List is [1, 4, 7, 3, 9, 26, 11]\n",
      "The Ordered List is [1, 3, 4, 7, 9, 11, 26]\n",
      "\n",
      "Sub Mixed Type List: [25, y, 1]\n",
      "Mixed Type Data List: [c, 3, 26, [25, y, 1], 11, 9, 4, a, 1, 7]\n",
      "Created record with bins: ordered and unordered\n",
      "The Unordered List range between null and 10 is [3, 9, 4, 1, 7]\n",
      "The Ordered List range between null and 10 is [1, 3, 4, 7, 9]\n",
      "The Unordered List range between a and [] is [c, a]\n",
      "The Ordered List range  between a and [] is [a, c]\n",
      "The Unordered List range between [] and INF is [[25, y, 1]]\n",
      "The Ordered List range  between [] and INF is [[25, y, 1]]\n",
      "\n",
      "Created record with bins: ordered and unordered\n",
      "Configured ordering policy to bin: ordered\n",
      "The Unordered List is [[1, 1], [1, 3], [1, 2, 0, 1], [1, 2]]\n",
      "The Ordered List is [[1, 1], [1, 2], [1, 2, 0, 1], [1, 3]]\n",
      "\n",
      "The Unordered List between [14063, null] and [14064, INF] is [[2, 7], [1, 1], [2, 5], [1, 2]]\n",
      "The Ordered List between [14063, null] and [14064, INF] is [[1, 1], [1, 2], [2, 5], [2, 7]]\n",
      "Tuple List: [[2, 7], [3, 1], [1, 2], [2, 5], [1, 1], [0, 3]]\n",
      "Created record with bins: ordered and unordered\n",
      "The Unordered List between [1, *] and [3, *] is [[2, 7], [1, 2], [2, 5], [1, 1]]\n",
      "The Ordered List between [1, *] and [3, *] is [[1, 1], [1, 2], [2, 5], [2, 7]]\n",
      "The Unordered List between [1, null] and [2, null] is [[1, 2], [1, 1]]\n",
      "The Ordered List between [1, null] and [2, null] is [[1, 1], [1, 2]]\n",
      "The Unordered List between [1, null] and [1, INF] is [[1, 2], [1, 1]]\n",
      "The Ordered List between [1, null] and [1, INF] is [[1, 1], [1, 2]]\n",
      "\n",
      "IoT Tuple List: [[14062, 39.04], [14063, 39.78], [14065, 40.07], [14064, 40.89], [14066, 41.18], [14067, 40.93]]\n",
      "Created record with bin: unordered\n",
      "The readings between [14063, null] and [14064, INF] are [[14063, 39.78], [14064, 40.89]]\n",
      "\n",
      "100m World Record Holder List 1: \n",
      "[[10.06, Bob Hayes, Tokyo, Japan, October 15, 1964], [10.03, Jim Hines, Sacramento, USA, June 20,1968], [10.02, Charles Greene, Mexico City, Mexico, October 13, 1968], [9.95, Jim Hines, Mexico City, Mexico, October 14, 1968], [9.93, Calvin Smith, Colorado Springs, USA, July 3, 1983], [9.93, Carl Lewis, Rome, Italy, August 30, 1987], [9.92, Carl Lewis, Seoul, South Korea, September 24, 1988]]\n",
      "\n",
      "100m World Record Holder List 2: \n",
      "[[9.93, Carl Lewis, Rome, Italy, August 30, 1987], [9.92, Carl Lewis, Seoul, South Korea, September 24, 1988], [9.9, Leroy Burrell, New York, USA, June 14, 1991], [9.86, Carl Lewis, Tokyo, Japan, August 25, 1991], [9.85, Leroy Burrell, Lausanne, Switzerland, July 6, 1994], [9.84, Donovan Bailey, Atlanta, USA, July 27, 1996], [9.79, Maurice Greene, Athens, Greece, June 16, 1999], [9.77, Asafa Powell, Athens, Greece, June 14, 2005], [9.77, Asafa Powell, Gateshead, England, June 11, 2006], [9.77, Asafa Powell, Zurich, Switzerland, August 18, 2006], [9.74, Asafa Powell, Rieti, Italy, September 9, 2007], [9.72, Usain Bolt, New York, USA, May 31, 2008], [9.69, Usain Bolt, Beijing, China, August 16, 2008], [9.58, Usain Bolt, Berlin, Germany, August 16, 2009]]\n",
      "\n",
      "Created Record with Ordered Bin: leaders\n",
      "\n",
      "The Closest World Records to 10.0 seconds are [[9.95, Jim Hines, Mexico City, Mexico, October 14, 1968], [10.02, Charles Greene, Mexico City, Mexico, October 13, 1968]]\n",
      "\n",
      "Created List Policy for Ordering and Adding Only Unique Items.\n",
      "\n",
      "The complete, deduplicated Leaders List is: \n",
      "[[9.58, Usain Bolt, Berlin, Germany, August 16, 2009], [9.69, Usain Bolt, Beijing, China, August 16, 2008], [9.72, Usain Bolt, New York, USA, May 31, 2008], [9.74, Asafa Powell, Rieti, Italy, September 9, 2007], [9.77, Asafa Powell, Athens, Greece, June 14, 2005], [9.77, Asafa Powell, Gateshead, England, June 11, 2006], [9.77, Asafa Powell, Zurich, Switzerland, August 18, 2006], [9.79, Maurice Greene, Athens, Greece, June 16, 1999], [9.84, Donovan Bailey, Atlanta, USA, July 27, 1996], [9.85, Leroy Burrell, Lausanne, Switzerland, July 6, 1994], [9.86, Carl Lewis, Tokyo, Japan, August 25, 1991], [9.9, Leroy Burrell, New York, USA, June 14, 1991], [9.92, Carl Lewis, Seoul, South Korea, September 24, 1988], [9.93, Calvin Smith, Colorado Springs, USA, July 3, 1983], [9.93, Carl Lewis, Rome, Italy, August 30, 1987], [9.95, Jim Hines, Mexico City, Mexico, October 14, 1968], [10.02, Charles Greene, Mexico City, Mexico, October 13, 1968], [10.03, Jim Hines, Sacramento, USA, June 20,1968], [10.06, Bob Hayes, Tokyo, Japan, October 15, 1964]]\n",
      "\n",
      "Set Truncated.\n",
      "Server connection closed.\n"
     ]
    }
   ],
   "source": [
    "// Import Java Libraries\n",
    "\n",
    "import java.util.ArrayList;\n",
    "import java.util.Arrays;\n",
    "import java.util.List;\n",
    "import java.util.Map;\n",
    "\n",
    "\n",
    "// Import Aerospike Client Libraries.\n",
    "\n",
    "import com.aerospike.client.Key;\n",
    "import com.aerospike.client.Bin;\n",
    "import com.aerospike.client.policy.ClientPolicy;\n",
    "import com.aerospike.client.Record;\n",
    "import com.aerospike.client.Operation;\n",
    "import com.aerospike.client.Value;\n",
    "import com.aerospike.client.cdt.ListOperation;\n",
    "import com.aerospike.client.cdt.ListOrder;\n",
    "import com.aerospike.client.cdt.ListReturnType;\n",
    "import com.aerospike.client.cdt.ListPolicy;\n",
    "import com.aerospike.client.cdt.ListWriteFlags;\n",
    "import com.aerospike.client.policy.InfoPolicy;\n",
    "\n",
    "\n",
    "// Start the Aerospike Client\n",
    "\n",
    "AerospikeClient client = new AerospikeClient(\"localhost\", 3000);\n",
    "System.out.println(\"Initialized the client and connected to the cluster.\");\n",
    "System.out.println();\n",
    "\n",
    "\n",
    "// Compare Sorted and Unsorted Integer Lists.\n",
    "//    1. Create Two Identical Lists.\n",
    "//    2. Set the Sort Order for the Ordered List.\n",
    "//    3. Add Elements to Both Lists.\n",
    "\n",
    "ArrayList<Integer> origListInt = new ArrayList<Integer>();\n",
    "origListInt.add(1);\n",
    "ArrayList<Value> addListInt = new ArrayList<Value>();\n",
    "addListInt.add(Value.get(4));\n",
    "addListInt.add(Value.get(7));\n",
    "addListInt.add(Value.get(3));\n",
    "addListInt.add(Value.get(9));\n",
    "addListInt.add(Value.get(26));\n",
    "addListInt.add(Value.get(11));\n",
    "\n",
    "Integer theKey = 0;\n",
    "String listModelSet = \"listmodelset\";\n",
    "String listModelNamespace = \"test\";\n",
    "String orderedBinName = \"ordered\";\n",
    "String unorderedBinName = \"unordered\";\n",
    "ClientPolicy clientPolicy = new ClientPolicy();\n",
    "InfoPolicy infoPolicy = new InfoPolicy();\n",
    "\n",
    "\n",
    "Key key = new Key(listModelNamespace, listModelSet, theKey);\n",
    "Bin bin1 = new Bin(orderedBinName, origListInt);\n",
    "Bin bin2 = new Bin(unorderedBinName, origListInt);\n",
    "\n",
    "\n",
    "client.put(clientPolicy.writePolicyDefault, key, bin1, bin2);\n",
    "Record record = client.get(null, key);\n",
    "record = client.operate(client.writePolicyDefault, key, \n",
    "                        ListOperation.setOrder(orderedBinName, ListOrder.ORDERED),\n",
    "                        ListOperation.appendItems(orderedBinName, addListInt),\n",
    "                        ListOperation.appendItems(unorderedBinName, addListInt) \n",
    "                        );                       \n",
    "Record finalListComp = client.get(null, key);\n",
    "\n",
    "System.out.println(\"Put list into record with bins: \" + orderedBinName + \" and \" \n",
    "                    + unorderedBinName);\n",
    "System.out.println(\"Original Integer List: \" + origListInt);\n",
    "System.out.println(\"Appending the following list items to both lists: \" + addListInt);\n",
    "System.out.println(\"The Unordered List is \" + finalListComp.getValue(unorderedBinName));\n",
    "System.out.println(\"The Ordered List is \" + finalListComp.getValue(orderedBinName));\n",
    "System.out.println();\n",
    "\n",
    "\n",
    "// Apply Rank Operations on Sorted and Unsorted Mixed Data Type Lists\n",
    "//    1. Create Two Identical Lists.\n",
    "//    2. Set the Sort Order for the Ordered List.\n",
    "//    3. Find the Range Between NIL and 10.\n",
    "//    4. Find the Range Between [ ] and INF.\n",
    "\n",
    "ArrayList<Value> subMixedList = new ArrayList<Value>();\n",
    "subMixedList.add(Value.get(25));\n",
    "subMixedList.add(Value.get(\"y\"));\n",
    "subMixedList.add(Value.get(1));\n",
    "\n",
    "System.out.println(\"Sub Mixed Type List: \" + subMixedList);\n",
    "\n",
    "ArrayList<Value> mixedDataList = new ArrayList<Value>();\n",
    "mixedDataList.add(Value.get(\"c\"));\n",
    "mixedDataList.add(Value.get(3));\n",
    "mixedDataList.add(Value.get(26));\n",
    "mixedDataList.add(Value.get(subMixedList));\n",
    "mixedDataList.add(Value.get(11));\n",
    "mixedDataList.add(Value.get(9));\n",
    "mixedDataList.add(Value.get(4));\n",
    "mixedDataList.add(Value.get(\"a\"));\n",
    "mixedDataList.add(Value.get(1));\n",
    "mixedDataList.add(Value.get(7));\n",
    "\n",
    "Value lowEnd0 = Value.NULL;\n",
    "Value highEnd0 = Value.get(10);\n",
    "\n",
    "ArrayList<Value> emptyList = new ArrayList<Value>();\n",
    "\n",
    "Value lowEnd1 = Value.get(\"a\");\n",
    "Value highEnd1 = Value.get(emptyList);\n",
    "\n",
    "Value lowEnd2 = Value.get(emptyList);\n",
    "Value highEnd2 = Value.INFINITY;\n",
    "\n",
    "Integer mixedKey = 1;\n",
    "\n",
    "Key key = new Key(listModelNamespace, listModelSet, mixedKey);\n",
    "Bin bin1 = new Bin(orderedBinName, mixedDataList);\n",
    "Bin bin2 = new Bin(unorderedBinName, mixedDataList);\n",
    "\n",
    "client.put(clientPolicy.writePolicyDefault, key, bin1, bin2);\n",
    "\n",
    "Record record = client.get(null, key);\n",
    "record = client.operate(client.writePolicyDefault, key, \n",
    "                ListOperation.setOrder(orderedBinName, ListOrder.ORDERED),\n",
    "                ListOperation.getByValueRange(orderedBinName, lowEnd0, highEnd0, \n",
    "                                              ListReturnType.VALUE),\n",
    "                ListOperation.getByValueRange(unorderedBinName, lowEnd0, highEnd0, \n",
    "                                              ListReturnType.VALUE),\n",
    "                ListOperation.getByValueRange(orderedBinName, lowEnd1, highEnd1, \n",
    "                                              ListReturnType.VALUE),\n",
    "                ListOperation.getByValueRange(unorderedBinName, lowEnd1, highEnd1, \n",
    "                                              ListReturnType.VALUE),\n",
    "                ListOperation.getByValueRange(orderedBinName, lowEnd2, highEnd2, \n",
    "                                              ListReturnType.VALUE),\n",
    "                ListOperation.getByValueRange(unorderedBinName, lowEnd2, highEnd2, \n",
    "                                              ListReturnType.VALUE)\n",
    "                );\n",
    "\n",
    "List<?> resultOrdered = record.getList(orderedBinName);\n",
    "List<?> resultUnordered = record.getList(unorderedBinName);\n",
    "\n",
    "System.out.println(\"Mixed Type Data List: \" + mixedDataList);\n",
    "System.out.println(\"Created record with bins: \" + orderedBinName + \" and \" \n",
    "                    + unorderedBinName);\n",
    "System.out.println(\"The Unordered List range between \" + lowEnd0 + \" and \" + highEnd0 \n",
    "    + \" is \" + resultUnordered.get(0));\n",
    "System.out.println(\"The Ordered List range between \" + lowEnd0 + \" and \" + highEnd0 \n",
    "    + \" is \" + resultOrdered.get(0));\n",
    "System.out.println(\"The Unordered List range between \" + lowEnd1 + \" and \" + highEnd1 \n",
    "    + \" is \" + resultUnordered.get(1));\n",
    "System.out.println(\"The Ordered List range  between \" + lowEnd1 + \" and \" + highEnd1 \n",
    "    + \" is \" + resultOrdered.get(1));\n",
    "System.out.println(\"The Unordered List range between \" + lowEnd2 + \" and \" + highEnd2 \n",
    "    + \" is \" + resultUnordered.get(2));\n",
    "System.out.println(\"The Ordered List range  between \" + lowEnd2 + \" and \" + highEnd2 \n",
    "    + \" is \" + resultOrdered.get(2));\n",
    "System.out.println();    \n",
    "\n",
    "\n",
    "// Apply Rank Operations on Nested Lists of Varying Length.\n",
    "//    1. Create Two Empty Lists.\n",
    "//    2. Set the Sort Order for the Ordered List.\n",
    "//    3. Put Lists of Varying Lengths in Both.\n",
    "\n",
    "ArrayList<Integer> thisTuple0 = new ArrayList<Integer>();\n",
    "thisTuple0.add(1);\n",
    "thisTuple0.add(1);\n",
    " \n",
    "ArrayList<Integer> thisTuple1 = new ArrayList<Integer>();\n",
    "thisTuple1.add(1);\n",
    "thisTuple1.add(3);\n",
    "\n",
    "ArrayList<Integer> thisTuple2 = new ArrayList<Integer>();\n",
    "thisTuple2.add(1);\n",
    "thisTuple2.add(2);\n",
    "thisTuple2.add(0);\n",
    "thisTuple2.add(1);\n",
    "\n",
    "ArrayList<Integer> thisTuple3 = new ArrayList<Integer>();\n",
    "thisTuple3.add(1);\n",
    "thisTuple3.add(2);\n",
    "\n",
    "\n",
    "Integer listOfListsKey = 2;\n",
    "\n",
    "Key key = new Key(listModelNamespace, listModelSet, listOfListsKey);\n",
    "Bin bin1 = new Bin(orderedBinName, emptyList);\n",
    "Bin bin2 = new Bin(unorderedBinName, emptyList);\n",
    "\n",
    "client.put(clientPolicy.writePolicyDefault, key, bin1, bin2);\n",
    "                    \n",
    "Record record = client.get(null, key);\n",
    "record = client.operate(client.writePolicyDefault, key, \n",
    "    ListOperation.setOrder(orderedBinName, ListOrder.ORDERED),\n",
    "    ListOperation.append(orderedBinName, Value.get(thisTuple0)),\n",
    "    ListOperation.append(unorderedBinName, Value.get(thisTuple0)),    \n",
    "    ListOperation.append(orderedBinName, Value.get(thisTuple1)),\n",
    "    ListOperation.append(unorderedBinName, Value.get(thisTuple1)),    \n",
    "    ListOperation.append(orderedBinName, Value.get(thisTuple2)),\n",
    "    ListOperation.append(unorderedBinName, Value.get(thisTuple2)),    \n",
    "    ListOperation.append(orderedBinName, Value.get(thisTuple3)),\n",
    "    ListOperation.append(unorderedBinName, Value.get(thisTuple3))    \n",
    "    );\n",
    "Record listWithTuples = client.get(null, key);\n",
    "\n",
    "System.out.println(\"Created record with bins: \" + orderedBinName + \" and \" \n",
    "                    + unorderedBinName);\n",
    "System.out.println(\"Configured ordering policy to bin: \" + orderedBinName);\n",
    "System.out.println(\"The Unordered List is \" + listWithTuples.getValue(unorderedBinName));\n",
    "System.out.println(\"The Ordered List is \" + listWithTuples.getValue(orderedBinName));\n",
    "System.out.println(); \n",
    "\n",
    "\n",
    "// Apply Interval Operations on Nested Lists.\n",
    "//    1. Create a List of Tuples.\n",
    "//    2. Put the List of Tuples in an Ordered and an Unordered Bin.\n",
    "//    3. Find all tuples whose first element is 1 or 2.\n",
    "//    4. Find the Interval between [1, NIL] and [2, NIL].\n",
    "//    5. Find the Interval between [1, NIL] and [1, INF].\n",
    "\n",
    "ArrayList<Integer> subTuple0 = new ArrayList<Integer>();\n",
    "subTuple0.add(2);\n",
    "subTuple0.add(7);\n",
    "\n",
    "ArrayList<Integer> subTuple1 = new ArrayList<Integer>();\n",
    "subTuple1.add(3);\n",
    "subTuple1.add(1);\n",
    "\n",
    "ArrayList<Integer> subTuple2 = new ArrayList<Integer>();\n",
    "subTuple2.add(1);\n",
    "subTuple2.add(2);\n",
    "\n",
    "ArrayList<Integer> subTuple3 = new ArrayList<Integer>();\n",
    "subTuple3.add(2);\n",
    "subTuple3.add(5);\n",
    "\n",
    "ArrayList<Integer> subTuple4 = new ArrayList<Integer>();\n",
    "subTuple4.add(1);\n",
    "subTuple4.add(1);\n",
    "\n",
    "ArrayList<Integer> subTuple5 = new ArrayList<Integer>();\n",
    "subTuple5.add(0);\n",
    "subTuple5.add(3);\n",
    "\n",
    "ArrayList<Value> tupleList = new ArrayList<Value>();\n",
    "tupleList.add(Value.get(subTuple0));\n",
    "tupleList.add(Value.get(subTuple1));\n",
    "tupleList.add(Value.get(subTuple2));\n",
    "tupleList.add(Value.get(subTuple3));\n",
    "tupleList.add(Value.get(subTuple4));\n",
    "tupleList.add(Value.get(subTuple5));\n",
    "\n",
    "\n",
    "System.out.println(\"The Unordered List between \" + lowTuple + \" and \" + highTuple + \" is \" \n",
    "    + all1and2tuples.getValue(unorderedBinName));\n",
    "System.out.println(\"The Ordered List between \" + lowTuple + \" and \" + highTuple + \" is \" \n",
    "    + all1and2tuples.getValue(orderedBinName));\n",
    "\n",
    "\n",
    "ArrayList<Value> lowTuple0 = new ArrayList<Value>();\n",
    "lowTuple0.add(Value.get(1));\n",
    "lowTuple0.add(Value.WILDCARD);\n",
    "\n",
    "ArrayList<Value> highTuple0 = new ArrayList<Value>();\n",
    "highTuple0.add(Value.get(3));\n",
    "highTuple0.add(Value.WILDCARD);\n",
    "\n",
    "ArrayList<Value> lowTuple1 = new ArrayList<Value>();\n",
    "lowTuple1.add(Value.get(1));\n",
    "lowTuple1.add(Value.NULL);\n",
    "\n",
    "ArrayList<Value> highTuple1 = new ArrayList<Value>();\n",
    "highTuple1.add(Value.get(2));\n",
    "highTuple1.add(Value.NULL);\n",
    "\n",
    "ArrayList<Value> lowTuple2 = new ArrayList<Value>();\n",
    "lowTuple2.add(Value.get(1));\n",
    "lowTuple2.add(Value.NULL);\n",
    "\n",
    "ArrayList<Value> highTuple2 = new ArrayList<Value>();\n",
    "highTuple2.add(Value.get(1));\n",
    "highTuple2.add(Value.INFINITY);\n",
    "\n",
    "Integer tupleKey = 3;\n",
    "\n",
    "Key key = new Key(listModelNamespace, listModelSet, tupleKey);\n",
    "Bin bin1 = new Bin(orderedBinName, tupleList);\n",
    "Bin bin2 = new Bin(unorderedBinName, tupleList);\n",
    "\n",
    "client.put(clientPolicy.writePolicyDefault, key, bin1, bin2);\n",
    "\n",
    "\n",
    "Record tupleResults = client.operate(client.writePolicyDefault, key, \n",
    "    ListOperation.setOrder(orderedBinName, ListOrder.ORDERED),\n",
    "    ListOperation.getByValueRange(orderedBinName, Value.get(lowTuple0), Value.get(highTuple0), \n",
    "        ListReturnType.VALUE),\n",
    "    ListOperation.getByValueRange(unorderedBinName, Value.get(lowTuple0), Value.get(highTuple0), \n",
    "        ListReturnType.VALUE), \n",
    "    ListOperation.getByValueRange(orderedBinName, Value.get(lowTuple1), Value.get(highTuple1), \n",
    "        ListReturnType.VALUE),\n",
    "    ListOperation.getByValueRange(unorderedBinName, Value.get(lowTuple1), Value.get(highTuple1), \n",
    "        ListReturnType.VALUE),\n",
    "    ListOperation.getByValueRange(orderedBinName, Value.get(lowTuple2), Value.get(highTuple2), \n",
    "        ListReturnType.VALUE),\n",
    "    ListOperation.getByValueRange(unorderedBinName, Value.get(lowTuple2), Value.get(highTuple2), \n",
    "        ListReturnType.VALUE)    \n",
    "    );\n",
    "\n",
    "List<?> orderedTuples = tupleResults.getList(orderedBinName);\n",
    "List<?> unorderedTuples = tupleResults.getList(unorderedBinName);\n",
    "\n",
    "System.out.println(\"Tuple List: \" + tupleList);\n",
    "System.out.println(\"Created record with bins: \" + orderedBinName + \" and \" \n",
    "                    + unorderedBinName);\n",
    "System.out.println(\"The Unordered List between \" + lowTuple0 + \" and \" + highTuple0 + \" is \" \n",
    "    + unorderedTuples.get(0));\n",
    "System.out.println(\"The Ordered List between \" + lowTuple0 + \" and \" + highTuple0 + \" is \" \n",
    "    + orderedTuples.get(0));\n",
    "System.out.println(\"The Unordered List between \" + lowTuple1 + \" and \" + highTuple1 + \" is \" \n",
    "    + unorderedTuples.get(1));\n",
    "System.out.println(\"The Ordered List between \" + lowTuple1 + \" and \" + highTuple1 + \" is \" \n",
    "    + orderedTuples.get(1));\n",
    "System.out.println(\"The Unordered List between \" + lowTuple2 + \" and \" + highTuple2 + \" is \" \n",
    "    + unorderedTuples.get(2));\n",
    "System.out.println(\"The Ordered List between \" + lowTuple2 + \" and \" + highTuple2 + \" is \" \n",
    "    + orderedTuples.get(2));\n",
    "System.out.println();\n",
    "\n",
    "\n",
    "// Example 1 – IoT Model.\n",
    "//    1. Create Sample Data.\n",
    "//    2. Find the Temperature between Minute 14063 and 14064.\n",
    "\n",
    "ArrayList<Value> subTuple0 = new ArrayList<Value>();\n",
    "subTuple0.add(Value.get(14062));\n",
    "subTuple0.add(Value.get(39.04));\n",
    "\n",
    "ArrayList<Value> subTuple1 = new ArrayList<Value>();\n",
    "subTuple1.add(Value.get(14063));\n",
    "subTuple1.add(Value.get(39.78));\n",
    "\n",
    "ArrayList<Value> subTuple2 = new ArrayList<Value>();\n",
    "subTuple2.add(Value.get(14065));\n",
    "subTuple2.add(Value.get(40.07));\n",
    "\n",
    "ArrayList<Value> subTuple3 = new ArrayList<Value>();\n",
    "subTuple3.add(Value.get(14064));\n",
    "subTuple3.add(Value.get(40.89));\n",
    "\n",
    "ArrayList<Value> subTuple4 = new ArrayList<Value>();\n",
    "subTuple4.add(Value.get(14066));\n",
    "subTuple4.add(Value.get(41.18));\n",
    "\n",
    "ArrayList<Value> subTuple5 = new ArrayList<Value>();\n",
    "subTuple5.add(Value.get(14067));\n",
    "subTuple5.add(Value.get(40.93));\n",
    "\n",
    "ArrayList<Value> tupleListIoT = new ArrayList<Value>();\n",
    "tupleListIoT.add(Value.get(subTuple0));\n",
    "tupleListIoT.add(Value.get(subTuple1));\n",
    "tupleListIoT.add(Value.get(subTuple2));\n",
    "tupleListIoT.add(Value.get(subTuple3));\n",
    "tupleListIoT.add(Value.get(subTuple4));\n",
    "tupleListIoT.add(Value.get(subTuple5));\n",
    "\n",
    "ArrayList<Value> lowTuple = new ArrayList<Value>();\n",
    "lowTuple.add(Value.get(14063));\n",
    "lowTuple.add(Value.NULL);\n",
    "\n",
    "ArrayList<Value> highTuple = new ArrayList<Value>();\n",
    "highTuple.add(Value.get(14064));\n",
    "highTuple.add(Value.INFINITY);\n",
    "\n",
    "Integer keyIoT = 4;\n",
    "\n",
    "Key key = new Key(listModelNamespace, listModelSet, keyIoT);\n",
    "Bin bin1 = new Bin(unorderedBinName, tupleListIoT);\n",
    "ClientPolicy clientPolicy = new ClientPolicy();\n",
    "\n",
    "client.put(clientPolicy.writePolicyDefault, key, bin1);\n",
    "Record between14063and14064 = client.get(null, key);\n",
    "between14063and14064 = client.operate(client.writePolicyDefault, key, \n",
    "    ListOperation.getByValueRange(unorderedBinName, Value.get(lowTuple), Value.get(highTuple), \n",
    "        ListReturnType.VALUE)    \n",
    "    );\n",
    "\n",
    "System.out.println(\"IoT Tuple List: \" + tupleListIoT);\n",
    "System.out.println(\"Created record with bin: \" + unorderedBinName);\n",
    "System.out.println(\"The readings between \" + lowTuple + \" and \" + highTuple + \" are \" \n",
    "    + between14063and14064.getValue(unorderedBinName));\n",
    "System.out.println();\n",
    "\n",
    "\n",
    "// Example 2 – 100 Meter Leaderboard Model.\n",
    "//    1. Create Overlapping Datasets.\n",
    "//    2. Put the First Dataset in a Sorted Aerospike Bin\n",
    "//    3. Find the Closest World Record to 10.0 Seconds.\n",
    "//    4. Insert the Overlapping Dataset.\n",
    "\n",
    "ArrayList<Value> wr100One0 = new ArrayList<Value>();\n",
    "wr100One0.add(Value.get(10.06));\n",
    "wr100One0.add(Value.get(\"Bob Hayes\"));\n",
    "wr100One0.add(Value.get(\"Tokyo, Japan\"));\n",
    "wr100One0.add(Value.get(\"October 15, 1964\"));\n",
    "\n",
    "ArrayList<Value> wr100One1 = new ArrayList<Value>();\n",
    "wr100One1.add(Value.get(10.03));\n",
    "wr100One1.add(Value.get(\"Jim Hines\"));\n",
    "wr100One1.add(Value.get(\"Sacramento, USA\"));\n",
    "wr100One1.add(Value.get(\"June 20,1968\"));\n",
    "\n",
    "ArrayList<Value> wr100One2 = new ArrayList<Value>();\n",
    "wr100One2.add(Value.get(10.02));\n",
    "wr100One2.add(Value.get(\"Charles Greene\"));\n",
    "wr100One2.add(Value.get(\"Mexico City, Mexico\"));\n",
    "wr100One2.add(Value.get(\"October 13, 1968\"));\n",
    "\n",
    "ArrayList<Value> wr100One3 = new ArrayList<Value>();\n",
    "wr100One3.add(Value.get(9.95));\n",
    "wr100One3.add(Value.get(\"Jim Hines\"));\n",
    "wr100One3.add(Value.get(\"Mexico City, Mexico\"));\n",
    "wr100One3.add(Value.get(\"October 14, 1968\"));\n",
    "\n",
    "ArrayList<Value> wr100One4 = new ArrayList<Value>();\n",
    "wr100One4.add(Value.get(9.93));\n",
    "wr100One4.add(Value.get(\"Calvin Smith\"));\n",
    "wr100One4.add(Value.get(\"Colorado Springs, USA\"));\n",
    "wr100One4.add(Value.get(\"July 3, 1983\"));\n",
    "\n",
    "ArrayList<Value> wr100One5 = new ArrayList<Value>();\n",
    "wr100One5.add(Value.get(9.93));\n",
    "wr100One5.add(Value.get(\"Carl Lewis\"));\n",
    "wr100One5.add(Value.get(\"Rome, Italy\"));\n",
    "wr100One5.add(Value.get(\"August 30, 1987\"));\n",
    "\n",
    "ArrayList<Value> wr100One6 = new ArrayList<Value>();\n",
    "wr100One6.add(Value.get(9.92));\n",
    "wr100One6.add(Value.get(\"Carl Lewis\"));\n",
    "wr100One6.add(Value.get(\"Seoul, South Korea\"));\n",
    "wr100One6.add(Value.get(\"September 24, 1988\"));\n",
    "\n",
    "\n",
    "ArrayList<Value> wr100m1List = new ArrayList<Value>();\n",
    "wr100m1List.add(Value.get(wr100One0));\n",
    "wr100m1List.add(Value.get(wr100One1));\n",
    "wr100m1List.add(Value.get(wr100One2));\n",
    "wr100m1List.add(Value.get(wr100One3));\n",
    "wr100m1List.add(Value.get(wr100One4));\n",
    "wr100m1List.add(Value.get(wr100One5));\n",
    "wr100m1List.add(Value.get(wr100One6));\n",
    "\n",
    "ArrayList<Value> wr100Two0 = new ArrayList<Value>();\n",
    "wr100Two0.add(Value.get(9.93));\n",
    "wr100Two0.add(Value.get(\"Carl Lewis\"));\n",
    "wr100Two0.add(Value.get(\"Rome, Italy\"));\n",
    "wr100Two0.add(Value.get(\"August 30, 1987\"));\n",
    "\n",
    "ArrayList<Value> wr100Two1 = new ArrayList<Value>();\n",
    "wr100Two1.add(Value.get(9.92));\n",
    "wr100Two1.add(Value.get(\"Carl Lewis\"));\n",
    "wr100Two1.add(Value.get(\"Seoul, South Korea\"));\n",
    "wr100Two1.add(Value.get(\"September 24, 1988\"));\n",
    "\n",
    "ArrayList<Value> wr100Two2 = new ArrayList<Value>();\n",
    "wr100Two2.add(Value.get(9.90));\n",
    "wr100Two2.add(Value.get(\"Leroy Burrell\"));\n",
    "wr100Two2.add(Value.get(\"New York, USA\"));\n",
    "wr100Two2.add(Value.get(\"June 14, 1991\"));\n",
    "\n",
    "ArrayList<Value> wr100Two3 = new ArrayList<Value>();\n",
    "wr100Two3.add(Value.get(9.86));\n",
    "wr100Two3.add(Value.get(\"Carl Lewis\"));\n",
    "wr100Two3.add(Value.get(\"Tokyo, Japan\"));\n",
    "wr100Two3.add(Value.get(\"August 25, 1991\"));\n",
    "\n",
    "ArrayList<Value> wr100Two4 = new ArrayList<Value>();\n",
    "wr100Two4.add(Value.get(9.85));\n",
    "wr100Two4.add(Value.get(\"Leroy Burrell\"));\n",
    "wr100Two4.add(Value.get(\"Lausanne, Switzerland\"));\n",
    "wr100Two4.add(Value.get(\"July 6, 1994\"));\n",
    "\n",
    "ArrayList<Value> wr100Two5 = new ArrayList<Value>();\n",
    "wr100Two5.add(Value.get(9.84));\n",
    "wr100Two5.add(Value.get(\"Donovan Bailey\"));\n",
    "wr100Two5.add(Value.get(\"Atlanta, USA\"));\n",
    "wr100Two5.add(Value.get(\"July 27, 1996\"));\n",
    "\n",
    "ArrayList<Value> wr100Two6 = new ArrayList<Value>();\n",
    "wr100Two6.add(Value.get(9.79));\n",
    "wr100Two6.add(Value.get(\"Maurice Greene\"));\n",
    "wr100Two6.add(Value.get(\"Athens, Greece\"));\n",
    "wr100Two6.add(Value.get(\"June 16, 1999\"));\n",
    "\n",
    "ArrayList<Value> wr100Two7 = new ArrayList<Value>();\n",
    "wr100Two7.add(Value.get(9.77));\n",
    "wr100Two7.add(Value.get(\"Asafa Powell\"));\n",
    "wr100Two7.add(Value.get(\"Athens, Greece\"));\n",
    "wr100Two7.add(Value.get(\"June 14, 2005\"));\n",
    "\n",
    "ArrayList<Value> wr100Two8 = new ArrayList<Value>();\n",
    "wr100Two8.add(Value.get(9.77));\n",
    "wr100Two8.add(Value.get(\"Asafa Powell\"));\n",
    "wr100Two8.add(Value.get(\"Gateshead, England\"));\n",
    "wr100Two8.add(Value.get(\"June 11, 2006\"));\n",
    "\n",
    "ArrayList<Value> wr100Two9 = new ArrayList<Value>();\n",
    "wr100Two9.add(Value.get(9.77));\n",
    "wr100Two9.add(Value.get(\"Asafa Powell\"));\n",
    "wr100Two9.add(Value.get(\"Zurich, Switzerland\"));\n",
    "wr100Two9.add(Value.get(\"August 18, 2006\"));\n",
    "\n",
    "ArrayList<Value> wr100Two10 = new ArrayList<Value>();\n",
    "wr100Two10.add(Value.get(9.74));\n",
    "wr100Two10.add(Value.get(\"Asafa Powell\"));\n",
    "wr100Two10.add(Value.get(\"Rieti, Italy\"));\n",
    "wr100Two10.add(Value.get(\"September 9, 2007\"));\n",
    "\n",
    "ArrayList<Value> wr100Two11 = new ArrayList<Value>();\n",
    "wr100Two11.add(Value.get(9.72));\n",
    "wr100Two11.add(Value.get(\"Usain Bolt\"));\n",
    "wr100Two11.add(Value.get(\"New York, USA\"));\n",
    "wr100Two11.add(Value.get(\"May 31, 2008\"));\n",
    "\n",
    "ArrayList<Value> wr100Two12 = new ArrayList<Value>();\n",
    "wr100Two12.add(Value.get(9.69));\n",
    "wr100Two12.add(Value.get(\"Usain Bolt\"));\n",
    "wr100Two12.add(Value.get(\"Beijing, China\"));\n",
    "wr100Two12.add(Value.get(\"August 16, 2008\"));\n",
    "\n",
    "ArrayList<Value> wr100Two13 = new ArrayList<Value>();\n",
    "wr100Two13.add(Value.get(9.58));\n",
    "wr100Two13.add(Value.get(\"Usain Bolt\"));\n",
    "wr100Two13.add(Value.get(\"Berlin, Germany\"));\n",
    "wr100Two13.add(Value.get(\"August 16, 2009\"));\n",
    "\n",
    "\n",
    "ArrayList<Value> wr100m2List = new ArrayList<Value>();\n",
    "wr100m2List.add(Value.get(wr100Two0));\n",
    "wr100m2List.add(Value.get(wr100Two1));\n",
    "wr100m2List.add(Value.get(wr100Two2));\n",
    "wr100m2List.add(Value.get(wr100Two3));\n",
    "wr100m2List.add(Value.get(wr100Two4));\n",
    "wr100m2List.add(Value.get(wr100Two5));\n",
    "wr100m2List.add(Value.get(wr100Two6));\n",
    "wr100m2List.add(Value.get(wr100Two7));\n",
    "wr100m2List.add(Value.get(wr100Two8));\n",
    "wr100m2List.add(Value.get(wr100Two9));\n",
    "wr100m2List.add(Value.get(wr100Two10));\n",
    "wr100m2List.add(Value.get(wr100Two11));\n",
    "wr100m2List.add(Value.get(wr100Two12));\n",
    "wr100m2List.add(Value.get(wr100Two13));\n",
    "\n",
    "ArrayList<Value> searchTuple = new ArrayList<Value>();\n",
    "searchTuple.add(Value.get(10.0));\n",
    "searchTuple.add(Value.NULL);\n",
    "\n",
    "Integer searchRank = -1;\n",
    "Integer searchQty = 2;\n",
    "\n",
    "\n",
    "Integer keyWR = 5;\n",
    "String listLeadersBinName = \"leaders\";\n",
    "int listUniqueFlags = ListWriteFlags.ADD_UNIQUE \n",
    "                        | ListWriteFlags.NO_FAIL \n",
    "                        | ListWriteFlags.PARTIAL;\n",
    "\n",
    "Key key = new Key(listModelNamespace, listModelSet, keyWR);\n",
    "Bin bin1 = new Bin(listLeadersBinName, wr100m1List);\n",
    "ListPolicy policyOrderedNoDupes = new ListPolicy(ListOrder.ORDERED, listUniqueFlags); \n",
    "\n",
    "client.put(clientPolicy.writePolicyDefault, key, bin1);\n",
    "Record closestTo10 = client.get(null, key);\n",
    "closestTo10 = client.operate(client.writePolicyDefault, key, \n",
    "    ListOperation.setOrder(listLeadersBinName, ListOrder.ORDERED),\n",
    "    ListOperation.getByValueRelativeRankRange(listLeadersBinName, Value.get(searchTuple), \n",
    "        searchRank, searchQty, ListReturnType.VALUE),\n",
    "    ListOperation.appendItems(policyOrderedNoDupes, listLeadersBinName, wr100m2List)\n",
    "    );\n",
    "Record fullLeadersList = client.get(null, key);\n",
    "\n",
    "System.out.println(\"100m World Record Holder List 1: \"); \n",
    "System.out.println(wr100m1List);\n",
    "System.out.println();\n",
    "System.out.println(\"100m World Record Holder List 2: \");\n",
    "System.out.println(wr100m2List);\n",
    "System.out.println();\n",
    "System.out.println(\"Created Record with Ordered Bin: \" + listLeadersBinName);\n",
    "System.out.println();\n",
    "System.out.println(\"The Closest World Records to 10.0 seconds are \" + \n",
    "    closestTo10.getList(listLeadersBinName).get(0));\n",
    "System.out.println();\n",
    "System.out.println(\"Created List Policy for Ordering and Adding Only Unique Items.\");\n",
    "System.out.println();\n",
    "System.out.println(\"The complete, deduplicated Leaders List is: \"); \n",
    "System.out.println(fullLeadersList.getValue(listLeadersBinName));\n",
    "System.out.println();\n",
    "\n",
    "\n",
    "// Truncate the Set.\n",
    "\n",
    "client.truncate(infoPolicy, listModelNamespace, listModelSet, null);\n",
    "System.out.println(\"Set Truncated.\");\n",
    "\n",
    "\n",
    "// Close the Client Connections.\n",
    "\n",
    "client.close();\n",
    "System.out.println(\"Server connection closed.\");"
   ]
  },
  {
   "cell_type": "markdown",
   "id": "visible-compensation",
   "metadata": {},
   "source": [
    "# Takeaway – Sort for App Read/Write Performance\n",
    "\n",
    "Since, the results are the same whether the data is ordered or unordered in the database. The question becomes, \"Does sorting the data benefit application performance for reads/writes?\""
   ]
  },
  {
   "cell_type": "markdown",
   "id": "posted-thumbnail",
   "metadata": {},
   "source": [
    "# What's Next? \n",
    "\n"
   ]
  },
  {
   "cell_type": "markdown",
   "id": "classified-catering",
   "metadata": {},
   "source": [
    "## Next Steps\n",
    "\n",
    "Have questions? Don't hesitate to reach out if you have additional questions about working with lists at https://discuss.aerospike.com/.\n",
    "\n",
    "Want to check out other Java notebooks?\n",
    "1. [Hello, World](hello_world.ipynb)\n",
    "2. [Aerospike Query and UDF](query_udf.ipynb)\n",
    "3. [Simple Put Get Example](SimplePutGetExample.ipynb)\n",
    "4. [Working with Twitter Data](tweetaspike.ipynb)\n",
    "5. [Working with Lists](java-working_with_lists.ipynb)\n",
    "\n",
    "Are you running this from Binder? [Download the Aerospike Notebook Repo](https://github.com/aerospike-examples/interactive-notebooks) and work with Aerospike Database and Jupyter locally using a Docker container."
   ]
  },
  {
   "cell_type": "markdown",
   "id": "valuable-greeting",
   "metadata": {},
   "source": [
    "## Additional Resources\n",
    "\n",
    "* Want to get started with Java? [Download](https://www.aerospike.com/download/client/) or [install](https://github.com/aerospike/aerospike-client-java) the Aerospike Java Client. \n",
    "* What other ways can we work with Lists? Take a look at [Aerospike's List Operations](https://www.aerospike.com/apidocs/java/com/aerospike/client/cdt/ListOperation.html).\n",
    "* What are Namespaces, Sets, and Bins? Check out the [Aerospike Data Model](https://www.aerospike.com/docs/architecture/data-model.html). \n",
    "* How robust is the Aerospike Database? Browse the [Aerospike Database Architecture](https://www.aerospike.com/docs/architecture/index.html)."
   ]
  }
 ],
 "metadata": {
  "kernelspec": {
   "display_name": "Java",
   "language": "java",
   "name": "java"
  },
  "language_info": {
   "codemirror_mode": "java",
   "file_extension": ".jshell",
   "mimetype": "text/x-java-source",
   "name": "Java",
   "pygments_lexer": "java",
   "version": "11.0.8+10-LTS"
  },
  "toc": {
   "base_numbering": 1,
   "nav_menu": {},
   "number_sections": true,
   "sideBar": true,
   "skip_h1_title": false,
   "title_cell": "Table of Contents",
   "title_sidebar": "Contents",
   "toc_cell": false,
   "toc_position": {
    "height": "calc(100% - 180px)",
    "left": "10px",
    "top": "150px",
    "width": "232.594px"
   },
   "toc_section_display": true,
   "toc_window_display": true
  }
 },
 "nbformat": 4,
 "nbformat_minor": 5
}
