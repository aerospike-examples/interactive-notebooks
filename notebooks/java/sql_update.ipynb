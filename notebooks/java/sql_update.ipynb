{
 "cells": [
  {
   "cell_type": "markdown",
   "metadata": {
    "toc": true
   },
   "source": [
    "<h1>Table of Contents<span class=\"tocSkip\"></span></h1>\n",
    "<div class=\"toc\"><ul class=\"toc-item\"><li><span><a href=\"#Implementing-SQL-Operations:-CREATE,-UPDATE,-DELETE\" data-toc-modified-id=\"Implementing-SQL-Operations:-CREATE,-UPDATE,-DELETE-1\"><span class=\"toc-item-num\">1&nbsp;&nbsp;</span>Implementing SQL Operations: CREATE, UPDATE, DELETE</a></span><ul class=\"toc-item\"><li><span><a href=\"#Introduction\" data-toc-modified-id=\"Introduction-1.1\"><span class=\"toc-item-num\">1.1&nbsp;&nbsp;</span>Introduction</a></span></li><li><span><a href=\"#Prerequisites\" data-toc-modified-id=\"Prerequisites-1.2\"><span class=\"toc-item-num\">1.2&nbsp;&nbsp;</span>Prerequisites</a></span></li><li><span><a href=\"#Initialization\" data-toc-modified-id=\"Initialization-1.3\"><span class=\"toc-item-num\">1.3&nbsp;&nbsp;</span>Initialization</a></span><ul class=\"toc-item\"><li><span><a href=\"#Ensure-database-is-running\" data-toc-modified-id=\"Ensure-database-is-running-1.3.1\"><span class=\"toc-item-num\">1.3.1&nbsp;&nbsp;</span>Ensure database is running</a></span></li><li><span><a href=\"#Download-and-install-additional-components.\" data-toc-modified-id=\"Download-and-install-additional-components.-1.3.2\"><span class=\"toc-item-num\">1.3.2&nbsp;&nbsp;</span>Download and install additional components.</a></span></li></ul></li><li><span><a href=\"#Connect-to-database-and-populate-test-data\" data-toc-modified-id=\"Connect-to-database-and-populate-test-data-1.4\"><span class=\"toc-item-num\">1.4&nbsp;&nbsp;</span>Connect to database and populate test data</a></span></li><li><span><a href=\"#Open-a-Terminal-Tab\" data-toc-modified-id=\"Open-a-Terminal-Tab-1.5\"><span class=\"toc-item-num\">1.5&nbsp;&nbsp;</span>Open a Terminal Tab</a></span></li></ul></li><li><span><a href=\"#Aerospike-Data-Model\" data-toc-modified-id=\"Aerospike-Data-Model-2\"><span class=\"toc-item-num\">2&nbsp;&nbsp;</span>Aerospike Data Model</a></span></li><li><span><a href=\"#Namespace-Operations\" data-toc-modified-id=\"Namespace-Operations-3\"><span class=\"toc-item-num\">3&nbsp;&nbsp;</span>Namespace Operations</a></span><ul class=\"toc-item\"><li><span><a href=\"#CREATE-Namespace\" data-toc-modified-id=\"CREATE-Namespace-3.1\"><span class=\"toc-item-num\">3.1&nbsp;&nbsp;</span>CREATE Namespace</a></span></li><li><span><a href=\"#TRUNCATE-Namespace\" data-toc-modified-id=\"TRUNCATE-Namespace-3.2\"><span class=\"toc-item-num\">3.2&nbsp;&nbsp;</span>TRUNCATE Namespace</a></span></li><li><span><a href=\"#DELETE-Namespace\" data-toc-modified-id=\"DELETE-Namespace-3.3\"><span class=\"toc-item-num\">3.3&nbsp;&nbsp;</span>DELETE Namespace</a></span></li></ul></li><li><span><a href=\"#Set-Operations\" data-toc-modified-id=\"Set-Operations-4\"><span class=\"toc-item-num\">4&nbsp;&nbsp;</span>Set Operations</a></span><ul class=\"toc-item\"><li><span><a href=\"#CREATE-Set\" data-toc-modified-id=\"CREATE-Set-4.1\"><span class=\"toc-item-num\">4.1&nbsp;&nbsp;</span>CREATE Set</a></span></li><li><span><a href=\"#ALTER-Set\" data-toc-modified-id=\"ALTER-Set-4.2\"><span class=\"toc-item-num\">4.2&nbsp;&nbsp;</span>ALTER Set</a></span></li><li><span><a href=\"#TRUNCATE-Set\" data-toc-modified-id=\"TRUNCATE-Set-4.3\"><span class=\"toc-item-num\">4.3&nbsp;&nbsp;</span>TRUNCATE Set</a></span></li><li><span><a href=\"#DROP-Set\" data-toc-modified-id=\"DROP-Set-4.4\"><span class=\"toc-item-num\">4.4&nbsp;&nbsp;</span>DROP Set</a></span></li></ul></li><li><span><a href=\"#Index-Operations\" data-toc-modified-id=\"Index-Operations-5\"><span class=\"toc-item-num\">5&nbsp;&nbsp;</span>Index Operations</a></span><ul class=\"toc-item\"><li><span><a href=\"#CREATE-Index\" data-toc-modified-id=\"CREATE-Index-5.1\"><span class=\"toc-item-num\">5.1&nbsp;&nbsp;</span>CREATE Index</a></span></li><li><span><a href=\"#DROP-Index\" data-toc-modified-id=\"DROP-Index-5.2\"><span class=\"toc-item-num\">5.2&nbsp;&nbsp;</span>DROP Index</a></span></li></ul></li><li><span><a href=\"#Single-Record-Operations\" data-toc-modified-id=\"Single-Record-Operations-6\"><span class=\"toc-item-num\">6&nbsp;&nbsp;</span>Single Record Operations</a></span><ul class=\"toc-item\"><li><span><a href=\"#INSERT-and-UPDATE-Record\" data-toc-modified-id=\"INSERT-and-UPDATE-Record-6.1\"><span class=\"toc-item-num\">6.1&nbsp;&nbsp;</span>INSERT and UPDATE Record</a></span></li><li><span><a href=\"#Type-Specific-Updates\" data-toc-modified-id=\"Type-Specific-Updates-6.2\"><span class=\"toc-item-num\">6.2&nbsp;&nbsp;</span>Type Specific Updates</a></span></li><li><span><a href=\"#DELETE-Record\" data-toc-modified-id=\"DELETE-Record-6.3\"><span class=\"toc-item-num\">6.3&nbsp;&nbsp;</span>DELETE Record</a></span></li><li><span><a href=\"#Multi-Ops\" data-toc-modified-id=\"Multi-Ops-6.4\"><span class=\"toc-item-num\">6.4&nbsp;&nbsp;</span>Multi-Ops</a></span></li></ul></li><li><span><a href=\"#Multi-Record-Updates\" data-toc-modified-id=\"Multi-Record-Updates-7\"><span class=\"toc-item-num\">7&nbsp;&nbsp;</span>Multi-Record Updates</a></span><ul class=\"toc-item\"><li><span><a href=\"#List-of-Bin-Updates\" data-toc-modified-id=\"List-of-Bin-Updates-7.1\"><span class=\"toc-item-num\">7.1&nbsp;&nbsp;</span>List of Bin Updates</a></span></li><li><span><a href=\"#Using-UDF\" data-toc-modified-id=\"Using-UDF-7.2\"><span class=\"toc-item-num\">7.2&nbsp;&nbsp;</span>Using UDF</a></span><ul class=\"toc-item\"><li><span><a href=\"#Create-UDF\" data-toc-modified-id=\"Create-UDF-7.2.1\"><span class=\"toc-item-num\">7.2.1&nbsp;&nbsp;</span>Create UDF</a></span></li><li><span><a href=\"#Register-UDF\" data-toc-modified-id=\"Register-UDF-7.2.2\"><span class=\"toc-item-num\">7.2.2&nbsp;&nbsp;</span>Register UDF</a></span></li><li><span><a href=\"#Execute-UDF\" data-toc-modified-id=\"Execute-UDF-7.2.3\"><span class=\"toc-item-num\">7.2.3&nbsp;&nbsp;</span>Execute UDF</a></span></li></ul></li><li><span><a href=\"#Salient-Points\" data-toc-modified-id=\"Salient-Points-7.3\"><span class=\"toc-item-num\">7.3&nbsp;&nbsp;</span>Salient Points</a></span></li></ul></li><li><span><a href=\"#Managing-Durability-and-Expiration\" data-toc-modified-id=\"Managing-Durability-and-Expiration-8\"><span class=\"toc-item-num\">8&nbsp;&nbsp;</span>Managing Durability and Expiration</a></span></li><li><span><a href=\"#Leveraging-CDTs\" data-toc-modified-id=\"Leveraging-CDTs-9\"><span class=\"toc-item-num\">9&nbsp;&nbsp;</span>Leveraging CDTs</a></span></li><li><span><a href=\"#Takeaways-and-Conclusion\" data-toc-modified-id=\"Takeaways-and-Conclusion-10\"><span class=\"toc-item-num\">10&nbsp;&nbsp;</span>Takeaways and Conclusion</a></span></li><li><span><a href=\"#Clean-up\" data-toc-modified-id=\"Clean-up-11\"><span class=\"toc-item-num\">11&nbsp;&nbsp;</span>Clean up</a></span></li><li><span><a href=\"#Further-Exploration-and-Resources\" data-toc-modified-id=\"Further-Exploration-and-Resources-12\"><span class=\"toc-item-num\">12&nbsp;&nbsp;</span>Further Exploration and Resources</a></span><ul class=\"toc-item\"><li><span><a href=\"#Next-steps\" data-toc-modified-id=\"Next-steps-12.1\"><span class=\"toc-item-num\">12.1&nbsp;&nbsp;</span>Next steps</a></span></li></ul></li></ul></div>"
   ]
  },
  {
   "cell_type": "markdown",
   "metadata": {},
   "source": [
    "# Implementing SQL Operations: CREATE, UPDATE, DELETE\n",
    "This tutorial describes how SQL change operation equivalents can be performed in Aerospike. \n",
    "\n",
    "This notebook requires Aerospike database running on localhost. Visit [Aerospike notebooks repo](https://github.com/aerospike-examples/interactive-notebooks) for additional details and the docker container."
   ]
  },
  {
   "cell_type": "markdown",
   "metadata": {},
   "source": [
    "## Introduction\n",
    "In this notebook, we will see how specific modify statements in SQL can be implemented in Aerospike. \n",
    "\n",
    "SQL is a widely known data access language. The examples in this notebook provide patterns for implementing specific SQL change equivalents in Aerospike. You should be able to understand them and find them useful even without a deep familiarity with SQL.\n",
    "\n",
    "This notebook is the third in the SQL Operations series that consists of the following notebooks:\n",
    "- Implementing SQL Operations: SELECT\n",
    "- Implementing SQL Operations: Aggregate functions Part 1 and 2 \n",
    "- Implementing SQL Operations: UPDATE, CREATE, and DELETE (this notebook)\n",
    "\n",
    "The specific topics and aggregate functions we discuss in this notebook include:\n",
    "- Database change operations\n",
    "- Table and Index change operations\n",
    "- Record change operations\n",
    "   - Single record: single and multi-ops\n",
    "   - Multi-record operations\n",
    "\n",
    "The purpose of this notebook is to illustrate Aerospike implementation for specific SQL operations. Check out [Aerospike Presto Connector](https://www.aerospike.com/docs/connect/access/presto/index.html) for ad-hoc SQL access to Aerospike data."
   ]
  },
  {
   "cell_type": "markdown",
   "metadata": {},
   "source": [
    "## Prerequisites\n",
    "This tutorial assumes familiarity with the following topics:\n",
    "- [Aerospike Notebooks - Readme and Tips](../readme_tips.ipynb)\n",
    "- [Hello World](hello_world.ipynb)\n",
    "- [Implementing SQL Operations: SELECT](sql_select.ipynb)"
   ]
  },
  {
   "cell_type": "markdown",
   "metadata": {},
   "source": [
    "## Initialization"
   ]
  },
  {
   "cell_type": "markdown",
   "metadata": {},
   "source": [
    "### Ensure database is running\n",
    "This notebook requires that Aerospike datbase is running. "
   ]
  },
  {
   "cell_type": "code",
   "execution_count": 1,
   "metadata": {
    "ExecuteTime": {
     "end_time": "2020-12-29T20:48:49.065421Z",
     "start_time": "2020-12-29T20:48:49.060897Z"
    }
   },
   "outputs": [],
   "source": [
    "import io.github.spencerpark.ijava.IJava;\n",
    "import io.github.spencerpark.jupyter.kernel.magic.common.Shell;\n",
    "IJava.getKernelInstance().getMagics().registerMagics(Shell.class);\n",
    "%sh asd"
   ]
  },
  {
   "cell_type": "markdown",
   "metadata": {},
   "source": [
    "### Download and install additional components.\n",
    "Install the Java client."
   ]
  },
  {
   "cell_type": "code",
   "execution_count": 2,
   "metadata": {
    "ExecuteTime": {
     "end_time": "2020-12-29T20:48:50.084636Z",
     "start_time": "2020-12-29T20:48:50.080629Z"
    }
   },
   "outputs": [],
   "source": [
    "%%loadFromPOM\n",
    "<dependencies>\n",
    "  <dependency>\n",
    "    <groupId>com.aerospike</groupId>\n",
    "    <artifactId>aerospike-client</artifactId>\n",
    "    <version>5.0.0</version>\n",
    "  </dependency>\n",
    "</dependencies>"
   ]
  },
  {
   "cell_type": "markdown",
   "metadata": {},
   "source": [
    "## Connect to database and populate test data\n",
    "The test data has 10 records with user-key \"id-1\" through \"id-10\", two integer bins (fields) \"bin1\" (1-10) and \"bin2\" (1001-1010) in the namespace \"test\" and set \"sql-update\". "
   ]
  },
  {
   "cell_type": "code",
   "execution_count": 3,
   "metadata": {
    "ExecuteTime": {
     "end_time": "2020-12-29T20:48:50.771243Z",
     "start_time": "2020-12-29T20:48:50.767819Z"
    }
   },
   "outputs": [
    {
     "name": "stdout",
     "output_type": "stream",
     "text": [
      "Initialized the client and connected to the cluster.\n"
     ]
    }
   ],
   "source": [
    "import com.aerospike.client.AerospikeClient;\n",
    "import com.aerospike.client.Bin;\n",
    "import com.aerospike.client.Key;\n",
    "import com.aerospike.client.policy.WritePolicy;\n",
    "\n",
    "AerospikeClient client = new AerospikeClient(\"localhost\", 3000);\n",
    "System.out.println(\"Initialized the client and connected to the cluster.\");\n",
    "\n",
    "String Namespace = \"test\";\n",
    "String Set = \"sql-update\";"
   ]
  },
  {
   "cell_type": "markdown",
   "metadata": {},
   "source": [
    "## Open a Terminal Tab\n",
    "In this tutorial, you will be executing many shell commands including Aerospike tools like adadm and aql in a terminal. Open a terminal tab by selecting File->Open from the notebook menu, and then New->Terminal."
   ]
  },
  {
   "cell_type": "markdown",
   "metadata": {},
   "source": [
    "# Aerospike Data Model\n",
    "Aerospike is a distributed key-value database with support for the document-oriented data model. An Aerospike Database can hold multiple \"namespaces\" which are equivalent to databases or schemas in the relational model. A namespace hold records (rows), organized in sets (tables) and are accessed using a unique key that serves as the record id. A record can contain one or more bins (columns), and a bin can hold a value of different data types. \n",
    "\n",
    "The following simple data types are available in Aerospike.\n",
    "- String: equivalent to text or varchar in SQL\n",
    "- Integer: equivalent to Integer in SQL\n",
    "- Double: equivalent to Double in SQL \n",
    "- Blob/Bytes: equivalent to Blob in SQL\n",
    "\n",
    "In addition, a bin can hold Collection Data Type (CDTs) such as List and Map, as well as complex data types such as Geospatial and HyperLogLog.\n",
    "\n",
    "Sets and records do not conform to a schema. A set can have records with different bins, and a record can have different bins at different times. Moreover a bin is not limited to a specific type, and can hold multiple data types in different records. Type specific operations apply only to the matching bins of the right type.\n",
    "\n",
    "For a detailed description of the data model see the [Data Model overview](https://www.aerospike.com/docs/architecture/data-model.html)."
   ]
  },
  {
   "cell_type": "markdown",
   "metadata": {},
   "source": [
    "# Namespace Operations"
   ]
  },
  {
   "cell_type": "markdown",
   "metadata": {},
   "source": [
    "## CREATE Namespace\n",
    "There is no API to create a namespace. A namespace is added through the config and requires a server restart. \n",
    "\n",
    "Review the config file at /etc/aerospike/aerospike.conf by opening a terminal window through File->Open menu section followed up New->Terminal. \n",
    "<pre>\n",
    "cat /etc/aerospike/aerospike.conf\n",
    "</pre>\n",
    "As you can see, there is one namespace \"test\" configured in the server. \n",
    "\n",
    "You can create a simple namespace \"create-test\" by following the following steps. \n",
    "\n",
    "1. Copy aerospike.conf to the \"java\" directory. \n",
    "<pre>\n",
    "cp /etc/aerospike/aerospike.conf ~/notebooks/java/aerospike.conf\n",
    "</pre>\n",
    "2. Open aerospike.conf in the java directory from File->Open menu.\n",
    "3. Add these lines to add a new namespace \"create-test\" at the end. \n",
    "<pre>\n",
    "namespace create-test {\n",
    "    memory-size 1G\n",
    "}\n",
    "</pre>\n",
    "4. Save the file.\n",
    "5. In the terminal tab, stop and restart the server with the changed config.\n",
    "<pre>\n",
    "/etc/init.d/aerospike stop; asd --config-file ~/notebooks/java/aerospike.conf\n",
    "</pre>\n",
    "6. In the terminal tab, examine the new namespace by issuing the following asadm command.\n",
    "<pre>\n",
    "asadm -e \"info namespace\"\n",
    "</pre>\n",
    "\n",
    "After the new namespace is successfully created, insert a few records by executing the following cell. "
   ]
  },
  {
   "cell_type": "code",
   "execution_count": 4,
   "metadata": {},
   "outputs": [
    {
     "name": "stdout",
     "output_type": "stream",
     "text": [
      "Inserted 10 records in ns=create-test set=test-set.\n",
      "Retrieving all records in ns=create-test.\n",
      "namespace=create-test set=test-set key=id-10 bins={bin1=10, bin2=1010}\n",
      "namespace=create-test set=test-set key=id-5 bins={bin1=5, bin2=1005}\n",
      "namespace=create-test set=test-set key=id-1 bins={bin1=1, bin2=1001}\n",
      "namespace=create-test set=test-set key=id-7 bins={bin1=7, bin2=1007}\n",
      "namespace=create-test set=test-set key=id-3 bins={bin1=3, bin2=1003}\n",
      "namespace=create-test set=test-set key=id-8 bins={bin1=8, bin2=1008}\n",
      "namespace=create-test set=test-set key=id-9 bins={bin1=9, bin2=1009}\n",
      "namespace=create-test set=test-set key=id-4 bins={bin1=4, bin2=1004}\n",
      "namespace=create-test set=test-set key=id-2 bins={bin1=2, bin2=1002}\n",
      "namespace=create-test set=test-set key=id-6 bins={bin1=6, bin2=1006}\n"
     ]
    }
   ],
   "source": [
    "// define a convenience functions to examine all records in a namespace and set\n",
    "import com.aerospike.client.Record;\n",
    "import com.aerospike.client.ScanCallback;\n",
    "import com.aerospike.client.policy.ScanPolicy;\n",
    "\n",
    "public class ScanParallel implements ScanCallback {\n",
    "    public void scanCallback(Key key, Record record) {\n",
    "        System.out.format(\"namespace=%s set=%s key=%s bins=%s\\n\", key.namespace, key.setName, key.userKey, record.bins);\n",
    "    }\n",
    "}\n",
    "void examineRecords(String ns, String set) {\n",
    "    client.scanAll(null, ns, set, new ScanParallel());\n",
    "}\n",
    "\n",
    "// insert records in the new namespace and verify by reading back\n",
    "String NamespaceCreateTest = \"create-test\";\n",
    "String SetCreateTest = \"test-set\";\n",
    "\n",
    "WritePolicy wpolicy = new WritePolicy();\n",
    "wpolicy.sendKey = true;\n",
    "for (int i = 1; i <= 10; i++) {\n",
    "    Key key = new Key(NamespaceCreateTest, SetCreateTest, \"id-\"+i);\n",
    "    Bin bin1 = new Bin(new String(\"bin1\"), i);\n",
    "    Bin bin2 = new Bin(new String(\"bin2\"), 1000+i);\n",
    "    client.put(wpolicy, key, bin1, bin2);\n",
    "}\n",
    "System.out.format(\"Inserted 10 records in ns=%s set=%s.\\n\", NamespaceCreateTest, SetCreateTest);\n",
    "\n",
    "System.out.format(\"Retrieving all records in ns=%s.\\n\", NamespaceCreateTest);\n",
    "examineRecords(NamespaceCreateTest, null); // null value for a set returns all records in the namespace"
   ]
  },
  {
   "cell_type": "markdown",
   "metadata": {},
   "source": [
    "## TRUNCATE Namespace\n",
    "The truncate API removes all records in a set or the entire namespace. (If the namespace has records in a \"null\" set, those must be removed through iterating over them using a UDF.)\n",
    "<pre>\n",
    "   truncate(InfoPolicy policy, String ns, String set, Calendar beforeLastUpdate)\n",
    "</pre>\n",
    "\n",
    "The following cell truncates all sets in the namespace \"create-test\", and verifies there are no records in the namespace after truncation."
   ]
  },
  {
   "cell_type": "code",
   "execution_count": 5,
   "metadata": {},
   "outputs": [
    {
     "name": "stdout",
     "output_type": "stream",
     "text": [
      "Retrieving all records in namespace create-test.\n",
      "Done."
     ]
    }
   ],
   "source": [
    "// truncate the namespace\n",
    "client.truncate(null, NamespaceCreateTest, null, null); // null set value truncates all sets in the namespace\n",
    "\n",
    "// examine records in the namespace - should be empty\n",
    "System.out.format(\"Retrieving all records in namespace %s.\\n\", NamespaceCreateTest);\n",
    "examineRecords(NamespaceCreateTest, null); // null set value returns all records in the namespace\n",
    "System.out.format(\"Done.\");;"
   ]
  },
  {
   "cell_type": "markdown",
   "metadata": {},
   "source": [
    "## DELETE Namespace\n",
    "There is no API to delete a namespace. A namespace has one or more dedicated storage devices, and they must be wiped clean to delete the namespace. Since \"create-test\" is an in-memory namespace, you can remove it from the config and restart the server to delete it. Verify deletion with the asadm command \"info namespace\".\n",
    "\n",
    "1. In the terminal tab, simply restart the server using the original config (without the \"create-test\" namespace).\n",
    "<pre>\n",
    "/etc/init.d/aerospike restart\n",
    "</pre>\n",
    "2. In the terminal tab, examine the namespace is dropped by issuing the following asadm command.\n",
    "<pre>\n",
    "asadm -e \"info namespace\"\n",
    "</pre>\n",
    "\n",
    "Any operation on a deleted namespace will return an error. "
   ]
  },
  {
   "cell_type": "code",
   "execution_count": 22,
   "metadata": {},
   "outputs": [
    {
     "name": "stdout",
     "output_type": "stream",
     "text": [
      "Error in retrieving records from namespace create-test: Error 20,1,30000,0,5,BB9020011AC4202 127.0.0.1 3000: Namespace not found.\n"
     ]
    }
   ],
   "source": [
    "import com.aerospike.client.AerospikeException;\n",
    "\n",
    "try {\n",
    "    examineRecords(NamespaceCreateTest, null); // null value for a set returns all records in the namespace\n",
    "}\n",
    "catch (AerospikeException ae) {\n",
    "    System.out.format(\"Error in retrieving records from namespace %s: %s.\\n\", NamespaceCreateTest, ae.getMessage());\n",
    "}"
   ]
  },
  {
   "cell_type": "markdown",
   "metadata": {},
   "source": [
    "# Set Operations"
   ]
  },
  {
   "cell_type": "markdown",
   "metadata": {},
   "source": [
    "## CREATE Set\n",
    "There is no explicit operation to create a set. A set is created when the first record is inserted in the set. \n",
    "\n",
    "Create a new set \"create-set\" in the namespace \"test\" by inserting a record. "
   ]
  },
  {
   "cell_type": "code",
   "execution_count": 7,
   "metadata": {},
   "outputs": [],
   "source": [
    "String SetCreateTest = \"create-set\";\n",
    "Key key = new Key(Namespace, SetCreateTest, \"id-100\");\n",
    "Bin bin1 = new Bin(new String(\"bin1\"), 100);\n",
    "Bin bin2 = new Bin(new String(\"bin2\"), 1000+100);\n",
    "client.put(wpolicy, key, bin1, bin2);"
   ]
  },
  {
   "cell_type": "markdown",
   "metadata": {},
   "source": [
    "Examine the sets in the namespace by issuing the following command in the terminal tab.\n",
    "<pre>\n",
    "aql -c \"show sets\"\n"
   ]
  },
  {
   "cell_type": "markdown",
   "metadata": {},
   "source": [
    "## ALTER Set\n",
    "A set is schemaless, and can hold records that have different schemas or bins. A bin has no type associated with it, and can hold values of any type. Further, there are no constraints on bin values such as not null unique, default, primary/foreign key, and so on. Therefore ALTER operation on a set to modify its schema is not needed.\n",
    "\n",
    "The following cell populates \"create-set\" with two records with different schemas."
   ]
  },
  {
   "cell_type": "code",
   "execution_count": 8,
   "metadata": {},
   "outputs": [
    {
     "name": "stdout",
     "output_type": "stream",
     "text": [
      "namespace=test set=create-set key=id-101 bins={bin1=string, bin3=new bin}\n",
      "namespace=test set=create-set key=id-100 bins={bin1=100, bin2=1100}\n",
      "namespace=test set=create-set key=id-102 bins={bin1=111.222, bin2=0.1, bin4=}\n"
     ]
    }
   ],
   "source": [
    "Key key = new Key(Namespace, SetCreateTest, \"id-101\");\n",
    "Bin bin1 = new Bin(new String(\"bin1\"), \"string\");\n",
    "Bin bin3 = new Bin(new String(\"bin3\"), \"new bin\");\n",
    "client.put(wpolicy, key, bin1, bin3);\n",
    "\n",
    "Key key = new Key(Namespace, SetCreateTest, \"id-102\");\n",
    "Bin bin1 = new Bin(new String(\"bin1\"), 111.222);\n",
    "Bin bin2 = new Bin(new String(\"bin2\"), 0.1);\n",
    "Bin bin4 = new Bin(new String(\"bin4\"), \"\");\n",
    "client.put(wpolicy, key, bin1, bin2, bin4);\n",
    "\n",
    "examineRecords(Namespace, SetCreateTest);"
   ]
  },
  {
   "cell_type": "markdown",
   "metadata": {},
   "source": [
    "## TRUNCATE Set\n",
    "All records in a set can be truncated using the truncate API:\n",
    "<pre>\n",
    "   truncate(InfoPolicy policy, String ns, String set, Calendar beforeLastUpdate)\n",
    "</pre>\n",
    "\n",
    "The following truncates all records in set \"create-set\" in namespace \"create-test\"."
   ]
  },
  {
   "cell_type": "code",
   "execution_count": 9,
   "metadata": {},
   "outputs": [],
   "source": [
    "client.truncate(null, Namespace, SetCreateTest, null);"
   ]
  },
  {
   "cell_type": "markdown",
   "metadata": {},
   "source": [
    "Verify all records in the set have been deleted."
   ]
  },
  {
   "cell_type": "code",
   "execution_count": 10,
   "metadata": {},
   "outputs": [
    {
     "name": "stdout",
     "output_type": "stream",
     "text": [
      "Retrieving all records in set=create-set.\n",
      "Done."
     ]
    }
   ],
   "source": [
    "System.out.format(\"Retrieving all records in set=%s.\\n\", SetCreateTest);\n",
    "examineRecords(Namespace, SetCreateTest); \n",
    "System.out.format(\"Done.\");;"
   ]
  },
  {
   "cell_type": "markdown",
   "metadata": {},
   "source": [
    "## DROP Set\n",
    "There is no notion of deleting a set as a set is just a name that a record is tagged with. The namespace must be deleted to remove the set name."
   ]
  },
  {
   "cell_type": "markdown",
   "metadata": {},
   "source": [
    "# Index Operations"
   ]
  },
  {
   "cell_type": "markdown",
   "metadata": {},
   "source": [
    "## CREATE Index\n",
    "An index is created on a bin for a specific value type. Integer, string, and geojson types are currently supported for indexing. An index supports equality and range queries for integer values, equality queries on string values, and containment queries on geojson values. \n",
    "<pre>\n",
    "   createIndex(Policy policy, String namespace, String setName, String indexName, String binName, IndexType indexType)\n",
    "</pre>\n",
    "\n",
    "An index can also be created on a collection type value (List and Map) for fast access within the collection by item value (List), or  key and range values (Map).\n",
    "\n",
    "Below we illustrate creating an integer index on bin1."
   ]
  },
  {
   "cell_type": "code",
   "execution_count": 11,
   "metadata": {},
   "outputs": [
    {
     "name": "stdout",
     "output_type": "stream",
     "text": [
      "Created number index test_sql_update_bin1_number_idx on ns=test set=sql-update bin=bin1."
     ]
    }
   ],
   "source": [
    "import com.aerospike.client.policy.Policy;\n",
    "import com.aerospike.client.query.IndexType;\n",
    "import com.aerospike.client.task.IndexTask;\n",
    "import com.aerospike.client.AerospikeException;\n",
    "import com.aerospike.client.ResultCode;\n",
    "\n",
    "String IndexName = \"test_sql_update_bin1_number_idx\";\n",
    "\n",
    "Policy policy = new Policy();\n",
    "policy.socketTimeout = 0; // Do not timeout on index create.\n",
    "\n",
    "try {\n",
    "    IndexTask task = client.createIndex(policy, Namespace, Set, IndexName, \n",
    "                                        \"bin1\", IndexType.NUMERIC);\n",
    "    task.waitTillComplete();\n",
    "}\n",
    "catch (AerospikeException ae) {\n",
    "    if (ae.getResultCode() != ResultCode.INDEX_ALREADY_EXISTS) {\n",
    "        throw ae;\n",
    "    }\n",
    "}\n",
    "\n",
    "System.out.format(\"Created number index %s on ns=%s set=%s bin=%s.\", \n",
    "                                    IndexName, Namespace, Set, \"bin1\");;"
   ]
  },
  {
   "cell_type": "markdown",
   "metadata": {},
   "source": [
    "Examine the new index in the namespace by issuing the following command in the terminal tab.\n",
    "<pre>\n",
    "aql -c \"show indexes\""
   ]
  },
  {
   "cell_type": "markdown",
   "metadata": {},
   "source": [
    "## DROP Index\n",
    "The API dropIndex deletes an index.\n",
    "<pre>\n",
    "   dropIndex(Policy policy, String namespace, String setName, String indexName)\n",
    "</pre>"
   ]
  },
  {
   "cell_type": "code",
   "execution_count": 12,
   "metadata": {},
   "outputs": [
    {
     "name": "stdout",
     "output_type": "stream",
     "text": [
      "Dropped index test_sql_update_bin1_number_idx on ns=test set=sql-update bin=bin1."
     ]
    }
   ],
   "source": [
    "client.dropIndex(null, Namespace, Set, IndexName);\n",
    "System.out.format(\"Dropped index %s on ns=%s set=%s bin=%s.\", \n",
    "                                    IndexName, Namespace, Set, \"bin1\");;"
   ]
  },
  {
   "cell_type": "markdown",
   "metadata": {},
   "source": [
    "Examine the index is dropped by issuing the following command in the terminal tab.\n",
    "<pre>\n",
    "aql -c \"show indexes\""
   ]
  },
  {
   "cell_type": "markdown",
   "metadata": {},
   "source": [
    "# Single Record Operations\n",
    "<pre>\n",
    "INSERT INTO namespace.set VALUES (id=key, bin=value, ...)\n",
    "UPDATE namespace.set SET (bin=value, ...) WHERE id=key\n",
    "DELETE FROM namespace.set WHERE id=key\n",
    "</pre>"
   ]
  },
  {
   "cell_type": "markdown",
   "metadata": {},
   "source": [
    "## INSERT and UPDATE Record\n",
    "The put operation handles Create (Insert) and Update.\n",
    "The \"record-exists-action\" specified within the write-policy defines the operation semantics when the record already exists, with the following variants:\n",
    "\n",
    "- create-only: Create if record doesn't exist already.\n",
    "- update: Create if record doesn't exist, update otherwise.\n",
    "- update-only: Update only, if record exists.\n",
    "- replace: Create if record doesn't exist, replace otherwise.\n",
    "- replace-only: Replace only, if record exists.\n",
    "\n",
    "Note, there is no replace operation in SQL. \n",
    "\n",
    "<pre>\n",
    "   put(WritePolicy policy, Key key, Bin... bins)\n",
    "</pre>\n",
    "\n",
    "Below we illustrate various record-exists-action options for create/update/replace of a single record."
   ]
  },
  {
   "cell_type": "code",
   "execution_count": 13,
   "metadata": {},
   "outputs": [
    {
     "name": "stdout",
     "output_type": "stream",
     "text": [
      "Error on update-only: Error 2,1,30000,0,0,BB9020011AC4202 127.0.0.1 3000: Key not found.\n",
      "Error on replace-only: Error 2,1,30000,0,0,BB9020011AC4202 127.0.0.1 3000: Key not found.\n",
      "Create-only succeeded: key=id-100 bins={bin1=100, bin2=1100}\n",
      "Update succeeded: key=id-100 bins={bin1=100, bin2=1100, bin3=new bin}\n",
      "Replace succeeded: key=id-100 bins={bin4=another bin}\n"
     ]
    }
   ],
   "source": [
    "import com.aerospike.client.policy.RecordExistsAction;\n",
    "\n",
    "Key key = new Key(Namespace, Set, \"id-100\");\n",
    "Bin bin1 = new Bin(new String(\"bin1\"), 100);\n",
    "Bin bin2 = new Bin(new String(\"bin2\"), 1000+100);\n",
    "\n",
    "// ensure the record doesn't exist by removing it\n",
    "try {\n",
    "    client.delete(wpolicy, key);\n",
    "}\n",
    "catch (AerospikeException ae) {\n",
    "    // ignore if doesn't exist\n",
    "}\n",
    "\n",
    "// update-only must fail since the record doesn't exist\n",
    "try {\n",
    "    wpolicy.recordExistsAction = RecordExistsAction.UPDATE_ONLY;\n",
    "    client.put(wpolicy, key, bin1, bin2);\n",
    "    System.out.format(\"update-only succeeded\");\n",
    "}\n",
    "catch (AerospikeException ae) {\n",
    "    System.out.format(\"Error on update-only: %s.\\n\", ae.getMessage());\n",
    "}\n",
    "\n",
    "// replace-only must fail since the record doesn't exist\n",
    "try {\n",
    "    wpolicy.recordExistsAction = RecordExistsAction.REPLACE_ONLY;\n",
    "    client.put(wpolicy, key, bin1, bin2);\n",
    "    System.out.format(\"replace-only succeeded\");\n",
    "}\n",
    "catch (AerospikeException ae) {\n",
    "    System.out.format(\"Error on replace-only: %s.\\n\", ae.getMessage());\n",
    "}\n",
    "\n",
    "// create-only should succeed since the record doesn't exist\n",
    "try {\n",
    "    wpolicy.recordExistsAction = RecordExistsAction.CREATE_ONLY;\n",
    "    client.put(wpolicy, key, bin1, bin2);\n",
    "    Record record = client.get(null, key);\n",
    "    System.out.format(\"Create-only succeeded: key=%s bins=%s\\n\", key.userKey, record.bins);\n",
    "}\n",
    "catch (AerospikeException ae) {\n",
    "    System.out.format(\"Error on create-only: %s.\\n\", ae.getMessage());\n",
    "}\n",
    "\n",
    "// update should succeed irrespective of the record's existence\n",
    "try {\n",
    "    Bin bin3 = new Bin(new String(\"bin3\"), \"new bin\");\n",
    "    wpolicy.recordExistsAction = RecordExistsAction.UPDATE;\n",
    "    client.put(wpolicy, key, bin3);\n",
    "    Record record = client.get(null, key);\n",
    "    System.out.format(\"Update succeeded: key=%s bins=%s\\n\", key.userKey, record.bins);\n",
    "}\n",
    "catch (AerospikeException ae) {\n",
    "    System.out.format(\"Error: %s.\\n\", ae.getMessage());\n",
    "}\n",
    "\n",
    "// replace should succeed irrespective of the record's existence\n",
    "try {\n",
    "    Bin bin4 = new Bin(new String(\"bin4\"), \"another bin\");\n",
    "    wpolicy.recordExistsAction = RecordExistsAction.REPLACE;\n",
    "    client.put(wpolicy, key, bin4);\n",
    "    Record record = client.get(null, key);\n",
    "    System.out.format(\"Replace succeeded: key=%s bins=%s\\n\", key.userKey, record.bins);\n",
    "}\n",
    "catch (AerospikeException ae) {\n",
    "    System.out.format(\"Error: %s.\\n\", ae.getMessage());\n",
    "}"
   ]
  },
  {
   "cell_type": "markdown",
   "metadata": {},
   "source": [
    "## Type Specific Updates\n",
    "Aerospike allows many type specific update operations. For integer and string types, they include:\n",
    "<pre>\n",
    "UPDATE namespace.set SET (bin = bin + intval) WHERE id=key\n",
    "   add(WritePolicy policy, Key key, Bin... bins)\n",
    "UPDATE namespace.set SET (bin = bin + strval) WHERE id=key\n",
    "   append(WritePolicy policy, Key key, Bin... bins)\n",
    "UPDATE namespace.set SET (bin = strval + bin) WHERE id=key\n",
    "   prepend(WritePolicy policy, Key key, Bin... bins)\n",
    "</pre>"
   ]
  },
  {
   "cell_type": "code",
   "execution_count": 14,
   "metadata": {},
   "outputs": [
    {
     "name": "stdout",
     "output_type": "stream",
     "text": [
      "Record: key=id-100 bins={bin1=100, bin2=John}\n",
      "After add: key=id-100 bins={bin1=101, bin2=John}\n",
      "After append: key=id-100 bins={bin1=101, bin2=John Doe}\n",
      "After prepend: key=id-100 bins={bin1=101, bin2=Mr John Doe}\n"
     ]
    }
   ],
   "source": [
    "Key key = new Key(Namespace, Set, \"id-100\");\n",
    "Bin bin1 = new Bin(new String(\"bin1\"), 100);\n",
    "Bin bin2 = new Bin(new String(\"bin2\"), \"John\");\n",
    "\n",
    "wpolicy.recordExistsAction = RecordExistsAction.REPLACE;\n",
    "client.put(wpolicy, key, bin1, bin2);\n",
    "Record record = client.get(null, key);\n",
    "System.out.format(\"Record: key=%s bins=%s\\n\", key.userKey, record.bins);\n",
    "\n",
    "// add\n",
    "bin1 = new Bin(new String(\"bin1\"), 1);\n",
    "client.add(null, key, bin1);\n",
    "Record record = client.get(null, key);\n",
    "System.out.format(\"After add: key=%s bins=%s\\n\", key.userKey, record.bins);\n",
    "\n",
    "// append\n",
    "bin2 = new Bin(new String(\"bin2\"), \" Doe\");\n",
    "client.append(null, key, bin2);\n",
    "Record record = client.get(null, key);\n",
    "System.out.format(\"After append: key=%s bins=%s\\n\", key.userKey, record.bins);\n",
    "\n",
    "//prepend\n",
    "bin2 = new Bin(new String(\"bin2\"), \"Mr \");\n",
    "client.prepend(null, key, bin2);\n",
    "Record record = client.get(null, key);\n",
    "System.out.format(\"After prepend: key=%s bins=%s\\n\", key.userKey, record.bins);;"
   ]
  },
  {
   "cell_type": "markdown",
   "metadata": {},
   "source": [
    "In addition, List, Map, Geospatial, HyperLogLog, and Blob types allow a wide range of update operations. Refer to the tutorials on [List](java-working_with_lists.ipynb) and [Map](java-working_with_maps.ipynb), and [documentation](https://docs.aerospike.com/docs/guide/cdt.html)."
   ]
  },
  {
   "cell_type": "markdown",
   "metadata": {},
   "source": [
    "## DELETE Record\n",
    "<pre>\n",
    "DELETE FROM namespace.set WHERE id=key\n",
    "   delete(WritePolicy policy, Key key)\n",
    "</pre>\n",
    "Create a record, delete it, and verify deletion."
   ]
  },
  {
   "cell_type": "code",
   "execution_count": 15,
   "metadata": {},
   "outputs": [
    {
     "name": "stdout",
     "output_type": "stream",
     "text": [
      "Record: key=id-100 bins={bin1=100, bin2=1100}\n",
      "Record deleted: key=id-100\n",
      "No record found for key=id-100 \n"
     ]
    }
   ],
   "source": [
    "// create a record\n",
    "Key key = new Key(Namespace, Set, \"id-100\");\n",
    "Bin bin1 = new Bin(new String(\"bin1\"), 100);\n",
    "Bin bin2 = new Bin(new String(\"bin2\"), 1000+100);\n",
    "client.put(wpolicy, key, bin1, bin2);\n",
    "Record record = client.get(null, key);\n",
    "System.out.format(\"Record: key=%s bins=%s\\n\", key.userKey, record.bins);\n",
    "\n",
    "// delete the record\n",
    "client.delete(wpolicy, key);\n",
    "System.out.format(\"Record deleted: key=%s\\n\", key.userKey);\n",
    "\n",
    "// verify it's deleted\n",
    "Record record = client.get(null, key);\n",
    "if (record == null) {\n",
    "    System.out.format(\"No record found for key=%s \\n\", key.userKey);;\n",
    "} \n",
    "else {\n",
    "    System.out.format(\"Record: key=%s bins=%s\\n\", key.userKey, record.bins);;\n",
    "}"
   ]
  },
  {
   "cell_type": "markdown",
   "metadata": {},
   "source": [
    "## Multi-Ops\n",
    "Multiple single record updates are possible through operate.\n",
    "<pre>\n",
    "UPDATE namespace.set SET (bin=value, ...) WHERE id=key\n",
    "   operate(WritePolicy policy, Key key, Operation... operations)\n",
    "</pre>\n",
    "Note, the operate function allows read (SELECT) operations to be included in the list, and executes and returns the results in the order they are specified. See [this tutorial](java-intro_to_transactions.ipynb) that illustrates multi-ops.\n",
    "\n",
    "The following code creates a record with an integer and a string bin, and then in one operate call increments the integer bin, appends to the string bin, and reads the updated record back."
   ]
  },
  {
   "cell_type": "code",
   "execution_count": 16,
   "metadata": {},
   "outputs": [
    {
     "name": "stdout",
     "output_type": "stream",
     "text": [
      "Record: key=id-100 bins={bin1=100, bin2=John}\n",
      "Operate results: key=id-100 bins={bin1=101, bin2=John Doe}\n"
     ]
    }
   ],
   "source": [
    "import com.aerospike.client.Operation;\n",
    "\n",
    "// create a record \n",
    "Key key = new Key(Namespace, Set, \"id-100\");\n",
    "Bin bin1 = new Bin(new String(\"bin1\"), 100);\n",
    "Bin bin2 = new Bin(new String(\"bin2\"), \"John\");\n",
    "client.put(wpolicy, key, bin1, bin2);\n",
    "Record record = client.get(null, key);\n",
    "System.out.format(\"Record: key=%s bins=%s\\n\", key.userKey, record.bins);\n",
    "\n",
    "// Add integer, update string, read record in one operate call\n",
    "bin1 = new Bin(new String(\"bin1\"), 1);\n",
    "bin2 = new Bin(new String(\"bin2\"), \" Doe\");\n",
    "record = client.operate(null, key, Operation.add(bin1), Operation.append(bin2), Operation.get());\n",
    "System.out.format(\"Operate results: key=%s bins=%s\\n\", key.userKey, record.bins);;"
   ]
  },
  {
   "cell_type": "markdown",
   "metadata": {},
   "source": [
    "# Multi-Record Updates\n",
    "<pre>\n",
    "UPDATE namespace.set SET (bin=value, ...) WHERE condition\n",
    "DELETE FROM namespace.set WHERE condition\n",
    "</pre>\n",
    "\n",
    "Multi-record updates and deletes are possibly by specifying the WHERE condition using the query filter (specified in a Statement object) and expression filter (specified in the write policy). If both filters are specified, the two are ANDed. The query filter operates on one bin and requires a supporting secondary index to exist on the bin. The remaining parts of the condition must be specified in the expression filter. For best performance, use the most selective condition in a query filter when possible.\n",
    "\n",
    "Note, there is no API for batch insertion of multiple records.\n",
    "\n",
    "Updates and deletes can be done in two ways: \n",
    "1. List of bin updates: A list of update operations can be specified, each operating on a bin.\n",
    "2. User Defined Function (UDF): Record-oriented UDFs implement arbitrary logic in a Lua function that is registered with the server and invoked through an API call."
   ]
  },
  {
   "cell_type": "markdown",
   "metadata": {},
   "source": [
    "## List of Bin Updates\n",
    "The list can be specified in two ways: \n",
    "1. As part of the Statement object where the query (index) filter is also specified. \n",
    "<pre>\n",
    "   Statement::setOps(Operation[] ops]\n",
    "   AerospikeClient::execute(WritePolicy policy, Statement statement)\n",
    "</pre>\n",
    "2. As an operation list parameter in the execute call.\n",
    "<pre>\n",
    "   AerospikeClient::execute(WritePolicy policy, Statement statement, Operation[] ops)\n",
    "</pre>\n",
    "\n",
    "Note:\n",
    "- An operation list in the Statement object cannot have a read operation, only updates. If read operations are present, the entire execute call fails.\n",
    "- Updates from Statement are ignored if there is an operation list specified as a parameter to execute.\n",
    "\n",
    "First we will populate data, create secondary indez, and define a convenience function, and then illustrate how to execute bin updates using the two methods."
   ]
  },
  {
   "cell_type": "code",
   "execution_count": 17,
   "metadata": {},
   "outputs": [
    {
     "name": "stdout",
     "output_type": "stream",
     "text": [
      "Test data popuated.\n",
      "Created number index test_sql_update_bin1_number_idx on ns=test set=sql-update bin=bin1.\n"
     ]
    }
   ],
   "source": [
    "// populate data, create secondary index, and define a convenience function\n",
    "\n",
    "// add records with keys \"id-1\" to \"id-10\" and \n",
    "//    bins bin1 (integer values 1-10) and bin2 (integer values 1000-1010).\n",
    "WritePolicy wpolicy = new WritePolicy();\n",
    "wpolicy.sendKey = true;\n",
    "for (int i = 1; i <= 10; i++) {\n",
    "    Key key = new Key(Namespace, Set, \"id-\"+i);\n",
    "    Bin bin1 = new Bin(new String(\"bin1\"), i);\n",
    "    Bin bin2 = new Bin(new String(\"bin2\"), 1000+i);\n",
    "    client.put(wpolicy, key, bin1, bin2);\n",
    "}\n",
    "System.out.format(\"Test data popuated.\\n\");;\n",
    "\n",
    "// create an integer secondary index on bin1\n",
    "import com.aerospike.client.policy.Policy;\n",
    "import com.aerospike.client.query.IndexType;\n",
    "import com.aerospike.client.task.IndexTask;\n",
    "import com.aerospike.client.AerospikeException;\n",
    "import com.aerospike.client.ResultCode;\n",
    "\n",
    "String IndexName = \"test_sql_update_bin1_number_idx\";\n",
    "\n",
    "Policy policy = new Policy();\n",
    "policy.socketTimeout = 0; // Do not timeout on index create.\n",
    "try {\n",
    "    IndexTask task = client.createIndex(policy, Namespace, Set, IndexName, \n",
    "                                        \"bin1\", IndexType.NUMERIC);\n",
    "    task.waitTillComplete();\n",
    "}\n",
    "catch (AerospikeException ae) {\n",
    "    if (ae.getResultCode() != ResultCode.INDEX_ALREADY_EXISTS) {\n",
    "        throw ae;\n",
    "    }\n",
    "}\n",
    "System.out.format(\"Created number index %s on ns=%s set=%s bin=%s.\\n\", \n",
    "                                    IndexName, Namespace, Set, \"bin1\");;\n",
    "                                    \n",
    "// define convenience functions\n",
    "import com.aerospike.client.query.Statement;\n",
    "import com.aerospike.client.query.Filter;\n",
    "import com.aerospike.client.Record;\n",
    "\n",
    "void printRecordRange(String header, String namespace, String set, String bin, int rangeLow, int rangeHigh) {\n",
    "    System.out.format(\"%s\\n\", header);\n",
    "    Statement stmt = new Statement();\n",
    "    stmt.setNamespace(namespace);\n",
    "    stmt.setSetName(set);\n",
    "    stmt.setFilter(Filter.range(bin, rangeLow, rangeHigh));\n",
    "    RecordSet rs = client.query(null, stmt);\n",
    "    while (rs.next()) {\n",
    "        Key key = rs.getKey();\n",
    "        Record record = rs.getRecord();\n",
    "        System.out.format(\"key=%s bins=%s\\n\", key.userKey, record.bins);\n",
    "    }\n",
    "    rs.close();\n",
    "}"
   ]
  },
  {
   "cell_type": "code",
   "execution_count": 18,
   "metadata": {},
   "outputs": [
    {
     "name": "stdout",
     "output_type": "stream",
     "text": [
      "initial state:\n",
      "key=id-4 bins={bin1=4, bin2=1004}\n",
      "key=id-5 bins={bin1=5, bin2=1005}\n",
      "key=id-6 bins={bin1=6, bin2=1006}\n",
      "key=id-7 bins={bin1=7, bin2=1007}\n",
      "After executing updates in Statement with filter:\n",
      "key=id-4 bins={bin1=4, bin2=1005, bin3=new1}\n",
      "key=id-5 bins={bin1=5, bin2=1006, bin3=new1}\n",
      "key=id-6 bins={bin1=6, bin2=1007, bin3=new1}\n",
      "key=id-7 bins={bin1=7, bin2=1008, bin3=new1}\n",
      "initial state:\n",
      "key=id-4 bins={bin1=4, bin2=1005, bin3=new1}\n",
      "key=id-5 bins={bin1=5, bin2=1006, bin3=new1}\n",
      "key=id-6 bins={bin1=6, bin2=1007, bin3=new1}\n",
      "key=id-7 bins={bin1=7, bin2=1008, bin3=new1}\n",
      "After executing updates in Ops list argument:\n",
      "key=id-4 bins={bin1=4, bin2=1006, bin3=new2}\n",
      "key=id-5 bins={bin1=5, bin2=1007, bin3=new2}\n",
      "key=id-6 bins={bin1=6, bin2=1008, bin3=new2}\n",
      "key=id-7 bins={bin1=7, bin2=1009, bin3=new2}\n",
      "initial state:\n",
      "key=id-4 bins={bin1=4, bin2=1006, bin3=new2}\n",
      "key=id-5 bins={bin1=5, bin2=1007, bin3=new2}\n",
      "key=id-6 bins={bin1=6, bin2=1008, bin3=new2}\n",
      "key=id-7 bins={bin1=7, bin2=1009, bin3=new2}\n",
      "After executing updates in Statement and Ops list argument (Statement updates are ignored):\n",
      "key=id-4 bins={bin1=4, bin2=1006, bin3=new3}\n",
      "key=id-5 bins={bin1=5, bin2=1007, bin3=new3}\n",
      "key=id-6 bins={bin1=6, bin2=1008, bin3=new3}\n",
      "key=id-7 bins={bin1=7, bin2=1009, bin3=new3}\n"
     ]
    }
   ],
   "source": [
    "import com.aerospike.client.Value;\n",
    "import com.aerospike.client.query.RecordSet;\n",
    "import com.aerospike.client.policy.QueryPolicy;\n",
    "import com.aerospike.client.exp.Exp;\n",
    "import com.aerospike.client.Operation;\n",
    "import com.aerospike.client.task.ExecuteTask;\n",
    "\n",
    "// 1. list of updates specified in Statement \n",
    "printRecordRange(\"initial state:\", Namespace, Set, \"bin1\", 4, 7);\n",
    "\n",
    "Statement stmt = new Statement();\n",
    "stmt.setNamespace(Namespace);\n",
    "stmt.setSetName(Set);\n",
    "stmt.setFilter(Filter.range(\"bin1\", 4, 7));\n",
    "Operation ops[] = { new Operation(Operation.Type.ADD, \"bin2\", Value.get(1)), \n",
    "                    Operation.put(new Bin(\"bin3\", \"new1\"))};\n",
    "stmt.setOperations(ops);\n",
    "ExecuteTask task = client.execute(null, stmt); \n",
    "task.waitTillComplete(3000, 3000);\n",
    "\n",
    "printRecordRange(\"After executing updates in Statement with filter:\", Namespace, Set, \"bin1\", 4, 7);\n",
    "\n",
    "\n",
    "// 2. list of updates as argument to execute\n",
    "\n",
    "printRecordRange(\"initial state:\", Namespace, Set, \"bin1\", 4, 7);\n",
    "\n",
    "Statement stmt = new Statement();\n",
    "stmt.setNamespace(Namespace);\n",
    "stmt.setSetName(Set);\n",
    "stmt.setFilter(Filter.range(\"bin1\", 4, 7));\n",
    "\n",
    "ExecuteTask task = client.execute(null, stmt, new Operation(Operation.Type.ADD, \"bin2\", Value.get(1)), \n",
    "                                            Operation.put(new Bin(\"bin3\", \"new2\"))); \n",
    "task.waitTillComplete(3000, 3000);\n",
    "\n",
    "printRecordRange(\"After executing updates in Ops list argument:\", Namespace, Set, \"bin1\", 4, 7);\n",
    "\n",
    "\n",
    "// 3. updates in Statement as well as in the execute argument - Statement operations are ignored\n",
    "\n",
    "printRecordRange(\"initial state:\", Namespace, Set, \"bin1\", 4, 7);\n",
    "\n",
    "Statement stmt = new Statement();\n",
    "stmt.setNamespace(Namespace);\n",
    "stmt.setSetName(Set);\n",
    "stmt.setFilter(Filter.range(\"bin1\", 4, 7));\n",
    "Operation ops[] = { new Operation(Operation.Type.ADD, \"bin2\", Value.get(1))};\n",
    "stmt.setOperations(ops);\n",
    "WritePolicy policy = new WritePolicy();\n",
    "policy.maxRetries = 0;\n",
    "\n",
    "ExecuteTask task = client.execute(policy, stmt, Operation.put(new Bin(\"bin3\", \"new3\"))); \n",
    "task.waitTillComplete(3000, 3000);\n",
    "\n",
    "printRecordRange(\"After executing updates in Statement and Ops list argument (Statement updates are ignored):\", \n",
    "                    Namespace, Set, \"bin1\", 4, 7);"
   ]
  },
  {
   "cell_type": "markdown",
   "metadata": {},
   "source": [
    "## Using UDF\n",
    "A record oriented User Defined Function (UDF) can be used for a single record or multi-record updates. \n",
    "\n",
    "<pre>\n",
    "UPDATE namespace.set SET (bin=fn(args), ...) WHERE condition\n",
    "   Single Record: \n",
    "   Object execute(WritePolicy policy, Key key, String packageName, String functionName, Value... functionArgs)\n",
    "   Multi-Record: \n",
    "   ExecuteTask execute(WritePolicy policy, Statement statement, String packageName, String functionName,\n",
    "                                 Value... functionArgs)\n",
    "</pre>\n",
    "\n",
    "A multi-record update is illustrated below. The Statement object is used to specify a predicate or query filter to identify records. Any updates specified in Statement are ignored. The WHERE condition can also be specified using an expression filter as shown below.\n",
    "\n",
    "Note:\n",
    "- Cannot use updates in Statement as they will be ignored. Statement is used only to specify a query filter that leverages a seconday index.\n",
    "- Cannot use UDF in Statement for updates; for updates, UDF must be specified using arguments of execute call."
   ]
  },
  {
   "cell_type": "markdown",
   "metadata": {},
   "source": [
    "### Create UDF\n",
    "Examine the following Lua code that updates two bins by adding and appending the values provided. \n",
    "<pre>\n",
    "-- update the specified bins by adding and appending the values provided\n",
    "function add_append(rec, binName1, addVal, binName2, appendVal)\n",
    "    rec[binName1] = rec[binName1] + addVal\n",
    "    rec[binName2] = rec[binName2] .. appendVal\n",
    "    aerospike:update(rec)\n",
    "end\n",
    "</pre>"
   ]
  },
  {
   "cell_type": "markdown",
   "metadata": {},
   "source": [
    "### Register UDF\n",
    "Note, the UDF function is expected to be in \"update_example.lua\" file under \"udf\" directory.\n",
    "\n",
    "Register the UDF with the server by executing the following code cell. The function invalidates the cache, removes the currently registered module, and registers the latest version."
   ]
  },
  {
   "cell_type": "code",
   "execution_count": 19,
   "metadata": {},
   "outputs": [
    {
     "name": "stdout",
     "output_type": "stream",
     "text": [
      "Registered the UDF module update_example.lua."
     ]
    }
   ],
   "source": [
    "import com.aerospike.client.policy.Policy;\n",
    "import com.aerospike.client.task.RegisterTask;\n",
    "import com.aerospike.client.Language;\n",
    "import com.aerospike.client.lua.LuaConfig;\n",
    "import com.aerospike.client.lua.LuaCache;\n",
    "\n",
    "LuaConfig.SourceDirectory = \"../udf\";\n",
    "String UDFFile = \"update_example.lua\";\n",
    "String UDFModule = \"update_example\";\n",
    "\n",
    "void registerUDF() {\n",
    "    // clear the lua cache\n",
    "    LuaCache.clearPackages();\n",
    "    Policy policy = new Policy();\n",
    "    // remove the current module, if any\n",
    "    client.removeUdf(null, UDFFile);\n",
    "    RegisterTask task = client.register(policy, LuaConfig.SourceDirectory+\"/\"+UDFFile, \n",
    "                                        UDFFile, Language.LUA);\n",
    "    task.waitTillComplete();\n",
    "    System.out.format(\"Registered the UDF module %s.\", UDFFile);;\n",
    "}\n",
    "\n",
    "registerUDF();"
   ]
  },
  {
   "cell_type": "markdown",
   "metadata": {},
   "source": [
    "### Execute UDF\n",
    "Run the UDF on multiple records using an expression filter to specify records with bin1 values in the range 4-7 (both inclusive)."
   ]
  },
  {
   "cell_type": "code",
   "execution_count": 20,
   "metadata": {},
   "outputs": [
    {
     "name": "stdout",
     "output_type": "stream",
     "text": [
      "initial state:\n",
      "key=id-4 bins={bin1=4, bin2=1006, bin3=new3}\n",
      "key=id-5 bins={bin1=5, bin2=1007, bin3=new3}\n",
      "key=id-6 bins={bin1=6, bin2=1008, bin3=new3}\n",
      "key=id-7 bins={bin1=7, bin2=1009, bin3=new3}\n",
      "After executing UDF add_append:\n",
      "key=id-4 bins={bin1=4, bin2=1007, bin3=new3!!!}\n",
      "key=id-5 bins={bin1=5, bin2=1008, bin3=new3!!!}\n",
      "key=id-6 bins={bin1=6, bin2=1009, bin3=new3!!!}\n",
      "key=id-7 bins={bin1=7, bin2=1010, bin3=new3!!!}\n"
     ]
    }
   ],
   "source": [
    "printRecordRange(\"initial state:\", Namespace, Set, \"bin1\", 4, 7);\n",
    "\n",
    "Statement stmt = new Statement();\n",
    "stmt.setNamespace(Namespace);\n",
    "stmt.setSetName(Set);\n",
    "WritePolicy policy = new WritePolicy();\n",
    "policy.filterExp = Exp.build(\n",
    "    Exp.and(\n",
    "        Exp.ge(Exp.intBin(\"bin1\"), Exp.val(4)),\n",
    "        Exp.le(Exp.intBin(\"bin1\"), Exp.val(7))));\n",
    "policy.maxRetries = 0;\n",
    "\n",
    "ExecuteTask task = client.execute(policy, stmt, UDFModule, \"add_append\",\n",
    "                                 Value.get(\"bin2\"), Value.get(1), Value.get(\"bin3\"), Value.get(\"!!!\")); \n",
    "task.waitTillComplete(3000, 3000);\n",
    "\n",
    "printRecordRange(\"After executing UDF add_append:\", \n",
    "                    Namespace, Set, \"bin1\", 4, 7);"
   ]
  },
  {
   "cell_type": "markdown",
   "metadata": {},
   "source": [
    "## Salient Points\n",
    "- A combination of query (index) filter and expression filter is used to define selection criteria. If both filters are specified, the two are ANDed. The query filter spans one bin and requires a supporting secondary index to exist on the bin. \n",
    "- Cannot use UDF in the Statement object for updates (they are used only for streaming functions to evaluate aggregates).\n",
    "- Updates if specified in the Statement object are ignored when used in conjunction with updates in execute argument (either Ops or UDF)."
   ]
  },
  {
   "cell_type": "markdown",
   "metadata": {},
   "source": [
    "# Managing Durability and Expiration\n",
    "Updates by default are applied in memory, but can be made more durabile or persistent by specifying \"commit-to-device\" option in the namespace configuration.\n",
    "\n",
    "A record by default is created never to expire, but a different time-to-live (ttl) can be specified. An expired record is automatically removed and its space reclaimed, thus relieving the lifecycle management burden in applications where it makes sense."
   ]
  },
  {
   "cell_type": "markdown",
   "metadata": {},
   "source": [
    "# Leveraging CDTs\n",
    "Use of collection data types (CDTs) like List and Map to store objects or records is a common pattern in Aerospike and is recommended for performance. Refer to [this tutorial](java-modeling_using_lists.ipynb) on modeling with lists."
   ]
  },
  {
   "cell_type": "markdown",
   "metadata": {},
   "source": [
    "# Takeaways and Conclusion\n",
    "Many developers that are familiar with SQL would like to see how SQL operations translate to Aeropsike. We looked at how to implement various modification statements. This should be generally useful irrespective of the reader's SQL knowledge. While the examples here use synchronous execution, many operations can also be performed asynchronously. "
   ]
  },
  {
   "cell_type": "markdown",
   "metadata": {},
   "source": [
    "# Clean up\n",
    "Remove tutorial data and close connection."
   ]
  },
  {
   "cell_type": "code",
   "execution_count": 21,
   "metadata": {
    "ExecuteTime": {
     "end_time": "2020-12-29T20:49:19.972650Z",
     "start_time": "2020-12-29T20:49:19.967344Z"
    }
   },
   "outputs": [
    {
     "name": "stdout",
     "output_type": "stream",
     "text": [
      "Removed tutorial data and closed server connection.\n"
     ]
    }
   ],
   "source": [
    "client.dropIndex(null, Namespace, Set, IndexName);\n",
    "client.truncate(null, Namespace, null, null);\n",
    "client.close();\n",
    "System.out.println(\"Removed tutorial data and closed server connection.\");"
   ]
  },
  {
   "cell_type": "markdown",
   "metadata": {},
   "source": [
    "# Further Exploration and Resources\n",
    "Here are some links for further exploration\n",
    "\n",
    "Resources\n",
    "- Related notebooks\n",
    "    - Other notebooks in the SQL series on 1) [SELECT](sql_select.ipynb), 2) [Aggregates - Part 1](sql_aggregates_1.ipynb) and [Part 2](sql_aggregates_2.ipynb).\n",
    "    - [Working with Lists](java-working_with_lists.ipynb)\n",
    "    - [Working with Maps](java-working_with_maps.ipynb)\n",
    "- [Aerospike Presto Connector](https://www.aerospike.com/docs/connect/access/presto/index.html)\n",
    "- Blog post\n",
    "    - [Introducing Aerospike JDBC Connector](https://medium.com/aerospike-developer-blog/introducing-aerospike-jdbc-driver-fe46d9fc3b4d)\n",
    "- Aerospike Developer Hub\n",
    "    - [Java Developers Resources](https://developer.aerospike.com/java-developers)\n",
    "- Github repos\n",
    "    - [Java code examples](https://github.com/aerospike/aerospike-client-java/tree/master/examples/src/com/aerospike/examples)\n",
    "- Documentation\n",
    "    - [Java Client](https://www.aerospike.com/docs/client/java/index.html)\n",
    "    - [Java API Reference](https://www.aerospike.com/apidocs/java/)"
   ]
  },
  {
   "cell_type": "markdown",
   "metadata": {},
   "source": [
    "## Next steps\n",
    "\n",
    "Visit [Aerospike notebooks repo](https://github.com/aerospike-examples/interactive-notebooks) to run additional Aerospike notebooks. To run a different notebook, download the notebook from the repo to your local machine, and then click on File->Open in the notebook menu, and select Upload."
   ]
  }
 ],
 "metadata": {
  "kernelspec": {
   "display_name": "Java",
   "language": "java",
   "name": "java"
  },
  "language_info": {
   "codemirror_mode": "java",
   "file_extension": ".jshell",
   "mimetype": "text/x-java-source",
   "name": "Java",
   "pygments_lexer": "java",
   "version": "11.0.8+10-LTS"
  },
  "toc": {
   "base_numbering": 1,
   "nav_menu": {},
   "number_sections": true,
   "sideBar": true,
   "skip_h1_title": false,
   "title_cell": "Table of Contents",
   "title_sidebar": "Contents",
   "toc_cell": true,
   "toc_position": {},
   "toc_section_display": true,
   "toc_window_display": false
  }
 },
 "nbformat": 4,
 "nbformat_minor": 4
}
