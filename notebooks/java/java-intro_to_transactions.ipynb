{
 "cells": [
  {
   "cell_type": "markdown",
   "id": "alpine-natural",
   "metadata": {},
   "source": [
    "# Introduction to Transactions with Aerospike\n",
    "*Last updated: June 22, 2021*\n",
    "\n",
    "This notebook explains the basics of executing multiple operations on one record as a transaction. \n",
    "\n",
    "Aerospike was architected to process a high volume of concurrent real time reads and writes for Internet scale applications. Aerospike provides scale out performance by adding additional nodes or racks without changing application code. \n",
    "\n",
    "Application code specifies the necessary process and data policy to execute one or billions of Aerospike read and write operations. \n",
    "\n",
    "This notebook covers:\n",
    "* Discrete operations:\n",
    "   * Record operations\n",
    "   * Operations on simple data types:\n",
    "      * Strings\n",
    "      * Integers\n",
    "      * Doubles\n",
    "   * Operations on complex data types:\n",
    "      * Blobs\n",
    "      * HyperLogLogs\n",
    "      * Lists\n",
    "      * Maps\n",
    "      * GeoJSON\n",
    "* Simple transactions combining all of the above. \n",
    "\n",
    "This notebook does not detail replication across a cluster. \n",
    "\n",
    "This [Jupyter Notebook](https://jupyter-notebook.readthedocs.io/en/stable/notebook.html) requires the Aerospike Database running locally with Java kernel and Aerospike Java Client. To create a Docker container that satisfies the requirements and holds a copy of these notebooks, visit the [Aerospike Notebooks Repo](https://github.com/markprincely/aerospike-dev-notebooks.docker)."
   ]
  },
  {
   "cell_type": "markdown",
   "id": "baking-teens",
   "metadata": {
    "heading_collapsed": true
   },
   "source": [
    "# Notebook Setup"
   ]
  },
  {
   "cell_type": "markdown",
   "id": "danish-bookmark",
   "metadata": {
    "hidden": true
   },
   "source": [
    "## Import Jupyter Java Integration "
   ]
  },
  {
   "cell_type": "code",
   "execution_count": 1,
   "id": "cooked-complex",
   "metadata": {
    "hidden": true
   },
   "outputs": [],
   "source": [
    "import io.github.spencerpark.ijava.IJava;\n",
    "import io.github.spencerpark.jupyter.kernel.magic.common.Shell;\n",
    "\n",
    "IJava.getKernelInstance().getMagics().registerMagics(Shell.class);"
   ]
  },
  {
   "cell_type": "markdown",
   "id": "banned-programming",
   "metadata": {
    "hidden": true
   },
   "source": [
    "## Start Aerospike"
   ]
  },
  {
   "cell_type": "code",
   "execution_count": 2,
   "id": "nominated-penny",
   "metadata": {
    "hidden": true
   },
   "outputs": [],
   "source": [
    "%sh asd"
   ]
  },
  {
   "cell_type": "markdown",
   "id": "domestic-lesbian",
   "metadata": {
    "hidden": true
   },
   "source": [
    "## Download the Aerospike Java Client"
   ]
  },
  {
   "cell_type": "code",
   "execution_count": 3,
   "id": "obvious-tennis",
   "metadata": {
    "hidden": true
   },
   "outputs": [],
   "source": [
    "%%loadFromPOM\n",
    "<dependencies>\n",
    "  <dependency>\n",
    "    <groupId>com.aerospike</groupId>\n",
    "    <artifactId>aerospike-client</artifactId>\n",
    "    <version>5.0.0</version>\n",
    "  </dependency>\n",
    "</dependencies>"
   ]
  },
  {
   "cell_type": "markdown",
   "id": "available-style",
   "metadata": {
    "hidden": true
   },
   "source": [
    "## Start the Aerospike Java Client and Connect\n",
    "\n",
    "The default cluster location for the Docker container is *localhost* port *3000*. If your cluster is not running on your local machine, modify *localhost* and *3000* to the values for your Aerospike cluster."
   ]
  },
  {
   "cell_type": "code",
   "execution_count": 4,
   "id": "deluxe-start",
   "metadata": {
    "hidden": true
   },
   "outputs": [
    {
     "name": "stdout",
     "output_type": "stream",
     "text": [
      "Initialized the client and connected to the cluster.\n"
     ]
    }
   ],
   "source": [
    "import com.aerospike.client.AerospikeClient;\n",
    "\n",
    "AerospikeClient client = new AerospikeClient(\"localhost\", 3000);\n",
    "System.out.println(\"Initialized the client and connected to the cluster.\");"
   ]
  },
  {
   "cell_type": "markdown",
   "id": "fatal-madagascar",
   "metadata": {},
   "source": [
    "# Aerospike Provides Intuitive Atomic Reads and Writes\n",
    "\n",
    "Aerospike provides client APIs to read and write different types of data. Each record read or write operation that an Aerospike server or cluster executes as an atomic (ACID) operation.\n",
    "\n",
    "For additional information on Aerospike's single-record variant of ACID compliance, go [here](https://www.aerospike.com/docs/architecture/acid.html)."
   ]
  },
  {
   "cell_type": "markdown",
   "id": "changing-overall",
   "metadata": {},
   "source": [
    "# Operate Applies One or More Operations\n",
    "\n",
    "For the case where an application uses Aerospike as a key/value store without applying [Aerospike data types](https://www.aerospike.com/docs/guide/data-types.html) to data, the [AerospikeClient](https://www.aerospike.com/apidocs/java/com/aerospike/client/AerospikeClient.html) provides the super fast, basic getters and setters for bins of data. \n",
    "\n",
    "The most frequently used and simplest technique to execute more than one operation in an atomic fashion is the Operate API. Using this API, the Aerospike client can execute a single read or write operation or complex combinations of reads and writes\n",
    "\n",
    "For more information on Operate, go [here](https://www.aerospike.com/apidocs/java/com/aerospike/client/Operation.html).\n",
    "\n",
    "For more information on applying multiple operations to a record, go [here](https://aerospike.com/docs/client/java/usage/kvs/multiops.html)."
   ]
  },
  {
   "cell_type": "markdown",
   "id": "premier-throat",
   "metadata": {},
   "source": [
    "## Using Discrete Operations on a Full Record\n",
    "\n",
    "Aerospike provides the following record operations:\n",
    "* Get – Read a record.\n",
    "* Getheader – Read a record's TTL and generation counter.\n",
    "* Touch – Increase a record's generation counter.\n",
    "* Delete – Delete a record."
   ]
  },
  {
   "cell_type": "markdown",
   "id": "future-panama",
   "metadata": {},
   "source": [
    "### Create Test Data\n",
    "\n",
    "Create a simple instance of every Aerospike data type."
   ]
  },
  {
   "cell_type": "code",
   "execution_count": 5,
   "id": "outside-reliance",
   "metadata": {},
   "outputs": [
    {
     "name": "stdout",
     "output_type": "stream",
     "text": [
      "String: atomic\n",
      "Integer: 8\n",
      "Double: 6.022\n",
      "Blob: [1, 2, 3, 4, 5]\n",
      "HLL: Starts with no data.\n",
      "Geo: { \"type\": \"Polygon\", \"coordinates\": [ [[-122.500, 37.000], [-121.000, 37.000], [-121.000, 38.080], [-122.500, 38.080], [-122.500, 37.000]] ] }\n",
      "List: [1]\n",
      "Map: {2=4}\n"
     ]
    }
   ],
   "source": [
    "import java.util.ArrayList;\n",
    "import java.util.Arrays;\n",
    "import java.util.List;\n",
    "import java.util.Map;\n",
    "import java.util.HashMap;\n",
    "\n",
    "String txnString = \"atomic\";\n",
    "Integer txnInteger = 8;\n",
    "Double txnDouble = 6.022;\n",
    "byte[] txnBlob = new byte[] {0b00000001, 0b00000010, 0b00000011, 0b00000100, 0b00000101};\n",
    "String txnGeo = String.format(\"{ \\\"type\\\": \\\"Polygon\\\", \\\"coordinates\\\": [ [[-122.500, 37.000], [-121.000, 37.000], [-121.000, 38.080], [-122.500, 38.080], [-122.500, 37.000]] ] }\");\n",
    "ArrayList<Integer> txnList = new ArrayList<Integer>();\n",
    "txnList.add(1);\n",
    "\n",
    "HashMap<Integer, Integer> txnMap = new HashMap <Integer, Integer>();\n",
    "txnMap.put(2, 4);\n",
    "\n",
    "System.out.println(\"String: \" + txnString);\n",
    "System.out.println(\"Integer: \" + txnInteger);\n",
    "System.out.println(\"Double: \" + txnDouble);\n",
    "System.out.println(\"Blob: \" + Arrays.toString(txnBlob));\n",
    "System.out.println(\"HLL: Starts with no data.\");\n",
    "System.out.println(\"Geo: \" + txnGeo);\n",
    "System.out.println(\"List: \" + txnList);\n",
    "System.out.println(\"Map: \" + txnMap);"
   ]
  },
  {
   "cell_type": "markdown",
   "id": "certified-visibility",
   "metadata": {},
   "source": [
    "### Put Data Into An Aerospike Record"
   ]
  },
  {
   "cell_type": "code",
   "execution_count": 6,
   "id": "traditional-grocery",
   "metadata": {},
   "outputs": [
    {
     "name": "stdout",
     "output_type": "stream",
     "text": [
      "Put data into Aerospike: str, int, double, blob, hll, geo, list, map\n"
     ]
    }
   ],
   "source": [
    "import com.aerospike.client.Key;\n",
    "import com.aerospike.client.Bin;\n",
    "import com.aerospike.client.Value;\n",
    "import com.aerospike.client.policy.ClientPolicy;\n",
    "\n",
    "Integer theKey = 0;\n",
    "String txnSet = \"txnset\";\n",
    "String txnNamespace = \"test\";\n",
    "\n",
    "String txnStringBin = \"str\";\n",
    "String txnIntegerBin = \"int\";\n",
    "String txnDoubleBin = \"double\";\n",
    "String txnBlobBin = \"blob\";\n",
    "String txnHLLBin = \"hll\";\n",
    "String txnGeoBin = \"geo\";\n",
    "String txnListBin = \"list\";\n",
    "String txnMapBin = \"map\";\n",
    "ClientPolicy clientPolicy = new ClientPolicy();\n",
    "\n",
    "Key key = new Key(txnNamespace, txnSet, theKey);\n",
    "Bin bin0 = new Bin(txnStringBin, txnString);\n",
    "Bin bin1 = new Bin(txnIntegerBin, txnInteger);\n",
    "Bin bin2 = new Bin(txnDoubleBin, txnDouble);\n",
    "Bin bin3 = new Bin(txnBlobBin, txnBlob);\n",
    "Bin bin4 = new Bin(txnHLLBin, Value.getAsNull());\n",
    "Bin bin5 = new Bin(txnGeoBin, Value.getAsGeoJSON(txnGeo));\n",
    "Bin bin6 = new Bin(txnListBin, txnList);\n",
    "Bin bin7 = new Bin(txnMapBin, txnMap);\n",
    "\n",
    "client.put(clientPolicy.writePolicyDefault, key, bin0, bin1, bin2, bin3, bin5, bin6, bin7);\n",
    "\n",
    "System.out.println(\"Put data into Aerospike: \"\n",
    "                    + txnStringBin + \", \"\n",
    "                    + txnIntegerBin + \", \" \n",
    "                    + txnDoubleBin + \", \" \n",
    "                    + txnBlobBin + \", \" \n",
    "                    + txnHLLBin + \", \" \n",
    "                    + txnGeoBin + \", \" \n",
    "                    + txnListBin + \", \" \n",
    "                    + txnMapBin);"
   ]
  },
  {
   "cell_type": "markdown",
   "id": "settled-torture",
   "metadata": {},
   "source": [
    "### Get the Record"
   ]
  },
  {
   "cell_type": "code",
   "execution_count": 7,
   "id": "abandoned-truck",
   "metadata": {},
   "outputs": [
    {
     "name": "stdout",
     "output_type": "stream",
     "text": [
      "(gen:4),(exp:358043147),(bins:(str:atomic),(int:8),(double:6.022),(blob:[B@5c70658),(geo:{ \"type\": \"Polygon\", \"coordinates\": [ [[-122.500, 37.000], [-121.000, 37.000], [-121.000, 38.080], [-122.500, 38.080], [-122.500, 37.000]] ] }),(list:[1]),(map:{2=4}),(hll:00080000000000000000000000000000000000000000000000000000000000000000000000000000000000000000000000000000000000000000000000000000000000000000000000000000000000000000000000000000000000000000000000000000000400000000400000000000000000000000000000000000000000000000000000000000400000000000000000000000000000000000000000000000000000000000000000000000000000000000000000000000000000000000000000400000000c0000000000))\n"
     ]
    }
   ],
   "source": [
    "import com.aerospike.client.Record;\n",
    "\n",
    "Key key = new Key(txnNamespace, txnSet, theKey);\n",
    "Record record = client.get(null, key);\n",
    "System.out.println(record);"
   ]
  },
  {
   "cell_type": "markdown",
   "id": "interesting-dominican",
   "metadata": {},
   "source": [
    "### Get the Record Header"
   ]
  },
  {
   "cell_type": "code",
   "execution_count": 8,
   "id": "introductory-debate",
   "metadata": {},
   "outputs": [
    {
     "name": "stdout",
     "output_type": "stream",
     "text": [
      "(gen:4),(exp:358043147),(bins:null)\n"
     ]
    }
   ],
   "source": [
    "Key key = new Key(txnNamespace, txnSet, theKey);\n",
    "Record record = client.getHeader(null, key);\n",
    "System.out.println(record);"
   ]
  },
  {
   "cell_type": "markdown",
   "id": "nominated-fusion",
   "metadata": {},
   "source": [
    "### Touch the Record"
   ]
  },
  {
   "cell_type": "code",
   "execution_count": 9,
   "id": "breeding-oxford",
   "metadata": {},
   "outputs": [
    {
     "name": "stdout",
     "output_type": "stream",
     "text": [
      "(gen:5),(exp:358043147),(bins:(str:atomic),(int:8),(double:6.022),(blob:[B@3efad74b),(geo:{ \"type\": \"Polygon\", \"coordinates\": [ [[-122.500, 37.000], [-121.000, 37.000], [-121.000, 38.080], [-122.500, 38.080], [-122.500, 37.000]] ] }),(list:[1]),(map:{2=4}),(hll:00080000000000000000000000000000000000000000000000000000000000000000000000000000000000000000000000000000000000000000000000000000000000000000000000000000000000000000000000000000000000000000000000000000000400000000400000000000000000000000000000000000000000000000000000000000400000000000000000000000000000000000000000000000000000000000000000000000000000000000000000000000000000000000000000400000000c0000000000))\n"
     ]
    }
   ],
   "source": [
    "Key key = new Key(txnNamespace, txnSet, theKey);\n",
    "client.touch(client.writePolicyDefault, key);\n",
    "Record record = client.get(client.writePolicyDefault, key);\n",
    "System.out.println(record);"
   ]
  },
  {
   "cell_type": "markdown",
   "id": "metric-tournament",
   "metadata": {},
   "source": [
    "## Operating on Simple Bin Data\n",
    "\n",
    "When operating on simple data–Strings, Integers, and Doubles–, Aerospike provides standard create, read, update, and delete operations and also increment operations, like prepend/append  and add. \n",
    "\n",
    "For more information on record operations and simple data operations, go [here](https://www.aerospike.com/apidocs/java/com/aerospike/client/Operation.html).  "
   ]
  },
  {
   "cell_type": "markdown",
   "id": "extreme-seattle",
   "metadata": {},
   "source": [
    "### Operating on String Data\n",
    "\n",
    "Append to a string."
   ]
  },
  {
   "cell_type": "code",
   "execution_count": 10,
   "id": "conditional-rainbow",
   "metadata": {},
   "outputs": [
    {
     "name": "stdout",
     "output_type": "stream",
     "text": [
      "Before, the str was - atomic\n",
      "  After, the str is - atomic-operation\n"
     ]
    }
   ],
   "source": [
    "String txnAppendString = \"-operation\";\n",
    "bin0 = new Bin(txnStringBin, txnAppendString);\n",
    "\n",
    "Key key = new Key(txnNamespace, txnSet, theKey);\n",
    "Record record = client.get(client.writePolicyDefault, key);\n",
    "client.append(client.writePolicyDefault, key, bin0);\n",
    "Record after = client.get(client.writePolicyDefault, key);\n",
    "\n",
    "System.out.println(\"Before, the \" + txnStringBin + \" was - \" + record.getValue(txnStringBin));\n",
    "System.out.println(\"  After, the \" + txnStringBin + \" is - \" + after.getValue(txnStringBin));"
   ]
  },
  {
   "cell_type": "markdown",
   "id": "occupational-psychology",
   "metadata": {},
   "source": [
    "### Operating on Integer Data\n",
    "\n",
    "Add to an integer."
   ]
  },
  {
   "cell_type": "code",
   "execution_count": 11,
   "id": "controlled-popularity",
   "metadata": {},
   "outputs": [
    {
     "name": "stdout",
     "output_type": "stream",
     "text": [
      "Before, the int was - 8\n",
      "  After, the int is - 13\n"
     ]
    }
   ],
   "source": [
    "Integer txnAddInt = 5;\n",
    "Bin binIntAdd = new Bin(txnIntegerBin, txnAddInt);\n",
    "\n",
    "Key key = new Key(txnNamespace, txnSet, theKey);\n",
    "Record record = client.get(client.writePolicyDefault, key);\n",
    "client.add(client.writePolicyDefault, key, binIntAdd);\n",
    "Record after = client.get(client.writePolicyDefault, key);\n",
    "\n",
    "System.out.println(\"Before, the \" + txnIntegerBin + \" was - \" + record.getValue(txnIntegerBin));\n",
    "System.out.println(\"  After, the \" + txnIntegerBin + \" is - \" + after.getValue(txnIntegerBin));"
   ]
  },
  {
   "cell_type": "markdown",
   "id": "verified-sustainability",
   "metadata": {},
   "source": [
    "### Operating on Double Data\n",
    "\n",
    "Subtract from a double."
   ]
  },
  {
   "cell_type": "code",
   "execution_count": 12,
   "id": "terminal-native",
   "metadata": {},
   "outputs": [
    {
     "name": "stdout",
     "output_type": "stream",
     "text": [
      "Before, the double was - 6.022\n",
      "  After, the double is - 2.8800000000000003\n"
     ]
    }
   ],
   "source": [
    "Double txnAddDouble = -3.142;\n",
    "Bin binDoubleAdd = new Bin(txnDoubleBin, txnAddDouble);\n",
    "\n",
    "Key key = new Key(txnNamespace, txnSet, theKey);\n",
    "Record record = client.get(client.writePolicyDefault, key);\n",
    "client.add(client.writePolicyDefault, key, binDoubleAdd);\n",
    "Record after = client.get(client.writePolicyDefault, key);\n",
    "\n",
    "System.out.println(\"Before, the \" + txnDoubleBin + \" was - \" + record.getValue(txnDoubleBin));\n",
    "System.out.println(\"  After, the \" + txnDoubleBin + \" is - \" + after.getValue(txnDoubleBin));"
   ]
  },
  {
   "cell_type": "markdown",
   "id": "prompt-peeing",
   "metadata": {},
   "source": [
    "## Operating on Complex Data Types\n",
    "\n",
    "Aerospike also provides data-type-specific operations to work with complex data types:\n",
    "\n",
    "* Collection Data Types\n",
    "   * Lists\n",
    "   * Maps\n",
    "* Blob/Bit Data\n",
    "* HyperLogLog (as a HyperMinHash)\n",
    "* GeoJSON\n"
   ]
  },
  {
   "cell_type": "markdown",
   "id": "czech-crash",
   "metadata": {},
   "source": [
    "### Operating on Lists\n",
    "\n",
    "Append 5 to the list.\n",
    "\n",
    "Aerospike provides operations to create and manage:\n",
    "* a simple list\n",
    "* list containing lists\n",
    "* list containing maps\n",
    "\n",
    "For a tutorial on working with lists, go [here](java-working_with_lists.ipynb). For more information on ListOperations, go [here](https://www.aerospike.com/apidocs/java/com/aerospike/client/cdt/ListOperation.html)."
   ]
  },
  {
   "cell_type": "code",
   "execution_count": 13,
   "id": "romantic-medicine",
   "metadata": {},
   "outputs": [
    {
     "name": "stdout",
     "output_type": "stream",
     "text": [
      "Before, the list was - [1]\n",
      "  After, the list is - [1, 5]\n"
     ]
    }
   ],
   "source": [
    "import com.aerospike.client.cdt.ListOperation;\n",
    "\n",
    "Integer listAddition = 5;\n",
    "\n",
    "Key key = new Key(txnNamespace, txnSet, theKey);\n",
    "Record record = client.get(client.writePolicyDefault, key);\n",
    "client.operate(client.writePolicyDefault, key, \n",
    "    ListOperation.append(txnListBin, Value.get(listAddition))\n",
    ");\n",
    "Record after = client.get(client.writePolicyDefault, key);\n",
    "\n",
    "System.out.println(\"Before, the \" + txnListBin + \" was - \" + record.getValue(txnListBin));\n",
    "System.out.println(\"  After, the \" + txnListBin + \" is - \" + after.getValue(txnListBin));"
   ]
  },
  {
   "cell_type": "markdown",
   "id": "compound-cabinet",
   "metadata": {},
   "source": [
    "### Operating on Maps\n",
    "\n",
    "Increment the Value of mapkey 2 by 57. \n",
    "\n",
    "Aerospike provides operations to create and manage:\n",
    "* a map\n",
    "* a map containing lists\n",
    "* a map containing maps\n",
    "\n",
    "For a tutorial on working with maps, go [here]((java-working_with_maps.ipynb)).\n",
    "\n",
    "For more information on Map Operations, go [here](https://www.aerospike.com/apidocs/java/com/aerospike/client/cdt/MapOperation.html)."
   ]
  },
  {
   "cell_type": "code",
   "execution_count": 14,
   "id": "dutch-young",
   "metadata": {},
   "outputs": [
    {
     "name": "stdout",
     "output_type": "stream",
     "text": [
      "Before, the map was - {2=4}\n",
      "  After, the map is - {2=61}\n"
     ]
    }
   ],
   "source": [
    "import com.aerospike.client.cdt.MapOperation;\n",
    "import com.aerospike.client.cdt.MapPolicy;\n",
    "\n",
    "Integer mapKey = 2;\n",
    "Integer mapIncrementValue = 57;\n",
    "\n",
    "MapPolicy txnMapPolicy = new MapPolicy();\n",
    "Key key = new Key(txnNamespace, txnSet, theKey);\n",
    "Record record = client.get(client.writePolicyDefault, key);\n",
    "client.operate(client.writePolicyDefault, key, \n",
    "    MapOperation.increment(txnMapPolicy, txnMapBin, Value.get(mapKey), Value.get(mapIncrementValue))\n",
    ");\n",
    "Record after = client.get(client.writePolicyDefault, key);\n",
    "\n",
    "System.out.println(\"Before, the \" + txnMapBin + \" was - \" + record.getValue(txnMapBin));\n",
    "System.out.println(\"  After, the \" + txnMapBin + \" is - \" + after.getValue(txnMapBin));"
   ]
  },
  {
   "cell_type": "markdown",
   "id": "prospective-majority",
   "metadata": {},
   "source": [
    "### Operating on Blob/Bit Data\n",
    "\n",
    "In addition to CRUD operations, Aerospike provides standard bitwise operations, such as logical operators (AND, OR, NOT, etc.), add/subtract, and shifts.\n",
    "\n",
    "For more information on Bit Operations, go [here](https://www.aerospike.com/apidocs/java/com/aerospike/client/operation/BitOperation.html)."
   ]
  },
  {
   "cell_type": "code",
   "execution_count": 15,
   "id": "worldwide-location",
   "metadata": {},
   "outputs": [
    {
     "name": "stdout",
     "output_type": "stream",
     "text": [
      "Before, the blob was - [1, 2, 3, 4, 5]\n",
      "  After, the blob is - [1, 7, 3, 4, 5]\n"
     ]
    }
   ],
   "source": [
    "import com.aerospike.client.operation.BitOperation;\n",
    "import com.aerospike.client.operation.BitPolicy;\n",
    "\n",
    "byte[] bitsToSet = new byte[] {(byte)0b11100000};\n",
    "Integer bitSize = 8;\n",
    "Integer bitOffset = 13;\n",
    "\n",
    "BitPolicy bitPolicy = new BitPolicy();\n",
    "Key key = new Key(txnNamespace, txnSet, theKey);\n",
    "Record record = client.get(client.writePolicyDefault, key);\n",
    "client.operate(client.writePolicyDefault, key,\n",
    "     BitOperation.set(bitPolicy.Default, txnBlobBin, bitOffset, bitSize, bitsToSet)\n",
    ");\n",
    "Record after = client.get(client.writePolicyDefault, key);\n",
    "\n",
    "byte[] beforeBytes = (byte[])record.getValue(txnBlobBin);\n",
    "byte[] afterBytes = (byte[])after.getValue(txnBlobBin);\n",
    "\n",
    "System.out.println(\"Before, the \" + txnBlobBin + \" was - \" + Arrays.toString(beforeBytes));\n",
    "System.out.println(\"  After, the \" + txnBlobBin + \" is - \" + Arrays.toString(afterBytes));"
   ]
  },
  {
   "cell_type": "markdown",
   "id": "computational-soldier",
   "metadata": {},
   "source": [
    "### Operating on HyperLogLog Data\n",
    "\n",
    "Init the HyperLogLog bin.\n",
    "\n",
    "HyperLogLog is a probabilistic data type used for counting really large data sets. Aerospike provides operations to:\n",
    "* Maintain the data type (init, reset, etc.)\n",
    "* Add data to these data sets.\n",
    "* Compare HyperLogLog data (intersection, unions, etc.).\n",
    "\n",
    "For more information on HyperLogLog Operations, go [here](https://www.aerospike.com/apidocs/java/com/aerospike/client/operation/HLLOperation.html)."
   ]
  },
  {
   "cell_type": "code",
   "execution_count": 16,
   "id": "convenient-learning",
   "metadata": {},
   "outputs": [
    {
     "name": "stdout",
     "output_type": "stream",
     "text": [
      "Before, the hll was - 00080000000000000000000000000000000000000000000000000000000000000000000000000000000000000000000000000000000000000000000000000000000000000000000000000000000000000000000000000000000000000000000000000000000400000000400000000000000000000000000000000000000000000000000000000000400000000000000000000000000000000000000000000000000000000000000000000000000000000000000000000000000000000000000000400000000c0000000000\n",
      "  After, the hll is - 0008000000000000000000000000000000000000000000000000000000000000000000000000000000000000000000000000000000000000000000000000000000000000000000000000000000000000000000000000000000000000000000000000000000000000000000000000000000000000000000000000000000000000000000000000000000000000000000000000000000000000000000000000000000000000000000000000000000000000000000000000000000000000000000000000000000000000000000\n"
     ]
    }
   ],
   "source": [
    "import com.aerospike.client.operation.HLLOperation;\n",
    "import com.aerospike.client.operation.HLLPolicy;\n",
    "\n",
    "HLLPolicy defHLLPolicy = new HLLPolicy();\n",
    "Integer bitsHLLIndex = 8;\n",
    "\n",
    "Key key = new Key(txnNamespace, txnSet, theKey);\n",
    "Record record = client.get(client.writePolicyDefault, key);\n",
    "client.operate(client.writePolicyDefault, key, \n",
    "    HLLOperation.init(defHLLPolicy, txnHLLBin, bitsHLLIndex)\n",
    ");\n",
    "Record after = client.get(client.writePolicyDefault, key);\n",
    "\n",
    "System.out.println(\"Before, the \" + txnHLLBin + \" was - \" + record.getValue(txnHLLBin));\n",
    "System.out.println(\"  After, the \" + txnHLLBin + \" is - \" + after.getValue(txnHLLBin));"
   ]
  },
  {
   "cell_type": "markdown",
   "id": "determined-banana",
   "metadata": {},
   "source": [
    "### Operating on GeoJSON\n",
    "\n",
    "Get GeoJSON data.\n",
    "\n",
    "For the purposes of simple transactions, Aerospike quickly stores and retrieves GeoJSON data in bins, and optionally nested in maps. In addition, Aerospike validates GeoJSON and processes Geospatial queries, including circle queries. \n",
    "\n",
    "For more information on using Aerospike for geospatial indexes and queries, go [here](https://www.aerospike.com/docs/guide/geospatial.html)."
   ]
  },
  {
   "cell_type": "code",
   "execution_count": 17,
   "id": "engaged-representation",
   "metadata": {},
   "outputs": [
    {
     "name": "stdout",
     "output_type": "stream",
     "text": [
      "The geo is - { \"type\": \"Polygon\", \"coordinates\": [ [[-122.500, 37.000], [-121.000, 37.000], [-121.000, 38.080], [-122.500, 38.080], [-122.500, 37.000]] ] }\n"
     ]
    }
   ],
   "source": [
    "Key key = new Key(txnNamespace, txnSet, theKey);\n",
    "Record pullGeo = client.get(client.writePolicyDefault, key, txnGeoBin);\n",
    "\n",
    "System.out.println(\"The \" + txnGeoBin + \" is - \" + pullGeo.getValue(txnGeoBin));"
   ]
  },
  {
   "cell_type": "markdown",
   "id": "alpha-impression",
   "metadata": {},
   "source": [
    "## Performing a Simple Transaction on a Record\n",
    "\n",
    "The above operations were each performed as atomic operations. **Operate** executes multiple operations to one or more bins during a single record lock in an ACID-compliant fashion. Results are returned in an array for each bin.  "
   ]
  },
  {
   "cell_type": "markdown",
   "id": "distributed-dress",
   "metadata": {},
   "source": [
    "### Execute All of the Previous Operations as a Transaction\n",
    "\n",
    "1. Create data for each data type.\n",
    "2. Put it into Aerospike.\n",
    "3. Apply the following operations as one transaction.\n",
    "\n",
    "   1. Touch the record.\n",
    "   2. Append to the string.\n",
    "   3. Increment the integer.\n",
    "   4. Subtract from the double.\n",
    "   5. Put an item in the list.\n",
    "   6. Put a new value in the map.\n",
    "   7. Set bits in the blob.\n",
    "   8. Init and add set elements to the hyperloglog.\n",
    "   9. Get the GeoJSON.\n",
    "\n"
   ]
  },
  {
   "cell_type": "code",
   "execution_count": 18,
   "id": "several-artwork",
   "metadata": {
    "scrolled": false
   },
   "outputs": [
    {
     "name": "stdout",
     "output_type": "stream",
     "text": [
      "--Initial Data–-\n",
      "String: atomic\n",
      "Integer: 8\n",
      "Double: 6.022\n",
      "Blob: [1, 2, 3, 4, 5]\n",
      "HLL: Starts with no data.\n",
      "Geo: { \"type\": \"Polygon\", \"coordinates\": [ [[-122.500, 37.000], [-121.000, 37.000], [-121.000, 38.080], [-122.500, 38.080], [-122.500, 37.000]] ] }\n",
      "List: [1]\n",
      "Map: {2=4}\n",
      "\n",
      "--The Data in Aerospike–-\n",
      "(gen:13),(exp:358043150),(bins:(str:atomic),(int:8),(double:6.022),(blob:[B@42a7022c),(geo:{ \"type\": \"Polygon\", \"coordinates\": [ [[-122.500, 37.000], [-121.000, 37.000], [-121.000, 38.080], [-122.500, 38.080], [-122.500, 37.000]] ] }),(list:[1]),(map:{2=4}),(hll:0008000000000000000000000000000000000000000000000000000000000000000000000000000000000000000000000000000000000000000000000000000000000000000000000000000000000000000000000000000000000000000000000000000000000000000000000000000000000000000000000000000000000000000000000000000000000000000000000000000000000000000000000000000000000000000000000000000000000000000000000000000000000000000000000000000000000000000000))\n",
      "\n",
      "--Operation Details–-\n",
      "Before, the str was - atomic\n",
      "  After, the str is - atomic-transactions\n",
      "\n",
      "Before, the int was - 8\n",
      "  After, the int is - 13\n",
      "\n",
      "Before, the double was - 6.022\n",
      "  After, the double is - 2.8800000000000003\n",
      "\n",
      "Before, the list was - [1]\n",
      "  After, the list is - [1, 5]\n",
      "\n",
      "Before, the map was - {2=4}\n",
      "  After, the map is - {2=61}\n",
      "\n",
      "Before, the blob was - [1, 2, 3, 4, 5]\n",
      "  After, the blob is - [1, 7, 3, 4, 5]\n",
      "\n",
      "Before, the hll was - 0008000000000000000000000000000000000000000000000000000000000000000000000000000000000000000000000000000000000000000000000000000000000000000000000000000000000000000000000000000000000000000000000000000000000000000000000000000000000000000000000000000000000000000000000000000000000000000000000000000000000000000000000000000000000000000000000000000000000000000000000000000000000000000000000000000000000000000000\n",
      "  After, the hll is - 00080000000000000000000000000000000000000000000000000000000000000000000000000000000000000000000000000000000000000000000000000000000000000000000000000000000000000000000000000000000000000000000000000000000400000000400000000000000000000000000000000000000000000000000000000000400000000000000000000000000000000000000000000000000000000000000000000000000000000000000000000000000000000000000000400000000c0000000000\n",
      "\n",
      "The geo is - { \"type\": \"Polygon\", \"coordinates\": [ [[-122.500, 37.000], [-121.000, 37.000], [-121.000, 38.080], [-122.500, 38.080], [-122.500, 37.000]] ] }\n",
      "\n",
      "--The Record After the Operations–-\n",
      "(gen:14),(exp:358043150),(bins:(str:atomic-transactions),(int:13),(double:2.8800000000000003),(blob:[B@56bc27c5),(geo:{ \"type\": \"Polygon\", \"coordinates\": [ [[-122.500, 37.000], [-121.000, 37.000], [-121.000, 38.080], [-122.500, 38.080], [-122.500, 37.000]] ] }),(list:[1, 5]),(map:{2=61}),(hll:00080000000000000000000000000000000000000000000000000000000000000000000000000000000000000000000000000000000000000000000000000000000000000000000000000000000000000000000000000000000000000000000000000000000400000000400000000000000000000000000000000000000000000000000000000000400000000000000000000000000000000000000000000000000000000000000000000000000000000000000000000000000000000000000000400000000c0000000000))\n"
     ]
    }
   ],
   "source": [
    "// Create data for each data type.\n",
    "\n",
    "import java.util.ArrayList;\n",
    "import java.util.Arrays;\n",
    "import java.util.List;\n",
    "import java.util.Map;\n",
    "import java.util.HashMap;\n",
    "\n",
    "String txnString = \"atomic\";\n",
    "Integer txnInteger = 8;\n",
    "Double txnDouble = 6.022;\n",
    "byte[] txnBlob = new byte[] {0b00000001, 0b00000010, 0b00000011, 0b00000100, 0b00000101};\n",
    "String txnGeo = String.format(\"{ \\\"type\\\": \\\"Polygon\\\", \\\"coordinates\\\": [ [[-122.500, 37.000], [-121.000, 37.000], [-121.000, 38.080], [-122.500, 38.080], [-122.500, 37.000]] ] }\");\n",
    "ArrayList<Integer> txnList = new ArrayList<Integer>();\n",
    "txnList.add(1);\n",
    "\n",
    "HashMap<Integer, Integer> txnMap = new HashMap <Integer, Integer>();\n",
    "txnMap.put(2, 4);\n",
    "\n",
    "System.out.println(\"--Initial Data–-\");\n",
    "System.out.println(\"String: \" + txnString);\n",
    "System.out.println(\"Integer: \" + txnInteger);\n",
    "System.out.println(\"Double: \" + txnDouble);\n",
    "System.out.println(\"Blob: \" + Arrays.toString(txnBlob));\n",
    "System.out.println(\"HLL: Starts with no data.\");\n",
    "System.out.println(\"Geo: \" + txnGeo);\n",
    "System.out.println(\"List: \" + txnList);\n",
    "System.out.println(\"Map: \" + txnMap);\n",
    "System.out.println();\n",
    "\n",
    "// Put it into Aerospike.\n",
    "\n",
    "import com.aerospike.client.AerospikeClient;\n",
    "import com.aerospike.client.Key;\n",
    "import com.aerospike.client.Bin;\n",
    "import com.aerospike.client.Value;\n",
    "import com.aerospike.client.policy.ClientPolicy;\n",
    "import com.aerospike.client.Operation;\n",
    "import com.aerospike.client.cdt.ListOperation;\n",
    "import com.aerospike.client.cdt.MapOperation;\n",
    "import com.aerospike.client.cdt.MapPolicy;\n",
    "import com.aerospike.client.operation.BitOperation;\n",
    "import com.aerospike.client.operation.BitPolicy;\n",
    "import com.aerospike.client.operation.HLLOperation;\n",
    "import com.aerospike.client.operation.HLLPolicy;\n",
    "\n",
    "\n",
    "Integer theKey = 0;\n",
    "String txnSet = \"txnset\";\n",
    "String txnNamespace = \"test\";\n",
    "\n",
    "String txnStringBin = \"str\";\n",
    "String txnIntegerBin = \"int\";\n",
    "String txnDoubleBin = \"double\";\n",
    "String txnBlobBin = \"blob\";\n",
    "String txnHLLBin = \"hll\";\n",
    "String txnGeoBin = \"geo\";\n",
    "String txnListBin = \"list\";\n",
    "String txnMapBin = \"map\";\n",
    "\n",
    "AerospikeClient client = new AerospikeClient(\"localhost\", 3000);\n",
    "\n",
    "ClientPolicy clientPolicy = new ClientPolicy();\n",
    "BitPolicy bitPolicy = new BitPolicy();\n",
    "HLLPolicy defHLLPolicy = new HLLPolicy();\n",
    "MapPolicy txnMapPolicy = new MapPolicy();\n",
    "\n",
    "Key key = new Key(txnNamespace, txnSet, theKey);\n",
    "\n",
    "Bin bin0 = new Bin(txnStringBin, txnString);\n",
    "Bin bin1 = new Bin(txnIntegerBin, txnInteger);\n",
    "Bin bin2 = new Bin(txnDoubleBin, txnDouble);\n",
    "Bin bin3 = new Bin(txnBlobBin, txnBlob);\n",
    "Bin bin4 = new Bin(txnHLLBin, Value.getAsNull());\n",
    "Bin bin5 = new Bin(txnGeoBin, Value.getAsGeoJSON(txnGeo));\n",
    "Bin bin6 = new Bin(txnListBin, txnList);\n",
    "Bin bin7 = new Bin(txnMapBin, txnMap);\n",
    "\n",
    "client.put(clientPolicy.writePolicyDefault, key, bin0, bin1, bin2, bin3, bin5, bin6, bin7);\n",
    "\n",
    "\n",
    "// Apply the following operations as one transaction.\n",
    "// 1. Touch the record.\n",
    "// 2. Append to the string.\n",
    "// 3. Increment the integer.\n",
    "// 4. Subtract from the double.\n",
    "// 5. Put an item in the list.\n",
    "// 6. Increment a value in the map.\n",
    "// 7. Set bits in the blob.\n",
    "// 8. Init and add set elements to the hyperloglog.\n",
    "// 9. Get the GeoJSON.\n",
    "\n",
    "String txnAppendString = \"-transactions\";\n",
    "Bin binStrAppend = new Bin(txnStringBin, txnAppendString);\n",
    "Integer txnAddInt = 5;\n",
    "Bin binIntAdd = new Bin(txnIntegerBin, txnAddInt);\n",
    "Double txnAddDouble = -3.142;\n",
    "Bin binDoubleSub = new Bin(txnDoubleBin, txnAddDouble);\n",
    "byte[] bitsToSet = new byte[] {(byte)0b11100000};\n",
    "Integer bitSize = 8;\n",
    "Integer bitOffset = 13;\n",
    "Integer bitsHLLIndex = 8;\n",
    "Integer listAddition = 5;\n",
    "Integer mapKey = 2;\n",
    "Integer mapIncrementValue = 57;\n",
    "ArrayList<Value> dataListForHLL = new ArrayList<Value>();\n",
    "dataListForHLL.add(Value.get(txnAddInt));\n",
    "dataListForHLL.add(Value.get(bitSize));\n",
    "dataListForHLL.add(Value.get(bitOffset));\n",
    "dataListForHLL.add(Value.get(bitsHLLIndex));\n",
    "dataListForHLL.add(Value.get(listAddition));\n",
    "dataListForHLL.add(Value.get(mapKey));\n",
    "dataListForHLL.add(Value.get(mapIncrementValue));\n",
    "\n",
    "Record beforeOps = client.get(client.writePolicyDefault, key);\n",
    "Record operationsRecord = client.operate(client.writePolicyDefault, key,\n",
    "        Operation.touch(),\n",
    "        Operation.append(binStrAppend),\n",
    "        Operation.add(binIntAdd),\n",
    "        Operation.add(binDoubleSub),\n",
    "        ListOperation.append(txnListBin, Value.get(listAddition)),\n",
    "        MapOperation.increment(txnMapPolicy, txnMapBin, Value.get(mapKey), Value.get(mapIncrementValue)),\n",
    "        BitOperation.set(bitPolicy.Default, txnBlobBin, bitOffset, bitSize, bitsToSet),\n",
    "        HLLOperation.init(defHLLPolicy, txnHLLBin, bitsHLLIndex),\n",
    "        HLLOperation.add(defHLLPolicy, txnHLLBin, dataListForHLL, bitsHLLIndex)\n",
    "    );\n",
    "Record afterOps = client.get(client.writePolicyDefault, key);\n",
    "\n",
    "System.out.println(\"--The Data in Aerospike–-\");\n",
    "System.out.println(beforeOps);\n",
    "System.out.println();\n",
    "System.out.println(\"--Operation Details–-\");\n",
    "System.out.println(\"Before, the \" + txnStringBin + \" was - \" + beforeOps.getValue(txnStringBin));\n",
    "System.out.println(\"  After, the \" + txnStringBin + \" is - \" + afterOps.getValue(txnStringBin));\n",
    "System.out.println();\n",
    "System.out.println(\"Before, the \" + txnIntegerBin + \" was - \" + beforeOps.getValue(txnIntegerBin));\n",
    "System.out.println(\"  After, the \" + txnIntegerBin + \" is - \" + afterOps.getValue(txnIntegerBin));\n",
    "System.out.println();\n",
    "System.out.println(\"Before, the \" + txnDoubleBin + \" was - \" + beforeOps.getValue(txnDoubleBin));\n",
    "System.out.println(\"  After, the \" + txnDoubleBin + \" is - \" + afterOps.getValue(txnDoubleBin));\n",
    "System.out.println();\n",
    "System.out.println(\"Before, the \" + txnListBin + \" was - \" + beforeOps.getValue(txnListBin));\n",
    "System.out.println(\"  After, the \" + txnListBin + \" is - \" + afterOps.getValue(txnListBin));\n",
    "System.out.println();\n",
    "System.out.println(\"Before, the \" + txnMapBin + \" was - \" + beforeOps.getValue(txnMapBin));\n",
    "System.out.println(\"  After, the \" + txnMapBin + \" is - \" + afterOps.getValue(txnMapBin));\n",
    "System.out.println();\n",
    "byte[] beforeBytes = (byte[])beforeOps.getValue(txnBlobBin);\n",
    "byte[] afterBytes = (byte[])afterOps.getValue(txnBlobBin);\n",
    "System.out.println(\"Before, the \" + txnBlobBin + \" was - \" + Arrays.toString(beforeBytes));\n",
    "System.out.println(\"  After, the \" + txnBlobBin + \" is - \" + Arrays.toString(afterBytes));\n",
    "System.out.println();\n",
    "System.out.println(\"Before, the \" + txnHLLBin + \" was - \" + beforeOps.getValue(txnHLLBin));\n",
    "System.out.println(\"  After, the \" + txnHLLBin + \" is - \" + afterOps.getValue(txnHLLBin));\n",
    "System.out.println();\n",
    "System.out.println(\"The \" + txnGeoBin + \" is - \" + afterOps.getValue(txnGeoBin));\n",
    "System.out.println();\n",
    "\n",
    "System.out.println(\"--The Record After the Operations–-\");\n",
    "System.out.println(afterOps);"
   ]
  },
  {
   "cell_type": "markdown",
   "id": "growing-virtue",
   "metadata": {},
   "source": [
    "## Use Write Policies To Replace Existence Checks\n",
    "\n",
    "Simple transactions require arbitrary logic. The main technique to add conditional logic to these transactions is to apply a **write policy**.\n",
    "\n",
    "Write operations use *policy* with the policy flags to indicate how to behave when data does or does not exist. For example, if executing a simple transaction containing multiple operations including one map operation that uses the conditional logic `if (bin doesn't have a value), then put a default value into the bin`, apply that one operation using a write policy using the flags: \n",
    "* CREATE_ONLY – Only apply the write if the data doesn't exist.\n",
    "* NO_FAIL – Do not throw an error upon failure.\n",
    "* PARTIAL – Allow other operations to succeed.\n",
    "\n",
    "The default write policy if data exists in a bin is to merge data, whenever possible.\n",
    "\n",
    "Each complex data type has its own write mode policy options. \n",
    "* For information on Bit Write Flags, go [here](https://www.aerospike.com/apidocs/java/com/aerospike/client/operation/BitWriteFlags.html).\n",
    "* For information on HyperLogLog Write Flags, go [here](https://www.aerospike.com/apidocs/java/com/aerospike/client/operation/HLLWriteFlags.html). \n",
    "* For information on List Write Flags, go [here](https://www.aerospike.com/apidocs/java/com/aerospike/client/cdt/ListWriteFlags.html).\n",
    "* For information on Map Write Flags, go [here](https://www.aerospike.com/apidocs/java/com/aerospike/client/cdt/MapWriteFlags.html).\n",
    "\n",
    "Now, insert a new Mapkey:Value pair only if the mapkey doesn't already exist."
   ]
  },
  {
   "cell_type": "code",
   "execution_count": 19,
   "id": "active-vertex",
   "metadata": {},
   "outputs": [
    {
     "name": "stdout",
     "output_type": "stream",
     "text": [
      "The map is - {2=61}\n",
      "\n"
     ]
    }
   ],
   "source": [
    "import com.aerospike.client.cdt.MapOrder;\n",
    "import com.aerospike.client.cdt.MapWriteFlags;\n",
    "\n",
    "Integer txnDefaultMapkey=2;\n",
    "Integer txnDefaultValue=1;\n",
    "\n",
    "MapPolicy txnMapPolicy = new MapPolicy(MapOrder.UNORDERED, MapWriteFlags.CREATE_ONLY | MapWriteFlags.NO_FAIL | MapWriteFlags.PARTIAL);\n",
    "\n",
    "Key key = new Key(txnNamespace, txnSet, theKey);\n",
    "Record mapFailRecord = client.operate(client.writePolicyDefault, key,\n",
    "        MapOperation.put(txnMapPolicy, txnMapBin, Value.get(txnDefaultMapkey), Value.get(txnDefaultValue))\n",
    "    );\n",
    "Record afterOps = client.get(client.writePolicyDefault, key);\n",
    "\n",
    "System.out.println(\"The \" + txnMapBin + \" is - \" + afterOps.getValue(txnMapBin));\n",
    "System.out.println();"
   ]
  },
  {
   "cell_type": "markdown",
   "id": "disciplinary-eight",
   "metadata": {},
   "source": [
    "## Use RMF or Record UDFs to Apply Other Conditional Logic\n",
    "\n",
    "If a process does requires conditional logic to check data values before writing, the common practice is to use a Read-Modify-Write pattern to check the data and write only if the generation counter is the same as when read.\n",
    "\n",
    "For more information about Read-Modify-Write, go [here].(https://www.aerospike.com/blog/developers-understanding-aerospike-transactions/)"
   ]
  },
  {
   "cell_type": "markdown",
   "id": "acoustic-discount",
   "metadata": {
    "heading_collapsed": true
   },
   "source": [
    "# Notebook Cleanup"
   ]
  },
  {
   "cell_type": "markdown",
   "id": "cardiac-citation",
   "metadata": {
    "hidden": true
   },
   "source": [
    "### Truncate the Set\n",
    "\n",
    "Truncate the set from the Aerospike Database."
   ]
  },
  {
   "cell_type": "code",
   "execution_count": 20,
   "id": "altered-luther",
   "metadata": {
    "hidden": true
   },
   "outputs": [
    {
     "name": "stdout",
     "output_type": "stream",
     "text": [
      "Set Truncated.\n"
     ]
    }
   ],
   "source": [
    "import com.aerospike.client.policy.InfoPolicy;\n",
    "InfoPolicy infoPolicy = new InfoPolicy();\n",
    "\n",
    "client.truncate(infoPolicy, txnNamespace, txnSet, null);\n",
    "System.out.println(\"Set Truncated.\");"
   ]
  },
  {
   "cell_type": "markdown",
   "id": "motivated-colors",
   "metadata": {
    "hidden": true
   },
   "source": [
    "### Close the Connection to Aerospike"
   ]
  },
  {
   "cell_type": "code",
   "execution_count": 21,
   "id": "animal-hayes",
   "metadata": {
    "hidden": true
   },
   "outputs": [
    {
     "name": "stdout",
     "output_type": "stream",
     "text": [
      "Server connection closed.\n"
     ]
    }
   ],
   "source": [
    "client.close();\n",
    "System.out.println(\"Server connection closed.\");"
   ]
  },
  {
   "cell_type": "markdown",
   "id": "vulnerable-vocabulary",
   "metadata": {},
   "source": [
    "# Takeaway – Record Transactions are Powerful\n",
    "\n",
    "Simple transactions are a tool for efficient atomic execution of multiple operations on one record. The ability to process many real time, multi-operation simple transactions at scale is a strength of the Aerospike platform. A little forethought into application reads and writes before coding results in higher performance applications."
   ]
  },
  {
   "cell_type": "markdown",
   "id": "conditional-affect",
   "metadata": {},
   "source": [
    "# What's Next?"
   ]
  },
  {
   "cell_type": "markdown",
   "id": "speaking-humor",
   "metadata": {},
   "source": [
    "## Next Steps\n",
    "\n",
    "Have questions? Don't hesitate to reach out if you have additional questions about executing app transactions at https://discuss.aerospike.com/.\n",
    "\n",
    "Want to check out other Java notebooks?\n",
    "* [Queries and UDFs](query_udf.ipynb) \n",
    "* [Working with Lists](java-working_with_lists.ipynb)\n",
    "* [Modeling using Lists](java-modeling_using_lists.ipynb)\n",
    "* [Working with Maps](java-working_with_maps.ipynb)\n",
    "\n",
    "\n",
    "Are you running this from Binder? [Download the Aerospike Notebook Repo](https://github.com/aerospike/aerospike-dev-notebooks.docker) and work with Aerospike Database and Jupyter locally using a Docker container."
   ]
  },
  {
   "cell_type": "markdown",
   "id": "fundamental-spanking",
   "metadata": {},
   "source": [
    "## Additional Resources\n",
    "\n",
    "Simple transactions are one of Aerospike's tools to work with data at scale. Other tools include Queries and UDFs, Batches, and Scans.\n",
    "\n",
    "* Need more server-side transaction processing? Learn about [UDFs](https://www.aerospike.com/docs/guide/udf.html). \n",
    "* Want to pull down all records within a data set? Look into [Scans](https://www.aerospike.com/docs/guide/scan.html). \n",
    "* Looking to download a lot of records at one time? See [Batches](https://www.aerospike.com/docs/guide/batch.html).\n",
    "* Want to get started with Java? [Download](https://www.aerospike.com/download/client/) or [install](https://github.com/aerospike/aerospike-client-java) the Aerospike Java Client. "
   ]
  }
 ],
 "metadata": {
  "kernelspec": {
   "display_name": "Java",
   "language": "java",
   "name": "java"
  },
  "language_info": {
   "codemirror_mode": "java",
   "file_extension": ".jshell",
   "mimetype": "text/x-java-source",
   "name": "Java",
   "pygments_lexer": "java",
   "version": "11.0.8+10-LTS"
  },
  "toc": {
   "base_numbering": 1,
   "nav_menu": {},
   "number_sections": true,
   "sideBar": true,
   "skip_h1_title": false,
   "title_cell": "Table of Contents",
   "title_sidebar": "Contents",
   "toc_cell": false,
   "toc_position": {},
   "toc_section_display": true,
   "toc_window_display": true
  }
 },
 "nbformat": 4,
 "nbformat_minor": 5
}
