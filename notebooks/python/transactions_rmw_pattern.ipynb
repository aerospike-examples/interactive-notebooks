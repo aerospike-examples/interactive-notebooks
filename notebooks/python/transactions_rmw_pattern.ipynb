{
 "cells": [
  {
   "cell_type": "markdown",
   "metadata": {
    "toc": true
   },
   "source": [
    "<h1>Table of Contents<span class=\"tocSkip\"></span></h1>\n",
    "<div class=\"toc\"><ul class=\"toc-item\"><li><span><a href=\"#Implementing-Read-Write-Transactions-with-R-M-W-Pattern\" data-toc-modified-id=\"Implementing-Read-Write-Transactions-with-R-M-W-Pattern-1\"><span class=\"toc-item-num\">1&nbsp;&nbsp;</span>Implementing Read-Write Transactions with R-M-W Pattern</a></span><ul class=\"toc-item\"><li><span><a href=\"#Introduction\" data-toc-modified-id=\"Introduction-1.1\"><span class=\"toc-item-num\">1.1&nbsp;&nbsp;</span>Introduction</a></span></li><li><span><a href=\"#Prerequisites\" data-toc-modified-id=\"Prerequisites-1.2\"><span class=\"toc-item-num\">1.2&nbsp;&nbsp;</span>Prerequisites</a></span></li><li><span><a href=\"#Initialization\" data-toc-modified-id=\"Initialization-1.3\"><span class=\"toc-item-num\">1.3&nbsp;&nbsp;</span>Initialization</a></span><ul class=\"toc-item\"><li><span><a href=\"#Ensure-database-is-running\" data-toc-modified-id=\"Ensure-database-is-running-1.3.1\"><span class=\"toc-item-num\">1.3.1&nbsp;&nbsp;</span>Ensure database is running</a></span></li><li><span><a href=\"#Connect-to-database.\" data-toc-modified-id=\"Connect-to-database.-1.3.2\"><span class=\"toc-item-num\">1.3.2&nbsp;&nbsp;</span>Connect to database.</a></span></li><li><span><a href=\"#Populate-database-with-test-data.\" data-toc-modified-id=\"Populate-database-with-test-data.-1.3.3\"><span class=\"toc-item-num\">1.3.3&nbsp;&nbsp;</span>Populate database with test data.</a></span></li></ul></li></ul></li><li><span><a href=\"#The-Problem-of-Lost-Writes\" data-toc-modified-id=\"The-Problem-of-Lost-Writes-2\"><span class=\"toc-item-num\">2&nbsp;&nbsp;</span>The Problem of Lost Writes</a></span><ul class=\"toc-item\"><li><span><a href=\"#Test-Framework\" data-toc-modified-id=\"Test-Framework-2.1\"><span class=\"toc-item-num\">2.1&nbsp;&nbsp;</span>Test Framework</a></span></li><li><span><a href=\"#Simple-RMW-Function\" data-toc-modified-id=\"Simple-RMW-Function-2.2\"><span class=\"toc-item-num\">2.2&nbsp;&nbsp;</span>Simple RMW Function</a></span></li><li><span><a href=\"#Test-Results\" data-toc-modified-id=\"Test-Results-2.3\"><span class=\"toc-item-num\">2.3&nbsp;&nbsp;</span>Test Results</a></span></li></ul></li><li><span><a href=\"#Using-Generation-Check\" data-toc-modified-id=\"Using-Generation-Check-3\"><span class=\"toc-item-num\">3&nbsp;&nbsp;</span>Using Generation Check</a></span><ul class=\"toc-item\"><li><span><a href=\"#RMW-Function-with-Version-Check-and-Retries\" data-toc-modified-id=\"RMW-Function-with-Version-Check-and-Retries-3.1\"><span class=\"toc-item-num\">3.1&nbsp;&nbsp;</span>RMW Function with Version Check and Retries</a></span></li><li><span><a href=\"#Test-Results\" data-toc-modified-id=\"Test-Results-3.2\"><span class=\"toc-item-num\">3.2&nbsp;&nbsp;</span>Test Results</a></span></li></ul></li><li><span><a href=\"#Takeaways\" data-toc-modified-id=\"Takeaways-4\"><span class=\"toc-item-num\">4&nbsp;&nbsp;</span>Takeaways</a></span></li><li><span><a href=\"#Clean-up\" data-toc-modified-id=\"Clean-up-5\"><span class=\"toc-item-num\">5&nbsp;&nbsp;</span>Clean up</a></span></li><li><span><a href=\"#Further-Exploration-and-Resources\" data-toc-modified-id=\"Further-Exploration-and-Resources-6\"><span class=\"toc-item-num\">6&nbsp;&nbsp;</span>Further Exploration and Resources</a></span><ul class=\"toc-item\"><li><span><a href=\"#Next-steps\" data-toc-modified-id=\"Next-steps-6.1\"><span class=\"toc-item-num\">6.1&nbsp;&nbsp;</span>Next steps</a></span></li></ul></li></ul></div>"
   ]
  },
  {
   "cell_type": "markdown",
   "metadata": {},
   "source": [
    "# Implementing Read-Write Transactions with R-M-W Pattern \n",
    "This tutorial explains how to use the Read-Modify-Write pattern in order to ensure atomicity and isolation for read-write single-record transactions. \n",
    "\n",
    "This notebook requires Aerospike datbase running on localhost and that python and the Aerospike python client have been installed (`pip install aerospike`). Visit [Aerospike notebooks repo](https://github.com/aerospike-examples/interactive-notebooks) for additional details and the docker container."
   ]
  },
  {
   "cell_type": "markdown",
   "metadata": {},
   "source": [
    "## Introduction\n",
    "In Aerospike, the transactional boundaries are \"single request, single record\". While multiple operations may be specified in a single request on a single record, each such operation can involve a single bin and only certain write operations are allowed. Therefore, neither updates involving multiple bins (e.g, \"a=a+b\") nor general logic (e.g., \"concatenate alternate letters and append\") are possible as server-side operations. Of course, UDFs allow complex logic in a transactional update of a single record, however they are not suitable for all situations for various reasons such as performance and ease. Therefore most updates entail the R-M-W pattern or Reading the record, Modifying bins on the client side, and then Writing the record updates back to the server. \n",
    "\n",
    "The tutorial first demonstrates how read-write operations can result in lost writes in a concurrent multi-client environment. \n",
    "\n",
    "Then we show how to specify conditional writes with version check to address the problem by disallowing intereaved read-write and thus protecting against lost writes."
   ]
  },
  {
   "cell_type": "markdown",
   "metadata": {},
   "source": [
    "## Prerequisites\n",
    "This tutorial assumes familiarity with the following topics:\n",
    "\n",
    "[Provide topics and links. For example:]\n",
    "- [Hello World](hello_world.ipynb)\n",
    "- [Aerospike Basic Operations](basic_operations.ipynb)"
   ]
  },
  {
   "cell_type": "markdown",
   "metadata": {},
   "source": [
    "## Initialization"
   ]
  },
  {
   "cell_type": "markdown",
   "metadata": {},
   "source": [
    "### Ensure database is running\n",
    "This notebook requires that Aerospike datbase is running. \n",
    "[Include the right code cell for Java or Python from the two cells below.] "
   ]
  },
  {
   "cell_type": "code",
   "execution_count": 1,
   "metadata": {
    "ExecuteTime": {
     "end_time": "2020-12-29T20:48:49.695739Z",
     "start_time": "2020-12-29T20:48:49.447020Z"
    }
   },
   "outputs": [
    {
     "name": "stdout",
     "output_type": "stream",
     "text": [
      "Aerospike database is running!\r\n"
     ]
    }
   ],
   "source": [
    "!asd >& /dev/null\n",
    "!pgrep -x asd >/dev/null && echo \"Aerospike database is running!\" || echo \"**Aerospike database is not running!**\""
   ]
  },
  {
   "cell_type": "markdown",
   "metadata": {},
   "source": [
    "### Connect to database."
   ]
  },
  {
   "cell_type": "code",
   "execution_count": 3,
   "metadata": {
    "ExecuteTime": {
     "end_time": "2020-12-29T20:48:51.190060Z",
     "start_time": "2020-12-29T20:48:51.110597Z"
    }
   },
   "outputs": [
    {
     "name": "stdout",
     "output_type": "stream",
     "text": [
      "Client successfully connected to the database.\n"
     ]
    }
   ],
   "source": [
    "# import the modules\n",
    "import sys\n",
    "import aerospike\n",
    "\n",
    "# Configure the client\n",
    "config = {\n",
    "  'hosts': [ ('127.0.0.1', 3000) ],\n",
    "  'policy' : {'key': aerospike.POLICY_KEY_SEND}\n",
    "}\n",
    "\n",
    "# Create a client and connect it to the cluster\n",
    "try:\n",
    "  client = aerospike.client(config).connect()\n",
    "except:\n",
    "  print(\"failed to connect to the cluster with\", config['hosts'])\n",
    "  sys.exit(1)\n",
    "print('Client successfully connected to the database.')"
   ]
  },
  {
   "cell_type": "markdown",
   "metadata": {},
   "source": [
    "### Populate database with test data.\n",
    "We create one record with an integer bin \"gen-times-2\" (the names will become clear below), initialized to 1."
   ]
  },
  {
   "cell_type": "code",
   "execution_count": 4,
   "metadata": {
    "ExecuteTime": {
     "end_time": "2020-12-29T20:48:52.195181Z",
     "start_time": "2020-12-29T20:48:52.189787Z"
    }
   },
   "outputs": [
    {
     "name": "stdout",
     "output_type": "stream",
     "text": [
      "Test data populated.\n"
     ]
    }
   ],
   "source": [
    "namespace = 'test'\n",
    "tutorial_set = 'rmw-tutorial-set'\n",
    "user_key = 'id-1'\n",
    "# Records are addressable via a tuple of (namespace, set, user_key)\n",
    "rec_key = (namespace, tutorial_set, user_key)\n",
    "rmw_bin = 'gen-times-2'\n",
    "try:\n",
    "  # Create the record\n",
    "  client.put(rec_key, {rmw_bin: 1})\n",
    "except Exception as e:\n",
    "  print(\"error: {0}\".format(e), file=sys.stderr)\n",
    "\n",
    "print('Test data populated.')"
   ]
  },
  {
   "cell_type": "markdown",
   "metadata": {},
   "source": [
    "# The Problem of Lost Writes\n",
    "In a concurrent setting, multiple clients may be performaing Read-Modify-Write on the same record in a way that get in each other's way. Since various R-M-W transactions can interleave, a transaction can be lost, if another client updates the record without reading the transaction's update.\n",
    "\n",
    "To demonstrate this, we make use of a record's \"generation\" or version, that is available as the record metadata, and is automatically incremented on each successful update of the record.\n",
    "\n",
    "The integer bin “gen-times-2” holds the value that is 2 times the value of the current generation of the record. A client first reads the current generation of the record, and then updates the bin value 2 times that value.\n",
    "\n",
    "In the case of a single client, there are no issues in maintaining the semantics of the bin.  However when there are multiple clients, the interleaving of reads and writes of different transactions can violate the semantics. By updating the bin using an older generation value, it may not be 2 times the current generation, which is the constraint that we want to preserve.\n",
    "\n",
    "First, we will show how transaction writes are lost in a simple concurrent case by observing whether the relationship between record's current generation and the bin value is maintained. Then we will show how the problem is solved using a conditional write with version check.\n"
   ]
  },
  {
   "cell_type": "markdown",
   "metadata": {},
   "source": [
    "## Test Framework\n",
    "We spawn multiple (num_threads) threads to simulate concurrent access. Each thread repeatedly (num_txns) does the following:\n",
    "- waits for a random duration (with average of txn_wait_ms) \n",
    "- executes a passed-in R-M-W function that returns the failure type (string, null if success).\n",
    "\n",
    "At the end the thread prints out the aggregate counts for each error type. In aggregate, they signify the likelihood of a read-write transaction failing."
   ]
  },
  {
   "cell_type": "code",
   "execution_count": 9,
   "metadata": {},
   "outputs": [],
   "source": [
    "import threading\n",
    "import time\n",
    "import random\n",
    "\n",
    "num_txns = 10\n",
    "txn_wait_ms = 500\n",
    "\n",
    "def thread_fn(thread_id, rmw_fn):\n",
    "    random.seed(thread_id)\n",
    "    lost_writes_count = 0\n",
    "    failures = {}\n",
    "    for i in range(num_txns):\n",
    "        failure = rmw_fn()\n",
    "        if failure:\n",
    "            if not failure in failures:\n",
    "                failures[failure] = 1\n",
    "            else: \n",
    "                failures[failure] += 1  \n",
    "    print('\\tThead {0} failures: {1}'.format(thread_id, failures))\n",
    "    return\n",
    "       \n",
    "    \n",
    "def run_test(num_threads, rmw_fn):\n",
    "    threads = list()\n",
    "    print('{0} threads, {1} transcations per thread:'.format(num_threads, num_txns))\n",
    "    for thread_index in range(num_threads):\n",
    "        thread = threading.Thread(target=thread_fn, args=(thread_index, rmw_fn))\n",
    "        threads.append(thread)\n",
    "        thread.start()\n",
    "    for thread in threads:\n",
    "        thread.join()\n",
    "    return"
   ]
  },
  {
   "cell_type": "markdown",
   "metadata": {},
   "source": [
    "## Simple RMW Function\n",
    "Next we implement a simple RMW function simple_rmw_fn to pass into the above framework. The function: \n",
    "- Reads the record.\n",
    "- Computes new value of gen_times_2 (= 2 * read generation). Then waits for a random duration, with average of write_wait_ms average to simulate the application computation time between read and write.\n",
    "- Writes the new bin value. In the same (multi-op) request, reads back the record for the record's new generation value.\n",
    "- Returns \"lost writes\" if the updated value of gen_times_2/2 is smaller than the new gen. If they are the same, it returns None."
   ]
  },
  {
   "cell_type": "code",
   "execution_count": 10,
   "metadata": {},
   "outputs": [],
   "source": [
    "import aerospike_helpers.operations.operations as op_helpers\n",
    "\n",
    "write_wait_ms = 50\n",
    "\n",
    "def rmw_simple():\n",
    "    #read\n",
    "    _, meta, bins = client.get(rec_key)\n",
    "    # wait before write to simulate computation time\n",
    "    time.sleep(random.uniform(0,2*write_wait_ms/1000.0))\n",
    "    # modify \n",
    "    read_gen = meta['gen']\n",
    "    new_rmw_bin_value = 2*(read_gen+1)\n",
    "    # write and read back bin_inc to compare\n",
    "    ops = [op_helpers.write(rmw_bin, new_rmw_bin_value),\n",
    "          op_helpers.read(rmw_bin)]\n",
    "    try:\n",
    "        _, meta, bins = client.operate(rec_key, ops)\n",
    "    except Exception as e:\n",
    "        print(\"error: {0}\".format(e), file=sys.stderr)\n",
    "        exit(-1)\n",
    "    # compare new_rmw_bin_value//2 and new gen; if different return 'lost writes'\n",
    "    new_gen = meta['gen']\n",
    "    if new_rmw_bin_value//2 != new_gen:  \n",
    "        #print('gen: {0}, bin: {1}, lost: {2}'.format(new_gen, new_rmw_bin_value//2, new_gen-new_rmw_bin_value//2))\n",
    "        return 'lost writes'\n",
    "    return None"
   ]
  },
  {
   "cell_type": "markdown",
   "metadata": {},
   "source": [
    "## Test Results\n",
    "For various values of concurrency (num_threads), we can see that with greater concurrent updates, a larger percentage of read-write transactions are lost, meaning greater likelihood of the semantics of the gen_times_2 bin not being preserved."
   ]
  },
  {
   "cell_type": "code",
   "execution_count": 11,
   "metadata": {},
   "outputs": [
    {
     "name": "stdout",
     "output_type": "stream",
     "text": [
      "1 threads, 10 transcations per thread:\n",
      "\tThead 0 failures: {}\n",
      "2 threads, 10 transcations per thread:\n",
      "\tThead 0 failures: {'lost writes': 5}\n",
      "\tThead 1 failures: {'lost writes': 6}\n",
      "3 threads, 10 transcations per thread:\n",
      "\tThead 0 failures: {'lost writes': 4}\n",
      "\tThead 1 failures: {'lost writes': 8}\n",
      "\tThead 2 failures: {'lost writes': 7}\n",
      "4 threads, 10 transcations per thread:\n",
      "\tThead 0 failures: {'lost writes': 9}\n",
      "\tThead 3 failures: {'lost writes': 8}\n",
      "\tThead 1 failures: {'lost writes': 8}\n",
      "\tThead 2 failures: {'lost writes': 8}\n"
     ]
    }
   ],
   "source": [
    "run_test(num_threads=1, rmw_fn=rmw_simple)\n",
    "run_test(num_threads=2, rmw_fn=rmw_simple)\n",
    "run_test(num_threads=3, rmw_fn=rmw_simple)\n",
    "run_test(num_threads=4, rmw_fn=rmw_simple)"
   ]
  },
  {
   "cell_type": "markdown",
   "metadata": {},
   "source": [
    "# Using Generation Check\n",
    "To solve the problem of lost writes, the simple R-M-W is modified with how the Write is done: by making it conditional on the record not having been modified since the Read. It is a \"check-and-set (CAS)\" like operation that succeeds if the record generation (version) is still the same as at the time of Read. Otherwise it fails, and the client must retry the whole R-M-W pattern. The syntax and usage is shown in the code below."
   ]
  },
  {
   "cell_type": "markdown",
   "metadata": {},
   "source": [
    "## RMW Function with Version Check and Retries\n",
    "In the rmw_with_gen_check function below, a failed read-write due to generation mismatch is retried for max_retries attempts or until the write is successful. Each retry is attempted after a exponential backoff wait of (retry_number ** 2) * retry_wait_ms.\n",
    "\n",
    "A write can still fail after max_retries attempts, and the client can suitably handle it. However no writes are overwritten or lost, and the intended semantics of the gen-times-2 bin is always preserved.\n",
    "\n",
    "We perform the same concurrent test with the version check at Write. We expect no interleaved_writes reported in any thread."
   ]
  },
  {
   "cell_type": "code",
   "execution_count": 12,
   "metadata": {},
   "outputs": [],
   "source": [
    "from aerospike_helpers.operations import operations as op_helpers\n",
    "from aerospike import exception as ex\n",
    "\n",
    "max_retries = 3\n",
    "retry_wait_ms = 20\n",
    "\n",
    "def rmw_with_gen_check():\n",
    "    retryRMWCount = 0\n",
    "    done = False\n",
    "    while (not done):\n",
    "        #read\n",
    "        _, meta, bins = client.get(rec_key)\n",
    "        # wait before write to simulate computation time\n",
    "        time.sleep(random.uniform(0,2*write_wait_ms/1000.0))\n",
    "        # modify \n",
    "        read_gen = meta['gen']\n",
    "        new_rmw_bin_value = 2*(read_gen+1)\n",
    "        # write and read back bin_inc to compare\n",
    "        ops = [op_helpers.write(rmw_bin, new_rmw_bin_value),\n",
    "              op_helpers.read(rmw_bin)]\n",
    "        write_policy = { 'gen': aerospike.POLICY_GEN_EQ }\n",
    "        try:\n",
    "            _, meta, bins = client.operate(rec_key, ops, meta={'gen': read_gen}, policy=write_policy)\n",
    "        except ex.RecordGenerationError as e:\n",
    "            if retryRMWCount < max_retries:\n",
    "                retryRMWCount += 1\n",
    "                time.sleep((2**retryRMWCount)*retry_wait_ms/1000.0)       \n",
    "            else:\n",
    "                return 'max retries exceeded' \n",
    "        except Exception as e:\n",
    "            print(\"error: {0}\".format(e), file=sys.stderr)\n",
    "            exit(-1)\n",
    "        else:\n",
    "            done = True        \n",
    "    # compare new_rmw_bin_value//2 and new gen; if different \n",
    "    new_gen = meta['gen']\n",
    "    if new_rmw_bin_value//2 != new_gen:  \n",
    "        return 'lost writes'\n",
    "    return None"
   ]
  },
  {
   "cell_type": "markdown",
   "metadata": {},
   "source": [
    "## Test Results\n",
    "Let's execute for various levels of concurrency and see the results. We expect to see no lost writes. Even when max-retries are exceeded, transaction and database integrity is preserved."
   ]
  },
  {
   "cell_type": "code",
   "execution_count": 13,
   "metadata": {},
   "outputs": [
    {
     "name": "stdout",
     "output_type": "stream",
     "text": [
      "2 threads, 10 transcations per thread:\n",
      "\tThead 1 failures: {}\n",
      "\tThead 0 failures: {}\n",
      "3 threads, 10 transcations per thread:\n",
      "\tThead 1 failures: {}\n",
      "\tThead 0 failures: {}\n",
      "\tThead 2 failures: {}\n",
      "4 threads, 10 transcations per thread:\n",
      "\tThead 0 failures: {}\n",
      "\tThead 3 failures: {'max retries exceeded': 1}\n",
      "\tThead 2 failures: {'max retries exceeded': 1}\n",
      "\tThead 1 failures: {'max retries exceeded': 2}\n"
     ]
    }
   ],
   "source": [
    "run_test(num_threads=2, rmw_fn=rmw_with_gen_check)\n",
    "run_test(num_threads=3, rmw_fn=rmw_with_gen_check)\n",
    "run_test(num_threads=4, rmw_fn=rmw_with_gen_check)"
   ]
  },
  {
   "cell_type": "markdown",
   "metadata": {},
   "source": [
    "# Takeaways\n",
    "In the tutorial we showed:\n",
    "- the need for read-write transactions in Aerospike to use the R-M-W pattern \n",
    "- how writes can be overwritten and lost in a concurrent environment if performed simply\n",
    "- how the developer can ensure atomicity and isolation of a read-write transaction by using version check logic and syntax."
   ]
  },
  {
   "cell_type": "markdown",
   "metadata": {},
   "source": [
    "# Clean up\n",
    "Remove data and close connection."
   ]
  },
  {
   "cell_type": "code",
   "execution_count": 14,
   "metadata": {
    "ExecuteTime": {
     "end_time": "2020-12-29T20:49:21.100931Z",
     "start_time": "2020-12-29T20:49:21.095318Z"
    }
   },
   "outputs": [
    {
     "name": "stdout",
     "output_type": "stream",
     "text": [
      "Removed tutorial data. Connection closed.\n"
     ]
    }
   ],
   "source": [
    "client.truncate(namespace, tutorial_set, 0)\n",
    "# Close the connection to the Aerospike cluster\n",
    "client.close()\n",
    "print('Removed tutorial data. Connection closed.')"
   ]
  },
  {
   "cell_type": "markdown",
   "metadata": {},
   "source": [
    "# Further Exploration and Resources\n",
    "For further exploration of transactions support in Aerospike, check out the following resources:\n",
    "\n",
    "- Blog posts\n",
    "    - [Developers: Understanding Aerospike Transactions](https://www.aerospike.com/blog/developers-understanding-aerospike-transactions/)\n",
    "    - [Twelve Do's of Consistency in Aerospike](https://www.aerospike.com/blog/twelve-dos-of-consistency-in-aerospike/)\n",
    "- Video\n",
    "    - [Strong Consistency in Databases. What does it actually guarantee?](https://www.aerospike.com/resources/videos/strong-consistency-in-databases-what-does-it-actually-guarantee/)"
   ]
  },
  {
   "cell_type": "markdown",
   "metadata": {},
   "source": [
    "## Next steps\n",
    "\n",
    "Visit [Aerospike notebooks repo](https://github.com/aerospike-examples/interactive-notebooks) to run additional Aerospike notebooks. To run a different notebook, download the notebook from the repo to your local machine, and then click on File->Open, and select Upload."
   ]
  }
 ],
 "metadata": {
  "kernelspec": {
   "display_name": "Python 3",
   "language": "python",
   "name": "python3"
  },
  "language_info": {
   "codemirror_mode": {
    "name": "ipython",
    "version": 3
   },
   "file_extension": ".py",
   "mimetype": "text/x-python",
   "name": "python",
   "nbconvert_exporter": "python",
   "pygments_lexer": "ipython3",
   "version": "3.8.6"
  },
  "toc": {
   "base_numbering": 1,
   "nav_menu": {},
   "number_sections": true,
   "sideBar": true,
   "skip_h1_title": false,
   "title_cell": "Table of Contents",
   "title_sidebar": "Contents",
   "toc_cell": true,
   "toc_position": {},
   "toc_section_display": true,
   "toc_window_display": false
  }
 },
 "nbformat": 4,
 "nbformat_minor": 4
}
