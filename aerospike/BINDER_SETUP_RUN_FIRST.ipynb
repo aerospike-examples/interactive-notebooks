{
 "cells": [
  {
   "cell_type": "markdown",
   "metadata": {},
   "source": [
    "# This notebook sets some prereqs if running in dockerized environment such as https://mybinder.org\n",
    "\n",
    "*** Important: This notebook will auto close if unused for 10 minutes. If that occurs reload from the initial url. ***\n",
    "\n"
   ]
  },
  {
   "cell_type": "markdown",
   "metadata": {},
   "source": [
    "## Feature key must be set (make sure this is not shared or placed in a public place) and aerospike database server started."
   ]
  },
  {
   "cell_type": "code",
   "execution_count": null,
   "metadata": {},
   "outputs": [],
   "source": [
    "import os\n",
    "import subprocess\n",
    "import pprint\n",
    "import time\n",
    "features = \"\"\"\n",
    "COPY FEATURE FILE HERE\n",
    "\"\"\"\n",
    "\n",
    "features_file = open(\"/etc/aerospike/features.conf\", \"w\")\n",
    "n = features_file.write(features)\n",
    "features_file.close()\n",
    "\n",
    "\n",
    "os.system(\"/entrypoint.sh\")\n",
    "\n",
    "pp = pprint.PrettyPrinter(indent=4)\n",
    "\n",
    "pp.pprint(subprocess.run([\"asd\"], stdout=subprocess.PIPE, stderr=subprocess.STDOUT).stdout.splitlines())\n",
    "\n",
    "pp.pprint(subprocess.run([\"whoami\"], stdout=subprocess.PIPE).stdout.splitlines())\n",
    "\n",
    "time.sleep(5) # may not be long enough for server to finish starting. Check the logs in the next step."
   ]
  },
  {
   "cell_type": "markdown",
   "metadata": {},
   "source": [
    "### Wait until aerospike has started correctly by checking the logs\n",
    "\n",
    "Note: If you need to check the aerospike logs at any time, rerun this."
   ]
  },
  {
   "cell_type": "code",
   "execution_count": null,
   "metadata": {},
   "outputs": [],
   "source": [
    "\n",
    "pp.pprint(subprocess.run([\"cat\", \"/tmp/aerolog\"], stdout=subprocess.PIPE, stderr=subprocess.STDOUT).stdout.splitlines())"
   ]
  },
  {
   "cell_type": "markdown",
   "metadata": {},
   "source": [
    "## Execute basic python example to ensure database is connected"
   ]
  },
  {
   "cell_type": "code",
   "execution_count": null,
   "metadata": {},
   "outputs": [],
   "source": [
    "\n",
    "\n",
    "# import the module\n",
    "from __future__ import print_function\n",
    "import aerospike\n",
    "\n",
    "# Configure the client\n",
    "config = {\n",
    "  'hosts': [ ('127.0.0.1', 3000) ]\n",
    "}\n",
    "\n",
    "# Create a client and connect it to the cluster\n",
    "try:\n",
    "  client = aerospike.client(config).connect()\n",
    "except:\n",
    "  import sys\n",
    "  print(\"failed to connect to the cluster with\", config['hosts'])\n",
    "  sys.exit(1)\n",
    "\n",
    "# Records are addressable via a tuple of (namespace, set, key)\n",
    "key = ('test', 'demo', 'foo')\n",
    "\n",
    "try:\n",
    "  # Write a record\n",
    "  client.put(key, {\n",
    "    'name': 'John Doe',\n",
    "    'age': 32\n",
    "  })\n",
    "except Exception as e:\n",
    "  import sys\n",
    "  print(\"error: {0}\".format(e), file=sys.stderr)\n",
    "\n",
    "# Read a record\n",
    "(key, metadata, record) = client.get(key)\n",
    "print(record)\n",
    "\n",
    "# Close the connection to the Aerospike cluster\n",
    "client.close()"
   ]
  }
 ],
 "metadata": {
  "kernelspec": {
   "display_name": "Python 3",
   "language": "python",
   "name": "python3"
  },
  "language_info": {
   "codemirror_mode": {
    "name": "ipython",
    "version": 3
   },
   "file_extension": ".py",
   "mimetype": "text/x-python",
   "name": "python",
   "nbconvert_exporter": "python",
   "pygments_lexer": "ipython3",
   "version": "3.8.2-final"
  }
 },
 "nbformat": 4,
 "nbformat_minor": 4
}