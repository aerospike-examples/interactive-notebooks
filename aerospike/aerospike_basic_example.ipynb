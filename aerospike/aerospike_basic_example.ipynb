{
 "nbformat": 4,
 "nbformat_minor": 2,
 "metadata": {
  "language_info": {
   "name": "python",
   "codemirror_mode": {
    "name": "ipython",
    "version": 3
   },
   "version": "3.7.9-final"
  },
  "orig_nbformat": 2,
  "file_extension": ".py",
  "mimetype": "text/x-python",
  "name": "python",
  "npconvert_exporter": "python",
  "pygments_lexer": "ipython3",
  "version": 3,
  "kernelspec": {
   "name": "python37964bit728b6d8a91f74e8c9f0db525f58accf3",
   "display_name": "Python 3.7.9 64-bit"
  }
 },
 "cells": [
  {
   "cell_type": "markdown",
   "execution_count": null,
   "metadata": {},
   "outputs": [],
   "source": [
    "# Aerospike hello world\n",
    "\n",
    "This is an example of a python script which can be run against the Aerospike DB. It assumes Aerospike is running on localhost and that python and the Aerospike python client have been installed (`pip install aerospike`)"
   ]
  },
  {
   "cell_type": "code",
   "execution_count": null,
   "metadata": {},
   "outputs": [],
   "source": [
    "# import the module\n",
    "from __future__ import print_function\n",
    "import aerospike\n",
    "\n",
    "# Configure the client\n",
    "config = {\n",
    "  'hosts': [ ('127.0.0.1', 3000) ]\n",
    "}\n",
    "\n",
    "# Create a client and connect it to the cluster\n",
    "try:\n",
    "  client = aerospike.client(config).connect()\n",
    "except:\n",
    "  import sys\n",
    "  print(\"failed to connect to the cluster with\", config['hosts'])\n",
    "  sys.exit(1)\n",
    "\n",
    "# Records are addressable via a tuple of (namespace, set, key)\n",
    "key = ('test', 'demo', 'foo')\n",
    "\n",
    "try:\n",
    "  # Write a record\n",
    "  client.put(key, {\n",
    "    'name': 'John Doe',\n",
    "    'age': 32\n",
    "  })\n",
    "except Exception as e:\n",
    "  import sys\n",
    "  print(\"error: {0}\".format(e), file=sys.stderr)\n",
    "\n",
    "# Read a record\n",
    "(key, metadata, record) = client.get(key)\n",
    "print(record)\n",
    "\n",
    "# Close the connection to the Aerospike cluster\n",
    "client.close()"
   ]
  }
 ]
}