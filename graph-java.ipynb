{
 "cells": [
  {
   "attachments": {},
   "cell_type": "markdown",
   "id": "61f6a6ff",
   "metadata": {},
   "source": [
    "### Load graph data\n",
    "\n",
    "I'm sure there is a way to do this in the java code, but I'm too tired to figure it out right now. For now, just launch a terminal and run the following:\n",
    "```bash\n",
    "/opt/gremlin-console/bin/gremlin.sh\n",
    "```\n",
    "to connect to the graph service, at the Gremlin console prompt enter:\n",
    "```bash\n",
    "g = traversal().withRemote(DriverRemoteConnection.using(\"127.0.0.1\", 8182, \"g\"));\n",
    "```\n",
    "then load the data with:\n",
    "```bash\n",
    "g.io(\"/opt/aerospike-firefly/air-routes-small.graphml\").with(IO.reader, IO.graphml).read();\n",
    "```"
   ]
  },
  {
   "attachments": {},
   "cell_type": "markdown",
   "id": "32bdfd43-79f3-4cb9-bf7f-e094eaeae1b0",
   "metadata": {},
   "source": [
    "### Jupyter setup for Java"
   ]
  },
  {
   "cell_type": "code",
   "execution_count": null,
   "id": "37e33037-724c-4bfa-81c5-c3271afb43d6",
   "metadata": {
    "vscode": {
     "languageId": "java"
    }
   },
   "outputs": [],
   "source": [
    "import io.github.spencerpark.ijava.IJava;\n",
    "import io.github.spencerpark.jupyter.kernel.magic.common.Shell;\n",
    "\n",
    "IJava.getKernelInstance().getMagics().registerMagics(Shell.class);"
   ]
  },
  {
   "attachments": {},
   "cell_type": "markdown",
   "id": "46fa7e94-73d0-460b-ab97-fc0b0039db72",
   "metadata": {},
   "source": [
    "### Add dependencies to the `pom.xml`"
   ]
  },
  {
   "cell_type": "code",
   "execution_count": null,
   "id": "784ae4c2-2da5-4c4c-813f-4c62aa0e8e17",
   "metadata": {
    "vscode": {
     "languageId": "java"
    }
   },
   "outputs": [],
   "source": [
    "%%loadFromPOM\n",
    "<dependencies>\n",
    "    <dependency>\n",
    "        <groupId>org.apache.tinkerpop</groupId>\n",
    "        <artifactId>gremlin-core</artifactId>\n",
    "        <version>3.6.4</version>\n",
    "    </dependency>\n",
    "    <dependency>\n",
    "        <groupId>org.apache.tinkerpop</groupId>\n",
    "        <artifactId>gremlin-driver</artifactId>\n",
    "        <version>3.6.4</version>\n",
    "    </dependency>\n",
    "    <dependency>\n",
    "        <groupId>org.slf4j</groupId>\n",
    "        <artifactId>slf4j-api</artifactId>\n",
    "        <version>2.0.7</version>\n",
    "    </dependency>\n",
    "</dependencies>"
   ]
  },
  {
   "attachments": {},
   "cell_type": "markdown",
   "id": "16e01b42-4896-4580-8eab-615fbf82609b",
   "metadata": {},
   "source": [
    "### Import dependencies"
   ]
  },
  {
   "cell_type": "code",
   "execution_count": null,
   "id": "b1e2cb06-df8b-4449-8125-9117a240edc0",
   "metadata": {
    "vscode": {
     "languageId": "java"
    }
   },
   "outputs": [],
   "source": [
    "import org.apache.tinkerpop.gremlin.driver.Cluster;\n",
    "import org.apache.tinkerpop.gremlin.driver.remote.DriverRemoteConnection;\n",
    "import org.apache.tinkerpop.gremlin.process.traversal.IO; \n",
    "import org.apache.tinkerpop.gremlin.process.traversal.dsl.graph.GraphTraversalSource;\n",
    "import org.apache.tinkerpop.gremlin.process.traversal.dsl.graph.__;\n",
    " \n",
    "import java.util.Map;\n",
    "import static org.apache.tinkerpop.gremlin.process.traversal.AnonymousTraversalSource.traversal;\n",
    "\n",
    "System.out.println(\"Imports complete.\");"
   ]
  },
  {
   "attachments": {},
   "cell_type": "markdown",
   "id": "79b9e741-9137-4319-88ad-ca20643ec4d0",
   "metadata": {},
   "source": [
    "### Create and connect to cluster"
   ]
  },
  {
   "cell_type": "code",
   "execution_count": null,
   "id": "44e6ec76-5092-4897-a904-e46c225d8387",
   "metadata": {
    "vscode": {
     "languageId": "java"
    }
   },
   "outputs": [],
   "source": [
    "private static final String HOST = \"127.0.0.1\";\n",
    "private static final int PORT = 8182;\n",
    "private static final Cluster.Builder BUILDER = Cluster.build().addContactPoint(HOST).port(PORT).enableSsl(false);\n",
    "\n",
    "System.out.println(\"Creating the Cluster.\");\n",
    "final Cluster cluster = BUILDER.create();\n",
    "System.out.println(\"Creating the GraphTraversalSource.\");\n",
    "final GraphTraversalSource g = traversal().withRemote(DriverRemoteConnection.using(cluster));"
   ]
  },
  {
   "attachments": {},
   "cell_type": "markdown",
   "id": "2fa76717",
   "metadata": {},
   "source": [
    "### Traverse the data"
   ]
  },
  {
   "cell_type": "code",
   "execution_count": null,
   "id": "293f0b1d-817d-438d-8ed0-1768ea90a5c1",
   "metadata": {
    "vscode": {
     "languageId": "java"
    }
   },
   "outputs": [],
   "source": [
    "// We can use .next() to terminate this traversal because it only returns 1 item  \n",
    "Map<String, Object> SFO2Hop = g.V().\n",
    "    has(\"code\", \"SFO\").\n",
    "    out().out().dedup().fold().\n",
    "    project(\"totalAirportCountFromSFO\", \"USAirportCountFromSFO\").\n",
    "    by(__.unfold().count()).\n",
    "    by(__.unfold().has(\"country\", \"US\").count()).\n",
    "    next();\n",
    "System.out.println(SFO2Hop);\n",
    "cluster.close();"
   ]
  }
 ],
 "metadata": {
  "kernelspec": {
   "display_name": "Java",
   "language": "java",
   "name": "java"
  },
  "language_info": {
   "codemirror_mode": "java",
   "file_extension": ".jshell",
   "mimetype": "text/x-java-source",
   "name": "Java",
   "pygments_lexer": "java",
   "version": "11.0.19+7-LTS"
  }
 },
 "nbformat": 4,
 "nbformat_minor": 5
}
