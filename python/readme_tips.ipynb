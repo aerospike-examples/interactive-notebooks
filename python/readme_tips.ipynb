{
 "cells": [
  {
   "cell_type": "markdown",
   "metadata": {},
   "source": [
    "\n",
    "# Aerospike Notebooks Readme/Tips\n",
    "\n",
    "Here are some tips and tricks for ease of use and productive experience with Aerospike notebooks.\n",
    "<br>\n",
    "This notebook requires Aerospike datbase running on localhost and that python and the Aerospike python client have been installed (`pip install aerospike`). Visit [Aerospike notebooks repo](https://github.com/aerospike-examples/interactive-notebooks) for additional details and the docker container."
   ]
  },
  {
   "cell_type": "markdown",
   "metadata": {},
   "source": [
    "## Find and run Aerospike notebook.\n",
    "Visit [Aerospike notebooks repo](https://github.com/aerospike-examples/interactive-notebooks) to find additional Aerospike notebooks. To run anoter notebook, download the notebook from the repo to your local machine, and then click on File->Open, and select Upload."
   ]
  },
  {
   "cell_type": "markdown",
   "metadata": {},
   "source": [
    "## Access shell commands\n",
    "\n",
    "Use the \"!\" line magic and \"%%bash\" cell magic to access shell commands. That is, you can access a shell command on any line by prefixing it with a \"!\", and an entire cell can have bash shell commands if it starts with \"%%bash\". Here are some examples:"
   ]
  },
  {
   "cell_type": "code",
   "execution_count": null,
   "metadata": {},
   "outputs": [],
   "source": [
    "# Accessing shell commands\n",
    "!ps\n",
    "!whoami\n",
    "# Start the Aerospike database.\n",
    "!asd >& /dev/null"
   ]
  },
  {
   "cell_type": "code",
   "execution_count": null,
   "metadata": {},
   "outputs": [],
   "source": [
    "%%bash \n",
    "# bash cell\n",
    "# Check if the Aerospike database is running.\n",
    "pgrep -x asd >/dev/null && echo \"Aerospike database is running\" || echo \"**Aerospike database is not running!**\"\n",
    "ps -axu | grep asd"
   ]
  },
  {
   "cell_type": "markdown",
   "metadata": {},
   "source": [
    "## Examine server log\n",
    "It is usefule to examing the server log. Assuming it is located at /tmp/aerolog, and you have the permissions, you can run the following to view the last 10 lines of the log. (Adjust the log path to your setting.)"
   ]
  },
  {
   "cell_type": "code",
   "execution_count": null,
   "metadata": {},
   "outputs": [],
   "source": [
    "# View the last 10 lines of the log:\n",
    "!echo \"End of server log:\"; tail -10 /tmp/aerolog"
   ]
  },
  {
   "cell_type": "markdown",
   "metadata": {},
   "source": [
    "## View database state.\n",
    "\n",
    "The command line tool \"aql\" can be very handy to examine the data and metadata in the database. For a more complete description of the capabilities, see the [doc](https://www.aerospike.com/docs/tools/aql/index.html). Assuming the database has namespace \"test\", the following commands can be executed."
   ]
  },
  {
   "cell_type": "code",
   "execution_count": null,
   "metadata": {},
   "outputs": [],
   "source": [
    "# Insert a record in set \"demo\" in namsepace \"test\" with Primary Key (PK) 1 and a bin or field \"testbin\" \n",
    "# with value \"hello world!\". \n",
    "!aql -c \"INSERT INTO test.demo (PK, 'testbin') VALUES (1, 'hello world!')\"\n",
    "# View all records in the set.\n",
    "!aql -c \"SELECT * FROM test.demo\"\n",
    "# Delete the record\n",
    "!aql -c \"DELETE FROM test.demo WHERE PK = 1\"\n",
    "!aql -c \"SELECT * FROM test.demo\""
   ]
  },
  {
   "cell_type": "markdown",
   "metadata": {},
   "source": [
    "## View cluster state.\n",
    "Use asadm to get summary info for the current state of the database cluster. For a more complete description of its capabilities, see the [doc](https://www.aerospike.com/docs/tools/asadm/index.html)."
   ]
  },
  {
   "cell_type": "code",
   "execution_count": null,
   "metadata": {},
   "outputs": [],
   "source": [
    "# Show the features enabled in this database.\n",
    "!asadm -e \"features\"\n",
    "# Display summary info for the cluster\n",
    "!asadm -e \"summary\""
   ]
  },
  {
   "cell_type": "markdown",
   "metadata": {},
   "source": [
    "## Next steps\n",
    "Visit [Aerospike notebooks repo](https://github.com/aerospike-examples/interactive-notebooks) to run additional Aerospike notebooks. To run a different notebook, download the notebook from the repo to your local machine, and then click on File->Open, and select Upload."
   ]
  }
 ],
 "metadata": {
  "file_extension": ".py",
  "kernelspec": {
   "display_name": "Python 3",
   "language": "python",
   "name": "python3"
  },
  "language_info": {
   "codemirror_mode": {
    "name": "ipython",
    "version": 3
   },
   "file_extension": ".py",
   "mimetype": "text/x-python",
   "name": "python",
   "nbconvert_exporter": "python",
   "pygments_lexer": "ipython3",
   "version": "3.8.6"
  },
  "mimetype": "text/x-python",
  "name": "python",
  "npconvert_exporter": "python",
  "pygments_lexer": "ipython3",
  "version": 3
 },
 "nbformat": 4,
 "nbformat_minor": 2
}
