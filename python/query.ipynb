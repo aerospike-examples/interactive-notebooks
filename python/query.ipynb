{
 "cells": [
  {
   "cell_type": "markdown",
   "metadata": {},
   "source": [
    "# Aerospike Queries in Python¶\n",
    "Intoduction to Aerospike queries in Python.\n",
    "<br>\n",
    "This notebook requires Aerospike datbase running on localhost and that python and the Aerospike python client have been installed (`pip install aerospike`). Visit [Aerospike notebooks repo](https://github.com/aerospike-examples/interactive-notebooks) for additional details and the docker container."
   ]
  },
  {
   "cell_type": "markdown",
   "metadata": {},
   "source": [
    "## Ensure database is running\n",
    "This notebook requires that Aerospike datbase is running."
   ]
  },
  {
   "cell_type": "code",
   "execution_count": null,
   "metadata": {},
   "outputs": [],
   "source": [
    "!asd >& /dev/null\n",
    "!pgrep -x asd >/dev/null && echo \"Aerospike database is running!\" || echo \"**Aerospike database is not running!**\""
   ]
  },
  {
   "cell_type": "markdown",
   "metadata": {},
   "source": [
    "## Connect to database and populate test data\n",
    "The test data has ten records with user-key \"id1-10\", two bins (fields) \"name\" and \"age\", in the namespace \"test\" and set \"demo\". "
   ]
  },
  {
   "cell_type": "code",
   "execution_count": null,
   "metadata": {},
   "outputs": [],
   "source": [
    "# import the module\n",
    "from __future__ import print_function\n",
    "import aerospike\n",
    "\n",
    "# Configure the client\n",
    "config = {\n",
    "  'hosts': [ ('127.0.0.1', 3000) ],\n",
    "  'policy' : {'key': aerospike.POLICY_KEY_SEND}\n",
    "}\n",
    "\n",
    "# Create a client and connect it to the cluster\n",
    "try:\n",
    "  client = aerospike.client(config).connect()\n",
    "except:\n",
    "  import sys\n",
    "  print(\"failed to connect to the cluster with\", config['hosts'])\n",
    "  sys.exit(1)\n",
    "\n",
    "# Records are addressable via a tuple of (namespace, set, key)\n",
    "people = [ {'id':1, 'name':'John Doe', 'age': 53},\n",
    "           {'id':2, 'name':'Brian Yu', 'age': 21},\n",
    "           {'id':3, 'name':'Will Kim', 'age': 34},\n",
    "           {'id':4, 'name':'Dorothy Smith', 'age': 48},\n",
    "           {'id':5, 'name':'Sara Poe', 'age': 29},\n",
    "           {'id':6, 'name':'Kim Knott', 'age': 56},\n",
    "           {'id':7, 'name':'Joe Miller', 'age': 30},\n",
    "           {'id':8, 'name':'Jeff Nye', 'age': 32},\n",
    "           {'id':9, 'name':'Jane Doe', 'age': 44},\n",
    "           {'id':10, 'name':'Emily Tuck', 'age': 22} ]\n",
    "try:\n",
    "    for i in range(10):\n",
    "      # Write the records\n",
    "      client.put(('test', 'demo', 'id'+str(people[i]['id'])), people[i])\n",
    "except Exception as e:\n",
    "  import sys\n",
    "  print(\"error: {0}\".format(e), file=sys.stderr)\n",
    "\n",
    "print('Test data populated.')"
   ]
  },
  {
   "cell_type": "markdown",
   "metadata": {},
   "source": [
    "## Create secondary index\n",
    "To use the query API, a secondary index must exist on the query field. We will create an integer secondary index on the \"age\" bin."
   ]
  },
  {
   "cell_type": "code",
   "execution_count": null,
   "metadata": {},
   "outputs": [],
   "source": [
    "# Must create an index to query on a bin\n",
    "from aerospike import exception as ex\n",
    "try:\n",
    "    client.index_integer_create(\"test\", \"demo\", \"age\", \"test_demo_number_idx\")\n",
    "except ex.IndexFoundError:\n",
    "    pass\n",
    "\n",
    "print('Secondary index created.')"
   ]
  },
  {
   "cell_type": "markdown",
   "metadata": {},
   "source": [
    "# Querying with secondary indexes\n",
    "\n",
    "In addition to retrieving records with the primary index using the key-value store APIs, the Aerospike Python client provides an API to query records using secondary indexes. To use the query API, a secondary index must exist on the query field.\n",
    "\n",
    "Use the Query APIs to query the database using secondary indexes."
   ]
  },
  {
   "cell_type": "markdown",
   "metadata": {},
   "source": [
    "## Create a query\n",
    "The API client.query() takes the namespace (required) and set (optional) arguments. The parameter set can be omitted or None, in which case records in the namespace that are outside any set are returned. The return value is a new aerospike.Query class instance.\n",
    "\n",
    "This example creates a query on the test namespace, demo set."
   ]
  },
  {
   "cell_type": "code",
   "execution_count": null,
   "metadata": {},
   "outputs": [],
   "source": [
    "query = client.query('test', 'demo')\n",
    "print('Query object created.')"
   ]
  },
  {
   "cell_type": "markdown",
   "metadata": {},
   "source": [
    "## Project bins\n",
    "Project (or select) bins using select() on the Query class instance. The select() API accepts one or many bin names (strings).\n",
    "\n",
    "This example selects \"name\" and \"age\" bins from the specified records."
   ]
  },
  {
   "cell_type": "code",
   "execution_count": null,
   "metadata": {},
   "outputs": [],
   "source": [
    "query.select('name', 'age')\n",
    "print('Bins name and age selected.')"
   ]
  },
  {
   "cell_type": "markdown",
   "metadata": {},
   "source": [
    "## Add query predicate\n",
    "Define predicates using the where() API on the Query class instance. The where() API accepts a predicate created using one of the functions in aerospike.predicates including:\n",
    "\n",
    "- equals(bin, value) — Find records containing the bin with the specified value (integer or string).\n",
    "- between(bin, min, max) — Find records containing the bin with a value in the min and max range (integer only).\n",
    "\n",
    "This example adds the between() predicate to a query."
   ]
  },
  {
   "cell_type": "code",
   "execution_count": null,
   "metadata": {},
   "outputs": [],
   "source": [
    "from aerospike import predicates as p\n",
    "query.where( p.between('age', 14, 25) )\n",
    "print('Predicate defined.')"
   ]
  },
  {
   "cell_type": "markdown",
   "metadata": {},
   "source": [
    "## Define foreach function\n",
    "In order to executer the query and read the results, we need to use the foreach() API in the Query class instance. The foreach() API accepts a callback function for each record read from the query. The callback function must accept a single argument as a tuple:\n",
    "\n",
    "- key tuple — The tuple to identify the record.\n",
    "- metadata — The dict containing the record metadata (TTL and generation).\n",
    "- record — The dict containing the record bins.\n",
    "\n",
    "If the callback returns False, the client stops reading results.\n",
    "\n",
    "This examples executes the query and prints results as they are read.\n",
    "\n",
    "To print the records as they are read, we define a print_result function."
   ]
  },
  {
   "cell_type": "code",
   "execution_count": null,
   "metadata": {},
   "outputs": [],
   "source": [
    "def print_result(result_tuple):\n",
    "    print(result_tuple)\n",
    "    \n",
    "print('Foreach function defined.')"
   ]
  },
  {
   "cell_type": "markdown",
   "metadata": {},
   "source": [
    "## Execute query and foreach\n",
    "Now we are ready to execute the query by passing in the print_result that will be called for each record. Based on the data we populated earlier, we expect 2 results between ages 14 and 25."
   ]
  },
  {
   "cell_type": "code",
   "execution_count": null,
   "metadata": {},
   "outputs": [],
   "source": [
    "print(\"Executing query and printing results:\")\n",
    "query.foreach(print_result)"
   ]
  },
  {
   "cell_type": "markdown",
   "metadata": {},
   "source": [
    "## Explore other query capabilities\n",
    "Please feel free to play with the \"equals\" predicate, adding secondary indexes on other fields, populating more test data to the \"null\" set and querying those records, and so on."
   ]
  },
  {
   "cell_type": "markdown",
   "metadata": {},
   "source": [
    "## Clean up"
   ]
  },
  {
   "cell_type": "code",
   "execution_count": null,
   "metadata": {},
   "outputs": [],
   "source": [
    "# Close the connection to the Aerospike cluster\n",
    "client.close()\n",
    "print('Connection closed.')"
   ]
  },
  {
   "cell_type": "markdown",
   "metadata": {},
   "source": [
    "## Next steps\n",
    "\n",
    "Visit [Aerospike notebooks repo](https://github.com/aerospike-examples/interactive-notebooks) to run additional Aerospike notebooks. To run a different notebook, download the notebook from the repo to your local machine, and then click on File->Open, and select Upload."
   ]
  }
 ],
 "metadata": {
  "kernelspec": {
   "display_name": "Python 3",
   "language": "python",
   "name": "python3"
  },
  "language_info": {
   "codemirror_mode": {
    "name": "ipython",
    "version": 3
   },
   "file_extension": ".py",
   "mimetype": "text/x-python",
   "name": "python",
   "nbconvert_exporter": "python",
   "pygments_lexer": "ipython3",
   "version": "3.8.6"
  }
 },
 "nbformat": 4,
 "nbformat_minor": 4
}
