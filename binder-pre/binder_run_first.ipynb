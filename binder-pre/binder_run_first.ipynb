{
 "cells": [
  {
   "cell_type": "markdown",
   "metadata": {},
   "source": [
    "# This notebook sets some prereqs if running in some environments such as https://mybinder.org\n",
    "\n",
    "*** Important: If in Binder, this notebook will auto close if unused for 10 minutes. If that occurs reload from the initial url. ***\n",
    "\n"
   ]
  },
  {
   "cell_type": "markdown",
   "metadata": {},
   "source": [
    "## In a binder environment, asd process must be started\n",
    "\n",
    "If running enterprise edition, feture key must be set as well"
   ]
  },
  {
   "cell_type": "code",
   "execution_count": null,
   "metadata": {},
   "outputs": [],
   "source": [
    "import os\n",
    "import subprocess\n",
    "import pprint\n",
    "import time\n",
    "\n",
    "features = \"\"\"\n",
    "COPY FEATURE FILE CONTENTS HERE\n",
    "\"\"\"\n",
    "\n",
    "if features.strip() == \"\" or features.strip() == \"COPY FEATURE FILE CONTENTS HERE\":\n",
    "    features_file = open(\"/etc/aerospike/features.conf\", \"w\")\n",
    "    n = features_file.write(features)\n",
    "    features_file.close()\n",
    "\n",
    "\n",
    "os.system(\"asd\")\n"
   ]
  }
 ],
 "metadata": {
  "kernelspec": {
   "display_name": "Python 3",
   "language": "python",
   "name": "python3"
  },
  "language_info": {
   "codemirror_mode": {
    "name": "ipython",
    "version": 3
   },
   "file_extension": ".py",
   "mimetype": "text/x-python",
   "name": "python",
   "nbconvert_exporter": "python",
   "pygments_lexer": "ipython3",
   "version": "3.8.2-final"
  }
 },
 "nbformat": 4,
 "nbformat_minor": 4
}