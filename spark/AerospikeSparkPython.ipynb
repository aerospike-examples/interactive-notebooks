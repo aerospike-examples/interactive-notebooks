{
 "cells": [
  {
   "cell_type": "markdown",
   "metadata": {},
   "source": [
    "# Aerospike Connect for Spark Tutorial for Python\n",
    "## Tested with Java 8, Spark 2.4.0, and Python 3.7"
   ]
  },
  {
   "cell_type": "markdown",
   "metadata": {},
   "source": [
    "### Setup\n",
    "\n",
    "Below, a seed address for your Aerospike database cluster is required\n",
    "\n",
    "Check the given namespace is available, and your feature key is located as per AS_FEATURE_KEY_PATH\n",
    "\n",
    "Finally, review https://www.aerospike.com/enterprise/download/connectors/ to ensure AEROSPIKE_SPARK_JAR_VERSION is correct"
   ]
  },
  {
   "cell_type": "code",
   "execution_count": 1,
   "metadata": {},
   "outputs": [],
   "source": [
    "# IP Address or DNS name for one host in your Aerospike cluster\n",
    "AS_HOST =\"10.0.0.236\"\n",
    "# Name of one of your namespaces. Type 'show namespaces' at the aql prompt if you are not sure\n",
    "AS_NAMESPACE = \"test\" \n",
    "AS_FEATURE_KEY_PATH = \"/etc/aerospike/features.conf\"\n",
    "AEROSPIKE_SPARK_JAR_VERSION=\"2.4.0\"\n",
    "\n",
    "AS_PORT = 3000 # Usually 3000, but change here if not\n",
    "AS_CONNECTION_STRING = AS_HOST + \":\"+ str(AS_PORT)"
   ]
  },
  {
   "cell_type": "code",
   "execution_count": 2,
   "metadata": {},
   "outputs": [],
   "source": [
    "# Next we locate the Spark installation - this will be found using the SPARK_HOME environment variable that you will have set \n",
    "# if you followed the repository README\n",
    "\n",
    "import findspark\n",
    "findspark.init()"
   ]
  },
  {
   "cell_type": "code",
   "execution_count": 3,
   "metadata": {},
   "outputs": [
    {
     "name": "stdout",
     "output_type": "stream",
     "text": [
      "aerospike-spark-assembly-2.4.0.jar already downloaded\n"
     ]
    }
   ],
   "source": [
    "# Here we download the Aerospike Spark jar\n",
    "import urllib\n",
    "import os\n",
    "\n",
    "def aerospike_spark_jar_download_url(version=AEROSPIKE_SPARK_JAR_VERSION):\n",
    "    DOWNLOAD_PREFIX=\"https://www.aerospike.com/enterprise/download/connectors/aerospike-spark/\"\n",
    "    DOWNLOAD_SUFFIX=\"/artifact/jar\"\n",
    "    AEROSPIKE_SPARK_JAR_DOWNLOAD_URL = DOWNLOAD_PREFIX+AEROSPIKE_SPARK_JAR_VERSION+DOWNLOAD_SUFFIX\n",
    "    return AEROSPIKE_SPARK_JAR_DOWNLOAD_URL\n",
    "\n",
    "def download_aerospike_spark_jar(version=AEROSPIKE_SPARK_JAR_VERSION):\n",
    "    JAR_NAME=\"aerospike-spark-assembly-\"+AEROSPIKE_SPARK_JAR_VERSION+\".jar\"\n",
    "    if(not(os.path.exists(JAR_NAME))) :\n",
    "        urllib.request.urlretrieve(aerospike_spark_jar_download_url(),JAR_NAME)\n",
    "    else :\n",
    "        print(JAR_NAME+\" already downloaded\")\n",
    "    return os.path.join(os.getcwd(),JAR_NAME)\n",
    "\n",
    "AEROSPIKE_JAR_PATH=download_aerospike_spark_jar()\n",
    "os.environ[\"PYSPARK_SUBMIT_ARGS\"] = '--jars ' + AEROSPIKE_JAR_PATH + ' pyspark-shell'\n",
    "\n"
   ]
  },
  {
   "cell_type": "code",
   "execution_count": 4,
   "metadata": {},
   "outputs": [],
   "source": [
    "import pyspark\n",
    "from pyspark.context import SparkContext\n",
    "from pyspark.sql.context import SQLContext\n",
    "from pyspark.sql.session import SparkSession\n",
    "from pyspark.sql.types import StringType, StructField, StructType, ArrayType, IntegerType, MapType, LongType"
   ]
  },
  {
   "cell_type": "markdown",
   "metadata": {},
   "source": [
    "Get a spark session object and set required Aerospike configuration properties"
   ]
  },
  {
   "cell_type": "code",
   "execution_count": 27,
   "metadata": {},
   "outputs": [],
   "source": [
    "sc = SparkContext.getOrCreate()\n",
    "spark = SparkSession(sc)\n",
    "sqlContext = SQLContext(sc)\n",
    "spark.conf.set(\"aerospike.namespace\",AS_NAMESPACE)\n",
    "spark.conf.set(\"aerospike.seedhost\",AS_CONNECTION_STRING)\n",
    "spark.conf.set(\"aerospike.keyPath\",AS_FEATURE_KEY_PATH )\n"
   ]
  },
  {
   "cell_type": "markdown",
   "metadata": {},
   "source": [
    "## Create sample data and write to Aerospike database"
   ]
  },
  {
   "cell_type": "code",
   "execution_count": 43,
   "metadata": {},
   "outputs": [],
   "source": [
    "# Create 500 id/name/age/salary records - initially in a Python array\n",
    "import random\n",
    "num_records=500\n",
    "\n",
    "schema = StructType( \n",
    "    [\n",
    "        StructField(\"id\", IntegerType(), True),\n",
    "        StructField(\"name\", StringType(), True),\n",
    "        StructField(\"age\", IntegerType(), True),\n",
    "        StructField(\"salary\",IntegerType(), True)\n",
    "    ]\n",
    ")\n",
    "\n",
    "inputBuf = []\n",
    "\n",
    "## Create num_records records\n",
    "for  i in range(1, num_records + 1) :\n",
    "         name = \"Individual: {:03d}\".format(i)\n",
    "         age = random.randint(25,60)\n",
    "         salary = 50000 + random.randint(1,50000)\n",
    "         id = i \n",
    "         inputBuf.append((id, name, age,salary))\n",
    "    \n",
    "# Convert to a Data Frame    \n",
    "inputRDD = spark.sparkContext.parallelize(inputBuf)\n",
    "inputDF=spark.createDataFrame(inputRDD,schema)\n",
    "\n",
    "#Write the data frame to Aerospike, the id field is used as the primary key\n",
    "inputDF \\\n",
    ".write \\\n",
    ".mode('overwrite') \\\n",
    ".format(\"com.aerospike.spark.sql\")  \\\n",
    ".option(\"aerospike.set\", \"salary_data\")\\\n",
    ".option(\"aerospike.updateByKey\", \"id\") \\\n",
    ".save()"
   ]
  },
  {
   "cell_type": "markdown",
   "metadata": {},
   "source": [
    "## Use of schema\n",
    "\n",
    "Aerospike is schemaless, however Spark data frames do. If a schema is not explicitly supplied it will \n",
    "be inferred from the data within the data frame.\n",
    "\n",
    "Once this takes place, data within the data frame must honor the types. \n",
    "\n",
    "To infer schema, the connector samples a set of records (configurable through `aerospike.schema.scan`) to decide the name of bins/columns and their types. \n"
   ]
  },
  {
   "cell_type": "markdown",
   "metadata": {},
   "source": [
    "## Load data into a DataFrame without specifying any Schema (uses schema inference)"
   ]
  },
  {
   "cell_type": "code",
   "execution_count": 44,
   "metadata": {},
   "outputs": [
    {
     "name": "stdout",
     "output_type": "stream",
     "text": [
      "+-----+--------------------+--------+------------+-----+---+---------------+------+---+\n",
      "|__key|            __digest|__expiry|__generation|__ttl|age|           name|salary| id|\n",
      "+-----+--------------------+--------+------------+-----+---+---------------+------+---+\n",
      "| null|[03 50 2E 7F 70 9...|       0|           1|   -1| 57|Individual: 239| 91612|239|\n",
      "| null|[04 C0 5E 9A 68 5...|       0|           1|   -1| 53|Individual: 101| 83611|101|\n",
      "| null|[0F 10 1A 93 B1 E...|       0|           1|   -1| 45|Individual: 194| 97233|194|\n",
      "| null|[13 40 1A 35 CA 0...|       0|           1|   -1| 46|Individual: 323| 55207|323|\n",
      "| null|[1A E0 A8 A0 F2 3...|       0|           1|   -1| 41|Individual: 031| 68510| 31|\n",
      "| null|[1F 40 90 C0 94 B...|       0|           1|   -1| 35|Individual: 479| 52338|479|\n",
      "| null|[23 20 78 35 5D 7...|       0|           1|   -1| 46|Individual: 139| 61982|139|\n",
      "| null|[35 00 8C 78 43 F...|       0|           1|   -1| 43|Individual: 014| 87575| 14|\n",
      "| null|[37 D0 AA 5F 9B C...|       0|           1|   -1| 28|Individual: 331| 66731|331|\n",
      "| null|[37 00 6D 21 08 9...|       0|           1|   -1| 59|Individual: 142| 85109|142|\n",
      "| null|[49 10 72 24 AD 1...|       0|           1|   -1| 41|Individual: 425| 66149|425|\n",
      "| null|[59 00 4B C7 6D 9...|       0|           1|   -1| 48|Individual: 272| 64262|272|\n",
      "| null|[61 50 89 B1 EC 0...|       0|           1|   -1| 25|Individual: 076| 75199| 76|\n",
      "| null|[6C 50 7F 9B FD C...|       0|           1|   -1| 30|Individual: 147| 84195|147|\n",
      "| null|[80 60 15 5E 41 2...|       0|           1|   -1| 29|Individual: 079| 53355| 79|\n",
      "| null|[81 30 F1 D8 B3 C...|       0|           1|   -1| 27|Individual: 484| 67432|484|\n",
      "| null|[85 70 8C 4F C8 E...|       0|           1|   -1| 28|Individual: 096| 77066| 96|\n",
      "| null|[91 D0 FD 7D 37 A...|       0|           1|   -1| 30|Individual: 443| 51384|443|\n",
      "| null|[9A 80 6A A1 FC C...|       0|           1|   -1| 41|Individual: 132| 66157|132|\n",
      "| null|[B1 90 02 E0 84 E...|       0|           1|   -1| 25|Individual: 309| 65087|309|\n",
      "+-----+--------------------+--------+------------+-----+---+---------------+------+---+\n",
      "only showing top 20 rows\n",
      "\n"
     ]
    }
   ],
   "source": [
    "# Create a Spark DataFrame by using the Connector Schema inference mechanism\n",
    "# The fields preceded with __ are metadata fields - key/digest/expiry/generation/ttl\n",
    "# By default you just get everything, with no column ordering, which is why it looks untidy\n",
    "# Note we don't get anything in the 'key' field as we have not chosen to save as a bin.\n",
    "# Use .option(\"aerospike.sendKey\", True) to do this\n",
    "\n",
    "loadedDFWithoutSchema = (\n",
    "    spark.read.format(\"com.aerospike.spark.sql\") \\\n",
    "    .option(\"aerospike.set\", \"salary_data\") \\\n",
    "    .load()\n",
    ")\n",
    "\n",
    "loadedDFWithoutSchema.show()"
   ]
  },
  {
   "cell_type": "markdown",
   "metadata": {},
   "source": [
    "## Load data into a DataFrame using user specified schema "
   ]
  },
  {
   "cell_type": "code",
   "execution_count": 45,
   "metadata": {},
   "outputs": [
    {
     "name": "stdout",
     "output_type": "stream",
     "text": [
      "+---+---------------+---+------+\n",
      "| id|           name|age|salary|\n",
      "+---+---------------+---+------+\n",
      "|239|Individual: 239| 57| 91612|\n",
      "|101|Individual: 101| 53| 83611|\n",
      "|194|Individual: 194| 45| 97233|\n",
      "|323|Individual: 323| 46| 55207|\n",
      "| 31|Individual: 031| 41| 68510|\n",
      "+---+---------------+---+------+\n",
      "only showing top 5 rows\n",
      "\n"
     ]
    }
   ],
   "source": [
    "# If we explicitly set the schema, using the previously created schema object\n",
    "# we effectively type the rows in the Data Frame\n",
    "\n",
    "loadedDFWithSchema=spark \\\n",
    ".read \\\n",
    ".format(\"com.aerospike.spark.sql\") \\\n",
    ".schema(schema) \\\n",
    ".option(\"aerospike.set\", \"salary_data\").load()\n",
    "\n",
    "loadedDFWithSchema.show(5)"
   ]
  },
  {
   "cell_type": "markdown",
   "metadata": {},
   "source": [
    "## SparkML with Aerospike\n",
    "\n",
    "### The purpose of this ML model is to illustrate how data in Aerospike can be used for training and inference using SparkML \n",
    "#### A K-Means clustering model is used to create several segments based on age and salary."
   ]
  },
  {
   "cell_type": "code",
   "execution_count": 9,
   "metadata": {},
   "outputs": [
    {
     "name": "stdout",
     "output_type": "stream",
     "text": [
      "+---+-------+---+------+--------------------+\n",
      "|_id|   name|age|salary|            features|\n",
      "+---+-------+---+------+--------------------+\n",
      "|604|name604|  4| 99081| [604.0,4.0,99081.0]|\n",
      "| 10| name10| 10| 94662| [10.0,10.0,94662.0]|\n",
      "|586|name586| 86| 68311|[586.0,86.0,68311.0]|\n",
      "|477|name477| 77| 82885|[477.0,77.0,82885.0]|\n",
      "| 50| name50| 50| 76844| [50.0,50.0,76844.0]|\n",
      "|554|name554| 54| 73406|[554.0,54.0,73406.0]|\n",
      "|964|name964| 64| 87713|[964.0,64.0,87713.0]|\n",
      "|880|name880| 80| 88669|[880.0,80.0,88669.0]|\n",
      "|859|name859| 59| 96151|[859.0,59.0,96151.0]|\n",
      "|227|name227| 27| 59420|[227.0,27.0,59420.0]|\n",
      "|812|name812| 12| 56342|[812.0,12.0,56342.0]|\n",
      "|780|name780| 80| 53021|[780.0,80.0,53021.0]|\n",
      "|555|name555| 55| 67400|[555.0,55.0,67400.0]|\n",
      "|185|name185| 85| 92506|[185.0,85.0,92506.0]|\n",
      "|221|name221| 21| 73437|[221.0,21.0,73437.0]|\n",
      "|117|name117| 17| 56226|[117.0,17.0,56226.0]|\n",
      "|706|name706|  6| 71844| [706.0,6.0,71844.0]|\n",
      "|358|name358| 58| 56574|[358.0,58.0,56574.0]|\n",
      "|438|name438| 38| 67480|[438.0,38.0,67480.0]|\n",
      "|872|name872| 72| 83597|[872.0,72.0,83597.0]|\n",
      "+---+-------+---+------+--------------------+\n",
      "only showing top 20 rows\n",
      "\n",
      "Silhouette with squared euclidean distance = 0.7926176531025849\n",
      "Cluster Centers: \n",
      "[4.86402750e+02 4.96640472e+01 8.75285815e+04]\n",
      "[5.14124490e+02 4.94306122e+01 6.22230204e+04]\n"
     ]
    }
   ],
   "source": [
    "from pyspark.ml.clustering import KMeans\n",
    "from pyspark.ml.evaluation import ClusteringEvaluator\n",
    "from pyspark.ml.feature import VectorAssembler\n",
    "\n",
    "\n",
    "#All machine learning algorithms in Spark take as input a Vector type, which must be a set of numerical values.\n",
    "assembler = VectorAssembler(\n",
    "    inputCols=[\"_id\", \"age\", \"salary\"],\n",
    "    outputCol=\"features\")\n",
    "data_2 = assembler.transform(loadedDFWithSchema)\n",
    "data_2.show()\n",
    "\n",
    "# Trains a k-means model.\n",
    "kmeans = KMeans().setK(2).setSeed(1)\n",
    "model = kmeans.fit(data_2)\n",
    "\n",
    "# Make predictions\n",
    "predictions = model.transform(data_2)\n",
    "\n",
    "# Evaluate clustering by computing Silhouette score\n",
    "evaluator = ClusteringEvaluator()\n",
    "\n",
    "silhouette = evaluator.evaluate(predictions)\n",
    "print(\"Silhouette with squared euclidean distance = \" + str(silhouette))\n",
    "\n",
    "# Shows the result.\n",
    "centers = model.clusterCenters()\n",
    "print(\"Cluster Centers: \")\n",
    "for center in centers:\n",
    "    print(center)"
   ]
  },
  {
   "cell_type": "markdown",
   "metadata": {},
   "source": [
    "## Writing Sample Complex Data Types (CDT) data into Aerospike"
   ]
  },
  {
   "cell_type": "code",
   "execution_count": 10,
   "metadata": {},
   "outputs": [
    {
     "name": "stdout",
     "output_type": "stream",
     "text": [
      "root\n",
      " |-- name: struct (nullable = true)\n",
      " |    |-- first_name: string (nullable = true)\n",
      " |    |-- aliases: array (nullable = true)\n",
      " |    |    |-- element: struct (containsNull = true)\n",
      " |    |    |    |-- first_name: string (nullable = true)\n",
      " |    |    |    |-- last_name: string (nullable = true)\n",
      " |-- SSN: string (nullable = true)\n",
      " |-- home_address: array (nullable = true)\n",
      " |    |-- element: struct (containsNull = true)\n",
      " |    |    |-- zip: long (nullable = true)\n",
      " |    |    |-- street: struct (nullable = true)\n",
      " |    |    |    |-- street_name: string (nullable = true)\n",
      " |    |    |    |-- apt_number: integer (nullable = true)\n",
      " |    |    |-- city: string (nullable = true)\n",
      " |-- work_history: array (nullable = true)\n",
      " |    |-- element: struct (containsNull = true)\n",
      " |    |    |-- company_name: string (nullable = true)\n",
      " |    |    |-- company_address: struct (nullable = true)\n",
      " |    |    |    |-- zip: long (nullable = true)\n",
      " |    |    |    |-- street: struct (nullable = true)\n",
      " |    |    |    |    |-- street_name: string (nullable = true)\n",
      " |    |    |    |    |-- apt_number: integer (nullable = true)\n",
      " |    |    |    |-- city: string (nullable = true)\n",
      " |    |    |-- worked_from: string (nullable = true)\n",
      "\n"
     ]
    }
   ],
   "source": [
    "complex_data_json=\"resources/nested_data.json\"\n",
    "alias=  StructType( [\n",
    "    StructField(\"first_name\",StringType(), False),\n",
    "    StructField(\"last_name\",StringType(), False)]\n",
    ")\n",
    "\n",
    "name= StructType([\n",
    "    StructField(\"first_name\",StringType(), False), \n",
    "    StructField(\"aliases\",ArrayType(alias), False)]\n",
    ")\n",
    "street_adress= StructType([StructField(\"street_name\", StringType(), False), StructField(\"apt_number\", IntegerType(), False)])\n",
    "address = StructType([StructField(\"zip\", LongType(), False), StructField(\"street\", street_adress, False), StructField(\"city\", StringType(), False)])\n",
    "\n",
    "workHistory = StructType([StructField (\"company_name\" , StringType(), False),\n",
    "                              StructField( \"company_address\" , address, False),\n",
    "                              StructField(\"worked_from\", StringType(), False)]\n",
    "                        )\n",
    "\n",
    "person= StructType([StructField(\"name\", name, False),\n",
    "                        StructField(\"SSN\", StringType(), False),\n",
    "                        StructField(\"home_address\", ArrayType(address), False),\n",
    "                        StructField(\"work_history\", ArrayType(workHistory), False)]\n",
    "                  )\n",
    "\n",
    "cmplx_data_with_schema=spark.read.schema(person).json(complex_data_json)\n",
    "cmplx_data_with_schema.printSchema()\n",
    "\n",
    "cmplx_data_with_schema \\\n",
    ".write \\\n",
    ".mode('overwrite') \\\n",
    ".format(\"com.aerospike.spark.sql\")  \\\n",
    ".option(\"aerospike.seedhost\", AS_HOST) \\\n",
    ".option(\"aerospike.namespace\", AS_NAMESPACE) \\\n",
    ".option(\"aerospike.writeset\", \"complex_input_data\") \\\n",
    ".option(\"aerospike.updateByKey\", \"name.first_name\") \\\n",
    ".save()"
   ]
  },
  {
   "cell_type": "markdown",
   "metadata": {},
   "source": [
    "## Load Complex Data Types (CDT) into a DataFrame without specifying any schema (using connector schema inference)¶"
   ]
  },
  {
   "cell_type": "code",
   "execution_count": 17,
   "metadata": {},
   "outputs": [
    {
     "name": "stdout",
     "output_type": "stream",
     "text": [
      "root\n",
      " |-- __key: string (nullable = true)\n",
      " |-- __digest: binary (nullable = false)\n",
      " |-- __expiry: integer (nullable = false)\n",
      " |-- __generation: integer (nullable = false)\n",
      " |-- __ttl: integer (nullable = false)\n",
      " |-- SSN: string (nullable = true)\n",
      " |-- work_history: array (nullable = true)\n",
      " |    |-- element: binary (containsNull = true)\n",
      " |-- name: map (nullable = true)\n",
      " |    |-- key: string\n",
      " |    |-- value: string (valueContainsNull = true)\n",
      " |-- home_address: array (nullable = true)\n",
      " |    |-- element: binary (containsNull = true)\n",
      "\n"
     ]
    }
   ],
   "source": [
    "loadedComplexDFWithoutSchema=spark \\\n",
    ".read \\\n",
    ".format(\"com.aerospike.spark.sql\") \\\n",
    ".option(\"aerospike.seedhost\", AS_HOST) \\\n",
    ".option(\"aerospike.keyPath\", AS_FEATURE_KEY_PATH) \\\n",
    ".option (\"aerospike.namespace\", AS_NAMESPACE) \\\n",
    ".option(\"aerospike.set\", \"complex_input_data\") \\\n",
    ".load() \n",
    "loadedComplexDFWithoutSchema.printSchema()"
   ]
  },
  {
   "cell_type": "markdown",
   "metadata": {},
   "source": [
    "## Load Complex Data Types (CDT) into a DataFrame with user specified schema "
   ]
  },
  {
   "cell_type": "code",
   "execution_count": 18,
   "metadata": {},
   "outputs": [
    {
     "name": "stdout",
     "output_type": "stream",
     "text": [
      "root\n",
      " |-- name: struct (nullable = false)\n",
      " |    |-- first_name: string (nullable = false)\n",
      " |    |-- aliases: array (nullable = false)\n",
      " |    |    |-- element: struct (containsNull = true)\n",
      " |    |    |    |-- first_name: string (nullable = false)\n",
      " |    |    |    |-- last_name: string (nullable = false)\n",
      " |-- SSN: string (nullable = false)\n",
      " |-- home_address: array (nullable = false)\n",
      " |    |-- element: struct (containsNull = true)\n",
      " |    |    |-- zip: long (nullable = false)\n",
      " |    |    |-- street: struct (nullable = false)\n",
      " |    |    |    |-- street_name: string (nullable = false)\n",
      " |    |    |    |-- apt_number: integer (nullable = false)\n",
      " |    |    |-- city: string (nullable = false)\n",
      " |-- work_history: array (nullable = false)\n",
      " |    |-- element: struct (containsNull = true)\n",
      " |    |    |-- company_name: string (nullable = false)\n",
      " |    |    |-- company_address: struct (nullable = false)\n",
      " |    |    |    |-- zip: long (nullable = false)\n",
      " |    |    |    |-- street: struct (nullable = false)\n",
      " |    |    |    |    |-- street_name: string (nullable = false)\n",
      " |    |    |    |    |-- apt_number: integer (nullable = false)\n",
      " |    |    |    |-- city: string (nullable = false)\n",
      " |    |    |-- worked_from: string (nullable = false)\n",
      "\n"
     ]
    }
   ],
   "source": [
    "loadedComplexDFWithSchema=spark \\\n",
    ".read \\\n",
    ".format(\"com.aerospike.spark.sql\") \\\n",
    ".option(\"aerospike.seedhost\", AS_HOST) \\\n",
    ".option(\"aerospike.keyPath\", AS_FEATURE_KEY_PATH) \\\n",
    ".option (\"aerospike.namespace\", AS_NAMESPACE) \\\n",
    ".option(\"aerospike.set\", \"complex_input_data\") \\\n",
    ".schema(person) \\\n",
    ".load() \n",
    "loadedComplexDFWithSchema.printSchema()\n",
    "#Please note the difference in types of loaded data in both cases. With schema, we extactly infer complex types."
   ]
  },
  {
   "cell_type": "markdown",
   "metadata": {},
   "source": [
    "## Data Exploration with Aerospike "
   ]
  },
  {
   "cell_type": "code",
   "execution_count": 13,
   "metadata": {},
   "outputs": [],
   "source": [
    "import pandas\n",
    "import matplotlib\n",
    "import matplotlib.pyplot as plt"
   ]
  },
  {
   "cell_type": "code",
   "execution_count": 14,
   "metadata": {},
   "outputs": [
    {
     "data": {
      "image/png": "[encoded data removed]",
      "text/plain": [
       "<Figure size 432x288 with 1 Axes>"
      ]
     },
     "metadata": {
      "needs_background": "light"
     },
     "output_type": "display_data"
    },
    {
     "data": {
      "image/png": "[encoded data removed]",
      "text/plain": [
       "<Figure size 432x288 with 1 Axes>"
      ]
     },
     "metadata": {
      "needs_background": "light"
     },
     "output_type": "display_data"
    },
    {
     "data": {
      "image/png": "[encoded data removed]",
      "text/plain": [
       "<Figure size 432x288 with 1 Axes>"
      ]
     },
     "metadata": {},
     "output_type": "display_data"
    },
    {
     "data": {
      "image/png": "[encoded data removed]",
      "text/plain": [
       "<Figure size 432x288 with 1 Axes>"
      ]
     },
     "metadata": {
      "needs_background": "light"
     },
     "output_type": "display_data"
    }
   ],
   "source": [
    "#convert spark df to pandas df\n",
    "pdf = loadedDFWithSchema.toPandas()\n",
    "#print(pdf)\n",
    "\n",
    "#Histogram\n",
    "pdf[['age']].head(20).plot(kind='hist',bins=[0,20,40,60,80,100],rwidth=0.8)\n",
    "plt.show()\n",
    "\n",
    "#Bar graph\n",
    "pdf.head(20).groupby('age')['name'].nunique().plot(kind='bar')\n",
    "plt.show()\n",
    "\n",
    "#pie chart\n",
    "pdf.head(20).groupby(['age']).sum().plot(kind='pie', y='salary')\n",
    "plt.show()\n",
    "\n",
    "#Line Plot\n",
    "# gca stands for 'get current axis'\n",
    "ax = plt.gca()\n",
    "pdf.tail(20).plot(kind='line',x='name',y='salary', color='red', ax=ax)\n",
    "plt.show()"
   ]
  },
  {
   "cell_type": "markdown",
   "metadata": {},
   "source": [
    "# Querying Aerospike Data using SparkSQL\n",
    "#### Things to keep in mind\n",
    "   1. Queries that involve Primary Key in the predicate trigger aerospike_batch_get()[hyper link: https://www.aerospike.com/docs/client/c/usage/kvs/batch.html] and run extremely fast. For e.g. a query containing `__key` with, with no `OR` between two bins.\n",
    "   2. All other queries may entail a full scan of the Aerospike DB if they can’t be converted to Aerospike batchget. "
   ]
  },
  {
   "cell_type": "markdown",
   "metadata": {},
   "source": [
    "## Queries that include Primary Key in the Predicate\n",
    "\n",
    "In case of batchget queries we can also apply filters upon metadata columns like `__gen` or `__ttl` etc. To do so, these columns should be exposed through schema (if schema provided). "
   ]
  },
  {
   "cell_type": "code",
   "execution_count": 19,
   "metadata": {},
   "outputs": [
    {
     "name": "stdout",
     "output_type": "stream",
     "text": [
      "+-----+--------------------+--------+------------+-----+---+-------+------+---+\n",
      "|__key|            __digest|__expiry|__generation|__ttl|age|   name|salary|_id|\n",
      "+-----+--------------------+--------+------------+-----+---+-------+------+---+\n",
      "|  829|[9A E9 5B 0A 11 6...|       0|           5|   -1| 29|name829| 67920|829|\n",
      "+-----+--------------------+--------+------------+-----+---+-------+------+---+\n",
      "\n"
     ]
    }
   ],
   "source": [
    "batchGet1= spark \\\n",
    ".read \\\n",
    ".format(\"com.aerospike.spark.sql\") \\\n",
    ".option(\"aerospike.seedhost\", AS_HOST) \\\n",
    ".option(\"aerospike.featurekey\", AS_FEATURE_KEY_PATH) \\\n",
    ".option (\"aerospike.namespace\", AS_NAMESPACE) \\\n",
    ".option(\"aerospike.set\", \"py_input_data\") \\\n",
    ".option(\"aerospike.keyType\", \"int\") \\\n",
    ".load().where(\"__key = 829\") \\\n",
    "\n",
    "batchGet1.show()\n",
    "#Please be aware ASDB only supports equality test with PKs in primary key query. \n",
    "#So, a where clause with \"__key >10\", would result in scan query!"
   ]
  },
  {
   "cell_type": "code",
   "execution_count": 20,
   "metadata": {},
   "outputs": [
    {
     "name": "stdout",
     "output_type": "stream",
     "text": [
      "+-----+--------------------+--------+------------+-----+---+------+------+---+\n",
      "|__key|            __digest|__expiry|__generation|__ttl|age|  name|salary|_id|\n",
      "+-----+--------------------+--------+------------+-----+---+------+------+---+\n",
      "|    4|[FE E0 77 E4 17 F...|       0|           5|   -1|  4| name4| 87227|  4|\n",
      "|    5|[FF 00 39 4A 07 0...|       0|           5|   -1|  5| name5| 63640|  5|\n",
      "|    7|[8B F3 60 83 F9 6...|       0|           5|   -1|  7| name7| 89687|  7|\n",
      "|   13|[D7 B4 65 3D FA 4...|       0|           5|   -1| 13|name13| 90957| 13|\n",
      "|    3|[75 25 0A 1D C0 4...|       0|           5|   -1|  3| name3| 91217|  3|\n",
      "+-----+--------------------+--------+------------+-----+---+------+------+---+\n",
      "only showing top 5 rows\n",
      "\n"
     ]
    }
   ],
   "source": [
    "#In this query we are doing *OR* between PK subqueries \n",
    "from pyspark.sql.functions import *\n",
    "somePrimaryKeys= list(range(1,10))\n",
    "someMoreKeys= list(range(12,14))\n",
    "batchGet2= spark \\\n",
    ".read \\\n",
    ".format(\"com.aerospike.spark.sql\") \\\n",
    ".option(\"aerospike.seedhost\",AS_HOST) \\\n",
    ".option(\"aerospike.featurekey\", AS_FEATURE_KEY_PATH) \\\n",
    ".option (\"aerospike.namespace\", AS_NAMESPACE) \\\n",
    ".option(\"aerospike.set\", \"py_input_data\") \\\n",
    ".option(\"aerospike.keyType\", \"int\") \\\n",
    ".load().where((col(\"__key\").isin(somePrimaryKeys)) | ( col(\"__key\").isin(someMoreKeys))) \n",
    "\n",
    "batchGet2.show(5)\n",
    "#We should got in total 'len(somePrimaryKeys) + len(someMoreKeys)' records."
   ]
  },
  {
   "cell_type": "markdown",
   "metadata": {},
   "source": [
    "## Queries that do not include Primary Key in the Predicate"
   ]
  },
  {
   "cell_type": "code",
   "execution_count": 21,
   "metadata": {
    "scrolled": true
   },
   "outputs": [
    {
     "name": "stdout",
     "output_type": "stream",
     "text": [
      "+-----+--------------------+--------+------------+-----+---+-------+------+---+\n",
      "|__key|            __digest|__expiry|__generation|__ttl|age|   name|salary|_id|\n",
      "+-----+--------------------+--------+------------+-----+---+-------+------+---+\n",
      "| null|[0B 70 8A F2 9F A...|       0|           5|   -1| 86|name586| 68311|586|\n",
      "| null|[13 D0 09 FD 8E E...|       0|           5|   -1| 77|name477| 82885|477|\n",
      "| null|[17 B0 1E 54 2C 9...|       0|           5|   -1| 54|name554| 73406|554|\n",
      "| null|[18 10 E6 C8 15 6...|       0|           5|   -1| 64|name964| 87713|964|\n",
      "| null|[1C 30 1B 8B DC E...|       0|           5|   -1| 80|name880| 88669|880|\n",
      "| null|[25 B0 10 82 C7 6...|       0|           5|   -1| 59|name859| 96151|859|\n",
      "| null|[35 D0 BA A7 35 7...|       0|           5|   -1| 80|name780| 53021|780|\n",
      "| null|[3C 80 4A 91 AA 3...|       0|           5|   -1| 55|name555| 67400|555|\n",
      "| null|[3D C0 3E 1E 0D C...|       0|           5|   -1| 85|name185| 92506|185|\n",
      "| null|[47 10 14 58 CA 7...|       0|           5|   -1| 58|name358| 56574|358|\n",
      "| null|[5B 30 96 AE 0B B...|       0|           5|   -1| 72|name872| 83597|872|\n",
      "| null|[5C A0 3F 4E DA D...|       0|           5|   -1| 61|name961| 63358|961|\n",
      "| null|[5E E0 15 0A CE 3...|       0|           5|   -1| 88| name88| 99882| 88|\n",
      "| null|[5F B0 F2 C5 21 E...|       0|           5|   -1| 72|name672| 58277|672|\n",
      "| null|[67 50 44 9E D8 0...|       0|           5|   -1| 70|name970| 94285|970|\n",
      "| null|[78 10 D6 CA 04 8...|       0|           5|   -1| 77| name77| 86440| 77|\n",
      "| null|[7C 50 EC 73 DF 5...|       0|           5|   -1| 98|name498| 63377|498|\n",
      "| null|[7D 20 83 6F A9 E...|       0|           5|   -1| 93|name893| 76564|893|\n",
      "| null|[8C 30 BA 1A 1C 1...|       0|           5|   -1| 72|name272| 98618|272|\n",
      "| null|[9B 00 20 57 9B 2...|       0|           5|   -1| 71|name971| 76426|971|\n",
      "+-----+--------------------+--------+------------+-----+---+-------+------+---+\n",
      "only showing top 20 rows\n",
      "\n"
     ]
    }
   ],
   "source": [
    "somePrimaryKeys= list(range(1,10))\n",
    "scanQuery1= spark \\\n",
    ".read \\\n",
    ".format(\"com.aerospike.spark.sql\") \\\n",
    ".option(\"aerospike.seedhost\", AS_HOST) \\\n",
    ".option (\"aerospike.namespace\", AS_NAMESPACE) \\\n",
    ".option(\"aerospike.featurekey\", AS_FEATURE_KEY_PATH) \\\n",
    ".option(\"aerospike.set\", \"py_input_data\") \\\n",
    ".option(\"aerospike.keyType\", \"int\") \\\n",
    ".load().where((col(\"__key\").isin(somePrimaryKeys)) | ( col(\"age\") >50 ))\n",
    "\n",
    "scanQuery1.show()\n",
    "\n",
    "#Since there is OR between PKs and Bin. It will be treated as Scan query. \n",
    "#Primary keys are not stored in bins(by default), hence only filters corresponding to bins are honored.  "
   ]
  },
  {
   "cell_type": "markdown",
   "metadata": {},
   "source": [
    "## Query with CDT"
   ]
  },
  {
   "cell_type": "code",
   "execution_count": 22,
   "metadata": {},
   "outputs": [
    {
     "name": "stdout",
     "output_type": "stream",
     "text": [
      "+--------------------+-----------+--------------------+--------------------+--------------------+--------+\n",
      "|                name|        SSN|        home_address|        work_history|           past_jobs|num_jobs|\n",
      "+--------------------+-----------+--------------------+--------------------+--------------------+--------+\n",
      "|[Tami, [[Joseph, ...|001-49-0685|[[23288, [Clark V...|[[Roberts PLC, [4...|[Roberts PLC, Hub...|       5|\n",
      "|[Chelsea, [[Melis...|465-88-7213|[[49305, [Ward By...|[[Ochoa and Sons,...|[Ochoa and Sons, ...|       5|\n",
      "|[Jonathan, [[Robe...|526-54-7792|[[71421, [William...|[[Henderson-Shaw,...|[Henderson-Shaw, ...|       5|\n",
      "|[Gary, [[Cameron,...|825-55-3247|[[66428, [Kim Mil...|[[Bishop, Scott a...|[Bishop, Scott an...|       5|\n",
      "|[Danielle, [[Mich...|319-30-0983|[[63276, [Bauer C...|[[Powers LLC, [60...|[Powers LLC, Powe...|       5|\n",
      "+--------------------+-----------+--------------------+--------------------+--------------------+--------+\n",
      "only showing top 5 rows\n",
      "\n"
     ]
    }
   ],
   "source": [
    "#Find people who have had at least 5 jobs in the past\n",
    "from pyspark.sql.functions import col, size\n",
    "\n",
    "loadedComplexDFWithSchema \\\n",
    ".withColumn(\"past_jobs\", col(\"work_history.company_name\")) \\\n",
    ".withColumn(\"num_jobs\", size(col(\"past_jobs\")))  \\\n",
    ".where(col(\"num_jobs\") > 4) \\\n",
    ".show(5)"
   ]
  },
  {
   "cell_type": "markdown",
   "metadata": {},
   "source": [
    "## Use Aerospike Spark Connector Configuration properties in the Spark API to improve performance \n",
    "\n",
    "  - aerospike.partition.factor: number of logical aerospike partitions [0-15]\n",
    "  - aerospike.maxthreadcount : maximum number of threads to use for writing data into Aerospike\n",
    "  - aerospike.compression : compression of java client-server communication\n",
    "  - aerospike.batchMax : maximum number of records per read request (default 5000)\n",
    "  - aerospike.recordspersecond : same as java client\n",
    "\n",
    "#### Other\n",
    "  - aerospike.keyType : Primary key type hint for schema inference. Always set it properly if primary key type is not string  \n",
    "\n",
    "See https://www.aerospike.com/docs/connect/processing/spark/reference.html for detailed description of the above properties\n"
   ]
  }
 ],
 "metadata": {
  "kernelspec": {
   "display_name": "Python 3",
   "language": "python",
   "name": "python3"
  },
  "language_info": {
   "codemirror_mode": {
    "name": "ipython",
    "version": 3
   },
   "file_extension": ".py",
   "mimetype": "text/x-python",
   "name": "python",
   "nbconvert_exporter": "python",
   "pygments_lexer": "ipython3",
   "version": "3.7.1"
  }
 },
 "nbformat": 4,
 "nbformat_minor": 2
}
