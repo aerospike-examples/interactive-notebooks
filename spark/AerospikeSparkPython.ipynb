{
 "cells": [
  {
   "cell_type": "markdown",
   "metadata": {},
   "source": [
    "# Aerospike Connect for Spark Tutorial for Python\n",
    "## Tested with Java 8, Spark 2.4.0, and Python 3.7"
   ]
  },
  {
   "cell_type": "markdown",
   "metadata": {},
   "source": [
    "### Setup\n",
    "\n",
    "Below, a seed address for your Aerospike database cluster is required\n",
    "\n",
    "Check the given namespace is available, and your feature key is located as per AS_FEATURE_KEY_PATH\n",
    "\n",
    "Finally, review https://www.aerospike.com/enterprise/download/connectors/ to ensure AEROSPIKE_SPARK_JAR_VERSION is correct"
   ]
  },
  {
   "cell_type": "code",
   "execution_count": 34,
   "metadata": {},
   "outputs": [],
   "source": [
    "# IP Address or DNS name for one host in your Aerospike cluster\n",
    "AS_HOST =\"172.16.39.143\"\n",
    "# Name of one of your namespaces. Type 'show namespaces' at the aql prompt if you are not sure\n",
    "AS_NAMESPACE = \"test\" \n",
    "AS_FEATURE_KEY_PATH = \"/etc/aerospike/features.conf\"\n",
    "AEROSPIKE_SPARK_JAR_VERSION=\"2.5.0\"\n",
    "\n",
    "AS_PORT = 3000 # Usually 3000, but change here if not\n",
    "AS_CONNECTION_STRING = AS_HOST + \":\"+ str(AS_PORT)"
   ]
  },
  {
   "cell_type": "code",
   "execution_count": 35,
   "metadata": {},
   "outputs": [],
   "source": [
    "# Next we locate the Spark installation - this will be found using the SPARK_HOME environment variable that you will have set \n",
    "# if you followed the repository README\n",
    "\n",
    "import findspark\n",
    "findspark.init()"
   ]
  },
  {
   "cell_type": "code",
   "execution_count": 36,
   "metadata": {},
   "outputs": [
    {
     "name": "stdout",
     "output_type": "stream",
     "text": [
      "aerospike-spark-assembly-2.5.0.jar already downloaded\n"
     ]
    }
   ],
   "source": [
    "# Here we download the Aerospike Spark jar\n",
    "import urllib\n",
    "import os\n",
    "\n",
    "def aerospike_spark_jar_download_url(version=AEROSPIKE_SPARK_JAR_VERSION):\n",
    "    DOWNLOAD_PREFIX=\"https://www.aerospike.com/enterprise/download/connectors/aerospike-spark/\"\n",
    "    DOWNLOAD_SUFFIX=\"/artifact/jar\"\n",
    "    AEROSPIKE_SPARK_JAR_DOWNLOAD_URL = DOWNLOAD_PREFIX+AEROSPIKE_SPARK_JAR_VERSION+DOWNLOAD_SUFFIX\n",
    "    return AEROSPIKE_SPARK_JAR_DOWNLOAD_URL\n",
    "\n",
    "def download_aerospike_spark_jar(version=AEROSPIKE_SPARK_JAR_VERSION):\n",
    "    JAR_NAME=\"aerospike-spark-assembly-\"+AEROSPIKE_SPARK_JAR_VERSION+\".jar\"\n",
    "    if(not(os.path.exists(JAR_NAME))) :\n",
    "        urllib.request.urlretrieve(aerospike_spark_jar_download_url(),JAR_NAME)\n",
    "    else :\n",
    "        print(JAR_NAME+\" already downloaded\")\n",
    "    return os.path.join(os.getcwd(),JAR_NAME)\n",
    "\n",
    "AEROSPIKE_JAR_PATH=download_aerospike_spark_jar()\n",
    "os.environ[\"PYSPARK_SUBMIT_ARGS\"] = '--jars ' + AEROSPIKE_JAR_PATH + ' pyspark-shell'"
   ]
  },
  {
   "cell_type": "code",
   "execution_count": 37,
   "metadata": {},
   "outputs": [],
   "source": [
    "import pyspark\n",
    "from pyspark.context import SparkContext\n",
    "from pyspark.sql.context import SQLContext\n",
    "from pyspark.sql.session import SparkSession\n",
    "from pyspark.sql.types import StringType, StructField, StructType, ArrayType, IntegerType, MapType, LongType, DoubleType"
   ]
  },
  {
   "cell_type": "markdown",
   "metadata": {},
   "source": [
    "Get a spark session object and set required Aerospike configuration properties"
   ]
  },
  {
   "cell_type": "markdown",
   "metadata": {},
   "source": [
    "Set up spark and point aerospike db to AS_HOST"
   ]
  },
  {
   "cell_type": "code",
   "execution_count": 38,
   "metadata": {},
   "outputs": [],
   "source": [
    "sc = SparkContext.getOrCreate()\n",
    "spark = SparkSession(sc)\n",
    "sqlContext = SQLContext(sc)\n",
    "spark.conf.set(\"aerospike.namespace\",AS_NAMESPACE)\n",
    "spark.conf.set(\"aerospike.seedhost\",AS_CONNECTION_STRING)\n",
    "spark.conf.set(\"aerospike.keyPath\",AS_FEATURE_KEY_PATH )"
   ]
  },
  {
   "cell_type": "markdown",
   "metadata": {},
   "source": [
    "## Schema in the Spark Connector\n",
    "\n",
    "-  Aerospike is schemaless, however spark adher to schema. After the schema is decided upon (either through inference or given), data within the bins must honor the types. \n",
    "\n",
    "- To infer schema, the connector samples a set of records (configurable through `aerospike.schema.scan`) to decide the name of bins/columns and their types. This implies that the derived schema depends entirely upon sampled records.  \n",
    "\n",
    "- **Note that `__key` was not part of provided schema. So how can one query using `__key`? We can just add `__key` in provided schema with appropriate type. Similarly we can add `__gen` or `__ttl` etc.**  \n",
    "         \n",
    "      schemaWithPK =  StructType([\n",
    "                StructField(\"__key\",IntegerType(), False),    \n",
    "                StructField(\"id\", IntegerType(), False),\n",
    "                StructField(\"name\", StringType(), False),\n",
    "                StructField(\"age\", IntegerType(), False),\n",
    "                StructField(\"salary\",IntegerType(), False)])\n",
    "                \n",
    "- **We recommend that you provide schema for queries that involve complex data types such as lists, maps, and mixed types. Using schema inference for CDT may cause unexpected issues.** "
   ]
  },
  {
   "cell_type": "markdown",
   "metadata": {},
   "source": [
    "### Flexible schema inference \n",
    "\n",
    "Spark assumes that the underlying data store (Aerospike in this case) follows a strict schema for all the records within a table. However, Aerospike is a No-SQL DB and is schemaless. Hence a single bin (mapped to a column ) within a set ( mapped to a table ) could technically hold values of multiple Aerospike supported types. The Spark connector reconciles this incompatibility with help of certain rules. Please choose the configuration that suits your use case. The strict configuration (aerospike.schema.flexible = false ) could be used when you have modeled your data in Aerospike to adhere to a strict schema i.e. each record within the set has the same schema.\n"
   ]
  },
  {
   "cell_type": "code",
   "execution_count": 39,
   "metadata": {},
   "outputs": [],
   "source": [
    "import random\n",
    "num_records=100\n",
    "\n",
    "schema = StructType( \n",
    "    [\n",
    "        StructField(\"_id\", IntegerType(), True),\n",
    "        StructField(\"name\", StringType(), True)\n",
    "    ]\n",
    ")\n",
    "\n",
    "inputBuf = []\n",
    "for  i in range(1, num_records) :\n",
    "         name = \"name\"  + str(i)\n",
    "         id_ = i \n",
    "         inputBuf.append((id_, name))\n",
    "    \n",
    "inputRDD = spark.sparkContext.parallelize(inputBuf)\n",
    "inputDF=spark.createDataFrame(inputRDD,schema)\n",
    "\n",
    "#Write the Sample Data to Aerospike\n",
    "inputDF \\\n",
    ".write \\\n",
    ".mode('overwrite') \\\n",
    ".format(\"com.aerospike.spark.sql\")  \\\n",
    ".option(\"aerospike.writeset\", \"py_input_data\")\\\n",
    ".option(\"aerospike.updateByKey\", \"_id\") \\\n",
    ".save()"
   ]
  },
  {
   "cell_type": "markdown",
   "metadata": {},
   "source": [
    "#### aerospike.schema.flexible = true (default) \n",
    "   \n",
    "  If none of the column types in the user-specified schema match the bin types of a record in Aerospike, a record with NULLs is returned in the result set. \n",
    "\n",
    "Please use the filter() in Spark to filter out NULL records. For e.g. df.filter(\"gender == NULL\").show(false), where df is a dataframe and gender is a field that was not specified in the user-specified schema. \n",
    "\n",
    "If the above mismatch is limited to fewer columns in the user-specified schema then NULL would be returned for those columns in the result set. **Note: there is no way to tell apart a NULL due to missing value in the original data set and the NULL due to mismatch, at this point. Hence, the user would have to treat all NULLs as missing values.** The columns that are not a part of the schema will be automatically filtered out in the result set by the connector.\n",
    "\n",
    "Please note that if any field is set to NOT nullable i.e. nullable = false, your query will error out if there’s a type mismatch between an Aerospike bin and the column type specified in the user-specified schema.\n",
    "  \n",
    "  "
   ]
  },
  {
   "cell_type": "code",
   "execution_count": 40,
   "metadata": {},
   "outputs": [
    {
     "name": "stdout",
     "output_type": "stream",
     "text": [
      "+---+----+\n",
      "|_id|name|\n",
      "+---+----+\n",
      "|604|null|\n",
      "| 10|null|\n",
      "|586|null|\n",
      "|477|null|\n",
      "| 50|null|\n",
      "+---+----+\n",
      "only showing top 5 rows\n",
      "\n"
     ]
    }
   ],
   "source": [
    "schemaIncorrect = StructType( \n",
    "    [\n",
    "        StructField(\"_id\", IntegerType(), True),\n",
    "        StructField(\"name\", IntegerType(), True)  ##Note incorrect type of name bin\n",
    "    ]\n",
    ")\n",
    "\n",
    "flexSchemaInference=spark \\\n",
    ".read \\\n",
    ".format(\"com.aerospike.spark.sql\") \\\n",
    ".schema(schemaIncorrect) \\\n",
    ".option(\"aerospike.set\", \"py_input_data\").load()\n",
    "\n",
    "flexSchemaInference.show(5)\n",
    "\n",
    "##notice all the contents of name column is null due to schema mismatch and aerospike.schema.flexible = true (by default)"
   ]
  },
  {
   "cell_type": "markdown",
   "metadata": {},
   "source": [
    "#### aerospike.schema.flexible = false \n",
    "\n",
    "If a mismatch between the user-specified schema and the schema of a record in Aerospike is detected at the bin/column level, your query will error out.\n"
   ]
  },
  {
   "cell_type": "code",
   "execution_count": 41,
   "metadata": {},
   "outputs": [],
   "source": [
    "#When strict matching is set, we will get an exception due to type mismatch with schema provided.\n",
    "\n",
    "try:\n",
    "    errorDFStrictSchemaInference=spark \\\n",
    "    .read \\\n",
    "    .format(\"com.aerospike.spark.sql\") \\\n",
    "    .schema(schemaIncorrect) \\\n",
    "    .option(\"aerospike.schema.flexible\" ,\"false\") \\\n",
    "    .option(\"aerospike.set\", \"py_input_data\").load()\n",
    "    errorDFStrictSchemaInference.show(5)\n",
    "except Exception as e:    \n",
    "    pass\n",
    "     \n",
    "#This will throw error due to type mismatch "
   ]
  },
  {
   "cell_type": "markdown",
   "metadata": {},
   "source": [
    "## Create realistic sample data"
   ]
  },
  {
   "cell_type": "code",
   "execution_count": 42,
   "metadata": {},
   "outputs": [
    {
     "name": "stdout",
     "output_type": "stream",
     "text": [
      "Data created\n"
     ]
    }
   ],
   "source": [
    "# We create age vs salary data, using three different Gaussian distributions\n",
    "import numpy as np\n",
    "import matplotlib.pyplot as plt\n",
    "import pandas as pd\n",
    "import math\n",
    "\n",
    "# Create covariance matrix from std devs + correlation\n",
    "def covariance_matrix(std_dev_1,std_dev_2,correlation):\n",
    "    return [[std_dev_1 ** 2, correlation * std_dev_1 * std_dev_2], \n",
    "           [correlation * std_dev_1 * std_dev_2, std_dev_2 ** 2]]\n",
    "\n",
    "# Return a bivariate sample given means/std dev/correlation\n",
    "def age_salary_sample(distribution_params,sample_size):\n",
    "    mean = [distribution_params[\"age_mean\"], distribution_params[\"salary_mean\"]]\n",
    "    cov = covariance_matrix(distribution_params[\"age_std_dev\"],distribution_params[\"salary_std_dev\"],\n",
    "                            distribution_params[\"age_salary_correlation\"])\n",
    "    return np.random.multivariate_normal(mean, cov, sample_size).T\n",
    "\n",
    "# Define the characteristics of our age/salary distribution\n",
    "age_salary_distribution_1 = {\"age_mean\":25,\"salary_mean\":50000,\n",
    "                             \"age_std_dev\":1,\"salary_std_dev\":5000,\"age_salary_correlation\":0.3}\n",
    "\n",
    "age_salary_distribution_2 = {\"age_mean\":45,\"salary_mean\":80000,\n",
    "                             \"age_std_dev\":4,\"salary_std_dev\":10000,\"age_salary_correlation\":0.7}\n",
    "\n",
    "age_salary_distribution_3 = {\"age_mean\":35,\"salary_mean\":70000,\n",
    "                             \"age_std_dev\":2,\"salary_std_dev\":9000,\"age_salary_correlation\":0.1}\n",
    "\n",
    "distribution_data = [age_salary_distribution_1,age_salary_distribution_2,age_salary_distribution_3]\n",
    "\n",
    "# Sample age/salary data for each distributions\n",
    "group_1_ages,group_1_salaries = age_salary_sample(age_salary_distribution_1,sample_size=100)\n",
    "group_2_ages,group_2_salaries = age_salary_sample(age_salary_distribution_2,sample_size=120)\n",
    "group_3_ages,group_3_salaries = age_salary_sample(age_salary_distribution_3,sample_size=80)\n",
    "\n",
    "ages=np.concatenate([group_1_ages,group_2_ages,group_3_ages])\n",
    "salaries=np.concatenate([group_1_salaries,group_2_salaries,group_3_salaries])\n",
    "\n",
    "print(\"Data created\")"
   ]
  },
  {
   "cell_type": "markdown",
   "metadata": {},
   "source": [
    "### Display simulated age/salary data"
   ]
  },
  {
   "cell_type": "code",
   "execution_count": 43,
   "metadata": {},
   "outputs": [
    {
     "data": {
      "image/png": "[encoded data removed]",
      "text/plain": [
       "<Figure size 432x288 with 1 Axes>"
      ]
     },
     "metadata": {
      "needs_background": "light"
     },
     "output_type": "display_data"
    }
   ],
   "source": [
    "# Plot the sample data\n",
    "group_1_colour, group_2_colour, group_3_colour ='red','blue', 'pink'\n",
    "plt.xlabel('Age',fontsize=10)\n",
    "plt.ylabel(\"Salary\",fontsize=10) \n",
    "\n",
    "plt.scatter(group_1_ages,group_1_salaries,c=group_1_colour,label=\"Group 1\")\n",
    "plt.scatter(group_2_ages,group_2_salaries,c=group_2_colour,label=\"Group 2\")\n",
    "plt.scatter(group_3_ages,group_3_salaries,c=group_3_colour,label=\"Group 3\")\n",
    "\n",
    "plt.legend(loc='upper left')\n",
    "plt.show()"
   ]
  },
  {
   "cell_type": "markdown",
   "metadata": {},
   "source": [
    "### Save data to Aerospike"
   ]
  },
  {
   "cell_type": "code",
   "execution_count": 44,
   "metadata": {},
   "outputs": [],
   "source": [
    "# Turn the above records into a Data Frame\n",
    "# First of all, create an array of arrays\n",
    "inputBuf = []\n",
    "\n",
    "for  i in range(0, len(ages)) :\n",
    "     id = i + 1 # Avoid counting from zero\n",
    "     name = \"Individual: {:03d}\".format(id)\n",
    "     # Note we need to make sure values are typed correctly\n",
    "     # salary will have type numpy.float64 - if it is not cast as below, an error will be thrown\n",
    "     age = float(ages[i])\n",
    "     salary = int(salaries[i])\n",
    "     inputBuf.append((id, name,age,salary))\n",
    "\n",
    "# Convert to an RDD \n",
    "inputRDD = spark.sparkContext.parallelize(inputBuf)\n",
    "       \n",
    "# Convert to a data frame using a schema\n",
    "schema = StructType([\n",
    "    StructField(\"id\", IntegerType(), True),\n",
    "    StructField(\"name\", StringType(), True),\n",
    "    StructField(\"age\", DoubleType(), True),\n",
    "    StructField(\"salary\",IntegerType(), True)\n",
    "])\n",
    "\n",
    "inputDF=spark.createDataFrame(inputRDD,schema)\n",
    "\n",
    "#Write the data frame to Aerospike, the id field is used as the primary key\n",
    "inputDF \\\n",
    ".write \\\n",
    ".mode('overwrite') \\\n",
    ".format(\"com.aerospike.spark.sql\")  \\\n",
    ".option(\"aerospike.set\", \"salary_data\")\\\n",
    ".option(\"aerospike.updateByKey\", \"id\") \\\n",
    ".save()"
   ]
  },
  {
   "cell_type": "markdown",
   "metadata": {},
   "source": [
    "## Load data into a DataFrame without specifying any Schema (uses schema inference)"
   ]
  },
  {
   "cell_type": "code",
   "execution_count": 45,
   "metadata": {},
   "outputs": [
    {
     "name": "stdout",
     "output_type": "stream",
     "text": [
      "+-----+--------------------+--------+------------+-----+---------------+------------------+------+---+\n",
      "|__key|            __digest|__expiry|__generation|__ttl|           name|               age|salary| id|\n",
      "+-----+--------------------+--------+------------+-----+---------------+------------------+------+---+\n",
      "| null|[03 50 2E 7F 70 9...|       0|           2|   -1|Individual: 239|36.846879958665475| 53574|239|\n",
      "| null|[04 C0 5E 9A 68 5...|       0|           2|   -1|Individual: 101| 48.26429582926913| 90786|101|\n",
      "| null|[0F 10 1A 93 B1 E...|       0|           2|   -1|Individual: 194| 47.25884227166822| 86005|194|\n",
      "| null|[1A E0 A8 A0 F2 3...|       0|           2|   -1|Individual: 031|24.723705169990147| 57241| 31|\n",
      "| null|[23 20 78 35 5D 7...|       0|           2|   -1|Individual: 139|45.185966579587195| 77090|139|\n",
      "| null|[35 00 8C 78 43 F...|       0|           2|   -1|Individual: 014|24.324909897918772| 40141| 14|\n",
      "| null|[37 00 6D 21 08 9...|       0|           2|   -1|Individual: 142| 41.00328996991751| 79653|142|\n",
      "| null|[59 00 4B C7 6D 9...|       0|           2|   -1|Individual: 272| 35.25626592119143| 75391|272|\n",
      "| null|[61 50 89 B1 EC 0...|       0|           2|   -1|Individual: 076|23.288765328224247| 41446| 76|\n",
      "| null|[6C 50 7F 9B FD C...|       0|           2|   -1|Individual: 147| 48.06259378164585| 88175|147|\n",
      "+-----+--------------------+--------+------------+-----+---------------+------------------+------+---+\n",
      "only showing top 10 rows\n",
      "\n"
     ]
    }
   ],
   "source": [
    "# Create a Spark DataFrame by using the Connector Schema inference mechanism\n",
    "# The fields preceded with __ are metadata fields - key/digest/expiry/generation/ttl\n",
    "# By default you just get everything, with no column ordering, which is why it looks untidy\n",
    "# Note we don't get anything in the 'key' field as we have not chosen to save as a bin.\n",
    "# Use .option(\"aerospike.sendKey\", True) to do this\n",
    "\n",
    "loadedDFWithoutSchema = (\n",
    "    spark.read.format(\"com.aerospike.spark.sql\") \\\n",
    "    .option(\"aerospike.set\", \"salary_data\") \\\n",
    "    .load()\n",
    ")\n",
    "\n",
    "loadedDFWithoutSchema.show(10)"
   ]
  },
  {
   "cell_type": "markdown",
   "metadata": {},
   "source": [
    "## Load data into a DataFrame using user specified schema "
   ]
  },
  {
   "cell_type": "code",
   "execution_count": 46,
   "metadata": {},
   "outputs": [
    {
     "name": "stdout",
     "output_type": "stream",
     "text": [
      "+---+---------------+------------------+------+\n",
      "| id|           name|               age|salary|\n",
      "+---+---------------+------------------+------+\n",
      "|239|Individual: 239|36.846879958665475| 53574|\n",
      "|101|Individual: 101| 48.26429582926913| 90786|\n",
      "|194|Individual: 194| 47.25884227166822| 86005|\n",
      "| 31|Individual: 031|24.723705169990147| 57241|\n",
      "|139|Individual: 139|45.185966579587195| 77090|\n",
      "+---+---------------+------------------+------+\n",
      "only showing top 5 rows\n",
      "\n"
     ]
    }
   ],
   "source": [
    "# If we explicitly set the schema, using the previously created schema object\n",
    "# we effectively type the rows in the Data Frame\n",
    "\n",
    "loadedDFWithSchema=spark \\\n",
    ".read \\\n",
    ".format(\"com.aerospike.spark.sql\") \\\n",
    ".schema(schema) \\\n",
    ".option(\"aerospike.set\", \"salary_data\").load()\n",
    "\n",
    "loadedDFWithSchema.show(5)"
   ]
  },
  {
   "cell_type": "markdown",
   "metadata": {},
   "source": [
    "## Working with complex Data Types (CDT) in Aerospike\n",
    "\n",
    "### Save json into Aerospike using a schema"
   ]
  },
  {
   "cell_type": "code",
   "execution_count": 47,
   "metadata": {},
   "outputs": [],
   "source": [
    "# Schema specification\n",
    "aliases_type = StructType([\n",
    "    StructField(\"first_name\",StringType(),False),\n",
    "    StructField(\"last_name\",StringType(),False)\n",
    "])\n",
    "\n",
    "id_type = StructType([\n",
    "    StructField(\"first_name\",StringType(),False), \n",
    "    StructField(\"last_name\",StringType(),False), \n",
    "    StructField(\"aliases\",ArrayType(aliases_type),False)\n",
    "])\n",
    "\n",
    "street_adress_type = StructType([\n",
    "    StructField(\"street_name\",StringType(),False), \n",
    "    StructField(\"apt_number\",IntegerType(),False)\n",
    "])\n",
    "\n",
    "address_type = StructType([\n",
    "    StructField(\"zip\",LongType(),False), \n",
    "    StructField(\"street\",street_adress_type,False), \n",
    "    StructField(\"city\",StringType(),False)\n",
    "])\n",
    "\n",
    "workHistory_type = StructType([\n",
    "    StructField (\"company_name\",StringType(),False),\n",
    "    StructField( \"company_address\",address_type,False),\n",
    "    StructField(\"worked_from\",StringType(),False)\n",
    "])\n",
    "\n",
    "person_type = StructType([\n",
    "    StructField(\"name\",id_type,False),\n",
    "    StructField(\"SSN\",StringType(),False),\n",
    "    StructField(\"home_address\",ArrayType(address_type),False),\n",
    "    StructField(\"work_history\",ArrayType(workHistory_type),False)\n",
    "])\n",
    "\n",
    "# JSON data location\n",
    "complex_data_json=\"resources/nested_data.json\"\n",
    "\n",
    "# Read data in using prepared schema\n",
    "cmplx_data_with_schema=spark.read.schema(person_type).json(complex_data_json)\n",
    "\n",
    "# Save data to Aerospike\n",
    "cmplx_data_with_schema \\\n",
    ".write \\\n",
    ".mode('overwrite') \\\n",
    ".format(\"com.aerospike.spark.sql\")  \\\n",
    ".option(\"aerospike.writeset\", \"complex_input_data\") \\\n",
    ".option(\"aerospike.updateByKey\", \"name.first_name\") \\\n",
    ".save()"
   ]
  },
  {
   "cell_type": "markdown",
   "metadata": {},
   "source": [
    "### Retrieve CDT from Aerospike into a DataFrame using schema "
   ]
  },
  {
   "cell_type": "code",
   "execution_count": 48,
   "metadata": {},
   "outputs": [
    {
     "name": "stdout",
     "output_type": "stream",
     "text": [
      "+--------------------+-----------+--------------------+--------------------+\n",
      "|                name|        SSN|        home_address|        work_history|\n",
      "+--------------------+-----------+--------------------+--------------------+\n",
      "|[Maria, Bates, [[...|165-16-6030|[[2399, [Ebony Un...|[[Adams-Guzman, [...|\n",
      "|[Brenda, Gonzales...|396-98-0954|[[63320, [Diane O...|[[Powell Group, [...|\n",
      "|[Bryan, Davis, [[...|682-39-2482|[[47508, [Cooper ...|[[Rivera-Ruiz, [1...|\n",
      "|[Tami, Jordan, [[...|001-49-0685|[[23288, [Clark V...|[[Roberts PLC, [4...|\n",
      "|[Connie, Joyce, [...|369-38-9885|[[27216, [Goodman...|[[Pugh, Walsh and...|\n",
      "+--------------------+-----------+--------------------+--------------------+\n",
      "only showing top 5 rows\n",
      "\n"
     ]
    }
   ],
   "source": [
    "loadedComplexDFWithSchema=spark \\\n",
    ".read \\\n",
    ".format(\"com.aerospike.spark.sql\") \\\n",
    ".option(\"aerospike.set\", \"complex_input_data\") \\\n",
    ".schema(person_type) \\\n",
    ".load() \n",
    "loadedComplexDFWithSchema.show(5)"
   ]
  },
  {
   "cell_type": "markdown",
   "metadata": {},
   "source": [
    "## Data Exploration with Aerospike "
   ]
  },
  {
   "cell_type": "code",
   "execution_count": 49,
   "metadata": {},
   "outputs": [
    {
     "data": {
      "text/html": [
       "<div>\n",
       "<style scoped>\n",
       "    .dataframe tbody tr th:only-of-type {\n",
       "        vertical-align: middle;\n",
       "    }\n",
       "\n",
       "    .dataframe tbody tr th {\n",
       "        vertical-align: top;\n",
       "    }\n",
       "\n",
       "    .dataframe thead th {\n",
       "        text-align: right;\n",
       "    }\n",
       "</style>\n",
       "<table border=\"1\" class=\"dataframe\">\n",
       "  <thead>\n",
       "    <tr style=\"text-align: right;\">\n",
       "      <th></th>\n",
       "      <th>id</th>\n",
       "      <th>age</th>\n",
       "      <th>salary</th>\n",
       "    </tr>\n",
       "  </thead>\n",
       "  <tbody>\n",
       "    <tr>\n",
       "      <th>count</th>\n",
       "      <td>300.000000</td>\n",
       "      <td>300.000000</td>\n",
       "      <td>300.000000</td>\n",
       "    </tr>\n",
       "    <tr>\n",
       "      <th>mean</th>\n",
       "      <td>150.500000</td>\n",
       "      <td>35.658049</td>\n",
       "      <td>67142.853333</td>\n",
       "    </tr>\n",
       "    <tr>\n",
       "      <th>std</th>\n",
       "      <td>86.746758</td>\n",
       "      <td>9.065346</td>\n",
       "      <td>16018.247002</td>\n",
       "    </tr>\n",
       "    <tr>\n",
       "      <th>min</th>\n",
       "      <td>1.000000</td>\n",
       "      <td>23.040339</td>\n",
       "      <td>36753.000000</td>\n",
       "    </tr>\n",
       "    <tr>\n",
       "      <th>25%</th>\n",
       "      <td>75.750000</td>\n",
       "      <td>25.418437</td>\n",
       "      <td>52569.750000</td>\n",
       "    </tr>\n",
       "    <tr>\n",
       "      <th>50%</th>\n",
       "      <td>150.500000</td>\n",
       "      <td>35.459199</td>\n",
       "      <td>68355.000000</td>\n",
       "    </tr>\n",
       "    <tr>\n",
       "      <th>75%</th>\n",
       "      <td>225.250000</td>\n",
       "      <td>44.063167</td>\n",
       "      <td>80311.750000</td>\n",
       "    </tr>\n",
       "    <tr>\n",
       "      <th>max</th>\n",
       "      <td>300.000000</td>\n",
       "      <td>54.832306</td>\n",
       "      <td>105359.000000</td>\n",
       "    </tr>\n",
       "  </tbody>\n",
       "</table>\n",
       "</div>"
      ],
      "text/plain": [
       "               id         age         salary\n",
       "count  300.000000  300.000000     300.000000\n",
       "mean   150.500000   35.658049   67142.853333\n",
       "std     86.746758    9.065346   16018.247002\n",
       "min      1.000000   23.040339   36753.000000\n",
       "25%     75.750000   25.418437   52569.750000\n",
       "50%    150.500000   35.459199   68355.000000\n",
       "75%    225.250000   44.063167   80311.750000\n",
       "max    300.000000   54.832306  105359.000000"
      ]
     },
     "execution_count": 49,
     "metadata": {},
     "output_type": "execute_result"
    }
   ],
   "source": [
    "import pandas\n",
    "import matplotlib\n",
    "import matplotlib.pyplot as plt\n",
    "\n",
    "#convert spark df to pandas df\n",
    "pdf = loadedDFWithSchema.toPandas()\n",
    "\n",
    "# Describe the data\n",
    "\n",
    "pdf.describe()"
   ]
  },
  {
   "cell_type": "code",
   "execution_count": 50,
   "metadata": {},
   "outputs": [
    {
     "name": "stdout",
     "output_type": "stream",
     "text": [
      "23 55\n"
     ]
    },
    {
     "data": {
      "image/png": "[encoded data removed]",
      "text/plain": [
       "<Figure size 432x288 with 1 Axes>"
      ]
     },
     "metadata": {
      "needs_background": "light"
     },
     "output_type": "display_data"
    },
    {
     "data": {
      "image/png": "[encoded data removed]",
      "text/plain": [
       "<Figure size 432x288 with 1 Axes>"
      ]
     },
     "metadata": {
      "needs_background": "light"
     },
     "output_type": "display_data"
    },
    {
     "data": {
      "image/png": "[encoded data removed]",
      "text/plain": [
       "<Figure size 432x288 with 2 Axes>"
      ]
     },
     "metadata": {
      "needs_background": "light"
     },
     "output_type": "display_data"
    }
   ],
   "source": [
    "#Histogram - Age\n",
    "age_min, age_max = int(np.amin(pdf['age'])), math.ceil(np.amax(pdf['age']))\n",
    "age_bucket_size = 5\n",
    "print(age_min,age_max)\n",
    "pdf[['age']].plot(kind='hist',bins=range(age_min,age_max,age_bucket_size),rwidth=0.8)\n",
    "plt.xlabel('Age',fontsize=10)\n",
    "plt.legend(loc=None)\n",
    "plt.show()\n",
    "\n",
    "#Histogram - Salary\n",
    "salary_min, salary_max = int(np.amin(pdf['salary'])), math.ceil(np.amax(pdf['salary']))\n",
    "salary_bucket_size = 5000\n",
    "pdf[['salary']].plot(kind='hist',bins=range(salary_min,salary_max,salary_bucket_size),rwidth=0.8)\n",
    "plt.xlabel('Salary',fontsize=10)\n",
    "plt.legend(loc=None)\n",
    "plt.show()\n",
    "\n",
    "# Heatmap\n",
    "age_bucket_count = math.ceil((age_max - age_min)/age_bucket_size)\n",
    "salary_bucket_count = math.ceil((salary_max - salary_min)/salary_bucket_size)\n",
    "\n",
    "x = [[0 for i in range(salary_bucket_count)] for j in range(age_bucket_count)]\n",
    "for i in range(len(pdf['age'])):\n",
    "    age_bucket = math.floor((pdf['age'][i] - age_min)/age_bucket_size)\n",
    "    salary_bucket = math.floor((pdf['salary'][i] - salary_min)/salary_bucket_size)\n",
    "    x[age_bucket][salary_bucket] += 1\n",
    "\n",
    "plt.title(\"Salary/Age distribution heatmap\")\n",
    "plt.xlabel(\"Salary in '000s\")\n",
    "plt.ylabel(\"Age\")\n",
    "\n",
    "plt.imshow(x, cmap='YlOrRd', interpolation='nearest',extent=[salary_min/1000,salary_max/1000,age_min,age_max],\n",
    "           origin=\"lower\")\n",
    "plt.colorbar(orientation=\"horizontal\")\n",
    "plt.show()"
   ]
  },
  {
   "cell_type": "markdown",
   "metadata": {},
   "source": [
    "# Querying Aerospike Data using SparkSQL\n",
    "## Notes   \n",
    "1. Queries using the  primary key will use batch gets - https://www.aerospike.com/docs/client/c/usage/kvs/batch.html] and run fast. \n",
    "2. All other queries may entail a full scan of the Aerospike DB if they can’t be converted to Aerospike batch get. "
   ]
  },
  {
   "cell_type": "markdown",
   "metadata": {},
   "source": [
    "## Queries that include Primary Key in the Predicate\n",
    "\n",
    "With batch get queries we can apply filters on metadata columns such as `__gen` or `__ttl`. To do this, these columns should be exposed through the schema."
   ]
  },
  {
   "cell_type": "code",
   "execution_count": 51,
   "metadata": {},
   "outputs": [
    {
     "name": "stdout",
     "output_type": "stream",
     "text": [
      "+-----+--------------------+--------+------------+-----+---------------+------------------+------+---+\n",
      "|__key|            __digest|__expiry|__generation|__ttl|           name|               age|salary| id|\n",
      "+-----+--------------------+--------+------------+-----+---------------+------------------+------+---+\n",
      "|  100|[82 46 D4 AF BB 7...|       0|           2|   -1|Individual: 100|25.268556181011125| 47397|100|\n",
      "+-----+--------------------+--------+------------+-----+---------------+------------------+------+---+\n",
      "\n"
     ]
    }
   ],
   "source": [
    "# Basic PKey query\n",
    "batchGet1= spark \\\n",
    ".read \\\n",
    ".format(\"com.aerospike.spark.sql\") \\\n",
    ".option(\"aerospike.set\", \"salary_data\") \\\n",
    ".option(\"aerospike.keyType\", \"int\") \\\n",
    ".load().where(\"__key = 100\") \\\n",
    "\n",
    "batchGet1.show()\n",
    "#Note ASDB only supports equality test with PKs in primary key query. \n",
    "#So, a where clause with \"__key >10\", would result in scan query!"
   ]
  },
  {
   "cell_type": "code",
   "execution_count": 52,
   "metadata": {},
   "outputs": [
    {
     "name": "stdout",
     "output_type": "stream",
     "text": [
      "+-----+--------------------+--------+------------+-----+---------------+------------------+------+---+\n",
      "|__key|            __digest|__expiry|__generation|__ttl|           name|               age|salary| id|\n",
      "+-----+--------------------+--------+------------+-----+---------------+------------------+------+---+\n",
      "|   13|[27 B2 50 19 5B 5...|       0|           2|   -1|Individual: 013|26.305262713477124| 57551| 13|\n",
      "|    5|[CC 73 E2 C2 23 2...|       0|           2|   -1|Individual: 005|24.594092884835426| 59032|  5|\n",
      "|    1|[85 36 18 55 4C B...|       0|           2|   -1|Individual: 001|26.194601217760642| 54575|  1|\n",
      "|    9|[EB 86 7C 94 AA 4...|       0|           2|   -1|Individual: 009|24.009264541793193| 49235|  9|\n",
      "|    3|[B1 E9 BC 33 C7 9...|       0|           2|   -1|Individual: 003| 24.76643067709475| 49949|  3|\n",
      "+-----+--------------------+--------+------------+-----+---------------+------------------+------+---+\n",
      "only showing top 5 rows\n",
      "\n"
     ]
    }
   ],
   "source": [
    "# Batch get, primary key based query\n",
    "from pyspark.sql.functions import col\n",
    "somePrimaryKeys= list(range(1,10))\n",
    "someMoreKeys= list(range(12,14))\n",
    "batchGet2= spark \\\n",
    ".read \\\n",
    ".format(\"com.aerospike.spark.sql\") \\\n",
    ".option(\"aerospike.set\", \"salary_data\") \\\n",
    ".option(\"aerospike.keyType\", \"int\") \\\n",
    ".load().where((col(\"__key\").isin(somePrimaryKeys)) | ( col(\"__key\").isin(someMoreKeys))) \n",
    "\n",
    "batchGet2.show(5)"
   ]
  },
  {
   "cell_type": "markdown",
   "metadata": {},
   "source": [
    "## Queries including non-primary key conditions"
   ]
  },
  {
   "cell_type": "code",
   "execution_count": 53,
   "metadata": {
    "scrolled": true
   },
   "outputs": [
    {
     "name": "stdout",
     "output_type": "stream",
     "text": [
      "+-----+--------------------+--------+------------+-----+---------------+------------------+------+---+\n",
      "|__key|            __digest|__expiry|__generation|__ttl|           name|               age|salary| id|\n",
      "+-----+--------------------+--------+------------+-----+---------------+------------------+------+---+\n",
      "| null|[19 31 DD 18 CE F...|       0|           2|   -1|Individual: 205|54.832306137276134|105359|205|\n",
      "| null|[53 52 6E C1 56 F...|       0|           2|   -1|Individual: 161| 50.35194386161602| 96077|161|\n",
      "| null|[7B 24 64 F0 DD 3...|       0|           2|   -1|Individual: 168|50.717229076238375| 97296|168|\n",
      "| null|[F5 15 4A 57 D8 9...|       0|           2|   -1|Individual: 204|50.457350340705645| 94180|204|\n",
      "| null|[D1 26 86 05 C2 4...|       0|           2|   -1|Individual: 215| 52.48455521201865|104815|215|\n",
      "| null|[74 17 7B 70 42 E...|       0|           2|   -1|Individual: 155|52.638003833525495| 95366|155|\n",
      "| null|[13 7A C5 3B E3 D...|       0|           2|   -1|Individual: 190| 50.92812929006827| 80873|190|\n",
      "| null|[B1 7B 41 59 6C 7...|       0|           2|   -1|Individual: 199| 50.22675853296421| 83061|199|\n",
      "| null|[82 9C DC 8A DB 0...|       0|           2|   -1|Individual: 125| 50.47666800145446| 88854|125|\n",
      "| null|[DF 6D 03 6F 18 2...|       0|           2|   -1|Individual: 193| 52.97812484150283| 86613|193|\n",
      "| null|[21 0F 90 23 0A 5...|       0|           2|   -1|Individual: 114| 53.47982193039799| 81059|114|\n",
      "| null|[4B AF 54 1F E5 2...|       0|           2|   -1|Individual: 178|52.500817338248524| 77385|178|\n",
      "+-----+--------------------+--------+------------+-----+---------------+------------------+------+---+\n",
      "\n"
     ]
    }
   ],
   "source": [
    "# This query will run as a scan, which will be slower\n",
    "somePrimaryKeys= list(range(1,10))\n",
    "scanQuery1= spark \\\n",
    ".read \\\n",
    ".format(\"com.aerospike.spark.sql\") \\\n",
    ".option(\"aerospike.set\", \"salary_data\") \\\n",
    ".option(\"aerospike.keyType\", \"int\") \\\n",
    ".load().where((col(\"__key\").isin(somePrimaryKeys)) | ( col(\"age\") >50 ))\n",
    "\n",
    "scanQuery1.show()"
   ]
  },
  {
   "cell_type": "markdown",
   "metadata": {},
   "source": [
    "## Query with CDT"
   ]
  },
  {
   "cell_type": "code",
   "execution_count": 54,
   "metadata": {},
   "outputs": [
    {
     "name": "stdout",
     "output_type": "stream",
     "text": [
      "+--------------------+-----------+--------------------+--------------------+--------------------+--------+\n",
      "|                name|        SSN|        home_address|        work_history|           past_jobs|num_jobs|\n",
      "+--------------------+-----------+--------------------+--------------------+--------------------+--------+\n",
      "|[Tami, Jordan, [[...|001-49-0685|[[23288, [Clark V...|[[Roberts PLC, [4...|[Roberts PLC, Hub...|       5|\n",
      "|[Chelsea, Clark, ...|465-88-7213|[[49305, [Ward By...|[[Ochoa and Sons,...|[Ochoa and Sons, ...|       5|\n",
      "|[Jonathan, Smith,...|526-54-7792|[[71421, [William...|[[Henderson-Shaw,...|[Henderson-Shaw, ...|       5|\n",
      "|[Gary, Spencer, [...|825-55-3247|[[66428, [Kim Mil...|[[Bishop, Scott a...|[Bishop, Scott an...|       5|\n",
      "|[Danielle, Deleon...|319-30-0983|[[63276, [Bauer C...|[[Powers LLC, [60...|[Powers LLC, Powe...|       5|\n",
      "+--------------------+-----------+--------------------+--------------------+--------------------+--------+\n",
      "only showing top 5 rows\n",
      "\n"
     ]
    }
   ],
   "source": [
    "#Find people who have had at least 5 jobs in the past\n",
    "from pyspark.sql.functions import col, size\n",
    "\n",
    "loadedComplexDFWithSchema \\\n",
    ".withColumn(\"past_jobs\", col(\"work_history.company_name\")) \\\n",
    ".withColumn(\"num_jobs\", size(col(\"past_jobs\")))  \\\n",
    ".where(col(\"num_jobs\") > 4) \\\n",
    ".show(5)"
   ]
  },
  {
   "cell_type": "markdown",
   "metadata": {},
   "source": [
    "## Parameters for tuning Aerospike / Spark performance\n",
    "\n",
    "  - aerospike.partition.factor: number of logical aerospike partitions [0-15]\n",
    "  - aerospike.maxthreadcount : maximum number of threads to use for writing data into Aerospike\n",
    "  - aerospike.compression : compression of java client-server communication\n",
    "  - aerospike.batchMax : maximum number of records per read request (default 5000)\n",
    "  - aerospike.recordspersecond : same as java client\n",
    "\n",
    "## Other useful parameters\n",
    "  - aerospike.keyType : Primary key type hint for schema inference. Always set it properly if primary key type is not string  \n",
    "\n",
    "See https://www.aerospike.com/docs/connect/processing/spark/reference.html for detailed description of the above properties\n"
   ]
  },
  {
   "cell_type": "markdown",
   "metadata": {},
   "source": [
    "# Machine Learning using Aerospike / Spark\n",
    "\n",
    "In this section we use the data we took from Aerospike and apply a clustering algorithm to it.\n",
    "\n",
    "We assume the data is composed of multiple data sets having a Gaussian multi-variate distribution\n",
    "\n",
    "We don't know how many clusters there are, so we try clustering based on the assumption there are 1 through 20.\n",
    "\n",
    "We compare the quality of the results using the Bayesian Information Criterion - https://en.wikipedia.org/wiki/Bayesian_information_criterion and pick the best.\n",
    "    \n",
    "## Find Optimal Cluster Count    "
   ]
  },
  {
   "cell_type": "code",
   "execution_count": 55,
   "metadata": {},
   "outputs": [
    {
     "name": "stdout",
     "output_type": "stream",
     "text": [
      "Optimal cluster count found to be 4\n"
     ]
    }
   ],
   "source": [
    "from sklearn.mixture import GaussianMixture\n",
    "\n",
    "# We take the data we previously \n",
    "ages=pdf['age']\n",
    "salaries=pdf['salary']\n",
    "age_salary_matrix=np.matrix([ages,salaries]).T\n",
    "\n",
    "# Find the optimal number of clusters\n",
    "optimal_cluster_count = 1\n",
    "best_bic_score = GaussianMixture(1).fit(age_salary_matrix).bic(age_salary_matrix)\n",
    "\n",
    "for count in range(1,20):\n",
    "    gm=GaussianMixture(count)\n",
    "    gm.fit(age_salary_matrix)\n",
    "    if gm.bic(age_salary_matrix) < best_bic_score:\n",
    "        best_bic_score = gm.bic(age_salary_matrix)\n",
    "        optimal_cluster_count = count\n",
    "\n",
    "print(\"Optimal cluster count found to be \"+str(optimal_cluster_count))"
   ]
  },
  {
   "cell_type": "markdown",
   "metadata": {},
   "source": [
    "## Estimate cluster distribution parameters\n",
    "Next we fit our cluster using the optimal cluster count, and print out the discovered means and covariance matrix"
   ]
  },
  {
   "cell_type": "code",
   "execution_count": 56,
   "metadata": {},
   "outputs": [
    {
     "data": {
      "text/html": [
       "<div>\n",
       "<style scoped>\n",
       "    .dataframe tbody tr th:only-of-type {\n",
       "        vertical-align: middle;\n",
       "    }\n",
       "\n",
       "    .dataframe tbody tr th {\n",
       "        vertical-align: top;\n",
       "    }\n",
       "\n",
       "    .dataframe thead th {\n",
       "        text-align: right;\n",
       "    }\n",
       "</style>\n",
       "<table border=\"1\" class=\"dataframe\">\n",
       "  <thead>\n",
       "    <tr style=\"text-align: right;\">\n",
       "      <th></th>\n",
       "      <th>Est Mean Age</th>\n",
       "      <th>Est Mean Salary</th>\n",
       "      <th>Est Age Std Dev</th>\n",
       "      <th>Est Salary Std Dev</th>\n",
       "      <th>Est Correlation</th>\n",
       "    </tr>\n",
       "  </thead>\n",
       "  <tbody>\n",
       "    <tr>\n",
       "      <th>0</th>\n",
       "      <td>35.13</td>\n",
       "      <td>61799.0</td>\n",
       "      <td>1.58</td>\n",
       "      <td>6018.0</td>\n",
       "      <td>0.343</td>\n",
       "    </tr>\n",
       "    <tr>\n",
       "      <th>1</th>\n",
       "      <td>46.81</td>\n",
       "      <td>84569.0</td>\n",
       "      <td>2.69</td>\n",
       "      <td>8168.0</td>\n",
       "      <td>0.770</td>\n",
       "    </tr>\n",
       "    <tr>\n",
       "      <th>2</th>\n",
       "      <td>24.94</td>\n",
       "      <td>48990.0</td>\n",
       "      <td>0.91</td>\n",
       "      <td>5534.0</td>\n",
       "      <td>0.300</td>\n",
       "    </tr>\n",
       "    <tr>\n",
       "      <th>3</th>\n",
       "      <td>38.61</td>\n",
       "      <td>75503.0</td>\n",
       "      <td>5.13</td>\n",
       "      <td>7120.0</td>\n",
       "      <td>-0.132</td>\n",
       "    </tr>\n",
       "  </tbody>\n",
       "</table>\n",
       "</div>"
      ],
      "text/plain": [
       "   Est Mean Age  Est Mean Salary  Est Age Std Dev  Est Salary Std Dev  \\\n",
       "0         35.13          61799.0             1.58              6018.0   \n",
       "1         46.81          84569.0             2.69              8168.0   \n",
       "2         24.94          48990.0             0.91              5534.0   \n",
       "3         38.61          75503.0             5.13              7120.0   \n",
       "\n",
       "   Est Correlation  \n",
       "0            0.343  \n",
       "1            0.770  \n",
       "2            0.300  \n",
       "3           -0.132  "
      ]
     },
     "execution_count": 56,
     "metadata": {},
     "output_type": "execute_result"
    }
   ],
   "source": [
    "gm = GaussianMixture(optimal_cluster_count)\n",
    "gm.fit(age_salary_matrix)\n",
    "\n",
    "estimates = []\n",
    "# Index\n",
    "for index in range(0,optimal_cluster_count):\n",
    "    estimated_mean_age = round(gm.means_[index][0],2)\n",
    "    estimated_mean_salary = round(gm.means_[index][1],0)\n",
    "    estimated_age_std_dev = round(math.sqrt(gm.covariances_[index][0][0]),2)\n",
    "    estimated_salary_std_dev = round(math.sqrt(gm.covariances_[index][1][1]),0)\n",
    "    estimated_correlation = round(gm.covariances_[index][0][1] / ( estimated_age_std_dev * estimated_salary_std_dev ),3)\n",
    "    row = [estimated_mean_age,estimated_mean_salary,estimated_age_std_dev,estimated_salary_std_dev,estimated_correlation]\n",
    "    estimates.append(row)\n",
    "    \n",
    "pd.DataFrame(estimates,columns = [\"Est Mean Age\",\"Est Mean Salary\",\"Est Age Std Dev\",\"Est Salary Std Dev\",\"Est Correlation\"])    \n"
   ]
  },
  {
   "cell_type": "markdown",
   "metadata": {},
   "source": [
    "## Original Distribution Parameters"
   ]
  },
  {
   "cell_type": "code",
   "execution_count": 57,
   "metadata": {},
   "outputs": [
    {
     "data": {
      "text/html": [
       "<div>\n",
       "<style scoped>\n",
       "    .dataframe tbody tr th:only-of-type {\n",
       "        vertical-align: middle;\n",
       "    }\n",
       "\n",
       "    .dataframe tbody tr th {\n",
       "        vertical-align: top;\n",
       "    }\n",
       "\n",
       "    .dataframe thead th {\n",
       "        text-align: right;\n",
       "    }\n",
       "</style>\n",
       "<table border=\"1\" class=\"dataframe\">\n",
       "  <thead>\n",
       "    <tr style=\"text-align: right;\">\n",
       "      <th></th>\n",
       "      <th>Mean Age</th>\n",
       "      <th>Mean Salary</th>\n",
       "      <th>Age Std Dev</th>\n",
       "      <th>Salary Std Dev</th>\n",
       "      <th>Correlation</th>\n",
       "    </tr>\n",
       "  </thead>\n",
       "  <tbody>\n",
       "    <tr>\n",
       "      <th>0</th>\n",
       "      <td>25</td>\n",
       "      <td>50000</td>\n",
       "      <td>1</td>\n",
       "      <td>5000</td>\n",
       "      <td>0.3</td>\n",
       "    </tr>\n",
       "    <tr>\n",
       "      <th>1</th>\n",
       "      <td>45</td>\n",
       "      <td>80000</td>\n",
       "      <td>4</td>\n",
       "      <td>10000</td>\n",
       "      <td>0.7</td>\n",
       "    </tr>\n",
       "    <tr>\n",
       "      <th>2</th>\n",
       "      <td>35</td>\n",
       "      <td>70000</td>\n",
       "      <td>2</td>\n",
       "      <td>9000</td>\n",
       "      <td>0.1</td>\n",
       "    </tr>\n",
       "  </tbody>\n",
       "</table>\n",
       "</div>"
      ],
      "text/plain": [
       "   Mean Age  Mean Salary  Age Std Dev  Salary Std Dev  Correlation\n",
       "0        25        50000            1            5000          0.3\n",
       "1        45        80000            4           10000          0.7\n",
       "2        35        70000            2            9000          0.1"
      ]
     },
     "execution_count": 57,
     "metadata": {},
     "output_type": "execute_result"
    }
   ],
   "source": [
    "distribution_data_as_rows = []\n",
    "for distribution in distribution_data:\n",
    "    row = [distribution['age_mean'],distribution['salary_mean'],distribution['age_std_dev'],\n",
    "                             distribution['salary_std_dev'],distribution['age_salary_correlation']]\n",
    "    distribution_data_as_rows.append(row)\n",
    "\n",
    "pd.DataFrame(distribution_data_as_rows,columns = [\"Mean Age\",\"Mean Salary\",\"Age Std Dev\",\"Salary Std Dev\",\"Correlation\"])"
   ]
  },
  {
   "cell_type": "markdown",
   "metadata": {},
   "source": [
    "You can see that the algorithm provides good estimates of the original parameters"
   ]
  },
  {
   "cell_type": "markdown",
   "metadata": {},
   "source": [
    "## Prediction\n",
    "\n",
    "We generate new age/salary pairs for each of the distributions and look at how accurate the prediction is"
   ]
  },
  {
   "cell_type": "code",
   "execution_count": 58,
   "metadata": {},
   "outputs": [
    {
     "name": "stdout",
     "output_type": "stream",
     "text": [
      "Accuracies for each distribution :  100.00% ,62.20% ,40.80%\n",
      "Overall accuracy :  67.67%\n"
     ]
    }
   ],
   "source": [
    "def prediction_accuracy(model,age_salary_distribution,sample_size):\n",
    "    # Generate new values\n",
    "    new_ages,new_salaries = age_salary_sample(age_salary_distribution,sample_size)\n",
    "    new_age_salary_matrix=np.matrix([new_ages,new_salaries]).T\n",
    "    # Find which cluster the mean would be classified into\n",
    "    mean = np.matrix([age_salary_distribution['age_mean'],age_salary_distribution['salary_mean']])\n",
    "    mean_cluster_index = model.predict(mean)[0]\n",
    "    # How would new samples be classified\n",
    "    classification = model.predict(new_age_salary_matrix)\n",
    "    # How many were classified correctly\n",
    "    correctly_classified = len([ 1 for x in classification if x  == mean_cluster_index])\n",
    "    return correctly_classified / sample_size\n",
    "\n",
    "prediction_accuracy_results = [None for x in range(3)]\n",
    "for index, age_salary_distribution in enumerate(distribution_data):\n",
    "    prediction_accuracy_results[index] = prediction_accuracy(gm,age_salary_distribution,1000)\n",
    "\n",
    "overall_accuracy = sum(prediction_accuracy_results)/ len(prediction_accuracy_results)\n",
    "print(\"Accuracies for each distribution : \",\" ,\".join(map('{:.2%}'.format,prediction_accuracy_results)))\n",
    "print(\"Overall accuracy : \",'{:.2%}'.format(overall_accuracy))\n"
   ]
  }
 ],
 "metadata": {
  "kernelspec": {
   "display_name": "Python 3",
   "language": "python",
   "name": "python3"
  },
  "language_info": {
   "codemirror_mode": {
    "name": "ipython",
    "version": 3
   },
   "file_extension": ".py",
   "mimetype": "text/x-python",
   "name": "python",
   "nbconvert_exporter": "python",
   "pygments_lexer": "ipython3",
   "version": "3.7.0"
  }
 },
 "nbformat": 4,
 "nbformat_minor": 2
}
