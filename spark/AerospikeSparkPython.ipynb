{
 "cells": [
  {
   "cell_type": "markdown",
   "metadata": {},
   "source": [
    "# Aerospike Connect for Spark Tutorial for Python\n",
    "## Tested with Java 8, Spark 2.4.0, and Python 3.7"
   ]
  },
  {
   "cell_type": "code",
   "execution_count": 1,
   "metadata": {},
   "outputs": [],
   "source": [
    "import os\n",
    "os.environ[\"PYSPARK_SUBMIT_ARGS\"] = '--jars /Users/rahulkumar/aerospike/notebooks/aerospike-spark-assembly-2.4.0.jar pyspark-shell'"
   ]
  },
  {
   "cell_type": "code",
   "execution_count": 2,
   "metadata": {},
   "outputs": [],
   "source": [
    "import findspark\n",
    "findspark.init()"
   ]
  },
  {
   "cell_type": "code",
   "execution_count": 3,
   "metadata": {},
   "outputs": [],
   "source": [
    "import pyspark\n",
    "from pyspark.context import SparkContext\n",
    "from pyspark.sql.context import SQLContext\n",
    "from pyspark.sql.session import SparkSession\n",
    "from pyspark.sql.types import StringType, StructField, StructType, ArrayType, IntegerType, MapType, LongType"
   ]
  },
  {
   "cell_type": "code",
   "execution_count": 4,
   "metadata": {},
   "outputs": [],
   "source": [
    "AS_HOST =\"172.16.39.142:3000\"\n",
    "namespace= \"test\" "
   ]
  },
  {
   "cell_type": "markdown",
   "metadata": {},
   "source": [
    "Set up spark and point aerospike db to AS_HOST"
   ]
  },
  {
   "cell_type": "code",
   "execution_count": 5,
   "metadata": {},
   "outputs": [],
   "source": [
    "sc = SparkContext.getOrCreate()\n",
    "spark = SparkSession(sc)\n",
    "sqlContext = SQLContext(sc)\n",
    "spark.conf.set(\"aerospike.namespace\", namespace)\n",
    "spark.conf.set(\"aerospike.seedhost\", AS_HOST)"
   ]
  },
  {
   "cell_type": "markdown",
   "metadata": {},
   "source": [
    "## Create sample data and write to Aerospike database"
   ]
  },
  {
   "cell_type": "code",
   "execution_count": 6,
   "metadata": {},
   "outputs": [],
   "source": [
    "import random\n",
    "num_records=1000\n",
    "\n",
    "schema = StructType( \n",
    "    [\n",
    "        StructField(\"_id\", IntegerType(), True),\n",
    "        StructField(\"name\", StringType(), True),\n",
    "        StructField(\"age\", IntegerType(), True),\n",
    "        StructField(\"salary\",IntegerType(), True)\n",
    "    ]\n",
    ")\n",
    "\n",
    "\n",
    "inputBuf = []\n",
    "for  i in range(1, num_records) :\n",
    "         name = \"name\"  + str(i)\n",
    "         age = i%100\n",
    "         salary = 50000 + random.randint(1,50000)\n",
    "         id_ = i \n",
    "         inputBuf.append((id_, name, age,salary))\n",
    "    \n",
    "inputRDD = spark.sparkContext.parallelize(inputBuf)\n",
    "inputDF=spark.createDataFrame(inputRDD,schema)\n",
    "\n",
    "\n",
    "#Write the Sample Data to Aerospike\n",
    "inputDF \\\n",
    ".write \\\n",
    ".mode('overwrite') \\\n",
    ".format(\"com.aerospike.spark.sql\")  \\\n",
    ".option(\"aerospike.seedhost\", AS_HOST) \\\n",
    ".option(\"aerospike.namespace\", namespace) \\\n",
    ".option(\"aerospike.writeset\", \"py_input_data\")\\\n",
    ".option(\"aerospike.updateByKey\", \"_id\") \\\n",
    ".save()"
   ]
  },
  {
   "cell_type": "markdown",
   "metadata": {},
   "source": [
    "## Schema in the Spark Connector\n",
    "\n",
    "-  Aerospike is schemaless, however spark adher to schema. After schema is decided upon (either through inference or given), data within the bins must honor the types. \n",
    "\n",
    "- To infer schema, the connector samples a set of records (configurable through `aerospike.schema.scan`) to decide the name of bins/columns and their types. This implies that the derived schema depends entirely upon sampled records.  \n",
    "\n",
    "- Note that `__key` was not part of provided schema. So how can one query using `__key`? We can just add `__key` in provided schema with appropriate type. Similarly we can add `__gen` or `__ttl` etc.  \n",
    "         \n",
    "      schemaWithPK =  StructType([\n",
    "                StructField(\"__key\",IntegerType(), False),    \n",
    "                StructField(\"id\", IntegerType(), False),\n",
    "                StructField(\"name\", StringType(), False),\n",
    "                StructField(\"age\", IntegerType(), False),\n",
    "                StructField(\"salary\",IntegerType(), False)])\n",
    "                \n",
    "- We recommend that you provide schema for queries that involve complex data types such as lists, maps, and mixed types. "
   ]
  },
  {
   "cell_type": "markdown",
   "metadata": {},
   "source": [
    "## Load data into a DataFrame without specifying any Schema (using connector schema inference)"
   ]
  },
  {
   "cell_type": "code",
   "execution_count": 7,
   "metadata": {},
   "outputs": [
    {
     "name": "stdout",
     "output_type": "stream",
     "text": [
      "+-----+--------------------+--------+------------+-----+---+-------+------+---+\n",
      "|__key|            __digest|__expiry|__generation|__ttl|age|   name|salary|_id|\n",
      "+-----+--------------------+--------+------------+-----+---+-------+------+---+\n",
      "| null|[02 50 2D 45 89 D...|       0|           8|   -1|  4|name604| 98420|604|\n",
      "| null|[08 50 66 A1 68 1...|       0|           8|   -1| 10| name10| 85811| 10|\n",
      "| null|[0B 70 8A F2 9F A...|       0|           8|   -1| 86|name586| 55747|586|\n",
      "| null|[13 D0 09 FD 8E E...|       0|           8|   -1| 77|name477| 84598|477|\n",
      "| null|[13 50 C4 E1 3F 6...|       0|           8|   -1| 50| name50| 98825| 50|\n",
      "| null|[17 B0 1E 54 2C 9...|       0|           8|   -1| 54|name554| 79338|554|\n",
      "| null|[18 10 E6 C8 15 6...|       0|           8|   -1| 64|name964| 93643|964|\n",
      "| null|[1C 30 1B 8B DC E...|       0|           8|   -1| 80|name880| 72978|880|\n",
      "| null|[25 B0 10 82 C7 6...|       0|           8|   -1| 59|name859| 70458|859|\n",
      "| null|[26 90 85 67 25 2...|       0|           8|   -1| 27|name227| 88740|227|\n",
      "| null|[28 C0 4F 1C 24 9...|       0|           8|   -1| 12|name812| 97243|812|\n",
      "| null|[35 D0 BA A7 35 7...|       0|           8|   -1| 80|name780| 77780|780|\n",
      "| null|[3C 80 4A 91 AA 3...|       0|           8|   -1| 55|name555| 81928|555|\n",
      "| null|[3D C0 3E 1E 0D C...|       0|           8|   -1| 85|name185| 72671|185|\n",
      "| null|[3E C0 46 29 33 C...|       0|           8|   -1| 21|name221| 84237|221|\n",
      "| null|[3E 00 D1 C3 29 7...|       0|           8|   -1| 17|name117| 90965|117|\n",
      "| null|[3F 50 25 02 8F 9...|       0|           8|   -1|  6|name706| 99466|706|\n",
      "| null|[47 10 14 58 CA 7...|       0|           8|   -1| 58|name358| 50547|358|\n",
      "| null|[59 10 C6 C4 20 7...|       0|           8|   -1| 38|name438| 55340|438|\n",
      "| null|[5B 30 96 AE 0B B...|       0|           8|   -1| 72|name872| 74777|872|\n",
      "+-----+--------------------+--------+------------+-----+---+-------+------+---+\n",
      "only showing top 20 rows\n",
      "\n"
     ]
    }
   ],
   "source": [
    "# Create a Spark DataFrame by using the Connector Schema inference mechanism\n",
    "\n",
    "loadedDFWithSchema = (\n",
    "    spark.read.format(\"com.aerospike.spark.sql\") \\\n",
    "    .option(\"aerospike.seedhost\",AS_HOST) \\\n",
    "    .option (\"aerospike.namespace\", namespace) \\\n",
    "    .option(\"aerospike.keyPath\", \"/etc/aerospike/features.conf\") \\\n",
    "    .option(\"aerospike.set\", \"py_input_data\") \\\n",
    "    .load()\n",
    ")\n",
    "\n",
    "\n",
    "loadedDFWithSchema.show()"
   ]
  },
  {
   "cell_type": "markdown",
   "metadata": {},
   "source": [
    "## Load data with user specified schema "
   ]
  },
  {
   "cell_type": "code",
   "execution_count": 8,
   "metadata": {},
   "outputs": [
    {
     "name": "stdout",
     "output_type": "stream",
     "text": [
      "+---+-------+---+------+\n",
      "|_id|   name|age|salary|\n",
      "+---+-------+---+------+\n",
      "|604|name604|  4| 98420|\n",
      "| 10| name10| 10| 85811|\n",
      "|586|name586| 86| 55747|\n",
      "|477|name477| 77| 84598|\n",
      "| 50| name50| 50| 98825|\n",
      "+---+-------+---+------+\n",
      "only showing top 5 rows\n",
      "\n"
     ]
    }
   ],
   "source": [
    "#Data can be loaded with known schema as well.\n",
    "\n",
    "loadedDFWithSchema=spark \\\n",
    ".read \\\n",
    ".format(\"com.aerospike.spark.sql\") \\\n",
    ".schema(schema) \\\n",
    ".option(\"aerospike.seedhost\",AS_HOST) \\\n",
    ".option(\"aerospike.featurekey\", \"/etc/aerospike/features.conf\") \\\n",
    ".option (\"aerospike.namespace\", namespace) \\\n",
    ".option(\"aerospike.set\", \"py_input_data\").load()\n",
    "\n",
    "loadedDFWithSchema.show(5)\n",
    "\n"
   ]
  },
  {
   "cell_type": "markdown",
   "metadata": {},
   "source": [
    "## Load nested data with user specified schema"
   ]
  },
  {
   "cell_type": "code",
   "execution_count": 9,
   "metadata": {},
   "outputs": [
    {
     "name": "stdout",
     "output_type": "stream",
     "text": [
      "root\n",
      " |-- name: struct (nullable = true)\n",
      " |    |-- first_name: string (nullable = true)\n",
      " |    |-- aliases: array (nullable = true)\n",
      " |    |    |-- element: struct (containsNull = true)\n",
      " |    |    |    |-- first_name: string (nullable = true)\n",
      " |    |    |    |-- last_name: string (nullable = true)\n",
      " |-- SSN: string (nullable = true)\n",
      " |-- home_address: array (nullable = true)\n",
      " |    |-- element: struct (containsNull = true)\n",
      " |    |    |-- zip: long (nullable = true)\n",
      " |    |    |-- street: struct (nullable = true)\n",
      " |    |    |    |-- street_name: string (nullable = true)\n",
      " |    |    |    |-- apt_number: integer (nullable = true)\n",
      " |    |    |-- city: string (nullable = true)\n",
      " |-- work_history: array (nullable = true)\n",
      " |    |-- element: struct (containsNull = true)\n",
      " |    |    |-- company_name: string (nullable = true)\n",
      " |    |    |-- company_address: struct (nullable = true)\n",
      " |    |    |    |-- zip: long (nullable = true)\n",
      " |    |    |    |-- street: struct (nullable = true)\n",
      " |    |    |    |    |-- street_name: string (nullable = true)\n",
      " |    |    |    |    |-- apt_number: integer (nullable = true)\n",
      " |    |    |    |-- city: string (nullable = true)\n",
      " |    |    |-- worked_from: string (nullable = true)\n",
      "\n"
     ]
    }
   ],
   "source": [
    "complex_data_json=\"resources/nested_data.json\"\n",
    "alias=  StructType( [\n",
    "    StructField(\"first_name\",StringType(), False),\n",
    "    StructField(\"last_name\",StringType(), False)]\n",
    ")\n",
    "\n",
    "name= StructType([\n",
    "    StructField(\"first_name\",StringType(), False), \n",
    "    StructField(\"aliases\",ArrayType(alias), False)]\n",
    ")\n",
    "street_adress= StructType([StructField(\"street_name\", StringType(), False), StructField(\"apt_number\", IntegerType(), False)])\n",
    "address = StructType([StructField(\"zip\", LongType(), False), StructField(\"street\", street_adress, False), StructField(\"city\", StringType(), False)])\n",
    "\n",
    "workHistory = StructType([StructField (\"company_name\" , StringType(), False),\n",
    "                              StructField( \"company_address\" , address, False),\n",
    "                              StructField(\"worked_from\", StringType(), False)]\n",
    "                        )\n",
    "\n",
    "person= StructType([StructField(\"name\", name, False),\n",
    "                        StructField(\"SSN\", StringType(), False),\n",
    "                        StructField(\"home_address\", ArrayType(address), False),\n",
    "                        StructField(\"work_history\", ArrayType(workHistory), False)]\n",
    "                  )\n",
    "\n",
    "cmplx_data_with_schema=spark.read.schema(person).json(complex_data_json)\n",
    "cmplx_data_with_schema.printSchema()\n",
    "\n",
    "cmplx_data_with_schema \\\n",
    ".write \\\n",
    ".mode('overwrite') \\\n",
    ".format(\"com.aerospike.spark.sql\")  \\\n",
    ".option(\"aerospike.seedhost\", AS_HOST) \\\n",
    ".option(\"aerospike.namespace\", namespace) \\\n",
    ".option(\"aerospike.writeset\", \"complex_input_data\") \\\n",
    ".option(\"aerospike.updateByKey\", \"name.first_name\") \\\n",
    ".save()"
   ]
  },
  {
   "cell_type": "code",
   "execution_count": 10,
   "metadata": {},
   "outputs": [
    {
     "name": "stdout",
     "output_type": "stream",
     "text": [
      "root\n",
      " |-- __key: string (nullable = true)\n",
      " |-- __digest: binary (nullable = false)\n",
      " |-- __expiry: integer (nullable = false)\n",
      " |-- __generation: integer (nullable = false)\n",
      " |-- __ttl: integer (nullable = false)\n",
      " |-- SSN: string (nullable = true)\n",
      " |-- work_history: array (nullable = true)\n",
      " |    |-- element: binary (containsNull = true)\n",
      " |-- name: map (nullable = true)\n",
      " |    |-- key: string\n",
      " |    |-- value: string (valueContainsNull = true)\n",
      " |-- home_address: array (nullable = true)\n",
      " |    |-- element: binary (containsNull = true)\n",
      "\n"
     ]
    }
   ],
   "source": [
    "loadedComplexDFWithoutSchema=spark \\\n",
    ".read \\\n",
    ".format(\"com.aerospike.spark.sql\") \\\n",
    ".option(\"aerospike.seedhost\", AS_HOST) \\\n",
    ".option(\"aerospike.keyPath\", \"/etc/aerospike/features.conf\") \\\n",
    ".option (\"aerospike.namespace\", \"test\") \\\n",
    ".option(\"aerospike.set\", \"complex_input_data\") \\\n",
    ".load() \n",
    "loadedComplexDFWithoutSchema.printSchema()"
   ]
  },
  {
   "cell_type": "code",
   "execution_count": 11,
   "metadata": {},
   "outputs": [
    {
     "name": "stdout",
     "output_type": "stream",
     "text": [
      "root\n",
      " |-- name: struct (nullable = false)\n",
      " |    |-- first_name: string (nullable = false)\n",
      " |    |-- aliases: array (nullable = false)\n",
      " |    |    |-- element: struct (containsNull = true)\n",
      " |    |    |    |-- first_name: string (nullable = false)\n",
      " |    |    |    |-- last_name: string (nullable = false)\n",
      " |-- SSN: string (nullable = false)\n",
      " |-- home_address: array (nullable = false)\n",
      " |    |-- element: struct (containsNull = true)\n",
      " |    |    |-- zip: long (nullable = false)\n",
      " |    |    |-- street: struct (nullable = false)\n",
      " |    |    |    |-- street_name: string (nullable = false)\n",
      " |    |    |    |-- apt_number: integer (nullable = false)\n",
      " |    |    |-- city: string (nullable = false)\n",
      " |-- work_history: array (nullable = false)\n",
      " |    |-- element: struct (containsNull = true)\n",
      " |    |    |-- company_name: string (nullable = false)\n",
      " |    |    |-- company_address: struct (nullable = false)\n",
      " |    |    |    |-- zip: long (nullable = false)\n",
      " |    |    |    |-- street: struct (nullable = false)\n",
      " |    |    |    |    |-- street_name: string (nullable = false)\n",
      " |    |    |    |    |-- apt_number: integer (nullable = false)\n",
      " |    |    |    |-- city: string (nullable = false)\n",
      " |    |    |-- worked_from: string (nullable = false)\n",
      "\n"
     ]
    }
   ],
   "source": [
    "loadedComplexDFWithSchema=spark \\\n",
    ".read \\\n",
    ".format(\"com.aerospike.spark.sql\") \\\n",
    ".option(\"aerospike.seedhost\", AS_HOST) \\\n",
    ".option(\"aerospike.keyPath\", \"/etc/aerospike/features.conf\") \\\n",
    ".option (\"aerospike.namespace\", \"test\") \\\n",
    ".option(\"aerospike.set\", \"complex_input_data\") \\\n",
    ".schema(person) \\\n",
    ".load() \n",
    "loadedComplexDFWithSchema.printSchema()\n",
    "#Please note the difference in types of loaded data in both cases. With schema, we extactly infer complex types."
   ]
  },
  {
   "cell_type": "code",
   "execution_count": 12,
   "metadata": {},
   "outputs": [
    {
     "name": "stdout",
     "output_type": "stream",
     "text": [
      "+--------------------+-----------+--------------------+--------------------+--------------------+--------+\n",
      "|                name|        SSN|        home_address|        work_history|           past_jobs|num_jobs|\n",
      "+--------------------+-----------+--------------------+--------------------+--------------------+--------+\n",
      "|[Tami, [[Joseph, ...|001-49-0685|[[23288, [Clark V...|[[Roberts PLC, [4...|[Roberts PLC, Hub...|       5|\n",
      "|[Chelsea, [[Melis...|465-88-7213|[[49305, [Ward By...|[[Ochoa and Sons,...|[Ochoa and Sons, ...|       5|\n",
      "|[Jonathan, [[Robe...|526-54-7792|[[71421, [William...|[[Henderson-Shaw,...|[Henderson-Shaw, ...|       5|\n",
      "|[Gary, [[Cameron,...|825-55-3247|[[66428, [Kim Mil...|[[Bishop, Scott a...|[Bishop, Scott an...|       5|\n",
      "|[Danielle, [[Mich...|319-30-0983|[[63276, [Bauer C...|[[Powers LLC, [60...|[Powers LLC, Powe...|       5|\n",
      "+--------------------+-----------+--------------------+--------------------+--------------------+--------+\n",
      "only showing top 5 rows\n",
      "\n"
     ]
    }
   ],
   "source": [
    "#Find all people who have atleast 5 jobs in past.\n",
    "from pyspark.sql.functions import col, size\n",
    "\n",
    "loadedComplexDFWithSchema \\\n",
    ".withColumn(\"past_jobs\", col(\"work_history.company_name\")) \\\n",
    ".withColumn(\"num_jobs\", size(col(\"past_jobs\")))  \\\n",
    ".where(col(\"num_jobs\") > 4) \\\n",
    ".show(5)"
   ]
  },
  {
   "cell_type": "code",
   "execution_count": 13,
   "metadata": {},
   "outputs": [
    {
     "name": "stdout",
     "output_type": "stream",
     "text": [
      "Requirement already satisfied: numpy in /Users/rahulkumar/.pyenv/versions/3.7.0/lib/python3.7/site-packages (1.19.2)\n",
      "Requirement already satisfied: matplotlib in /Users/rahulkumar/.pyenv/versions/3.7.0/lib/python3.7/site-packages (3.3.1)\n",
      "Requirement already satisfied: cycler>=0.10 in /Users/rahulkumar/.pyenv/versions/3.7.0/lib/python3.7/site-packages (from matplotlib) (0.10.0)\n",
      "Requirement already satisfied: python-dateutil>=2.1 in /Users/rahulkumar/.pyenv/versions/3.7.0/lib/python3.7/site-packages (from matplotlib) (2.8.1)\n",
      "Requirement already satisfied: certifi>=2020.06.20 in /Users/rahulkumar/.pyenv/versions/3.7.0/lib/python3.7/site-packages (from matplotlib) (2020.6.20)\n",
      "Requirement already satisfied: pyparsing!=2.0.4,!=2.1.2,!=2.1.6,>=2.0.3 in /Users/rahulkumar/.pyenv/versions/3.7.0/lib/python3.7/site-packages (from matplotlib) (2.4.7)\n",
      "Requirement already satisfied: kiwisolver>=1.0.1 in /Users/rahulkumar/.pyenv/versions/3.7.0/lib/python3.7/site-packages (from matplotlib) (1.2.0)\n",
      "Requirement already satisfied: pillow>=6.2.0 in /Users/rahulkumar/.pyenv/versions/3.7.0/lib/python3.7/site-packages (from matplotlib) (7.2.0)\n",
      "Requirement already satisfied: numpy>=1.15 in /Users/rahulkumar/.pyenv/versions/3.7.0/lib/python3.7/site-packages (from matplotlib) (1.19.2)\n",
      "Requirement already satisfied: six in /Users/rahulkumar/.pyenv/versions/3.7.0/lib/python3.7/site-packages (from cycler>=0.10->matplotlib) (1.15.0)\n",
      "Requirement already satisfied: pandas in /Users/rahulkumar/.pyenv/versions/3.7.0/lib/python3.7/site-packages (1.1.2)\n",
      "Requirement already satisfied: pytz>=2017.2 in /Users/rahulkumar/.pyenv/versions/3.7.0/lib/python3.7/site-packages (from pandas) (2020.1)\n",
      "Requirement already satisfied: numpy>=1.15.4 in /Users/rahulkumar/.pyenv/versions/3.7.0/lib/python3.7/site-packages (from pandas) (1.19.2)\n",
      "Requirement already satisfied: python-dateutil>=2.7.3 in /Users/rahulkumar/.pyenv/versions/3.7.0/lib/python3.7/site-packages (from pandas) (2.8.1)\n",
      "Requirement already satisfied: six>=1.5 in /Users/rahulkumar/.pyenv/versions/3.7.0/lib/python3.7/site-packages (from python-dateutil>=2.7.3->pandas) (1.15.0)\n"
     ]
    }
   ],
   "source": [
    "#Install packages, if not installed.\n",
    "!pip install numpy \n",
    "!pip install matplotlib\n",
    "!pip install pandas"
   ]
  },
  {
   "cell_type": "code",
   "execution_count": 14,
   "metadata": {},
   "outputs": [],
   "source": [
    "import pandas\n",
    "import matplotlib\n",
    "import matplotlib.pyplot as plt"
   ]
  },
  {
   "cell_type": "markdown",
   "metadata": {},
   "source": [
    "## SparkML with Aerospike\n",
    "\n",
    "### The purpose of this ML model is to illustrate how data in Aerospike can be used for training and inference using SparkML \n",
    "#### A K-Means clustering model is used to create several segments based on age and salary."
   ]
  },
  {
   "cell_type": "code",
   "execution_count": 15,
   "metadata": {},
   "outputs": [
    {
     "name": "stdout",
     "output_type": "stream",
     "text": [
      "+---+-------+---+------+--------------------+\n",
      "|_id|   name|age|salary|            features|\n",
      "+---+-------+---+------+--------------------+\n",
      "|604|name604|  4| 98420| [604.0,4.0,98420.0]|\n",
      "| 10| name10| 10| 85811| [10.0,10.0,85811.0]|\n",
      "|586|name586| 86| 55747|[586.0,86.0,55747.0]|\n",
      "|477|name477| 77| 84598|[477.0,77.0,84598.0]|\n",
      "| 50| name50| 50| 98825| [50.0,50.0,98825.0]|\n",
      "|554|name554| 54| 79338|[554.0,54.0,79338.0]|\n",
      "|964|name964| 64| 93643|[964.0,64.0,93643.0]|\n",
      "|880|name880| 80| 72978|[880.0,80.0,72978.0]|\n",
      "|859|name859| 59| 70458|[859.0,59.0,70458.0]|\n",
      "|227|name227| 27| 88740|[227.0,27.0,88740.0]|\n",
      "|812|name812| 12| 97243|[812.0,12.0,97243.0]|\n",
      "|780|name780| 80| 77780|[780.0,80.0,77780.0]|\n",
      "|555|name555| 55| 81928|[555.0,55.0,81928.0]|\n",
      "|185|name185| 85| 72671|[185.0,85.0,72671.0]|\n",
      "|221|name221| 21| 84237|[221.0,21.0,84237.0]|\n",
      "|117|name117| 17| 90965|[117.0,17.0,90965.0]|\n",
      "|706|name706|  6| 99466| [706.0,6.0,99466.0]|\n",
      "|358|name358| 58| 50547|[358.0,58.0,50547.0]|\n",
      "|438|name438| 38| 55340|[438.0,38.0,55340.0]|\n",
      "|872|name872| 72| 74777|[872.0,72.0,74777.0]|\n",
      "+---+-------+---+------+--------------------+\n",
      "only showing top 20 rows\n",
      "\n",
      "Silhouette with squared euclidean distance = 0.7869598040503816\n",
      "Cluster Centers: \n",
      "[4.99303030e+02 5.00101010e+01 8.77590929e+04]\n",
      "[5.00684524e+02 4.90972222e+01 6.33832520e+04]\n"
     ]
    }
   ],
   "source": [
    "from pyspark.ml.clustering import KMeans\n",
    "from pyspark.ml.evaluation import ClusteringEvaluator\n",
    "from pyspark.ml.feature import VectorAssembler\n",
    "\n",
    "\n",
    "#All machine learning algorithms in Spark take as input a Vector type, which must be a set of numerical values.\n",
    "assembler = VectorAssembler(\n",
    "    inputCols=[\"_id\", \"age\", \"salary\"],\n",
    "    outputCol=\"features\")\n",
    "data_2 = assembler.transform(loadedDFWithSchema)\n",
    "data_2.show()\n",
    "\n",
    "# Trains a k-means model.\n",
    "kmeans = KMeans().setK(2).setSeed(1)\n",
    "model = kmeans.fit(data_2)\n",
    "\n",
    "# Make predictions\n",
    "predictions = model.transform(data_2)\n",
    "\n",
    "# Evaluate clustering by computing Silhouette score\n",
    "evaluator = ClusteringEvaluator()\n",
    "\n",
    "silhouette = evaluator.evaluate(predictions)\n",
    "print(\"Silhouette with squared euclidean distance = \" + str(silhouette))\n",
    "\n",
    "# Shows the result.\n",
    "centers = model.clusterCenters()\n",
    "print(\"Cluster Centers: \")\n",
    "for center in centers:\n",
    "    print(center)"
   ]
  },
  {
   "cell_type": "markdown",
   "metadata": {},
   "source": [
    "## Data Exploration with Aerospike (Using Matplot and Pandas packages)"
   ]
  },
  {
   "cell_type": "code",
   "execution_count": 16,
   "metadata": {},
   "outputs": [
    {
     "data": {
      "image/png": "[encoded data removed]",
      "text/plain": [
       "<Figure size 432x288 with 1 Axes>"
      ]
     },
     "metadata": {
      "needs_background": "light"
     },
     "output_type": "display_data"
    },
    {
     "data": {
      "image/png": "[encoded data removed]",
      "text/plain": [
       "<Figure size 432x288 with 1 Axes>"
      ]
     },
     "metadata": {
      "needs_background": "light"
     },
     "output_type": "display_data"
    },
    {
     "data": {
      "image/png": "[encoded data removed]",
      "text/plain": [
       "<Figure size 432x288 with 1 Axes>"
      ]
     },
     "metadata": {},
     "output_type": "display_data"
    },
    {
     "data": {
      "image/png": "[encoded data removed]",
      "text/plain": [
       "<Figure size 432x288 with 1 Axes>"
      ]
     },
     "metadata": {
      "needs_background": "light"
     },
     "output_type": "display_data"
    }
   ],
   "source": [
    "#convert spark df to pandas df\n",
    "pdf = loadedDFWithSchema.toPandas()\n",
    "#print(pdf)\n",
    "\n",
    "#Histogram\n",
    "pdf[['age']].head(20).plot(kind='hist',bins=[0,20,40,60,80,100],rwidth=0.8)\n",
    "plt.show()\n",
    "\n",
    "#Bar graph\n",
    "pdf.head(20).groupby('age')['name'].nunique().plot(kind='bar')\n",
    "plt.show()\n",
    "\n",
    "#pie chart\n",
    "pdf.head(20).groupby(['age']).sum().plot(kind='pie', y='salary')\n",
    "plt.show()\n",
    "\n",
    "#Line Plot\n",
    "# gca stands for 'get current axis'\n",
    "ax = plt.gca()\n",
    "pdf.tail(20).plot(kind='line',x='name',y='salary', color='red', ax=ax)\n",
    "plt.show()"
   ]
  },
  {
   "cell_type": "markdown",
   "metadata": {},
   "source": [
    "# Querying Aerospike Data using SparkSQL\n",
    "#### Things to keep in mind\n",
    "   1. Queries that involve Primary Key in the predicate trigger aerospike_batch_get()[hyper link: https://www.aerospike.com/docs/client/c/usage/kvs/batch.html] and run extremely fast. For e.g. a query containing `__key` with, with no `OR` between two bins.\n",
    "   2. All other queries may entail a scan of nodes if they can’t be converted to Aerospike batchget. "
   ]
  },
  {
   "cell_type": "markdown",
   "metadata": {},
   "source": [
    "## Queries that include Primary Key in the Predicate\n",
    "\n",
    "In case of batchget queries we can also apply filters upon metadata columns like `__gen` or `__ttl` etc. To do so, these columns should be exposed through schema (if schema provided). "
   ]
  },
  {
   "cell_type": "code",
   "execution_count": 17,
   "metadata": {},
   "outputs": [
    {
     "name": "stdout",
     "output_type": "stream",
     "text": [
      "+-----+--------------------+--------+------------+-----+---+-------+------+---+\n",
      "|__key|            __digest|__expiry|__generation|__ttl|age|   name|salary|_id|\n",
      "+-----+--------------------+--------+------------+-----+---+-------+------+---+\n",
      "|  829|[9A E9 5B 0A 11 6...|       0|           8|   -1| 29|name829| 91635|829|\n",
      "+-----+--------------------+--------+------------+-----+---+-------+------+---+\n",
      "\n"
     ]
    }
   ],
   "source": [
    "batchGet1= spark \\\n",
    ".read \\\n",
    ".format(\"com.aerospike.spark.sql\") \\\n",
    ".option(\"aerospike.seedhost\", AS_HOST) \\\n",
    ".option(\"aerospike.featurekey\", \"/etc/aerospike/features.conf\") \\\n",
    ".option (\"aerospike.namespace\", namespace) \\\n",
    ".option(\"aerospike.set\", \"py_input_data\") \\\n",
    ".option(\"aerospike.keyType\", \"int\") \\\n",
    ".load().where(\"__key = 829\") \\\n",
    "\n",
    "batchGet1.show()\n",
    "#Please be aware ASDB only supports equality test with PKs in primary key query. \n",
    "#So, a where clause with \"__key >10\", would result in scan query!"
   ]
  },
  {
   "cell_type": "code",
   "execution_count": 18,
   "metadata": {},
   "outputs": [
    {
     "name": "stdout",
     "output_type": "stream",
     "text": [
      "+-----+--------------------+--------+------------+-----+---+------+------+---+\n",
      "|__key|            __digest|__expiry|__generation|__ttl|age|  name|salary|_id|\n",
      "+-----+--------------------+--------+------------+-----+---+------+------+---+\n",
      "|    4|[FE E0 77 E4 17 F...|       0|           8|   -1|  4| name4| 76368|  4|\n",
      "|    5|[FF 00 39 4A 07 0...|       0|           8|   -1|  5| name5| 88106|  5|\n",
      "|    7|[8B F3 60 83 F9 6...|       0|           8|   -1|  7| name7| 92004|  7|\n",
      "|   13|[D7 B4 65 3D FA 4...|       0|           8|   -1| 13|name13| 73603| 13|\n",
      "|    3|[75 25 0A 1D C0 4...|       0|           8|   -1|  3| name3| 69241|  3|\n",
      "+-----+--------------------+--------+------------+-----+---+------+------+---+\n",
      "only showing top 5 rows\n",
      "\n"
     ]
    }
   ],
   "source": [
    "#In this query we are doing *OR* between PK subqueries \n",
    "from pyspark.sql.functions import *\n",
    "somePrimaryKeys= list(range(1,10))\n",
    "someMoreKeys= list(range(12,14))\n",
    "batchGet2= spark \\\n",
    ".read \\\n",
    ".format(\"com.aerospike.spark.sql\") \\\n",
    ".option(\"aerospike.seedhost\",AS_HOST) \\\n",
    ".option(\"aerospike.featurekey\", \"/etc/aerospike/features.conf\") \\\n",
    ".option (\"aerospike.namespace\", namespace) \\\n",
    ".option(\"aerospike.set\", \"py_input_data\") \\\n",
    ".option(\"aerospike.keyType\", \"int\") \\\n",
    ".load().where((col(\"__key\").isin(somePrimaryKeys)) | ( col(\"__key\").isin(someMoreKeys))) \n",
    "\n",
    "batchGet2.show(5)\n",
    "#We should got in total 'len(somePrimaryKeys) + len(someMoreKeys)' records."
   ]
  },
  {
   "cell_type": "markdown",
   "metadata": {},
   "source": [
    "## Queries that do not include Primary Key in the Predicate"
   ]
  },
  {
   "cell_type": "code",
   "execution_count": 19,
   "metadata": {},
   "outputs": [
    {
     "name": "stdout",
     "output_type": "stream",
     "text": [
      "+-----+--------------------+--------+------------+-----+---+-------+------+---+\n",
      "|__key|            __digest|__expiry|__generation|__ttl|age|   name|salary|_id|\n",
      "+-----+--------------------+--------+------------+-----+---+-------+------+---+\n",
      "| null|[0B 70 8A F2 9F A...|       0|           8|   -1| 86|name586| 55747|586|\n",
      "| null|[13 D0 09 FD 8E E...|       0|           8|   -1| 77|name477| 84598|477|\n",
      "| null|[17 B0 1E 54 2C 9...|       0|           8|   -1| 54|name554| 79338|554|\n",
      "| null|[18 10 E6 C8 15 6...|       0|           8|   -1| 64|name964| 93643|964|\n",
      "| null|[1C 30 1B 8B DC E...|       0|           8|   -1| 80|name880| 72978|880|\n",
      "| null|[25 B0 10 82 C7 6...|       0|           8|   -1| 59|name859| 70458|859|\n",
      "| null|[35 D0 BA A7 35 7...|       0|           8|   -1| 80|name780| 77780|780|\n",
      "| null|[3C 80 4A 91 AA 3...|       0|           8|   -1| 55|name555| 81928|555|\n",
      "| null|[3D C0 3E 1E 0D C...|       0|           8|   -1| 85|name185| 72671|185|\n",
      "| null|[47 10 14 58 CA 7...|       0|           8|   -1| 58|name358| 50547|358|\n",
      "| null|[5B 30 96 AE 0B B...|       0|           8|   -1| 72|name872| 74777|872|\n",
      "| null|[5C A0 3F 4E DA D...|       0|           8|   -1| 61|name961| 85919|961|\n",
      "| null|[5E E0 15 0A CE 3...|       0|           8|   -1| 88| name88| 81529| 88|\n",
      "| null|[5F B0 F2 C5 21 E...|       0|           8|   -1| 72|name672| 55449|672|\n",
      "| null|[67 50 44 9E D8 0...|       0|           8|   -1| 70|name970| 58576|970|\n",
      "| null|[78 10 D6 CA 04 8...|       0|           8|   -1| 77| name77| 72073| 77|\n",
      "| null|[7C 50 EC 73 DF 5...|       0|           8|   -1| 98|name498| 67157|498|\n",
      "| null|[7D 20 83 6F A9 E...|       0|           8|   -1| 93|name893| 56671|893|\n",
      "| null|[8C 30 BA 1A 1C 1...|       0|           8|   -1| 72|name272| 71840|272|\n",
      "| null|[9B 00 20 57 9B 2...|       0|           8|   -1| 71|name971| 78389|971|\n",
      "+-----+--------------------+--------+------------+-----+---+-------+------+---+\n",
      "only showing top 20 rows\n",
      "\n"
     ]
    }
   ],
   "source": [
    "somePrimaryKeys= list(range(1,10))\n",
    "scanQuery1= spark \\\n",
    ".read \\\n",
    ".format(\"com.aerospike.spark.sql\") \\\n",
    ".option(\"aerospike.seedhost\", AS_HOST) \\\n",
    ".option (\"aerospike.namespace\", namespace) \\\n",
    ".option(\"aerospike.featurekey\", \"/etc/aerospike/features.conf\") \\\n",
    ".option(\"aerospike.set\", \"py_input_data\") \\\n",
    ".option(\"aerospike.keyType\", \"int\") \\\n",
    ".load().where((col(\"__key\").isin(somePrimaryKeys)) | ( col(\"age\") >50 ))\n",
    "\n",
    "scanQuery1.show()\n",
    "\n",
    "#Since there is OR between PKs and Bin. It will be treated as Scan query. \n",
    "#Primary keys are not stored in bins(by default), hence only filters corresponding to bins are honored.  "
   ]
  }
 ],
 "metadata": {
  "kernelspec": {
   "display_name": "Python 3",
   "language": "python",
   "name": "python3"
  },
  "language_info": {
   "codemirror_mode": {
    "name": "ipython",
    "version": 3
   },
   "file_extension": ".py",
   "mimetype": "text/x-python",
   "name": "python",
   "nbconvert_exporter": "python",
   "pygments_lexer": "ipython3",
   "version": "3.7.0"
  }
 },
 "nbformat": 4,
 "nbformat_minor": 2
}
