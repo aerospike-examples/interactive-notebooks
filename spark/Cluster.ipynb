{
 "cells": [
  {
   "cell_type": "code",
   "execution_count": 10,
   "metadata": {},
   "outputs": [
    {
     "data": {
      "image/png": "[encoded data removed]",
      "text/plain": [
       "<Figure size 432x288 with 1 Axes>"
      ]
     },
     "metadata": {
      "needs_background": "light"
     },
     "output_type": "display_data"
    }
   ],
   "source": [
    "import numpy as np\n",
    "import matplotlib.pyplot as plt\n",
    "import pandas as pd\n",
    "import math\n",
    "\n",
    "# Create covariance matrix from std devs + correlation\n",
    "def covariance_matrix(std_dev_1,std_dev_2,correlation):\n",
    "    return [[std_dev_1 ** 2, correlation * std_dev_1 * std_dev_2], \n",
    "           [correlation * std_dev_1 * std_dev_2, std_dev_2 ** 2]]\n",
    "\n",
    "# Return a bivariate sample given means/std dev/correlation\n",
    "def age_salary_sample(distribution_params,sample_size):\n",
    "    mean = [distribution_params[\"age_mean\"], distribution_params[\"salary_mean\"]]\n",
    "    cov = covariance_matrix(distribution_params[\"age_std_dev\"],distribution_params[\"salary_std_dev\"],\n",
    "                            distribution_params[\"age_salary_correlation\"])\n",
    "    return np.random.multivariate_normal(mean, cov, sample_size).T\n",
    "\n",
    "# Define the characteristics of our age/salary distribution\n",
    "age_salary_distribution_1 = {\"age_mean\":25,\"salary_mean\":50000,\n",
    "                             \"age_std_dev\":1,\"salary_std_dev\":5000,\"age_salary_correlation\":0.3}\n",
    "\n",
    "age_salary_distribution_2 = {\"age_mean\":45,\"salary_mean\":80000,\n",
    "                             \"age_std_dev\":4,\"salary_std_dev\":10000,\"age_salary_correlation\":0.7}\n",
    "\n",
    "age_salary_distribution_3 = {\"age_mean\":35,\"salary_mean\":70000,\n",
    "                             \"age_std_dev\":2,\"salary_std_dev\":9000,\"age_salary_correlation\":0.1}\n",
    "\n",
    "distribution_data = [age_salary_distribution_1,age_salary_distribution_2,age_salary_distribution_3]\n",
    "\n",
    "# Sample age/salary data for each distributions\n",
    "group_1_ages,group_1_salaries = age_salary_sample(age_salary_distribution_1,sample_size=100)\n",
    "group_2_ages,group_2_salaries = age_salary_sample(age_salary_distribution_2,sample_size=120)\n",
    "group_3_ages,group_3_salaries = age_salary_sample(age_salary_distribution_3,sample_size=80)\n",
    "\n",
    "# Plot the sample data\n",
    "group_1_colour, group_2_colour, group_3_colour ='red','blue', 'pink'\n",
    "plt.xlabel('Age',fontsize=10)\n",
    "plt.ylabel(\"Salary\",fontsize=10) \n",
    "\n",
    "plt.scatter(group_1_ages,group_1_salaries,c=group_1_colour,label=\"Group 1\")\n",
    "plt.scatter(group_2_ages,group_2_salaries,c=group_2_colour,label=\"Group 2\")\n",
    "plt.scatter(group_3_ages,group_3_salaries,c=group_3_colour,label=\"Group 3\")\n",
    "\n",
    "plt.legend(loc='upper left')\n",
    "plt.show()"
   ]
  },
  {
   "cell_type": "code",
   "execution_count": 116,
   "metadata": {},
   "outputs": [
    {
     "name": "stdout",
     "output_type": "stream",
     "text": [
      "Optimal cluster count found to be 3\n"
     ]
    }
   ],
   "source": [
    "from sklearn.mixture import GaussianMixture\n",
    "\n",
    "ages=np.concatenate([group_1_ages,group_2_ages,group_3_ages])\n",
    "salaries=np.concatenate([group_1_salaries,group_2_salaries,group_3_salaries])\n",
    "age_salary_matrix=np.matrix([ages,salaries]).T\n",
    "\n",
    "# Find the optimal number of clusters\n",
    "optimal_cluster_count = 1\n",
    "best_bic_score = GaussianMixture(1).fit(age_salary_matrix).bic(age_salary_matrix)\n",
    "\n",
    "for count in range(1,20):\n",
    "    gm=GaussianMixture(count)\n",
    "    gm.fit(age_salary_matrix)\n",
    "    if gm.bic(age_salary_matrix) < best_bic_score:\n",
    "        best_bic_score = gm.bic(age_salary_matrix)\n",
    "        optimal_cluster_count = count\n",
    "\n",
    "print(\"Optimal cluster count found to be \"+str(optimal_cluster_count))"
   ]
  },
  {
   "cell_type": "code",
   "execution_count": 126,
   "metadata": {},
   "outputs": [
    {
     "name": "stdout",
     "output_type": "stream",
     "text": [
      "Distribution parameter estimates\n"
     ]
    },
    {
     "data": {
      "text/html": [
       "<div>\n",
       "<style scoped>\n",
       "    .dataframe tbody tr th:only-of-type {\n",
       "        vertical-align: middle;\n",
       "    }\n",
       "\n",
       "    .dataframe tbody tr th {\n",
       "        vertical-align: top;\n",
       "    }\n",
       "\n",
       "    .dataframe thead th {\n",
       "        text-align: right;\n",
       "    }\n",
       "</style>\n",
       "<table border=\"1\" class=\"dataframe\">\n",
       "  <thead>\n",
       "    <tr style=\"text-align: right;\">\n",
       "      <th></th>\n",
       "      <th>Mean Age</th>\n",
       "      <th>Mean Salary</th>\n",
       "      <th>Age Std Dev</th>\n",
       "      <th>Salary Std Dev</th>\n",
       "      <th>Correlation</th>\n",
       "    </tr>\n",
       "  </thead>\n",
       "  <tbody>\n",
       "    <tr>\n",
       "      <th>0</th>\n",
       "      <td>25.07</td>\n",
       "      <td>50078.0</td>\n",
       "      <td>1.02</td>\n",
       "      <td>4415.0</td>\n",
       "      <td>0.161</td>\n",
       "    </tr>\n",
       "    <tr>\n",
       "      <th>1</th>\n",
       "      <td>46.12</td>\n",
       "      <td>82143.0</td>\n",
       "      <td>3.69</td>\n",
       "      <td>9193.0</td>\n",
       "      <td>0.628</td>\n",
       "    </tr>\n",
       "    <tr>\n",
       "      <th>2</th>\n",
       "      <td>35.15</td>\n",
       "      <td>68644.0</td>\n",
       "      <td>2.29</td>\n",
       "      <td>8233.0</td>\n",
       "      <td>0.083</td>\n",
       "    </tr>\n",
       "  </tbody>\n",
       "</table>\n",
       "</div>"
      ],
      "text/plain": [
       "   Mean Age  Mean Salary  Age Std Dev  Salary Std Dev  Correlation\n",
       "0     25.07      50078.0         1.02          4415.0        0.161\n",
       "1     46.12      82143.0         3.69          9193.0        0.628\n",
       "2     35.15      68644.0         2.29          8233.0        0.083"
      ]
     },
     "execution_count": 126,
     "metadata": {},
     "output_type": "execute_result"
    }
   ],
   "source": [
    "# Generate the model using the optimal no of clusters\n",
    "# Look at the estimates for the distribution parameters for each cluster in the group\n",
    "print(\"Distribution parameter estimates\")\n",
    "\n",
    "gm = GaussianMixture(optimal_cluster_count)\n",
    "gm.fit(age_salary_matrix)\n",
    "\n",
    "estimates = []\n",
    "# Index\n",
    "for index in range(0,optimal_cluster_count):\n",
    "    estimated_mean_age = round(gm.means_[index][0],2)\n",
    "    estimated_mean_salary = round(gm.means_[index][1],0)\n",
    "    estimated_age_std_dev = round(math.sqrt(gm.covariances_[index][0][0]),2)\n",
    "    estimated_salary_std_dev = round(math.sqrt(gm.covariances_[index][1][1]),0)\n",
    "    estimated_correlation = round(gm.covariances_[index][0][1] / ( estimated_age_std_dev * estimated_salary_std_dev ),3)\n",
    "    row = [estimated_mean_age,estimated_mean_salary,estimated_age_std_dev,estimated_salary_std_dev,estimated_correlation]\n",
    "    estimates.append(row)\n",
    "    \n",
    "pd.DataFrame(estimates,columns = [\"Mean Age\",\"Mean Salary\",\"Age Std Dev\",\"Salary Std Dev\",\"Correlation\"])    \n"
   ]
  },
  {
   "cell_type": "code",
   "execution_count": 128,
   "metadata": {},
   "outputs": [
    {
     "name": "stdout",
     "output_type": "stream",
     "text": [
      "Actual parameter values\n"
     ]
    },
    {
     "data": {
      "text/html": [
       "<div>\n",
       "<style scoped>\n",
       "    .dataframe tbody tr th:only-of-type {\n",
       "        vertical-align: middle;\n",
       "    }\n",
       "\n",
       "    .dataframe tbody tr th {\n",
       "        vertical-align: top;\n",
       "    }\n",
       "\n",
       "    .dataframe thead th {\n",
       "        text-align: right;\n",
       "    }\n",
       "</style>\n",
       "<table border=\"1\" class=\"dataframe\">\n",
       "  <thead>\n",
       "    <tr style=\"text-align: right;\">\n",
       "      <th></th>\n",
       "      <th>Mean Age</th>\n",
       "      <th>Mean Salary</th>\n",
       "      <th>Age Std Dev</th>\n",
       "      <th>Salary Std Dev</th>\n",
       "      <th>Correlation</th>\n",
       "    </tr>\n",
       "  </thead>\n",
       "  <tbody>\n",
       "    <tr>\n",
       "      <th>0</th>\n",
       "      <td>25</td>\n",
       "      <td>50000</td>\n",
       "      <td>1</td>\n",
       "      <td>5000</td>\n",
       "      <td>0.3</td>\n",
       "    </tr>\n",
       "    <tr>\n",
       "      <th>1</th>\n",
       "      <td>45</td>\n",
       "      <td>80000</td>\n",
       "      <td>4</td>\n",
       "      <td>10000</td>\n",
       "      <td>0.7</td>\n",
       "    </tr>\n",
       "    <tr>\n",
       "      <th>2</th>\n",
       "      <td>35</td>\n",
       "      <td>70000</td>\n",
       "      <td>2</td>\n",
       "      <td>9000</td>\n",
       "      <td>0.1</td>\n",
       "    </tr>\n",
       "  </tbody>\n",
       "</table>\n",
       "</div>"
      ],
      "text/plain": [
       "   Mean Age  Mean Salary  Age Std Dev  Salary Std Dev  Correlation\n",
       "0        25        50000            1            5000          0.3\n",
       "1        45        80000            4           10000          0.7\n",
       "2        35        70000            2            9000          0.1"
      ]
     },
     "execution_count": 128,
     "metadata": {},
     "output_type": "execute_result"
    }
   ],
   "source": [
    "# Look at actual parameter values\n",
    "print(\"Actual parameter values\")\n",
    "distribution_data_as_rows = []\n",
    "for distribution in distribution_data:\n",
    "    row = [distribution['age_mean'],distribution['salary_mean'],distribution['age_std_dev'],\n",
    "                             distribution['salary_std_dev'],distribution['age_salary_correlation']]\n",
    "    distribution_data_as_rows.append(row)\n",
    "\n",
    "pd.DataFrame(distribution_data_as_rows,columns = [\"Mean Age\",\"Mean Salary\",\"Age Std Dev\",\"Salary Std Dev\",\"Correlation\"])    "
   ]
  },
  {
   "cell_type": "code",
   "execution_count": 3,
   "metadata": {},
   "outputs": [
    {
     "data": {
      "text/plain": [
       "array([[0.1235296 , 0.28143319, 0.93611504, 0.57120465, 0.5882942 ,\n",
       "        0.72091747, 0.64770761, 0.59126318],\n",
       "       [0.25276498, 0.95220179, 0.03413053, 0.24486661, 0.41590393,\n",
       "        0.15843718, 0.82675493, 0.23860193],\n",
       "       [0.74709916, 0.430141  , 0.84019605, 0.04163646, 0.57137101,\n",
       "        0.00506305, 0.24734585, 0.65627884],\n",
       "       [0.93657427, 0.7214444 , 0.71045082, 0.73731369, 0.24314385,\n",
       "        0.73780869, 0.06610476, 0.39015405],\n",
       "       [0.97177444, 0.99274824, 0.86111641, 0.09845132, 0.43248463,\n",
       "        0.4848596 , 0.66883395, 0.39908826],\n",
       "       [0.92683195, 0.52600525, 0.25066275, 0.1926776 , 0.24573265,\n",
       "        0.96394284, 0.29304076, 0.6752291 ],\n",
       "       [0.59096358, 0.66628773, 0.98787724, 0.62243121, 0.90703496,\n",
       "        0.75844319, 0.91425896, 0.98997837],\n",
       "       [0.47465809, 0.81914252, 0.28340598, 0.65108688, 0.63284531,\n",
       "        0.93537785, 0.86758447, 0.31115807]])"
      ]
     },
     "execution_count": 3,
     "metadata": {},
     "output_type": "execute_result"
    }
   ],
   "source": [
    "import numpy as np\n",
    "import matplotlib.pyplot as plt\n",
    "\n",
    "data = np.random.random((8, 8))\n",
    "data\n",
    "#plt.imshow(data, cmap='cool', interpolation='nearest')\n",
    "#plt.show()"
   ]
  },
  {
   "cell_type": "code",
   "execution_count": 18,
   "metadata": {},
   "outputs": [
    {
     "data": {
      "text/plain": [
       "array([24.64954645, 23.6338693 , 24.8304964 , 24.77128239, 24.48659389,\n",
       "       24.72233416, 26.71103168, 25.16751941, 25.65845863, 25.2420635 ,\n",
       "       24.00798848, 24.13021762, 24.82081154, 24.24866617, 25.17828079,\n",
       "       26.81772932, 26.43590231, 24.01712364, 26.40061458, 26.08768898,\n",
       "       25.01088505, 25.05147769, 26.4430464 , 25.75833996, 24.26892013,\n",
       "       24.66735415, 24.64464682, 24.08545924, 26.1021517 , 25.43358774,\n",
       "       26.99894177, 24.42921216, 25.24976242, 24.94193059, 26.03392773,\n",
       "       23.48890177, 25.05675704, 25.16384816, 23.79395515, 23.73114369,\n",
       "       24.71110658, 25.98254931, 23.83263816, 26.51164997, 25.46754983,\n",
       "       24.92794932, 23.72187235, 26.31799444, 25.2196624 , 25.29965203,\n",
       "       24.80690115, 24.68460641, 26.69028438, 24.61413158, 24.10272565,\n",
       "       24.61408502, 25.41624523, 24.43996032, 26.31098665, 24.96062519,\n",
       "       25.30215711, 26.52405577, 24.86782085, 24.66764257, 23.68983212,\n",
       "       26.8031266 , 24.84084055, 25.91633174, 25.36266999, 24.64211348,\n",
       "       24.76055955, 26.33097646, 24.72267325, 25.96880373, 24.7391942 ,\n",
       "       24.95858378, 23.52334877, 25.17163948, 25.12910022, 24.18114766,\n",
       "       27.09084673, 24.66781078, 23.7640037 , 25.1539483 , 25.06395041,\n",
       "       24.95251044, 25.86465916, 24.54026971, 26.12727751, 24.60498636,\n",
       "       25.0930511 , 23.98780506, 26.32925841, 24.29042902, 25.41759833,\n",
       "       22.90392789, 25.08302554, 24.36189262, 23.83595992, 24.83902795])"
      ]
     },
     "execution_count": 18,
     "metadata": {},
     "output_type": "execute_result"
    }
   ],
   "source": [
    "group_1_ages"
   ]
  },
  {
   "cell_type": "code",
   "execution_count": 83,
   "metadata": {},
   "outputs": [
    {
     "data": {
      "image/png": "[encoded data removed]",
      "text/plain": [
       "<Figure size 432x288 with 2 Axes>"
      ]
     },
     "metadata": {
      "needs_background": "light"
     },
     "output_type": "display_data"
    }
   ],
   "source": [
    "import math\n",
    "\n",
    "ages = numpy.append(group_1_ages,numpy.append(group_2_ages,group_3_ages))\n",
    "salaries = numpy.append(group_1_salaries,numpy.append(group_2_salaries,group_3_salaries))\n",
    "age_min = int(numpy.amin(ages))\n",
    "age_max = math.ceil(numpy.amax(ages))\n",
    "age_bucket_size = 5\n",
    "age_buckets = math.ceil((age_max - age_min)/age_bucket_size)\n",
    "salary_min = int(numpy.amin(salaries))\n",
    "salary_max = math.ceil(numpy.amax(salaries))\n",
    "salary_bucket_size = 5000\n",
    "salary_buckets = math.ceil((salary_max - salary_min)/salary_bucket_size)\n",
    "\n",
    "x = [[0 for i in range(salary_buckets)] for j in range(age_buckets)]\n",
    "\n",
    "for i in range(len(ages)):\n",
    "    age_bucket = math.floor((ages[i] - age_min)/age_bucket_size)\n",
    "    salary_bucket = math.floor((salaries[i] - salary_min)/salary_bucket_size)\n",
    "    x[age_bucket][salary_bucket] += 1\n",
    "\n",
    "extent=[salary_min/1000,salary_max/1000,age_min,age_max]\n",
    "plt.title(\"Salary/Age distribution heatmap\")\n",
    "plt.imshow(x, cmap='YlOrRd', interpolation='nearest',extent=extent,origin=\"lower\")\n",
    "plt.colorbar(orientation=\"horizontal\")\n",
    "plt.xlabel(\"Salary in '000s\")\n",
    "\n",
    "plt.ylabel(\"Age\")\n",
    "plt.show()"
   ]
  },
  {
   "cell_type": "code",
   "execution_count": null,
   "metadata": {},
   "outputs": [],
   "source": []
  }
 ],
 "metadata": {
  "kernelspec": {
   "display_name": "Python 3",
   "language": "python",
   "name": "python3"
  },
  "language_info": {
   "codemirror_mode": {
    "name": "ipython",
    "version": 3
   },
   "file_extension": ".py",
   "mimetype": "text/x-python",
   "name": "python",
   "nbconvert_exporter": "python",
   "pygments_lexer": "ipython3",
   "version": "3.7.1"
  }
 },
 "nbformat": 4,
 "nbformat_minor": 4
}
