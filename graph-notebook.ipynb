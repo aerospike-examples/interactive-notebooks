{
 "cells": [
  {
   "cell_type": "markdown",
   "id": "365032c4-4c3b-497c-aabf-535a9ee31265",
   "metadata": {},
   "source": [
    "### Configure the Gremlin server"
   ]
  },
  {
   "cell_type": "code",
   "execution_count": null,
   "id": "e0056755-1747-4d16-86b5-925f58fea5c4",
   "metadata": {
    "tags": []
   },
   "outputs": [],
   "source": [
    "%%capture output\n",
    "%%graph_notebook_config\n",
    "{\n",
    "  \"host\": \"127.0.0.1\",\n",
    "  \"port\": 8182,\n",
    "  \"ssl\": false\n",
    "}"
   ]
  },
  {
   "cell_type": "markdown",
   "id": "71d4b3c0-bda9-4917-87d7-adc2bca04775",
   "metadata": {},
   "source": [
    "### Load data"
   ]
  },
  {
   "cell_type": "code",
   "execution_count": null,
   "id": "dcd6a32a-8b0d-4a63-b52c-dda16bd0d258",
   "metadata": {
    "tags": []
   },
   "outputs": [],
   "source": [
    "%%gremlin \n",
    "g.io(\"/opt/aerospike-firefly/air-routes-latest.graphml\").with(IO.reader, IO.graphml).read();"
   ]
  },
  {
   "cell_type": "markdown",
   "id": "3975b75e-2c4b-45d2-90d4-ca1fb587a10b",
   "metadata": {},
   "source": [
    "### Run queries"
   ]
  },
  {
   "cell_type": "code",
   "execution_count": null,
   "id": "837fef9c-28ed-471a-9e04-b064e010a1a6",
   "metadata": {
    "tags": []
   },
   "outputs": [],
   "source": [
    "%%gremlin -p v,oute,inv\n",
    "g.V().hasLabel('airport').outE().inV().path().by('code').by('dist').limit(5)"
   ]
  },
  {
   "cell_type": "code",
   "execution_count": null,
   "id": "172869f4-de85-4f45-9468-64399176d784",
   "metadata": {
    "tags": []
   },
   "outputs": [],
   "source": [
    "%%gremlin -g region -p v,inv\n",
    "g.V().has('code','AUS').out().path().by(valueMap('region','code').order(local).by(keys))"
   ]
  }
 ],
 "metadata": {
  "kernelspec": {
   "display_name": "Python 3",
   "language": "python",
   "name": "python3"
  },
  "language_info": {
   "codemirror_mode": {
    "name": "ipython",
    "version": 3
   },
   "file_extension": ".py",
   "mimetype": "text/x-python",
   "name": "python",
   "nbconvert_exporter": "python",
   "pygments_lexer": "ipython3",
   "version": "3.7.16"
  }
 },
 "nbformat": 4,
 "nbformat_minor": 5
}
