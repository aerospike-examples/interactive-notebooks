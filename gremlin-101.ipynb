{
 "cells": [
  {
   "cell_type": "markdown",
   "id": "365032c4-4c3b-497c-aabf-535a9ee31265",
   "metadata": {},
   "source": [
    "# Configure the Gremlin server\n",
    "You must run the below before starting."
   ]
  },
  {
   "cell_type": "code",
   "execution_count": null,
   "id": "e0056755-1747-4d16-86b5-925f58fea5c4",
   "metadata": {
    "tags": []
   },
   "outputs": [],
   "source": [
    "%%capture output\n",
    "%%graph_notebook_config\n",
    "{\n",
    "    \"host\": \"127.0.0.1\",\n",
    "    \"port\": 8182,\n",
    "    \"ssl\": false,\n",
    "    \"gremlin\" : {\n",
    "       \"message_serializer\": \"graphbinary\"\n",
    "    }\n",
    "}"
   ]
  },
  {
   "cell_type": "markdown",
   "id": "71d4b3c0-bda9-4917-87d7-adc2bca04775",
   "metadata": {},
   "source": [
    "# Gremlin 101\n",
    "\n",
    "We are going to cover some more advanced queries and concepts in this notebook.\n",
    "\n",
    "Please refer to https://www.kelvinlawrence.net/book/PracticalGremlin.html for more information using the air routes dataset.\n",
    "\n",
    "The datasets provided may be slightly different and therefore results may differ slightly.\n",
    "\n",
    "Start by loading the air routes dataset - this notebook comes with a small version of the dataset mounted in the docker instance for ease of use."
   ]
  },
  {
   "cell_type": "code",
   "execution_count": null,
   "outputs": [],
   "source": [
    "%%gremlin\n",
    "\n",
    "g.V().drop().iterate()\n",
    "g.io(\"/opt/aerospike-firefly/air-routes-small-latest.graphml\").with(IO.reader, IO.graphml).read().iterate()\n",
    "\n",
    "return \"Success\""
   ],
   "metadata": {
    "collapsed": false
   }
  },
  {
   "cell_type": "markdown",
   "source": [
    "# Common pitfalls\n",
    "There are many things that people do in relational databases that seem like reasonable things to do in a graph database, but are not."
   ],
   "metadata": {
    "collapsed": false
   }
  },
  {
   "cell_type": "code",
   "execution_count": null,
   "outputs": [],
   "source": [
    "%%gremlin\n",
    "\n",
    "// This is a common mistake, it will return the number of vertices in the graph, however in a large graph this will timeout and bog down the system.\n",
    "g.V().count().next()"
   ],
   "metadata": {
    "collapsed": false
   }
  },
  {
   "cell_type": "code",
   "execution_count": null,
   "outputs": [],
   "source": [
    "%%gremlin\n",
    "\n",
    "// This is another common mistake, it will return the number of vertices in the graph with the label 'airport', to do this it must first grab all vertices and filter on that label, this will timeout and bog down the system.\n",
    "g.V().hasLabel(\"airport\").count().next()"
   ],
   "metadata": {
    "collapsed": false
   }
  },
  {
   "cell_type": "code",
   "execution_count": null,
   "outputs": [],
   "source": [
    "%%gremlin\n",
    "\n",
    "// This is a third common mistake, it will require the system to load all vertices and edges into memory, this will timeout and bog down the system.\n",
    "g.V().has(\"code\", \"SFO\").next()"
   ],
   "metadata": {
    "collapsed": false
   }
  },
  {
   "cell_type": "markdown",
   "source": [
    "But wait the last query there, if we can't do that, how do we even get an airport!?\n",
    "- Okay well there's actually a secondary index created on the `code` property in this docker container, this makes this query both possible and fast.\n",
    "- Also our dataset here is considered to be small, so we can run these queries without issue, but be wary of having a large dataset and running these queries.\n",
    "\n",
    "# Basic queries\n",
    "\n",
    "## Getting data from a vertex"
   ],
   "metadata": {
    "collapsed": false
   }
  },
  {
   "cell_type": "code",
   "execution_count": null,
   "outputs": [],
   "source": [
    "%%gremlin\n",
    "\n",
    "// Get all data from a vertex\n",
    "g.V().has(\"code\", \"SFO\").elementMap().toList()"
   ],
   "metadata": {
    "collapsed": false
   }
  },
  {
   "cell_type": "code",
   "execution_count": null,
   "outputs": [],
   "source": [
    "%%gremlin\n",
    "\n",
    "// Get just the country\n",
    "g.V().has(\"code\", \"SFO\").values(\"country\").next()"
   ],
   "metadata": {
    "collapsed": false
   }
  },
  {
   "cell_type": "code",
   "execution_count": null,
   "outputs": [],
   "source": [
    "%%gremlin\n",
    "\n",
    "// Get the label\n",
    "g.V().has(\"code\", \"SFO\").label().next()"
   ],
   "metadata": {
    "collapsed": false
   }
  },
  {
   "cell_type": "code",
   "execution_count": null,
   "outputs": [],
   "source": [
    "%%gremlin\n",
    "\n",
    "// Get the edges\n",
    "g.V().has(\"code\", \"SFO\").bothE().count().toList()"
   ],
   "metadata": {
    "collapsed": false
   }
  },
  {
   "cell_type": "code",
   "execution_count": null,
   "outputs": [],
   "source": [
    "%%gremlin\n",
    "\n",
    "// Get the edge data\n",
    "g.V().has(\"code\", \"SFO\").bothE().elementMap().toList()"
   ],
   "metadata": {
    "collapsed": false
   }
  },
  {
   "cell_type": "markdown",
   "source": [
    "## Let's fly somewhere from San Francisco\n"
   ],
   "metadata": {
    "collapsed": false
   }
  },
  {
   "cell_type": "code",
   "execution_count": null,
   "outputs": [],
   "source": [
    "%%gremlin\n",
    "\n",
    "g.V().has(\"code\", \"SFO\").out().values(\"code\").toList()"
   ],
   "metadata": {
    "collapsed": false
   }
  },
  {
   "cell_type": "code",
   "execution_count": null,
   "outputs": [],
   "source": [
    "%%gremlin\n",
    "\n",
    "g.V().hasLabel(\"airport\").has(\"code\", \"SFO\").out().values(\"code\").toList()"
   ],
   "metadata": {
    "collapsed": false
   }
  },
  {
   "cell_type": "markdown",
   "source": [
    "## Let's find some paths from San Francisco"
   ],
   "metadata": {
    "collapsed": false
   }
  },
  {
   "cell_type": "code",
   "execution_count": null,
   "outputs": [],
   "source": [
    "%%gremlin\n",
    "\n",
    "// Let's find all the paths from SFO to LHR that have only 1 connection\n",
    "g.V().has(\"code\", \"SFO\").out().out().has(\"code\", \"AUS\").path().by(\"code\").toList()"
   ],
   "metadata": {
    "collapsed": false
   }
  },
  {
   "cell_type": "code",
   "execution_count": null,
   "outputs": [],
   "source": [
    "%%gremlin\n",
    "\n",
    "// Let's find all the paths from SFO to LHR that have only 1 connection and also report the distance for each hop.\n",
    "g.V().has(\"code\", \"SFO\").outE().inV().outE().inV().has(\"code\", \"AUS\").path().by(\"code\").by(\"dist\").toList()"
   ],
   "metadata": {
    "collapsed": false
   }
  },
  {
   "cell_type": "code",
   "execution_count": null,
   "outputs": [],
   "source": [
    "%%gremlin\n",
    "\n",
    "// Let's find all airports we can get to from SFO with 1 connection and see how far each flight is.\n",
    "g.V().has(\"code\", \"SFO\").outE().inV().outE().inV().path().by(\"code\").by(\"dist\").toList()"
   ],
   "metadata": {
    "collapsed": false
   }
  },
  {
   "cell_type": "markdown",
   "source": [
    "# Repeat Queries\n",
    "Repeat is a commonly used structure, it allows you to repeat a block of code a number of times or until a condition is met."
   ],
   "metadata": {
    "collapsed": false
   }
  },
  {
   "cell_type": "code",
   "execution_count": null,
   "outputs": [],
   "source": [
    "%%gremlin\n",
    "\n",
    "// You can repeat a block in a query a number of times:\n",
    "g.V().has(\"code\", \"SFO\").repeat(out()).times(2).path().by(\"code\").toList()"
   ],
   "metadata": {
    "collapsed": false
   }
  },
  {
   "cell_type": "code",
   "execution_count": null,
   "outputs": [],
   "source": [
    "%%gremlin\n",
    "\n",
    "// Adding a timer makes this safer\n",
    "g.V().has(\"code\", \"SFO\").repeat(timeLimit(20).out()).until(has(\"code\", \"AUS\")).path().by(\"code\").toList()"
   ],
   "metadata": {
    "collapsed": false
   }
  },
  {
   "cell_type": "code",
   "execution_count": null,
   "outputs": [],
   "source": [
    "%%gremlin\n",
    "\n",
    "// Advanced repeats with emit(). Look online for more information on this if you need to emit data during the repeat block.\n",
    "g.V().has(\"code\", \"SFO\").repeat(out().simplePath()).emit().times(3).has('code','AUS').\n",
    "       limit(5).path().by('code').toList()"
   ],
   "metadata": {
    "collapsed": false
   }
  },
  {
   "cell_type": "markdown",
   "source": [
    "# Remove duplicates\n",
    "Doing something like stepping out twice from SFO will return duplicates, you can remove these with `dedup()`"
   ],
   "metadata": {
    "collapsed": false
   }
  },
  {
   "cell_type": "code",
   "execution_count": null,
   "outputs": [],
   "source": [
    "%%gremlin\n",
    "\n",
    "g.V().has(\"code\", \"SFO\").out().out().count().toList()"
   ],
   "metadata": {
    "collapsed": false,
    "pycharm": {
     "is_executing": true
    }
   }
  },
  {
   "cell_type": "code",
   "execution_count": null,
   "outputs": [],
   "source": [
    "%%gremlin\n",
    "\n",
    "// You can remove duplicates from the above query with 'dedup' query\n",
    "g.V().has(\"code\", \"SFO\").out().out().dedup().count().toList()"
   ],
   "metadata": {
    "collapsed": false
   }
  },
  {
   "cell_type": "markdown",
   "source": [
    "# Anonymous and Anonymous Traversals\n",
    "An anonymous traversal is a traversal that is injected inside a traversal, without being bound to a variable.\n",
    "\n",
    "We have actually used this before, but without calling it out. Let's look at an example."
   ],
   "metadata": {
    "collapsed": false
   }
  },
  {
   "cell_type": "code",
   "execution_count": null,
   "outputs": [],
   "source": [
    "%%gremlin\n",
    "\n",
    "// The traversal is familiar for the first line, after that we use fold, this takes all the results and puts them into a list.\n",
    "// After that we call project, this allows us to project the results into a map with the provided keys.None\n",
    "// Finally we call by, this allows us to specify how we want to map the results into the map.\n",
    "// Notice in the by() call we have effectively traversals, these are anonymous traversals.\n",
    "// The first one is a count of all the vertices in the list, the second is a count of all the vertices in the list that have the country property set to US.\n",
    "// project() is a slow step but it can be helpful.\n",
    "g.V().has(\"code\", \"SFO\").out().out().dedup().\n",
    "    fold().\n",
    "    project(\"totalAirportCountFromSFO\", \"USAirportCountFromSFO\").\n",
    "        by(unfold().count()).\n",
    "        by(unfold().has(\"country\", \"US\").count()).toList()\n",
    "\n"
   ],
   "metadata": {
    "collapsed": false
   }
  },
  {
   "cell_type": "markdown",
   "source": [
    "# Profiling a query\n",
    "Let's profile the query and see what it looks like. Profile is useful for seeing how a query is executed and where it is spending time."
   ],
   "metadata": {
    "collapsed": false
   }
  },
  {
   "cell_type": "code",
   "execution_count": null,
   "outputs": [],
   "source": [
    "%%gremlin\n",
    "\n",
    "g.V().has(\"code\", \"SFO\").out().out().\n",
    "    dedup().fold().\n",
    "    project(\"totalAirportCountFromSFO\", \"USAirportCountFromSFO\").\n",
    "        by(unfold().count()).\n",
    "        by(unfold().has(\"country\", \"US\").count()).profile()"
   ],
   "metadata": {
    "collapsed": false
   }
  },
  {
   "cell_type": "markdown",
   "source": [
    "# How do I work through a query that isn't working?\n",
    "\n",
    "A common problem people encounter is debugging gremlin. This is not very easy to do.\n",
    "\n",
    "Here are some tips:\n",
    "- Start with something that works and keep adding more of the traversal until it stops working.\n",
    "- Use `profile()` when it stops working, this will tell you your 'traverser count' per step, which tells you where you may have an incorrect filter or something else."
   ],
   "metadata": {
    "collapsed": false
   }
  },
  {
   "cell_type": "code",
   "execution_count": null,
   "outputs": [],
   "source": [
    "%%gremlin\n",
    "\n",
    "// Referring to the query above, we would start with:\n",
    "g.V().has(\"code\", \"SFO\").next()\n",
    "\n",
    "// If that works we'd try\n",
    "g.V().has(\"code\", \"SFO\").out().toList()\n",
    "\n",
    "// If that works we'd try\n",
    "g.V().has(\"code\", \"SFO\").out().out().toList()\n",
    "\n",
    "// If that works we'd try\n",
    "g.V().has(\"code\", \"SFO\").out().out().dedup().toList()\n",
    "\n",
    "// Let's assume it stopped working here. We'd then profile it and see what the traverser count is at each step.\n",
    "g.V().has(\"code\", \"SFO\").out().out().dedup().profile()"
   ],
   "metadata": {
    "collapsed": false
   }
  }
 ],
 "metadata": {
  "kernelspec": {
   "display_name": "Python 3",
   "language": "python",
   "name": "python3"
  },
  "language_info": {
   "codemirror_mode": {
    "name": "ipython",
    "version": 3
   },
   "file_extension": ".py",
   "mimetype": "text/x-python",
   "name": "python",
   "nbconvert_exporter": "python",
   "pygments_lexer": "ipython3",
   "version": "3.7.16"
  }
 },
 "nbformat": 4,
 "nbformat_minor": 5
}
