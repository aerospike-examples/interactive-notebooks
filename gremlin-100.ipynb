{
 "cells": [
  {
   "cell_type": "markdown",
   "id": "365032c4-4c3b-497c-aabf-535a9ee31265",
   "metadata": {},
   "source": [
    "# Configure the Gremlin server\n",
    "You must run the below before starting."
   ]
  },
  {
   "cell_type": "code",
   "execution_count": null,
   "id": "e0056755-1747-4d16-86b5-925f58fea5c4",
   "metadata": {
    "tags": []
   },
   "outputs": [],
   "source": [
    "%%capture output\n",
    "%%graph_notebook_config\n",
    "{\n",
    "    \"host\": \"127.0.0.1\",\n",
    "    \"port\": 8182,\n",
    "    \"ssl\": false,\n",
    "    \"gremlin\" : {\n",
    "       \"message_serializer\": \"graphbinary\"\n",
    "    }\n",
    "}"
   ]
  },
  {
   "cell_type": "markdown",
   "id": "71d4b3c0-bda9-4917-87d7-adc2bca04775",
   "metadata": {},
   "source": [
    "# Basic Terminology and Background\n",
    "\n",
    "The following is some information on some concepts that are generally confusing for new gremlin users.\n",
    "\n",
    "## TinkerPop\n",
    "\n",
    "TinkerPop is a graph computer framework. This includes the Gremlin query language, Gremlin server, all the gremlin drivers, and other things.\n",
    "\n",
    "## Gremlin\n",
    "\n",
    "Gremlin is a graph query language. Queries are often called traversals. Gremlin is a functional language, meaning that queries are composed of functions that are chained together.\n",
    "\n",
    "If you are familiar with stream processing, Gremlin is similar to that. A traversal is a stream of data that is processed by a series of functions.\n",
    "\n",
    "## Driver Remote Connection\n",
    "\n",
    "TinkerPop has a number of drivers, these usually have a common theme of having a DriverRemoteConnection that is used to connect to the database. Different languages have slightly different API's, but this theme is faily common. The DriverRemoteConnection spawns `g` which is used to execute the traversal.\n",
    "\n",
    "## What is 'g'?\n",
    "\n",
    "I keep seeing 'g' everywhere, what is it? g is a GraphTraversalSource and it spawns a GraphTraversal when it starts. When this GraphTraversal is terminated, the driver (DriverRemoteConnection) sends it to the server for execution.\n",
    "\n",
    "# Gremlin 100\n",
    "\n",
    "## Start by clearing any data in the graph\n",
    "Start by removing all vertices and edges from the graph.\n",
    "If you remove a vertex, all edges connected to that vertex are also implicitly removed.\n",
    "Running g.V() gets all vertices, running drop() after removes all of them."
   ]
  },
  {
   "cell_type": "code",
   "execution_count": null,
   "outputs": [],
   "source": [
    "%%gremlin\n",
    "\n",
    "g.V().drop().iterate()\n",
    "\n",
    "return \"Sucessfully dropped graph\""
   ],
   "metadata": {
    "collapsed": false
   }
  },
  {
   "cell_type": "markdown",
   "source": [
    "### What is .iterate()?\n",
    "Gremlin traversals need to be terminated. This is done by calling iterate(), next(), or toList().\n",
    "This tells the driver to execute everything up to this point in the traversal.\n",
    ".iterate() => Return nothing\n",
    ".next() => Return the next element in the traversal\n",
    ".toList() => Return all elements in the traversal as a list\n",
    "We will revisit this later, for now lets add some data\n",
    "\n",
    "## Adding data\n",
    "To add a vertex, use addV()\n",
    "Vertices has 1 label, properties, an id, and edges.\n",
    "Let's add Lyndon, Grant, and Simon"
   ],
   "metadata": {
    "collapsed": false
   }
  },
  {
   "cell_type": "code",
   "execution_count": null,
   "id": "dcd6a32a-8b0d-4a63-b52c-dda16bd0d258",
   "metadata": {
    "tags": []
   },
   "outputs": [],
   "source": [
    "%%gremlin\n",
    "\n",
    "g.addV(\"Person\").property(\"name\", \"Lyndon\").property(\"age\", 30).iterate()\n",
    "g.addV(\"Person\").property(\"name\", \"Grant\").property(\"age\", 50).iterate()\n",
    "g.addV(\"Person\").property(\"name\", \"Simon\").property(\"age\", 12).iterate()\n",
    "\n",
    "return \"Sucessfully added data\""
   ]
  },
  {
   "cell_type": "markdown",
   "source": [
    "## Reading the data back\n",
    "We can now look up the vertices we just created\n",
    "Note we use next() when we want a single person, toList() when we want multiple.\n",
    "You can call next() on what would be a list of data, you'd just get the first item."
   ],
   "metadata": {
    "collapsed": false
   }
  },
  {
   "cell_type": "code",
   "execution_count": null,
   "outputs": [],
   "source": [
    "%%gremlin\n",
    "\n",
    "g.V().hasLabel(\"Person\").has(\"name\", \"Lyndon\").next()"
   ],
   "metadata": {
    "collapsed": false
   }
  },
  {
   "cell_type": "code",
   "execution_count": null,
   "outputs": [],
   "source": [
    "%%gremlin\n",
    "\n",
    "g.V().hasLabel(\"Person\").has(\"name\", \"Grant\").next()"
   ],
   "metadata": {
    "collapsed": false
   }
  },
  {
   "cell_type": "code",
   "execution_count": null,
   "outputs": [],
   "source": [
    "%%gremlin\n",
    "\n",
    "// Note there is a serializer issue with graphbinary and the client underneath this notebook so g.V().hasLabel(\"Person\") will fail with a type error. This is a result of some changes to the tinkerpop serializers that the notebook community has not caught up with yet.\n",
    "g.V().hasLabel(\"Person\").values(\"name\")"
   ],
   "metadata": {
    "collapsed": false
   }
  },
  {
   "cell_type": "markdown",
   "source": [
    "\n",
    "## Visualize our simple graph\n",
    "By returning a path we can visualize the graph. Run the query and hit the 'Graph' tab. Notice we have no edges so there's just 3 separate vertices.\n",
    "Click a vertex and hit the button with the 3 horizontal lines to see more information.\n",
    "\n",
    "Note the query must return data for this to have information (we path via elementMap() to get all data)."
   ],
   "metadata": {
    "collapsed": false
   }
  },
  {
   "cell_type": "code",
   "execution_count": null,
   "outputs": [],
   "source": [
    "%%gremlin --edge-label-max-length 30 --label-max-length 30 -p v\n",
    "\n",
    "g.V().path().by(elementMap())"
   ],
   "metadata": {
    "collapsed": false
   }
  },
  {
   "cell_type": "markdown",
   "id": "3975b75e-2c4b-45d2-90d4-ca1fb587a10b",
   "metadata": {},
   "source": [
    "## Add some edges to the graph\n",
    "Let's add some edges. Let's make Lyndon know Grant and Simon, and Grant know Simon and Lyndon, but Simon not know anyone."
   ]
  },
  {
   "cell_type": "code",
   "execution_count": null,
   "id": "172869f4-de85-4f45-9468-64399176d784",
   "metadata": {
    "tags": [],
    "pycharm": {
     "is_executing": true
    }
   },
   "outputs": [],
   "source": [
    "%%gremlin\n",
    "\n",
    "// Notice the traversal inside the traversal. We are adding an edge from the result of V().hasLabel(\"Person\").has(\"name\", \"Lyndon\")\n",
    "// to the result of V().hasLabel(\"Person\").has(\"name\", \"Grant\").\n",
    "// If either of these returned >1 result we'd add >1 edge, but we know the structure of our graph and that these are singular vertices.\n",
    "g.addE(\"knows\").\n",
    "    from(V().hasLabel(\"Person\").has(\"name\", \"Lyndon\")).\n",
    "    to(V().hasLabel(\"Person\").has(\"name\", \"Grant\")).\n",
    "    iterate()\n",
    "g.addE(\"knows\").\n",
    "    from(V().hasLabel(\"Person\").has(\"name\", \"Lyndon\")).\n",
    "    to(V().hasLabel(\"Person\").has(\"name\", \"Simon\")).\n",
    "    iterate()\n",
    "g.addE(\"knows\").\n",
    "    from(V().hasLabel(\"Person\").has(\"name\", \"Grant\")).\n",
    "    to(V().hasLabel(\"Person\").has(\"name\", \"Simon\")).iterate()\n",
    "g.addE(\"knows\").\n",
    "    from(V().hasLabel(\"Person\").has(\"name\", \"Grant\")).\n",
    "    to(V().hasLabel(\"Person\").has(\"name\", \"Lyndon\")).iterate()\n",
    "\n",
    "return \"Successfully added edges\""
   ]
  },
  {
   "cell_type": "markdown",
   "source": [
    "## Visualize our Graph\n",
    "Let's run the visualization again, this time we will have edges."
   ],
   "metadata": {
    "collapsed": false
   },
   "id": "79b670d257acd967"
  },
  {
   "cell_type": "code",
   "execution_count": null,
   "outputs": [],
   "source": [
    "%%gremlin --edge-label-max-length 30 --label-max-length 30 -p v,oute,inv\n",
    "\n",
    "g.V().outE().inV().path().by(elementMap())"
   ],
   "metadata": {
    "collapsed": false
   }
  },
  {
   "cell_type": "markdown",
   "source": [
    "## Traverse edges"
   ],
   "metadata": {
    "collapsed": false
   }
  },
  {
   "cell_type": "code",
   "execution_count": null,
   "outputs": [],
   "source": [
    "%%gremlin\n",
    "\n",
    "g.V().hasLabel(\"Person\").has(\"name\", \"Lyndon\").outE().count()"
   ],
   "metadata": {
    "collapsed": false
   }
  },
  {
   "cell_type": "code",
   "execution_count": null,
   "outputs": [],
   "source": [
    "%%gremlin\n",
    "\n",
    "g.V().hasLabel(\"Person\").has(\"name\", \"Lyndon\").inE().toList()"
   ],
   "metadata": {
    "collapsed": false
   }
  },
  {
   "cell_type": "code",
   "execution_count": null,
   "outputs": [],
   "source": [
    "%%gremlin\n",
    "\n",
    "g.V().hasLabel(\"Person\").has(\"name\", \"Lyndon\").out().count()"
   ],
   "metadata": {
    "collapsed": false
   }
  },
  {
   "cell_type": "code",
   "execution_count": null,
   "outputs": [],
   "source": [
    "%%gremlin\n",
    "\n",
    "g.V().hasLabel(\"Person\").has(\"name\", \"Lyndon\").in().toList()"
   ],
   "metadata": {
    "collapsed": false
   }
  },
  {
   "cell_type": "code",
   "execution_count": null,
   "outputs": [],
   "source": [
    "%%gremlin\n",
    "\n",
    "g.V().hasLabel(\"Person\").has(\"name\", \"Lyndon\").out(\"knows\").has(\"name\", \"Grant\").toList()"
   ],
   "metadata": {
    "collapsed": false
   }
  }
 ],
 "metadata": {
  "kernelspec": {
   "display_name": "Python 3",
   "language": "python",
   "name": "python3"
  },
  "language_info": {
   "codemirror_mode": {
    "name": "ipython",
    "version": 3
   },
   "file_extension": ".py",
   "mimetype": "text/x-python",
   "name": "python",
   "nbconvert_exporter": "python",
   "pygments_lexer": "ipython3",
   "version": "3.7.16"
  }
 },
 "nbformat": 4,
 "nbformat_minor": 5
}
